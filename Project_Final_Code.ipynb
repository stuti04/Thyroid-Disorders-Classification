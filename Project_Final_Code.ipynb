{
  "cells": [
    {
      "cell_type": "code",
      "execution_count": 1,
      "metadata": {
        "id": "q8gFUgBi3v1x"
      },
      "outputs": [],
      "source": [
        "# Importing necessary libraries \n",
        "import pandas as pd \n",
        "import numpy as np \n",
        "import matplotlib.pyplot as plt \n",
        "import seaborn as sns \n",
        "import plotly.express as px \n",
        "import statistics \n",
        "import plotly.graph_objects as go  \n",
        "from plotly.subplots import make_subplots \n",
        "import plotly.figure_factory as ff \n",
        "from sklearn.model_selection import train_test_split\n",
        "from sklearn.neighbors import KNeighborsClassifier\n",
        "from sklearn.preprocessing import StandardScaler, OneHotEncoder, LabelEncoder\n",
        "from sklearn.compose import ColumnTransformer\n",
        "from sklearn.metrics import accuracy_score, precision_score, recall_score, f1_score\n",
        "from sklearn.ensemble import RandomForestClassifier\n",
        "from sklearn.tree import DecisionTreeClassifier, plot_tree\n",
        "from sklearn.naive_bayes import GaussianNB\n",
        "from sklearn.svm import SVC\n",
        "from sklearn.linear_model import LogisticRegression\n",
        "from collections import Counter\n",
        "from sklearn.model_selection import GridSearchCV\n",
        "from sklearn.neural_network import MLPClassifier\n",
        "import warnings\n",
        "\n",
        "# Ignoring all warnings\n",
        "warnings.filterwarnings('ignore')"
      ]
    },
    {
      "cell_type": "code",
      "execution_count": 2,
      "metadata": {
        "colab": {
          "base_uri": "https://localhost:8080/"
        },
        "id": "UnTfVRCFfI_q",
        "outputId": "91a3ad31-6553-4f6e-85da-11f052d2640a"
      },
      "outputs": [
        {
          "output_type": "stream",
          "name": "stdout",
          "text": [
            "Mounted at /content/drive\n"
          ]
        }
      ],
      "source": [
        "from google.colab import drive\n",
        "drive.mount('/content/drive')"
      ]
    },
    {
      "cell_type": "markdown",
      "metadata": {
        "id": "d5lnCjSm7MXp"
      },
      "source": [
        "### Importing Datasets\n",
        "\n"
      ]
    },
    {
      "cell_type": "code",
      "execution_count": 3,
      "metadata": {
        "colab": {
          "base_uri": "https://localhost:8080/"
        },
        "id": "N6TtvEKvx2R3",
        "outputId": "2a560d65-eeb2-4667-9b32-579b8fa34724"
      },
      "outputs": [
        {
          "output_type": "execute_result",
          "data": {
            "text/plain": [
              "(9172, 30)"
            ]
          },
          "metadata": {},
          "execution_count": 3
        }
      ],
      "source": [
        "# Reading first thyroid dataset\n",
        "data1 = pd.read_csv('/content/drive/MyDrive/IE7275_Data_Mining_Files/Project/Data/Thyroid_Disease_Data/thyroid0387.data', sep = ',', header = None)\n",
        "data1.shape"
      ]
    },
    {
      "cell_type": "code",
      "execution_count": 4,
      "metadata": {
        "colab": {
          "base_uri": "https://localhost:8080/"
        },
        "id": "sHOW57bBbkj9",
        "outputId": "ac7bf05b-ade3-495c-fa46-ca8f560aa9dc"
      },
      "outputs": [
        {
          "output_type": "execute_result",
          "data": {
            "text/plain": [
              "(2800, 30)"
            ]
          },
          "metadata": {},
          "execution_count": 4
        }
      ],
      "source": [
        "# Reading second thyroid dataset\n",
        "data2 = pd.read_csv('/content/drive/MyDrive/IE7275_Data_Mining_Files/Project/Data/Thyroid_Disease_Data/allhyper.data', sep = ',', header = None)\n",
        "data2.shape"
      ]
    },
    {
      "cell_type": "code",
      "execution_count": 5,
      "metadata": {
        "colab": {
          "base_uri": "https://localhost:8080/"
        },
        "id": "Q_s_kt7tb47-",
        "outputId": "636f153d-1de8-48fb-c4b1-102faf76a86d"
      },
      "outputs": [
        {
          "output_type": "execute_result",
          "data": {
            "text/plain": [
              "(2800, 30)"
            ]
          },
          "metadata": {},
          "execution_count": 5
        }
      ],
      "source": [
        "# Reading third thyroid dataset\n",
        "data3 = pd.read_csv('/content/drive/MyDrive/IE7275_Data_Mining_Files/Project/Data/Thyroid_Disease_Data/allhypo.data', sep = ',', header = None)\n",
        "data3.shape"
      ]
    },
    {
      "cell_type": "code",
      "execution_count": 6,
      "metadata": {
        "id": "Dkxu0xLB3jiw"
      },
      "outputs": [],
      "source": [
        "# Making a list of column names to set these for the data read above \n",
        "cols = ['Age', 'Sex', 'On_Thyroxine', 'Query_On_Thyroxine', 'On_Antithyroid_Medication', 'Sick', 'Pregnant', 'Thyroid_Surgery', \n",
        "        'I131_Treatment', 'Query_Hypothyroid', 'Query_Hyperthyroid', 'Lithium', 'Goitre', 'Tumor', 'Hypopituitary', 'Psych', 'TSH_Measured', \n",
        "        'TSH', 'T3_measured', 'T3', 'TT4_Measured', 'TT4', 'T4U_Measured', 'T4U', 'FTI_Measured', 'FTI', 'TBG_Measured', 'TBG', \n",
        "        'Referral_Source', 'Classes']"
      ]
    },
    {
      "cell_type": "code",
      "execution_count": 7,
      "metadata": {
        "id": "I-sTiyF4nYqM"
      },
      "outputs": [],
      "source": [
        "# Setting column names for all datasets\n",
        "data1.columns = cols\n",
        "data2.columns = cols \n",
        "data3.columns = cols "
      ]
    },
    {
      "cell_type": "code",
      "execution_count": 8,
      "metadata": {
        "colab": {
          "base_uri": "https://localhost:8080/",
          "height": 0
        },
        "id": "sYJx6gE3cW7b",
        "outputId": "b5a3254b-299b-4080-fd88-59158fdd0c31"
      },
      "outputs": [
        {
          "output_type": "execute_result",
          "data": {
            "text/plain": [
              "  Age Sex On_Thyroxine Query_On_Thyroxine On_Antithyroid_Medication Sick  \\\n",
              "0  29   F            f                  f                         f    f   \n",
              "1  29   F            f                  f                         f    f   \n",
              "2  41   F            f                  f                         f    f   \n",
              "3  36   F            f                  f                         f    f   \n",
              "4  32   F            f                  f                         f    f   \n",
              "\n",
              "  Pregnant Thyroid_Surgery I131_Treatment Query_Hypothyroid  ... TT4_Measured  \\\n",
              "0        f               f              f                 t  ...            f   \n",
              "1        f               f              f                 f  ...            t   \n",
              "2        f               f              f                 f  ...            f   \n",
              "3        f               f              f                 f  ...            f   \n",
              "4        f               f              f                 f  ...            f   \n",
              "\n",
              "   TT4 T4U_Measured T4U FTI_Measured FTI TBG_Measured TBG Referral_Source  \\\n",
              "0    ?            f   ?            f   ?            f   ?           other   \n",
              "1  128            f   ?            f   ?            f   ?           other   \n",
              "2    ?            f   ?            f   ?            t  11           other   \n",
              "3    ?            f   ?            f   ?            t  26           other   \n",
              "4    ?            f   ?            f   ?            t  36           other   \n",
              "\n",
              "        Classes  \n",
              "0  -[840801013]  \n",
              "1  -[840801014]  \n",
              "2  -[840801042]  \n",
              "3  -[840803046]  \n",
              "4  S[840803047]  \n",
              "\n",
              "[5 rows x 30 columns]"
            ],
            "text/html": [
              "\n",
              "  <div id=\"df-d240f68a-68ab-401d-88df-81f648c039c1\">\n",
              "    <div class=\"colab-df-container\">\n",
              "      <div>\n",
              "<style scoped>\n",
              "    .dataframe tbody tr th:only-of-type {\n",
              "        vertical-align: middle;\n",
              "    }\n",
              "\n",
              "    .dataframe tbody tr th {\n",
              "        vertical-align: top;\n",
              "    }\n",
              "\n",
              "    .dataframe thead th {\n",
              "        text-align: right;\n",
              "    }\n",
              "</style>\n",
              "<table border=\"1\" class=\"dataframe\">\n",
              "  <thead>\n",
              "    <tr style=\"text-align: right;\">\n",
              "      <th></th>\n",
              "      <th>Age</th>\n",
              "      <th>Sex</th>\n",
              "      <th>On_Thyroxine</th>\n",
              "      <th>Query_On_Thyroxine</th>\n",
              "      <th>On_Antithyroid_Medication</th>\n",
              "      <th>Sick</th>\n",
              "      <th>Pregnant</th>\n",
              "      <th>Thyroid_Surgery</th>\n",
              "      <th>I131_Treatment</th>\n",
              "      <th>Query_Hypothyroid</th>\n",
              "      <th>...</th>\n",
              "      <th>TT4_Measured</th>\n",
              "      <th>TT4</th>\n",
              "      <th>T4U_Measured</th>\n",
              "      <th>T4U</th>\n",
              "      <th>FTI_Measured</th>\n",
              "      <th>FTI</th>\n",
              "      <th>TBG_Measured</th>\n",
              "      <th>TBG</th>\n",
              "      <th>Referral_Source</th>\n",
              "      <th>Classes</th>\n",
              "    </tr>\n",
              "  </thead>\n",
              "  <tbody>\n",
              "    <tr>\n",
              "      <th>0</th>\n",
              "      <td>29</td>\n",
              "      <td>F</td>\n",
              "      <td>f</td>\n",
              "      <td>f</td>\n",
              "      <td>f</td>\n",
              "      <td>f</td>\n",
              "      <td>f</td>\n",
              "      <td>f</td>\n",
              "      <td>f</td>\n",
              "      <td>t</td>\n",
              "      <td>...</td>\n",
              "      <td>f</td>\n",
              "      <td>?</td>\n",
              "      <td>f</td>\n",
              "      <td>?</td>\n",
              "      <td>f</td>\n",
              "      <td>?</td>\n",
              "      <td>f</td>\n",
              "      <td>?</td>\n",
              "      <td>other</td>\n",
              "      <td>-[840801013]</td>\n",
              "    </tr>\n",
              "    <tr>\n",
              "      <th>1</th>\n",
              "      <td>29</td>\n",
              "      <td>F</td>\n",
              "      <td>f</td>\n",
              "      <td>f</td>\n",
              "      <td>f</td>\n",
              "      <td>f</td>\n",
              "      <td>f</td>\n",
              "      <td>f</td>\n",
              "      <td>f</td>\n",
              "      <td>f</td>\n",
              "      <td>...</td>\n",
              "      <td>t</td>\n",
              "      <td>128</td>\n",
              "      <td>f</td>\n",
              "      <td>?</td>\n",
              "      <td>f</td>\n",
              "      <td>?</td>\n",
              "      <td>f</td>\n",
              "      <td>?</td>\n",
              "      <td>other</td>\n",
              "      <td>-[840801014]</td>\n",
              "    </tr>\n",
              "    <tr>\n",
              "      <th>2</th>\n",
              "      <td>41</td>\n",
              "      <td>F</td>\n",
              "      <td>f</td>\n",
              "      <td>f</td>\n",
              "      <td>f</td>\n",
              "      <td>f</td>\n",
              "      <td>f</td>\n",
              "      <td>f</td>\n",
              "      <td>f</td>\n",
              "      <td>f</td>\n",
              "      <td>...</td>\n",
              "      <td>f</td>\n",
              "      <td>?</td>\n",
              "      <td>f</td>\n",
              "      <td>?</td>\n",
              "      <td>f</td>\n",
              "      <td>?</td>\n",
              "      <td>t</td>\n",
              "      <td>11</td>\n",
              "      <td>other</td>\n",
              "      <td>-[840801042]</td>\n",
              "    </tr>\n",
              "    <tr>\n",
              "      <th>3</th>\n",
              "      <td>36</td>\n",
              "      <td>F</td>\n",
              "      <td>f</td>\n",
              "      <td>f</td>\n",
              "      <td>f</td>\n",
              "      <td>f</td>\n",
              "      <td>f</td>\n",
              "      <td>f</td>\n",
              "      <td>f</td>\n",
              "      <td>f</td>\n",
              "      <td>...</td>\n",
              "      <td>f</td>\n",
              "      <td>?</td>\n",
              "      <td>f</td>\n",
              "      <td>?</td>\n",
              "      <td>f</td>\n",
              "      <td>?</td>\n",
              "      <td>t</td>\n",
              "      <td>26</td>\n",
              "      <td>other</td>\n",
              "      <td>-[840803046]</td>\n",
              "    </tr>\n",
              "    <tr>\n",
              "      <th>4</th>\n",
              "      <td>32</td>\n",
              "      <td>F</td>\n",
              "      <td>f</td>\n",
              "      <td>f</td>\n",
              "      <td>f</td>\n",
              "      <td>f</td>\n",
              "      <td>f</td>\n",
              "      <td>f</td>\n",
              "      <td>f</td>\n",
              "      <td>f</td>\n",
              "      <td>...</td>\n",
              "      <td>f</td>\n",
              "      <td>?</td>\n",
              "      <td>f</td>\n",
              "      <td>?</td>\n",
              "      <td>f</td>\n",
              "      <td>?</td>\n",
              "      <td>t</td>\n",
              "      <td>36</td>\n",
              "      <td>other</td>\n",
              "      <td>S[840803047]</td>\n",
              "    </tr>\n",
              "  </tbody>\n",
              "</table>\n",
              "<p>5 rows × 30 columns</p>\n",
              "</div>\n",
              "      <button class=\"colab-df-convert\" onclick=\"convertToInteractive('df-d240f68a-68ab-401d-88df-81f648c039c1')\"\n",
              "              title=\"Convert this dataframe to an interactive table.\"\n",
              "              style=\"display:none;\">\n",
              "        \n",
              "  <svg xmlns=\"http://www.w3.org/2000/svg\" height=\"24px\"viewBox=\"0 0 24 24\"\n",
              "       width=\"24px\">\n",
              "    <path d=\"M0 0h24v24H0V0z\" fill=\"none\"/>\n",
              "    <path d=\"M18.56 5.44l.94 2.06.94-2.06 2.06-.94-2.06-.94-.94-2.06-.94 2.06-2.06.94zm-11 1L8.5 8.5l.94-2.06 2.06-.94-2.06-.94L8.5 2.5l-.94 2.06-2.06.94zm10 10l.94 2.06.94-2.06 2.06-.94-2.06-.94-.94-2.06-.94 2.06-2.06.94z\"/><path d=\"M17.41 7.96l-1.37-1.37c-.4-.4-.92-.59-1.43-.59-.52 0-1.04.2-1.43.59L10.3 9.45l-7.72 7.72c-.78.78-.78 2.05 0 2.83L4 21.41c.39.39.9.59 1.41.59.51 0 1.02-.2 1.41-.59l7.78-7.78 2.81-2.81c.8-.78.8-2.07 0-2.86zM5.41 20L4 18.59l7.72-7.72 1.47 1.35L5.41 20z\"/>\n",
              "  </svg>\n",
              "      </button>\n",
              "      \n",
              "  <style>\n",
              "    .colab-df-container {\n",
              "      display:flex;\n",
              "      flex-wrap:wrap;\n",
              "      gap: 12px;\n",
              "    }\n",
              "\n",
              "    .colab-df-convert {\n",
              "      background-color: #E8F0FE;\n",
              "      border: none;\n",
              "      border-radius: 50%;\n",
              "      cursor: pointer;\n",
              "      display: none;\n",
              "      fill: #1967D2;\n",
              "      height: 32px;\n",
              "      padding: 0 0 0 0;\n",
              "      width: 32px;\n",
              "    }\n",
              "\n",
              "    .colab-df-convert:hover {\n",
              "      background-color: #E2EBFA;\n",
              "      box-shadow: 0px 1px 2px rgba(60, 64, 67, 0.3), 0px 1px 3px 1px rgba(60, 64, 67, 0.15);\n",
              "      fill: #174EA6;\n",
              "    }\n",
              "\n",
              "    [theme=dark] .colab-df-convert {\n",
              "      background-color: #3B4455;\n",
              "      fill: #D2E3FC;\n",
              "    }\n",
              "\n",
              "    [theme=dark] .colab-df-convert:hover {\n",
              "      background-color: #434B5C;\n",
              "      box-shadow: 0px 1px 3px 1px rgba(0, 0, 0, 0.15);\n",
              "      filter: drop-shadow(0px 1px 2px rgba(0, 0, 0, 0.3));\n",
              "      fill: #FFFFFF;\n",
              "    }\n",
              "  </style>\n",
              "\n",
              "      <script>\n",
              "        const buttonEl =\n",
              "          document.querySelector('#df-d240f68a-68ab-401d-88df-81f648c039c1 button.colab-df-convert');\n",
              "        buttonEl.style.display =\n",
              "          google.colab.kernel.accessAllowed ? 'block' : 'none';\n",
              "\n",
              "        async function convertToInteractive(key) {\n",
              "          const element = document.querySelector('#df-d240f68a-68ab-401d-88df-81f648c039c1');\n",
              "          const dataTable =\n",
              "            await google.colab.kernel.invokeFunction('convertToInteractive',\n",
              "                                                     [key], {});\n",
              "          if (!dataTable) return;\n",
              "\n",
              "          const docLinkHtml = 'Like what you see? Visit the ' +\n",
              "            '<a target=\"_blank\" href=https://colab.research.google.com/notebooks/data_table.ipynb>data table notebook</a>'\n",
              "            + ' to learn more about interactive tables.';\n",
              "          element.innerHTML = '';\n",
              "          dataTable['output_type'] = 'display_data';\n",
              "          await google.colab.output.renderOutput(dataTable, element);\n",
              "          const docLink = document.createElement('div');\n",
              "          docLink.innerHTML = docLinkHtml;\n",
              "          element.appendChild(docLink);\n",
              "        }\n",
              "      </script>\n",
              "    </div>\n",
              "  </div>\n",
              "  "
            ]
          },
          "metadata": {},
          "execution_count": 8
        }
      ],
      "source": [
        "# Concatenating three datasets into one \n",
        "thyroid_data = pd.concat([data1, data2, data3], ignore_index = True)\n",
        "thyroid_data.head()"
      ]
    },
    {
      "cell_type": "code",
      "execution_count": 9,
      "metadata": {
        "colab": {
          "base_uri": "https://localhost:8080/"
        },
        "id": "keeEDVcW1sjh",
        "outputId": "930fddbf-0da6-46bd-c3c9-474b1d36a524"
      },
      "outputs": [
        {
          "output_type": "execute_result",
          "data": {
            "text/plain": [
              "(14772, 30)"
            ]
          },
          "metadata": {},
          "execution_count": 9
        }
      ],
      "source": [
        "thyroid_data.shape"
      ]
    },
    {
      "cell_type": "code",
      "execution_count": 10,
      "metadata": {
        "id": "-upprhaZWtX6"
      },
      "outputs": [],
      "source": [
        "thyroid_data.to_csv('thyroid_data.csv')"
      ]
    },
    {
      "cell_type": "markdown",
      "metadata": {
        "id": "_yh6PlM_79vv"
      },
      "source": [
        "### Data Preprocessing"
      ]
    },
    {
      "cell_type": "code",
      "execution_count": 11,
      "metadata": {
        "id": "4R75e4mVjc2b"
      },
      "outputs": [],
      "source": [
        "# Separating patient ID from thyroid class in 'Classes' column\n",
        "thyroid_data['Classes'] = thyroid_data['Classes'].str.replace('.', '[')\n",
        "\n",
        "# Creating separate columns for class and patient ID by splitting\n",
        "thyroid_data[['Class', 'Patient_ID']] = thyroid_data['Classes'].str.split('[', expand = True)"
      ]
    },
    {
      "cell_type": "code",
      "execution_count": 12,
      "metadata": {
        "id": "93nKqniokP1i"
      },
      "outputs": [],
      "source": [
        "# Dropping some columns\n",
        "thyroid_data.drop(['Classes'], axis = 1, inplace = True)\n",
        "thyroid_data.drop(['Referral_Source'], axis = 1, inplace = True)\n",
        "thyroid_data.drop(['Patient_ID'], axis = 1, inplace = True)"
      ]
    },
    {
      "cell_type": "code",
      "execution_count": 13,
      "metadata": {
        "colab": {
          "base_uri": "https://localhost:8080/"
        },
        "id": "Jo04gtECosJC",
        "outputId": "c779264b-422b-42d7-8174-7c2196272dfd"
      },
      "outputs": [
        {
          "output_type": "execute_result",
          "data": {
            "text/plain": [
              "array(['-', 'S', 'F', 'AK', 'R', 'I', 'M', 'N', 'G', 'K', 'A', 'KJ', 'L',\n",
              "       'MK', 'Q', 'J', 'C|I', 'O', 'LJ', 'H|K', 'D', 'GK', 'MI', 'P',\n",
              "       'FK', 'B', 'GI', 'C', 'GKJ', 'OI', 'D|R', 'E', 'negative',\n",
              "       'hyperthyroid', 'T3 toxic', 'goitre', 'compensated hypothyroid',\n",
              "       'primary hypothyroid', 'secondary hypothyroid'], dtype=object)"
            ]
          },
          "metadata": {},
          "execution_count": 13
        }
      ],
      "source": [
        "# Checking unique values of the class column\n",
        "thyroid_data['Class'].unique()"
      ]
    },
    {
      "cell_type": "code",
      "execution_count": 14,
      "metadata": {
        "id": "TvGI3GX4n0Dg"
      },
      "outputs": [],
      "source": [
        "# Filtering out values that do not exist in the target class list\n",
        "class_lst = ['-', 'A', 'B', 'C', 'D', 'E', 'F', 'G', 'H']\n",
        "thyroid_data = thyroid_data[thyroid_data['Class'].isin(class_lst)]"
      ]
    },
    {
      "cell_type": "code",
      "execution_count": 15,
      "metadata": {
        "id": "l4CWdrlcpZIp"
      },
      "outputs": [],
      "source": [
        "# Cleaning class column by making all values consistent across all categories of thyroid disorders\n",
        "thyroid_data['Class'].replace('-', 'negative', inplace = True)\n",
        "thyroid_data['Class'].replace('A', 'hyperthyroid', inplace = True)\n",
        "thyroid_data['Class'].replace('B', 'T3 toxic', inplace = True)\n",
        "thyroid_data['Class'].replace('C', 'toxic goitre', inplace = True)\n",
        "thyroid_data['Class'].replace('D', 'secondary toxic', inplace = True)\n",
        "thyroid_data['Class'].replace('E', 'hypothyroid', inplace = True)\n",
        "thyroid_data['Class'].replace('F', 'primary hypothyroid', inplace = True)\n",
        "thyroid_data['Class'].replace('G', 'compensated hypothyroid', inplace = True)\n",
        "thyroid_data['Class'].replace('H', 'secondary hypothyroid', inplace = True)"
      ]
    },
    {
      "cell_type": "code",
      "execution_count": 16,
      "metadata": {
        "colab": {
          "base_uri": "https://localhost:8080/"
        },
        "id": "UCFg3HwXuVVn",
        "outputId": "ded7b550-e565-40c2-fafd-d8b4a42ccc4e"
      },
      "outputs": [
        {
          "output_type": "execute_result",
          "data": {
            "text/plain": [
              "array(['negative', 'primary hypothyroid', 'compensated hypothyroid',\n",
              "       'hyperthyroid', 'secondary toxic', 'T3 toxic', 'toxic goitre',\n",
              "       'hypothyroid'], dtype=object)"
            ]
          },
          "metadata": {},
          "execution_count": 16
        }
      ],
      "source": [
        "# Unique values in class column after replacement\n",
        "thyroid_data['Class'].unique()"
      ]
    },
    {
      "cell_type": "code",
      "execution_count": 17,
      "metadata": {
        "colab": {
          "base_uri": "https://localhost:8080/"
        },
        "id": "IhTKryLnqnNB",
        "outputId": "7bb7ccf8-dcdb-445c-f0af-3e1f7a51a2e1"
      },
      "outputs": [
        {
          "output_type": "execute_result",
          "data": {
            "text/plain": [
              "(7546, 29)"
            ]
          },
          "metadata": {},
          "execution_count": 17
        }
      ],
      "source": [
        "# Dimensions of the new dataset\n",
        "thyroid_data.shape"
      ]
    },
    {
      "cell_type": "code",
      "execution_count": 18,
      "metadata": {
        "colab": {
          "base_uri": "https://localhost:8080/"
        },
        "id": "mmToc-Jbi5X_",
        "outputId": "ccb5191b-2350-4f29-ed29-f35424e91aa6"
      },
      "outputs": [
        {
          "output_type": "execute_result",
          "data": {
            "text/plain": [
              "Age                             0\n",
              "Sex                           250\n",
              "On_Thyroxine                    0\n",
              "Query_On_Thyroxine              0\n",
              "On_Antithyroid_Medication       0\n",
              "Sick                            0\n",
              "Pregnant                        0\n",
              "Thyroid_Surgery                 0\n",
              "I131_Treatment                  0\n",
              "Query_Hypothyroid               0\n",
              "Query_Hyperthyroid              0\n",
              "Lithium                         0\n",
              "Goitre                          0\n",
              "Tumor                           0\n",
              "Hypopituitary                   0\n",
              "Psych                           0\n",
              "TSH_Measured                    0\n",
              "TSH                           722\n",
              "T3_measured                     0\n",
              "T3                           2209\n",
              "TT4_Measured                    0\n",
              "TT4                           354\n",
              "T4U_Measured                    0\n",
              "T4U                           676\n",
              "FTI_Measured                    0\n",
              "FTI                           669\n",
              "TBG_Measured                    0\n",
              "TBG                          7287\n",
              "Class                           0\n",
              "dtype: int64"
            ]
          },
          "metadata": {},
          "execution_count": 18
        }
      ],
      "source": [
        "# How many '?' do we have in all columns? \n",
        "thyroid_data.eq('?').sum()"
      ]
    },
    {
      "cell_type": "code",
      "execution_count": 19,
      "metadata": {
        "colab": {
          "base_uri": "https://localhost:8080/"
        },
        "id": "IsgjnquhiUrE",
        "outputId": "55eb3214-9603-45fa-cec3-3020df24a573"
      },
      "outputs": [
        {
          "output_type": "execute_result",
          "data": {
            "text/plain": [
              "Age                          False\n",
              "Sex                          False\n",
              "On_Thyroxine                 False\n",
              "Query_On_Thyroxine           False\n",
              "On_Antithyroid_Medication    False\n",
              "Sick                         False\n",
              "Pregnant                     False\n",
              "Thyroid_Surgery              False\n",
              "I131_Treatment               False\n",
              "Query_Hypothyroid            False\n",
              "Query_Hyperthyroid           False\n",
              "Lithium                      False\n",
              "Goitre                       False\n",
              "Tumor                        False\n",
              "Hypopituitary                False\n",
              "Psych                        False\n",
              "TSH_Measured                 False\n",
              "TSH                          False\n",
              "T3_measured                  False\n",
              "T3                           False\n",
              "TT4_Measured                 False\n",
              "TT4                          False\n",
              "T4U_Measured                 False\n",
              "T4U                          False\n",
              "FTI_Measured                 False\n",
              "FTI                          False\n",
              "TBG_Measured                 False\n",
              "TBG                          False\n",
              "Class                        False\n",
              "dtype: bool"
            ]
          },
          "metadata": {},
          "execution_count": 19
        }
      ],
      "source": [
        "# How many rows with all '?' values?\n",
        "thyroid_data.eq('?').all()"
      ]
    },
    {
      "cell_type": "code",
      "execution_count": 20,
      "metadata": {
        "colab": {
          "base_uri": "https://localhost:8080/"
        },
        "id": "HCwmc3_Dg5yy",
        "outputId": "087382f1-0ab4-4c22-b2d6-1862ca710835"
      },
      "outputs": [
        {
          "output_type": "execute_result",
          "data": {
            "text/plain": [
              "Age                          0\n",
              "Sex                          0\n",
              "On_Thyroxine                 0\n",
              "Query_On_Thyroxine           0\n",
              "On_Antithyroid_Medication    0\n",
              "Sick                         0\n",
              "Pregnant                     0\n",
              "Thyroid_Surgery              0\n",
              "I131_Treatment               0\n",
              "Query_Hypothyroid            0\n",
              "Query_Hyperthyroid           0\n",
              "Lithium                      0\n",
              "Goitre                       0\n",
              "Tumor                        0\n",
              "Hypopituitary                0\n",
              "Psych                        0\n",
              "TSH_Measured                 0\n",
              "TSH                          0\n",
              "T3_measured                  0\n",
              "T3                           0\n",
              "TT4_Measured                 0\n",
              "TT4                          0\n",
              "T4U_Measured                 0\n",
              "T4U                          0\n",
              "FTI_Measured                 0\n",
              "FTI                          0\n",
              "TBG_Measured                 0\n",
              "TBG                          0\n",
              "Class                        0\n",
              "dtype: int64"
            ]
          },
          "metadata": {},
          "execution_count": 20
        }
      ],
      "source": [
        "# Number of NaN values in each column\n",
        "thyroid_data.isna().sum()"
      ]
    },
    {
      "cell_type": "code",
      "execution_count": 21,
      "metadata": {
        "id": "TQAu6ntdw4Ha"
      },
      "outputs": [],
      "source": [
        "# Imputing '?' values in sex column by the most commonly occurring value \n",
        "sex_mode = statistics.mode(thyroid_data['Sex'])\n",
        "thyroid_data['Sex'].replace('?', sex_mode, inplace = True)"
      ]
    },
    {
      "cell_type": "code",
      "execution_count": 22,
      "metadata": {
        "id": "lqz2tPBwh6Z8"
      },
      "outputs": [],
      "source": [
        "# Looking for inconsistent values in age column\n",
        "thyroid_data['Age'].unique()\n",
        "\n",
        "# Based on unique values, creating a list of incorrect age values\n",
        "age_lst = [455, 65511, 65512, 65526]\n",
        "thyroid_data = thyroid_data[~thyroid_data['Age'].isin(age_lst)]"
      ]
    },
    {
      "cell_type": "code",
      "execution_count": 23,
      "metadata": {
        "id": "g8PiB6VeiEn4"
      },
      "outputs": [],
      "source": [
        "# For missing values in T3, TT4, T4U, TSH, and TBG columns, we can impute 0 based on their measured values. \n",
        "thyroid_data['T3'].replace('?', 0, inplace = True)\n",
        "thyroid_data['TT4'].replace('?', 0, inplace = True)\n",
        "thyroid_data['T4U'].replace('?', 0, inplace = True)\n",
        "thyroid_data['FTI'].replace('?', 0, inplace = True)\n",
        "thyroid_data['TBG'].replace('?', 0, inplace = True)\n",
        "thyroid_data['TSH'].replace('?', 0, inplace = True)"
      ]
    },
    {
      "cell_type": "code",
      "execution_count": 24,
      "metadata": {
        "colab": {
          "base_uri": "https://localhost:8080/"
        },
        "id": "Mp5H4kDl2v9C",
        "outputId": "ebce6d42-5046-449f-9019-47cf39b0c9f6"
      },
      "outputs": [
        {
          "output_type": "execute_result",
          "data": {
            "text/plain": [
              "Age                          object\n",
              "Sex                          object\n",
              "On_Thyroxine                 object\n",
              "Query_On_Thyroxine           object\n",
              "On_Antithyroid_Medication    object\n",
              "Sick                         object\n",
              "Pregnant                     object\n",
              "Thyroid_Surgery              object\n",
              "I131_Treatment               object\n",
              "Query_Hypothyroid            object\n",
              "Query_Hyperthyroid           object\n",
              "Lithium                      object\n",
              "Goitre                       object\n",
              "Tumor                        object\n",
              "Hypopituitary                object\n",
              "Psych                        object\n",
              "TSH_Measured                 object\n",
              "TSH                          object\n",
              "T3_measured                  object\n",
              "T3                           object\n",
              "TT4_Measured                 object\n",
              "TT4                          object\n",
              "T4U_Measured                 object\n",
              "T4U                          object\n",
              "FTI_Measured                 object\n",
              "FTI                          object\n",
              "TBG_Measured                 object\n",
              "TBG                          object\n",
              "Class                        object\n",
              "dtype: object"
            ]
          },
          "metadata": {},
          "execution_count": 24
        }
      ],
      "source": [
        "# Checking datatypes of all columns \n",
        "thyroid_data.dtypes"
      ]
    },
    {
      "cell_type": "code",
      "execution_count": 25,
      "metadata": {
        "id": "PfqkEjrveAqv"
      },
      "outputs": [],
      "source": [
        "# Converting numerical columns from dtype object to int \n",
        "thyroid_data['Age'] = thyroid_data['Age'].astype('int')\n",
        "thyroid_data['TSH'] = thyroid_data['TSH'].astype('float')\n",
        "thyroid_data['T3'] = thyroid_data['T3'].astype('float')\n",
        "thyroid_data['TT4'] = thyroid_data['TT4'].astype('float')\n",
        "thyroid_data['T4U'] = thyroid_data['T4U'].astype('float')\n",
        "thyroid_data['FTI'] = thyroid_data['FTI'].astype('float')\n",
        "thyroid_data['TBG'] = thyroid_data['TBG'].astype('float')"
      ]
    },
    {
      "cell_type": "code",
      "execution_count": 26,
      "metadata": {
        "colab": {
          "base_uri": "https://localhost:8080/"
        },
        "id": "phmgzD7U4k1l",
        "outputId": "f3e7a854-6d5d-4079-91e4-91bfbbf19091"
      },
      "outputs": [
        {
          "output_type": "execute_result",
          "data": {
            "text/plain": [
              "Age                            int64\n",
              "Sex                           object\n",
              "On_Thyroxine                  object\n",
              "Query_On_Thyroxine            object\n",
              "On_Antithyroid_Medication     object\n",
              "Sick                          object\n",
              "Pregnant                      object\n",
              "Thyroid_Surgery               object\n",
              "I131_Treatment                object\n",
              "Query_Hypothyroid             object\n",
              "Query_Hyperthyroid            object\n",
              "Lithium                       object\n",
              "Goitre                        object\n",
              "Tumor                         object\n",
              "Hypopituitary                 object\n",
              "Psych                         object\n",
              "TSH_Measured                  object\n",
              "TSH                          float64\n",
              "T3_measured                   object\n",
              "T3                           float64\n",
              "TT4_Measured                  object\n",
              "TT4                          float64\n",
              "T4U_Measured                  object\n",
              "T4U                          float64\n",
              "FTI_Measured                  object\n",
              "FTI                          float64\n",
              "TBG_Measured                  object\n",
              "TBG                          float64\n",
              "Class                         object\n",
              "dtype: object"
            ]
          },
          "metadata": {},
          "execution_count": 26
        }
      ],
      "source": [
        "# Checking datatypes after conversion\n",
        "thyroid_data.dtypes"
      ]
    },
    {
      "cell_type": "code",
      "execution_count": 27,
      "metadata": {
        "colab": {
          "base_uri": "https://localhost:8080/"
        },
        "id": "CHUK45aARNqZ",
        "outputId": "b6a68023-a5bb-4443-92dc-50eb8c38a2e3"
      },
      "outputs": [
        {
          "output_type": "execute_result",
          "data": {
            "text/plain": [
              "array(['negative', 'hypothyroid', 'hyperthyroid'], dtype=object)"
            ]
          },
          "metadata": {},
          "execution_count": 27
        }
      ],
      "source": [
        "# Merging all hyperthyroid subclasses into hyperthyroid class. Similarly, for hypothyroid subclasses\n",
        "thyroid_data['Class'].replace('T3 toxic', 'hyperthyroid', inplace = True)\n",
        "thyroid_data['Class'].replace('toxic goitre', 'hyperthyroid', inplace = True)\n",
        "thyroid_data['Class'].replace('secondary toxic', 'hyperthyroid', inplace = True)\n",
        "thyroid_data['Class'].replace('primary hypothyroid', 'hypothyroid', inplace = True)\n",
        "thyroid_data['Class'].replace('secondary hypothyroid', 'hypothyroid', inplace = True)\n",
        "thyroid_data['Class'].replace('compensated hypothyroid', 'hypothyroid', inplace = True)\n",
        "thyroid_data['Class'].unique()"
      ]
    },
    {
      "cell_type": "code",
      "execution_count": 28,
      "metadata": {
        "colab": {
          "base_uri": "https://localhost:8080/"
        },
        "id": "vsIfworV3C8Q",
        "outputId": "336a05be-853f-404e-b013-b30470581937"
      },
      "outputs": [
        {
          "output_type": "execute_result",
          "data": {
            "text/plain": [
              "Class\n",
              "hyperthyroid     182\n",
              "hypothyroid      593\n",
              "negative        6767\n",
              "Name: Class, dtype: int64"
            ]
          },
          "metadata": {},
          "execution_count": 28
        }
      ],
      "source": [
        "# Grouping by to get the count of each class in the target variable\n",
        "thyroid_data.groupby(['Class'])['Class'].count()"
      ]
    },
    {
      "cell_type": "code",
      "execution_count": 29,
      "metadata": {
        "id": "sNv5C_kdcfNM"
      },
      "outputs": [],
      "source": [
        "# Performing label encoder to encode categorical target values to numerical target values\n",
        "le = LabelEncoder()\n",
        "thyroid_data['Class'] = le.fit_transform(thyroid_data['Class'])"
      ]
    },
    {
      "cell_type": "code",
      "execution_count": 30,
      "metadata": {
        "id": "M1FRuO6M4pzw"
      },
      "outputs": [],
      "source": [
        "# Label Encoding converted the target variable to 0 (hyperthyroid), 1 (hypothyroid), and 2 (negative) "
      ]
    },
    {
      "cell_type": "code",
      "execution_count": 31,
      "metadata": {
        "id": "Z8ztIUvc8a8v"
      },
      "outputs": [],
      "source": [
        "# Getting numerical and categorical columns\n",
        "num_cols = ['Age', 'TSH', 'T3', 'TT4', 'T4U', 'FTI', 'TBG']\n",
        "cat_cols = ['Sex', 'On_Thyroxine', 'Query_On_Thyroxine', 'On_Antithyroid_Medication', 'Sick', 'Pregnant', 'Thyroid_Surgery',\n",
        "            'I131_Treatment', 'Query_Hypothyroid', 'Query_Hyperthyroid', 'Lithium', 'Goitre', 'Tumor', 'Hypopituitary', 'Psych', \n",
        "            'TSH_Measured', 'T3_measured', 'TT4_Measured', 'T4U_Measured', 'FTI_Measured', 'TBG_Measured']\n",
        "\n",
        "# Creating a column tranformer to implement one hot encoding and normalization\n",
        "preprocessor = ColumnTransformer(\n",
        "    transformers = [\n",
        "        ('num', StandardScaler(), num_cols), \n",
        "        ('cat', OneHotEncoder(), cat_cols)\n",
        "    ])\n",
        "\n",
        "# Fitting the column tranformer on original data \n",
        "processed_data = preprocessor.fit_transform(thyroid_data)\n",
        "\n",
        "# Creating a new dataframe with the processed data\n",
        "processed_df = pd.DataFrame(\n",
        "    processed_data,\n",
        "    columns = num_cols + list(preprocessor.named_transformers_['cat'].get_feature_names_out(cat_cols))\n",
        ")"
      ]
    },
    {
      "cell_type": "code",
      "execution_count": 32,
      "metadata": {
        "colab": {
          "base_uri": "https://localhost:8080/",
          "height": 0
        },
        "id": "uZMjbBlxiE-R",
        "outputId": "1e90872e-595a-44ab-fa2d-cf49b6f240cc"
      },
      "outputs": [
        {
          "output_type": "execute_result",
          "data": {
            "text/plain": [
              "        Age       TSH        T3       TT4       T4U       FTI       TBG  \\\n",
              "0 -1.231760 -0.185266 -1.248935 -2.581264 -2.780032 -2.143621 -0.182088   \n",
              "1 -1.231760 -0.132967  0.411433  0.714243 -2.780032 -2.143621 -0.182088   \n",
              "2 -0.587260 -0.197335 -1.248935 -2.581264 -2.780032 -2.143621  2.358791   \n",
              "3 -0.855801 -0.197335 -1.248935 -2.581264 -2.780032 -2.143621  5.823627   \n",
              "4  0.433199 -0.197335 -1.248935 -2.581264 -2.780032 -2.143621  5.823627   \n",
              "\n",
              "   Sex_F  Sex_M  On_Thyroxine_f  ...  T3_measured_f  T3_measured_t  \\\n",
              "0    1.0    0.0             1.0  ...            1.0            0.0   \n",
              "1    1.0    0.0             1.0  ...            0.0            1.0   \n",
              "2    1.0    0.0             1.0  ...            1.0            0.0   \n",
              "3    1.0    0.0             1.0  ...            1.0            0.0   \n",
              "4    1.0    0.0             1.0  ...            1.0            0.0   \n",
              "\n",
              "   TT4_Measured_f  TT4_Measured_t  T4U_Measured_f  T4U_Measured_t  \\\n",
              "0             1.0             0.0             1.0             0.0   \n",
              "1             0.0             1.0             1.0             0.0   \n",
              "2             1.0             0.0             1.0             0.0   \n",
              "3             1.0             0.0             1.0             0.0   \n",
              "4             1.0             0.0             1.0             0.0   \n",
              "\n",
              "   FTI_Measured_f  FTI_Measured_t  TBG_Measured_f  TBG_Measured_t  \n",
              "0             1.0             0.0             1.0             0.0  \n",
              "1             1.0             0.0             1.0             0.0  \n",
              "2             1.0             0.0             0.0             1.0  \n",
              "3             1.0             0.0             0.0             1.0  \n",
              "4             1.0             0.0             0.0             1.0  \n",
              "\n",
              "[5 rows x 48 columns]"
            ],
            "text/html": [
              "\n",
              "  <div id=\"df-3dbf5754-c9be-4f6f-b484-52ca46319196\">\n",
              "    <div class=\"colab-df-container\">\n",
              "      <div>\n",
              "<style scoped>\n",
              "    .dataframe tbody tr th:only-of-type {\n",
              "        vertical-align: middle;\n",
              "    }\n",
              "\n",
              "    .dataframe tbody tr th {\n",
              "        vertical-align: top;\n",
              "    }\n",
              "\n",
              "    .dataframe thead th {\n",
              "        text-align: right;\n",
              "    }\n",
              "</style>\n",
              "<table border=\"1\" class=\"dataframe\">\n",
              "  <thead>\n",
              "    <tr style=\"text-align: right;\">\n",
              "      <th></th>\n",
              "      <th>Age</th>\n",
              "      <th>TSH</th>\n",
              "      <th>T3</th>\n",
              "      <th>TT4</th>\n",
              "      <th>T4U</th>\n",
              "      <th>FTI</th>\n",
              "      <th>TBG</th>\n",
              "      <th>Sex_F</th>\n",
              "      <th>Sex_M</th>\n",
              "      <th>On_Thyroxine_f</th>\n",
              "      <th>...</th>\n",
              "      <th>T3_measured_f</th>\n",
              "      <th>T3_measured_t</th>\n",
              "      <th>TT4_Measured_f</th>\n",
              "      <th>TT4_Measured_t</th>\n",
              "      <th>T4U_Measured_f</th>\n",
              "      <th>T4U_Measured_t</th>\n",
              "      <th>FTI_Measured_f</th>\n",
              "      <th>FTI_Measured_t</th>\n",
              "      <th>TBG_Measured_f</th>\n",
              "      <th>TBG_Measured_t</th>\n",
              "    </tr>\n",
              "  </thead>\n",
              "  <tbody>\n",
              "    <tr>\n",
              "      <th>0</th>\n",
              "      <td>-1.231760</td>\n",
              "      <td>-0.185266</td>\n",
              "      <td>-1.248935</td>\n",
              "      <td>-2.581264</td>\n",
              "      <td>-2.780032</td>\n",
              "      <td>-2.143621</td>\n",
              "      <td>-0.182088</td>\n",
              "      <td>1.0</td>\n",
              "      <td>0.0</td>\n",
              "      <td>1.0</td>\n",
              "      <td>...</td>\n",
              "      <td>1.0</td>\n",
              "      <td>0.0</td>\n",
              "      <td>1.0</td>\n",
              "      <td>0.0</td>\n",
              "      <td>1.0</td>\n",
              "      <td>0.0</td>\n",
              "      <td>1.0</td>\n",
              "      <td>0.0</td>\n",
              "      <td>1.0</td>\n",
              "      <td>0.0</td>\n",
              "    </tr>\n",
              "    <tr>\n",
              "      <th>1</th>\n",
              "      <td>-1.231760</td>\n",
              "      <td>-0.132967</td>\n",
              "      <td>0.411433</td>\n",
              "      <td>0.714243</td>\n",
              "      <td>-2.780032</td>\n",
              "      <td>-2.143621</td>\n",
              "      <td>-0.182088</td>\n",
              "      <td>1.0</td>\n",
              "      <td>0.0</td>\n",
              "      <td>1.0</td>\n",
              "      <td>...</td>\n",
              "      <td>0.0</td>\n",
              "      <td>1.0</td>\n",
              "      <td>0.0</td>\n",
              "      <td>1.0</td>\n",
              "      <td>1.0</td>\n",
              "      <td>0.0</td>\n",
              "      <td>1.0</td>\n",
              "      <td>0.0</td>\n",
              "      <td>1.0</td>\n",
              "      <td>0.0</td>\n",
              "    </tr>\n",
              "    <tr>\n",
              "      <th>2</th>\n",
              "      <td>-0.587260</td>\n",
              "      <td>-0.197335</td>\n",
              "      <td>-1.248935</td>\n",
              "      <td>-2.581264</td>\n",
              "      <td>-2.780032</td>\n",
              "      <td>-2.143621</td>\n",
              "      <td>2.358791</td>\n",
              "      <td>1.0</td>\n",
              "      <td>0.0</td>\n",
              "      <td>1.0</td>\n",
              "      <td>...</td>\n",
              "      <td>1.0</td>\n",
              "      <td>0.0</td>\n",
              "      <td>1.0</td>\n",
              "      <td>0.0</td>\n",
              "      <td>1.0</td>\n",
              "      <td>0.0</td>\n",
              "      <td>1.0</td>\n",
              "      <td>0.0</td>\n",
              "      <td>0.0</td>\n",
              "      <td>1.0</td>\n",
              "    </tr>\n",
              "    <tr>\n",
              "      <th>3</th>\n",
              "      <td>-0.855801</td>\n",
              "      <td>-0.197335</td>\n",
              "      <td>-1.248935</td>\n",
              "      <td>-2.581264</td>\n",
              "      <td>-2.780032</td>\n",
              "      <td>-2.143621</td>\n",
              "      <td>5.823627</td>\n",
              "      <td>1.0</td>\n",
              "      <td>0.0</td>\n",
              "      <td>1.0</td>\n",
              "      <td>...</td>\n",
              "      <td>1.0</td>\n",
              "      <td>0.0</td>\n",
              "      <td>1.0</td>\n",
              "      <td>0.0</td>\n",
              "      <td>1.0</td>\n",
              "      <td>0.0</td>\n",
              "      <td>1.0</td>\n",
              "      <td>0.0</td>\n",
              "      <td>0.0</td>\n",
              "      <td>1.0</td>\n",
              "    </tr>\n",
              "    <tr>\n",
              "      <th>4</th>\n",
              "      <td>0.433199</td>\n",
              "      <td>-0.197335</td>\n",
              "      <td>-1.248935</td>\n",
              "      <td>-2.581264</td>\n",
              "      <td>-2.780032</td>\n",
              "      <td>-2.143621</td>\n",
              "      <td>5.823627</td>\n",
              "      <td>1.0</td>\n",
              "      <td>0.0</td>\n",
              "      <td>1.0</td>\n",
              "      <td>...</td>\n",
              "      <td>1.0</td>\n",
              "      <td>0.0</td>\n",
              "      <td>1.0</td>\n",
              "      <td>0.0</td>\n",
              "      <td>1.0</td>\n",
              "      <td>0.0</td>\n",
              "      <td>1.0</td>\n",
              "      <td>0.0</td>\n",
              "      <td>0.0</td>\n",
              "      <td>1.0</td>\n",
              "    </tr>\n",
              "  </tbody>\n",
              "</table>\n",
              "<p>5 rows × 48 columns</p>\n",
              "</div>\n",
              "      <button class=\"colab-df-convert\" onclick=\"convertToInteractive('df-3dbf5754-c9be-4f6f-b484-52ca46319196')\"\n",
              "              title=\"Convert this dataframe to an interactive table.\"\n",
              "              style=\"display:none;\">\n",
              "        \n",
              "  <svg xmlns=\"http://www.w3.org/2000/svg\" height=\"24px\"viewBox=\"0 0 24 24\"\n",
              "       width=\"24px\">\n",
              "    <path d=\"M0 0h24v24H0V0z\" fill=\"none\"/>\n",
              "    <path d=\"M18.56 5.44l.94 2.06.94-2.06 2.06-.94-2.06-.94-.94-2.06-.94 2.06-2.06.94zm-11 1L8.5 8.5l.94-2.06 2.06-.94-2.06-.94L8.5 2.5l-.94 2.06-2.06.94zm10 10l.94 2.06.94-2.06 2.06-.94-2.06-.94-.94-2.06-.94 2.06-2.06.94z\"/><path d=\"M17.41 7.96l-1.37-1.37c-.4-.4-.92-.59-1.43-.59-.52 0-1.04.2-1.43.59L10.3 9.45l-7.72 7.72c-.78.78-.78 2.05 0 2.83L4 21.41c.39.39.9.59 1.41.59.51 0 1.02-.2 1.41-.59l7.78-7.78 2.81-2.81c.8-.78.8-2.07 0-2.86zM5.41 20L4 18.59l7.72-7.72 1.47 1.35L5.41 20z\"/>\n",
              "  </svg>\n",
              "      </button>\n",
              "      \n",
              "  <style>\n",
              "    .colab-df-container {\n",
              "      display:flex;\n",
              "      flex-wrap:wrap;\n",
              "      gap: 12px;\n",
              "    }\n",
              "\n",
              "    .colab-df-convert {\n",
              "      background-color: #E8F0FE;\n",
              "      border: none;\n",
              "      border-radius: 50%;\n",
              "      cursor: pointer;\n",
              "      display: none;\n",
              "      fill: #1967D2;\n",
              "      height: 32px;\n",
              "      padding: 0 0 0 0;\n",
              "      width: 32px;\n",
              "    }\n",
              "\n",
              "    .colab-df-convert:hover {\n",
              "      background-color: #E2EBFA;\n",
              "      box-shadow: 0px 1px 2px rgba(60, 64, 67, 0.3), 0px 1px 3px 1px rgba(60, 64, 67, 0.15);\n",
              "      fill: #174EA6;\n",
              "    }\n",
              "\n",
              "    [theme=dark] .colab-df-convert {\n",
              "      background-color: #3B4455;\n",
              "      fill: #D2E3FC;\n",
              "    }\n",
              "\n",
              "    [theme=dark] .colab-df-convert:hover {\n",
              "      background-color: #434B5C;\n",
              "      box-shadow: 0px 1px 3px 1px rgba(0, 0, 0, 0.15);\n",
              "      filter: drop-shadow(0px 1px 2px rgba(0, 0, 0, 0.3));\n",
              "      fill: #FFFFFF;\n",
              "    }\n",
              "  </style>\n",
              "\n",
              "      <script>\n",
              "        const buttonEl =\n",
              "          document.querySelector('#df-3dbf5754-c9be-4f6f-b484-52ca46319196 button.colab-df-convert');\n",
              "        buttonEl.style.display =\n",
              "          google.colab.kernel.accessAllowed ? 'block' : 'none';\n",
              "\n",
              "        async function convertToInteractive(key) {\n",
              "          const element = document.querySelector('#df-3dbf5754-c9be-4f6f-b484-52ca46319196');\n",
              "          const dataTable =\n",
              "            await google.colab.kernel.invokeFunction('convertToInteractive',\n",
              "                                                     [key], {});\n",
              "          if (!dataTable) return;\n",
              "\n",
              "          const docLinkHtml = 'Like what you see? Visit the ' +\n",
              "            '<a target=\"_blank\" href=https://colab.research.google.com/notebooks/data_table.ipynb>data table notebook</a>'\n",
              "            + ' to learn more about interactive tables.';\n",
              "          element.innerHTML = '';\n",
              "          dataTable['output_type'] = 'display_data';\n",
              "          await google.colab.output.renderOutput(dataTable, element);\n",
              "          const docLink = document.createElement('div');\n",
              "          docLink.innerHTML = docLinkHtml;\n",
              "          element.appendChild(docLink);\n",
              "        }\n",
              "      </script>\n",
              "    </div>\n",
              "  </div>\n",
              "  "
            ]
          },
          "metadata": {},
          "execution_count": 32
        }
      ],
      "source": [
        "processed_df.head()"
      ]
    },
    {
      "cell_type": "code",
      "execution_count": 33,
      "metadata": {
        "colab": {
          "base_uri": "https://localhost:8080/"
        },
        "id": "q5-geLP3FAiu",
        "outputId": "6399f3ca-1ece-4514-944e-dac1fb703b7c"
      },
      "outputs": [
        {
          "output_type": "execute_result",
          "data": {
            "text/plain": [
              "(7542, 48)"
            ]
          },
          "metadata": {},
          "execution_count": 33
        }
      ],
      "source": [
        "processed_df.shape"
      ]
    },
    {
      "cell_type": "markdown",
      "metadata": {
        "id": "wIeQUgZcaiI4"
      },
      "source": [
        "### Data Exploration & Visualization"
      ]
    },
    {
      "cell_type": "code",
      "execution_count": 34,
      "metadata": {
        "colab": {
          "base_uri": "https://localhost:8080/",
          "height": 0
        },
        "id": "upCPYT6ZhacY",
        "outputId": "d10f2a29-8649-42b0-aae2-d4e94c45f1e5"
      },
      "outputs": [
        {
          "output_type": "execute_result",
          "data": {
            "text/plain": [
              "                Age   Sex On_Thyroxine Query_On_Thyroxine  \\\n",
              "count   7542.000000  7542         7542               7542   \n",
              "unique          NaN     2            2                  2   \n",
              "top             NaN     F            f                  f   \n",
              "freq            NaN  5148         6695               7419   \n",
              "mean      51.934235   NaN          NaN                NaN   \n",
              "std       18.620319   NaN          NaN                NaN   \n",
              "min        1.000000   NaN          NaN                NaN   \n",
              "25%       37.000000   NaN          NaN                NaN   \n",
              "50%       55.000000   NaN          NaN                NaN   \n",
              "75%       67.000000   NaN          NaN                NaN   \n",
              "max       97.000000   NaN          NaN                NaN   \n",
              "\n",
              "       On_Antithyroid_Medication  Sick Pregnant Thyroid_Surgery  \\\n",
              "count                       7542  7542     7542            7542   \n",
              "unique                         2     2        2               2   \n",
              "top                            f     f        f               f   \n",
              "freq                        7450  7262     7509            7436   \n",
              "mean                         NaN   NaN      NaN             NaN   \n",
              "std                          NaN   NaN      NaN             NaN   \n",
              "min                          NaN   NaN      NaN             NaN   \n",
              "25%                          NaN   NaN      NaN             NaN   \n",
              "50%                          NaN   NaN      NaN             NaN   \n",
              "75%                          NaN   NaN      NaN             NaN   \n",
              "max                          NaN   NaN      NaN             NaN   \n",
              "\n",
              "       I131_Treatment Query_Hypothyroid  ...           T3 TT4_Measured  \\\n",
              "count            7542              7542  ...  7542.000000         7542   \n",
              "unique              2                 2  ...          NaN            2   \n",
              "top                 f                 f  ...          NaN            t   \n",
              "freq             7402              7042  ...          NaN         7188   \n",
              "mean              NaN               NaN  ...     1.429187          NaN   \n",
              "std               NaN               NaN  ...     1.144401          NaN   \n",
              "min               NaN               NaN  ...     0.000000          NaN   \n",
              "25%               NaN               NaN  ...     0.000000          NaN   \n",
              "50%               NaN               NaN  ...     1.700000          NaN   \n",
              "75%               NaN               NaN  ...     2.200000          NaN   \n",
              "max               NaN               NaN  ...    18.000000          NaN   \n",
              "\n",
              "                TT4 T4U_Measured          T4U FTI_Measured          FTI  \\\n",
              "count   7542.000000         7542  7542.000000         7542  7542.000000   \n",
              "unique          NaN            2          NaN            2          NaN   \n",
              "top             NaN            t          NaN            t          NaN   \n",
              "freq            NaN         6866          NaN         6873          NaN   \n",
              "mean     100.258242          NaN     0.880593          NaN   100.759996   \n",
              "std       38.843337          NaN     0.316777          NaN    47.007687   \n",
              "min        0.000000          NaN     0.000000          NaN     0.000000   \n",
              "25%       84.250000          NaN     0.830000          NaN    88.000000   \n",
              "50%      101.000000          NaN     0.950000          NaN   105.000000   \n",
              "75%      120.000000          NaN     1.050000          NaN   123.000000   \n",
              "max      430.000000          NaN     2.120000          NaN   839.000000   \n",
              "\n",
              "        TBG_Measured          TBG        Class  \n",
              "count           7542  7542.000000  7542.000000  \n",
              "unique             2          NaN          NaN  \n",
              "top                f          NaN          NaN  \n",
              "freq            7283          NaN          NaN  \n",
              "mean             NaN     0.788299     1.873111  \n",
              "std              NaN     4.329497     0.398839  \n",
              "min              NaN     0.000000     0.000000  \n",
              "25%              NaN     0.000000     2.000000  \n",
              "50%              NaN     0.000000     2.000000  \n",
              "75%              NaN     0.000000     2.000000  \n",
              "max              NaN    45.000000     2.000000  \n",
              "\n",
              "[11 rows x 29 columns]"
            ],
            "text/html": [
              "\n",
              "  <div id=\"df-246c415a-a6aa-46f8-a998-094c5beead81\">\n",
              "    <div class=\"colab-df-container\">\n",
              "      <div>\n",
              "<style scoped>\n",
              "    .dataframe tbody tr th:only-of-type {\n",
              "        vertical-align: middle;\n",
              "    }\n",
              "\n",
              "    .dataframe tbody tr th {\n",
              "        vertical-align: top;\n",
              "    }\n",
              "\n",
              "    .dataframe thead th {\n",
              "        text-align: right;\n",
              "    }\n",
              "</style>\n",
              "<table border=\"1\" class=\"dataframe\">\n",
              "  <thead>\n",
              "    <tr style=\"text-align: right;\">\n",
              "      <th></th>\n",
              "      <th>Age</th>\n",
              "      <th>Sex</th>\n",
              "      <th>On_Thyroxine</th>\n",
              "      <th>Query_On_Thyroxine</th>\n",
              "      <th>On_Antithyroid_Medication</th>\n",
              "      <th>Sick</th>\n",
              "      <th>Pregnant</th>\n",
              "      <th>Thyroid_Surgery</th>\n",
              "      <th>I131_Treatment</th>\n",
              "      <th>Query_Hypothyroid</th>\n",
              "      <th>...</th>\n",
              "      <th>T3</th>\n",
              "      <th>TT4_Measured</th>\n",
              "      <th>TT4</th>\n",
              "      <th>T4U_Measured</th>\n",
              "      <th>T4U</th>\n",
              "      <th>FTI_Measured</th>\n",
              "      <th>FTI</th>\n",
              "      <th>TBG_Measured</th>\n",
              "      <th>TBG</th>\n",
              "      <th>Class</th>\n",
              "    </tr>\n",
              "  </thead>\n",
              "  <tbody>\n",
              "    <tr>\n",
              "      <th>count</th>\n",
              "      <td>7542.000000</td>\n",
              "      <td>7542</td>\n",
              "      <td>7542</td>\n",
              "      <td>7542</td>\n",
              "      <td>7542</td>\n",
              "      <td>7542</td>\n",
              "      <td>7542</td>\n",
              "      <td>7542</td>\n",
              "      <td>7542</td>\n",
              "      <td>7542</td>\n",
              "      <td>...</td>\n",
              "      <td>7542.000000</td>\n",
              "      <td>7542</td>\n",
              "      <td>7542.000000</td>\n",
              "      <td>7542</td>\n",
              "      <td>7542.000000</td>\n",
              "      <td>7542</td>\n",
              "      <td>7542.000000</td>\n",
              "      <td>7542</td>\n",
              "      <td>7542.000000</td>\n",
              "      <td>7542.000000</td>\n",
              "    </tr>\n",
              "    <tr>\n",
              "      <th>unique</th>\n",
              "      <td>NaN</td>\n",
              "      <td>2</td>\n",
              "      <td>2</td>\n",
              "      <td>2</td>\n",
              "      <td>2</td>\n",
              "      <td>2</td>\n",
              "      <td>2</td>\n",
              "      <td>2</td>\n",
              "      <td>2</td>\n",
              "      <td>2</td>\n",
              "      <td>...</td>\n",
              "      <td>NaN</td>\n",
              "      <td>2</td>\n",
              "      <td>NaN</td>\n",
              "      <td>2</td>\n",
              "      <td>NaN</td>\n",
              "      <td>2</td>\n",
              "      <td>NaN</td>\n",
              "      <td>2</td>\n",
              "      <td>NaN</td>\n",
              "      <td>NaN</td>\n",
              "    </tr>\n",
              "    <tr>\n",
              "      <th>top</th>\n",
              "      <td>NaN</td>\n",
              "      <td>F</td>\n",
              "      <td>f</td>\n",
              "      <td>f</td>\n",
              "      <td>f</td>\n",
              "      <td>f</td>\n",
              "      <td>f</td>\n",
              "      <td>f</td>\n",
              "      <td>f</td>\n",
              "      <td>f</td>\n",
              "      <td>...</td>\n",
              "      <td>NaN</td>\n",
              "      <td>t</td>\n",
              "      <td>NaN</td>\n",
              "      <td>t</td>\n",
              "      <td>NaN</td>\n",
              "      <td>t</td>\n",
              "      <td>NaN</td>\n",
              "      <td>f</td>\n",
              "      <td>NaN</td>\n",
              "      <td>NaN</td>\n",
              "    </tr>\n",
              "    <tr>\n",
              "      <th>freq</th>\n",
              "      <td>NaN</td>\n",
              "      <td>5148</td>\n",
              "      <td>6695</td>\n",
              "      <td>7419</td>\n",
              "      <td>7450</td>\n",
              "      <td>7262</td>\n",
              "      <td>7509</td>\n",
              "      <td>7436</td>\n",
              "      <td>7402</td>\n",
              "      <td>7042</td>\n",
              "      <td>...</td>\n",
              "      <td>NaN</td>\n",
              "      <td>7188</td>\n",
              "      <td>NaN</td>\n",
              "      <td>6866</td>\n",
              "      <td>NaN</td>\n",
              "      <td>6873</td>\n",
              "      <td>NaN</td>\n",
              "      <td>7283</td>\n",
              "      <td>NaN</td>\n",
              "      <td>NaN</td>\n",
              "    </tr>\n",
              "    <tr>\n",
              "      <th>mean</th>\n",
              "      <td>51.934235</td>\n",
              "      <td>NaN</td>\n",
              "      <td>NaN</td>\n",
              "      <td>NaN</td>\n",
              "      <td>NaN</td>\n",
              "      <td>NaN</td>\n",
              "      <td>NaN</td>\n",
              "      <td>NaN</td>\n",
              "      <td>NaN</td>\n",
              "      <td>NaN</td>\n",
              "      <td>...</td>\n",
              "      <td>1.429187</td>\n",
              "      <td>NaN</td>\n",
              "      <td>100.258242</td>\n",
              "      <td>NaN</td>\n",
              "      <td>0.880593</td>\n",
              "      <td>NaN</td>\n",
              "      <td>100.759996</td>\n",
              "      <td>NaN</td>\n",
              "      <td>0.788299</td>\n",
              "      <td>1.873111</td>\n",
              "    </tr>\n",
              "    <tr>\n",
              "      <th>std</th>\n",
              "      <td>18.620319</td>\n",
              "      <td>NaN</td>\n",
              "      <td>NaN</td>\n",
              "      <td>NaN</td>\n",
              "      <td>NaN</td>\n",
              "      <td>NaN</td>\n",
              "      <td>NaN</td>\n",
              "      <td>NaN</td>\n",
              "      <td>NaN</td>\n",
              "      <td>NaN</td>\n",
              "      <td>...</td>\n",
              "      <td>1.144401</td>\n",
              "      <td>NaN</td>\n",
              "      <td>38.843337</td>\n",
              "      <td>NaN</td>\n",
              "      <td>0.316777</td>\n",
              "      <td>NaN</td>\n",
              "      <td>47.007687</td>\n",
              "      <td>NaN</td>\n",
              "      <td>4.329497</td>\n",
              "      <td>0.398839</td>\n",
              "    </tr>\n",
              "    <tr>\n",
              "      <th>min</th>\n",
              "      <td>1.000000</td>\n",
              "      <td>NaN</td>\n",
              "      <td>NaN</td>\n",
              "      <td>NaN</td>\n",
              "      <td>NaN</td>\n",
              "      <td>NaN</td>\n",
              "      <td>NaN</td>\n",
              "      <td>NaN</td>\n",
              "      <td>NaN</td>\n",
              "      <td>NaN</td>\n",
              "      <td>...</td>\n",
              "      <td>0.000000</td>\n",
              "      <td>NaN</td>\n",
              "      <td>0.000000</td>\n",
              "      <td>NaN</td>\n",
              "      <td>0.000000</td>\n",
              "      <td>NaN</td>\n",
              "      <td>0.000000</td>\n",
              "      <td>NaN</td>\n",
              "      <td>0.000000</td>\n",
              "      <td>0.000000</td>\n",
              "    </tr>\n",
              "    <tr>\n",
              "      <th>25%</th>\n",
              "      <td>37.000000</td>\n",
              "      <td>NaN</td>\n",
              "      <td>NaN</td>\n",
              "      <td>NaN</td>\n",
              "      <td>NaN</td>\n",
              "      <td>NaN</td>\n",
              "      <td>NaN</td>\n",
              "      <td>NaN</td>\n",
              "      <td>NaN</td>\n",
              "      <td>NaN</td>\n",
              "      <td>...</td>\n",
              "      <td>0.000000</td>\n",
              "      <td>NaN</td>\n",
              "      <td>84.250000</td>\n",
              "      <td>NaN</td>\n",
              "      <td>0.830000</td>\n",
              "      <td>NaN</td>\n",
              "      <td>88.000000</td>\n",
              "      <td>NaN</td>\n",
              "      <td>0.000000</td>\n",
              "      <td>2.000000</td>\n",
              "    </tr>\n",
              "    <tr>\n",
              "      <th>50%</th>\n",
              "      <td>55.000000</td>\n",
              "      <td>NaN</td>\n",
              "      <td>NaN</td>\n",
              "      <td>NaN</td>\n",
              "      <td>NaN</td>\n",
              "      <td>NaN</td>\n",
              "      <td>NaN</td>\n",
              "      <td>NaN</td>\n",
              "      <td>NaN</td>\n",
              "      <td>NaN</td>\n",
              "      <td>...</td>\n",
              "      <td>1.700000</td>\n",
              "      <td>NaN</td>\n",
              "      <td>101.000000</td>\n",
              "      <td>NaN</td>\n",
              "      <td>0.950000</td>\n",
              "      <td>NaN</td>\n",
              "      <td>105.000000</td>\n",
              "      <td>NaN</td>\n",
              "      <td>0.000000</td>\n",
              "      <td>2.000000</td>\n",
              "    </tr>\n",
              "    <tr>\n",
              "      <th>75%</th>\n",
              "      <td>67.000000</td>\n",
              "      <td>NaN</td>\n",
              "      <td>NaN</td>\n",
              "      <td>NaN</td>\n",
              "      <td>NaN</td>\n",
              "      <td>NaN</td>\n",
              "      <td>NaN</td>\n",
              "      <td>NaN</td>\n",
              "      <td>NaN</td>\n",
              "      <td>NaN</td>\n",
              "      <td>...</td>\n",
              "      <td>2.200000</td>\n",
              "      <td>NaN</td>\n",
              "      <td>120.000000</td>\n",
              "      <td>NaN</td>\n",
              "      <td>1.050000</td>\n",
              "      <td>NaN</td>\n",
              "      <td>123.000000</td>\n",
              "      <td>NaN</td>\n",
              "      <td>0.000000</td>\n",
              "      <td>2.000000</td>\n",
              "    </tr>\n",
              "    <tr>\n",
              "      <th>max</th>\n",
              "      <td>97.000000</td>\n",
              "      <td>NaN</td>\n",
              "      <td>NaN</td>\n",
              "      <td>NaN</td>\n",
              "      <td>NaN</td>\n",
              "      <td>NaN</td>\n",
              "      <td>NaN</td>\n",
              "      <td>NaN</td>\n",
              "      <td>NaN</td>\n",
              "      <td>NaN</td>\n",
              "      <td>...</td>\n",
              "      <td>18.000000</td>\n",
              "      <td>NaN</td>\n",
              "      <td>430.000000</td>\n",
              "      <td>NaN</td>\n",
              "      <td>2.120000</td>\n",
              "      <td>NaN</td>\n",
              "      <td>839.000000</td>\n",
              "      <td>NaN</td>\n",
              "      <td>45.000000</td>\n",
              "      <td>2.000000</td>\n",
              "    </tr>\n",
              "  </tbody>\n",
              "</table>\n",
              "<p>11 rows × 29 columns</p>\n",
              "</div>\n",
              "      <button class=\"colab-df-convert\" onclick=\"convertToInteractive('df-246c415a-a6aa-46f8-a998-094c5beead81')\"\n",
              "              title=\"Convert this dataframe to an interactive table.\"\n",
              "              style=\"display:none;\">\n",
              "        \n",
              "  <svg xmlns=\"http://www.w3.org/2000/svg\" height=\"24px\"viewBox=\"0 0 24 24\"\n",
              "       width=\"24px\">\n",
              "    <path d=\"M0 0h24v24H0V0z\" fill=\"none\"/>\n",
              "    <path d=\"M18.56 5.44l.94 2.06.94-2.06 2.06-.94-2.06-.94-.94-2.06-.94 2.06-2.06.94zm-11 1L8.5 8.5l.94-2.06 2.06-.94-2.06-.94L8.5 2.5l-.94 2.06-2.06.94zm10 10l.94 2.06.94-2.06 2.06-.94-2.06-.94-.94-2.06-.94 2.06-2.06.94z\"/><path d=\"M17.41 7.96l-1.37-1.37c-.4-.4-.92-.59-1.43-.59-.52 0-1.04.2-1.43.59L10.3 9.45l-7.72 7.72c-.78.78-.78 2.05 0 2.83L4 21.41c.39.39.9.59 1.41.59.51 0 1.02-.2 1.41-.59l7.78-7.78 2.81-2.81c.8-.78.8-2.07 0-2.86zM5.41 20L4 18.59l7.72-7.72 1.47 1.35L5.41 20z\"/>\n",
              "  </svg>\n",
              "      </button>\n",
              "      \n",
              "  <style>\n",
              "    .colab-df-container {\n",
              "      display:flex;\n",
              "      flex-wrap:wrap;\n",
              "      gap: 12px;\n",
              "    }\n",
              "\n",
              "    .colab-df-convert {\n",
              "      background-color: #E8F0FE;\n",
              "      border: none;\n",
              "      border-radius: 50%;\n",
              "      cursor: pointer;\n",
              "      display: none;\n",
              "      fill: #1967D2;\n",
              "      height: 32px;\n",
              "      padding: 0 0 0 0;\n",
              "      width: 32px;\n",
              "    }\n",
              "\n",
              "    .colab-df-convert:hover {\n",
              "      background-color: #E2EBFA;\n",
              "      box-shadow: 0px 1px 2px rgba(60, 64, 67, 0.3), 0px 1px 3px 1px rgba(60, 64, 67, 0.15);\n",
              "      fill: #174EA6;\n",
              "    }\n",
              "\n",
              "    [theme=dark] .colab-df-convert {\n",
              "      background-color: #3B4455;\n",
              "      fill: #D2E3FC;\n",
              "    }\n",
              "\n",
              "    [theme=dark] .colab-df-convert:hover {\n",
              "      background-color: #434B5C;\n",
              "      box-shadow: 0px 1px 3px 1px rgba(0, 0, 0, 0.15);\n",
              "      filter: drop-shadow(0px 1px 2px rgba(0, 0, 0, 0.3));\n",
              "      fill: #FFFFFF;\n",
              "    }\n",
              "  </style>\n",
              "\n",
              "      <script>\n",
              "        const buttonEl =\n",
              "          document.querySelector('#df-246c415a-a6aa-46f8-a998-094c5beead81 button.colab-df-convert');\n",
              "        buttonEl.style.display =\n",
              "          google.colab.kernel.accessAllowed ? 'block' : 'none';\n",
              "\n",
              "        async function convertToInteractive(key) {\n",
              "          const element = document.querySelector('#df-246c415a-a6aa-46f8-a998-094c5beead81');\n",
              "          const dataTable =\n",
              "            await google.colab.kernel.invokeFunction('convertToInteractive',\n",
              "                                                     [key], {});\n",
              "          if (!dataTable) return;\n",
              "\n",
              "          const docLinkHtml = 'Like what you see? Visit the ' +\n",
              "            '<a target=\"_blank\" href=https://colab.research.google.com/notebooks/data_table.ipynb>data table notebook</a>'\n",
              "            + ' to learn more about interactive tables.';\n",
              "          element.innerHTML = '';\n",
              "          dataTable['output_type'] = 'display_data';\n",
              "          await google.colab.output.renderOutput(dataTable, element);\n",
              "          const docLink = document.createElement('div');\n",
              "          docLink.innerHTML = docLinkHtml;\n",
              "          element.appendChild(docLink);\n",
              "        }\n",
              "      </script>\n",
              "    </div>\n",
              "  </div>\n",
              "  "
            ]
          },
          "metadata": {},
          "execution_count": 34
        }
      ],
      "source": [
        "# Understanding statistics of the values in columns \n",
        "\n",
        "thyroid_data.describe(include = 'all')"
      ]
    },
    {
      "cell_type": "code",
      "execution_count": 35,
      "metadata": {
        "colab": {
          "base_uri": "https://localhost:8080/",
          "height": 0
        },
        "id": "sDl9CO0K29Zd",
        "outputId": "ac3524c9-b4e1-4a4f-c2e1-fe5d9ce6eb43"
      },
      "outputs": [
        {
          "output_type": "execute_result",
          "data": {
            "text/plain": [
              "Text(0.5, 1.0, 'Correlation Between Numerical Variables')"
            ]
          },
          "metadata": {},
          "execution_count": 35
        },
        {
          "output_type": "display_data",
          "data": {
            "text/plain": [
              "<Figure size 1000x600 with 2 Axes>"
            ],
            "image/png": "[encoded data removed]"
          },
          "metadata": {}
        }
      ],
      "source": [
        "# Plotting heatmap to understand the relation between numerical variables\n",
        "plt.figure(figsize = (10, 6))\n",
        "fig1 = sns.heatmap(thyroid_data.corr(),annot = True, cmap = 'magma')\n",
        "fig1.set_title('Correlation Between Numerical Variables', fontdict = {'fontsize': 12}, pad = 12)"
      ]
    },
    {
      "cell_type": "code",
      "execution_count": 36,
      "metadata": {
        "colab": {
          "base_uri": "https://localhost:8080/"
        },
        "id": "yXMqG7biSb-G",
        "outputId": "55873a67-977b-46bf-f1d3-35eafa16fedd"
      },
      "outputs": [
        {
          "output_type": "stream",
          "name": "stdout",
          "text": [
            "Class = 2, n = 6767\n",
            "Class = 1, n = 593\n",
            "Class = 0, n = 182\n"
          ]
        }
      ],
      "source": [
        "# Understanding the distribution of classes\n",
        "counter = Counter(thyroid_data['Class'])\n",
        "\n",
        "for k, v in counter.items():\n",
        "  print('Class = {}, n = {}'.format(k, v))"
      ]
    },
    {
      "cell_type": "code",
      "execution_count": 37,
      "metadata": {
        "colab": {
          "base_uri": "https://localhost:8080/",
          "height": 0
        },
        "id": "isP-h0ASSpEb",
        "outputId": "478d179d-8ab0-4213-becf-7dbb63f9c659"
      },
      "outputs": [
        {
          "output_type": "display_data",
          "data": {
            "text/html": [
              "<html>\n",
              "<head><meta charset=\"utf-8\" /></head>\n",
              "<body>\n",
              "    <div>            <script src=\"https://cdnjs.cloudflare.com/ajax/libs/mathjax/2.7.5/MathJax.js?config=TeX-AMS-MML_SVG\"></script><script type=\"text/javascript\">if (window.MathJax && window.MathJax.Hub && window.MathJax.Hub.Config) {window.MathJax.Hub.Config({SVG: {font: \"STIX-Web\"}});}</script>                <script type=\"text/javascript\">window.PlotlyConfig = {MathJaxConfig: 'local'};</script>\n",
              "        <script src=\"https://cdn.plot.ly/plotly-2.18.2.min.js\"></script>                <div id=\"c64ca37c-6d80-44a6-9689-9a63a1d5516d\" class=\"plotly-graph-div\" style=\"height:500px; width:600px;\"></div>            <script type=\"text/javascript\">                                    window.PLOTLYENV=window.PLOTLYENV || {};                                    if (document.getElementById(\"c64ca37c-6d80-44a6-9689-9a63a1d5516d\")) {                    Plotly.newPlot(                        \"c64ca37c-6d80-44a6-9689-9a63a1d5516d\",                        [{\"alignmentgroup\":\"True\",\"hovertemplate\":\"x=%{x}<br>y=%{y}<extra></extra>\",\"legendgroup\":\"\",\"marker\":{\"color\":\"#636efa\",\"pattern\":{\"shape\":\"\"}},\"name\":\"\",\"offsetgroup\":\"\",\"orientation\":\"v\",\"showlegend\":false,\"textposition\":\"auto\",\"x\":[2,1,0],\"xaxis\":\"x\",\"y\":[6767,593,182],\"yaxis\":\"y\",\"type\":\"bar\"}],                        {\"template\":{\"data\":{\"histogram2dcontour\":[{\"type\":\"histogram2dcontour\",\"colorbar\":{\"outlinewidth\":0,\"ticks\":\"\"},\"colorscale\":[[0.0,\"#0d0887\"],[0.1111111111111111,\"#46039f\"],[0.2222222222222222,\"#7201a8\"],[0.3333333333333333,\"#9c179e\"],[0.4444444444444444,\"#bd3786\"],[0.5555555555555556,\"#d8576b\"],[0.6666666666666666,\"#ed7953\"],[0.7777777777777778,\"#fb9f3a\"],[0.8888888888888888,\"#fdca26\"],[1.0,\"#f0f921\"]]}],\"choropleth\":[{\"type\":\"choropleth\",\"colorbar\":{\"outlinewidth\":0,\"ticks\":\"\"}}],\"histogram2d\":[{\"type\":\"histogram2d\",\"colorbar\":{\"outlinewidth\":0,\"ticks\":\"\"},\"colorscale\":[[0.0,\"#0d0887\"],[0.1111111111111111,\"#46039f\"],[0.2222222222222222,\"#7201a8\"],[0.3333333333333333,\"#9c179e\"],[0.4444444444444444,\"#bd3786\"],[0.5555555555555556,\"#d8576b\"],[0.6666666666666666,\"#ed7953\"],[0.7777777777777778,\"#fb9f3a\"],[0.8888888888888888,\"#fdca26\"],[1.0,\"#f0f921\"]]}],\"heatmap\":[{\"type\":\"heatmap\",\"colorbar\":{\"outlinewidth\":0,\"ticks\":\"\"},\"colorscale\":[[0.0,\"#0d0887\"],[0.1111111111111111,\"#46039f\"],[0.2222222222222222,\"#7201a8\"],[0.3333333333333333,\"#9c179e\"],[0.4444444444444444,\"#bd3786\"],[0.5555555555555556,\"#d8576b\"],[0.6666666666666666,\"#ed7953\"],[0.7777777777777778,\"#fb9f3a\"],[0.8888888888888888,\"#fdca26\"],[1.0,\"#f0f921\"]]}],\"heatmapgl\":[{\"type\":\"heatmapgl\",\"colorbar\":{\"outlinewidth\":0,\"ticks\":\"\"},\"colorscale\":[[0.0,\"#0d0887\"],[0.1111111111111111,\"#46039f\"],[0.2222222222222222,\"#7201a8\"],[0.3333333333333333,\"#9c179e\"],[0.4444444444444444,\"#bd3786\"],[0.5555555555555556,\"#d8576b\"],[0.6666666666666666,\"#ed7953\"],[0.7777777777777778,\"#fb9f3a\"],[0.8888888888888888,\"#fdca26\"],[1.0,\"#f0f921\"]]}],\"contourcarpet\":[{\"type\":\"contourcarpet\",\"colorbar\":{\"outlinewidth\":0,\"ticks\":\"\"}}],\"contour\":[{\"type\":\"contour\",\"colorbar\":{\"outlinewidth\":0,\"ticks\":\"\"},\"colorscale\":[[0.0,\"#0d0887\"],[0.1111111111111111,\"#46039f\"],[0.2222222222222222,\"#7201a8\"],[0.3333333333333333,\"#9c179e\"],[0.4444444444444444,\"#bd3786\"],[0.5555555555555556,\"#d8576b\"],[0.6666666666666666,\"#ed7953\"],[0.7777777777777778,\"#fb9f3a\"],[0.8888888888888888,\"#fdca26\"],[1.0,\"#f0f921\"]]}],\"surface\":[{\"type\":\"surface\",\"colorbar\":{\"outlinewidth\":0,\"ticks\":\"\"},\"colorscale\":[[0.0,\"#0d0887\"],[0.1111111111111111,\"#46039f\"],[0.2222222222222222,\"#7201a8\"],[0.3333333333333333,\"#9c179e\"],[0.4444444444444444,\"#bd3786\"],[0.5555555555555556,\"#d8576b\"],[0.6666666666666666,\"#ed7953\"],[0.7777777777777778,\"#fb9f3a\"],[0.8888888888888888,\"#fdca26\"],[1.0,\"#f0f921\"]]}],\"mesh3d\":[{\"type\":\"mesh3d\",\"colorbar\":{\"outlinewidth\":0,\"ticks\":\"\"}}],\"scatter\":[{\"fillpattern\":{\"fillmode\":\"overlay\",\"size\":10,\"solidity\":0.2},\"type\":\"scatter\"}],\"parcoords\":[{\"type\":\"parcoords\",\"line\":{\"colorbar\":{\"outlinewidth\":0,\"ticks\":\"\"}}}],\"scatterpolargl\":[{\"type\":\"scatterpolargl\",\"marker\":{\"colorbar\":{\"outlinewidth\":0,\"ticks\":\"\"}}}],\"bar\":[{\"error_x\":{\"color\":\"#2a3f5f\"},\"error_y\":{\"color\":\"#2a3f5f\"},\"marker\":{\"line\":{\"color\":\"#E5ECF6\",\"width\":0.5},\"pattern\":{\"fillmode\":\"overlay\",\"size\":10,\"solidity\":0.2}},\"type\":\"bar\"}],\"scattergeo\":[{\"type\":\"scattergeo\",\"marker\":{\"colorbar\":{\"outlinewidth\":0,\"ticks\":\"\"}}}],\"scatterpolar\":[{\"type\":\"scatterpolar\",\"marker\":{\"colorbar\":{\"outlinewidth\":0,\"ticks\":\"\"}}}],\"histogram\":[{\"marker\":{\"pattern\":{\"fillmode\":\"overlay\",\"size\":10,\"solidity\":0.2}},\"type\":\"histogram\"}],\"scattergl\":[{\"type\":\"scattergl\",\"marker\":{\"colorbar\":{\"outlinewidth\":0,\"ticks\":\"\"}}}],\"scatter3d\":[{\"type\":\"scatter3d\",\"line\":{\"colorbar\":{\"outlinewidth\":0,\"ticks\":\"\"}},\"marker\":{\"colorbar\":{\"outlinewidth\":0,\"ticks\":\"\"}}}],\"scattermapbox\":[{\"type\":\"scattermapbox\",\"marker\":{\"colorbar\":{\"outlinewidth\":0,\"ticks\":\"\"}}}],\"scatterternary\":[{\"type\":\"scatterternary\",\"marker\":{\"colorbar\":{\"outlinewidth\":0,\"ticks\":\"\"}}}],\"scattercarpet\":[{\"type\":\"scattercarpet\",\"marker\":{\"colorbar\":{\"outlinewidth\":0,\"ticks\":\"\"}}}],\"carpet\":[{\"aaxis\":{\"endlinecolor\":\"#2a3f5f\",\"gridcolor\":\"white\",\"linecolor\":\"white\",\"minorgridcolor\":\"white\",\"startlinecolor\":\"#2a3f5f\"},\"baxis\":{\"endlinecolor\":\"#2a3f5f\",\"gridcolor\":\"white\",\"linecolor\":\"white\",\"minorgridcolor\":\"white\",\"startlinecolor\":\"#2a3f5f\"},\"type\":\"carpet\"}],\"table\":[{\"cells\":{\"fill\":{\"color\":\"#EBF0F8\"},\"line\":{\"color\":\"white\"}},\"header\":{\"fill\":{\"color\":\"#C8D4E3\"},\"line\":{\"color\":\"white\"}},\"type\":\"table\"}],\"barpolar\":[{\"marker\":{\"line\":{\"color\":\"#E5ECF6\",\"width\":0.5},\"pattern\":{\"fillmode\":\"overlay\",\"size\":10,\"solidity\":0.2}},\"type\":\"barpolar\"}],\"pie\":[{\"automargin\":true,\"type\":\"pie\"}]},\"layout\":{\"autotypenumbers\":\"strict\",\"colorway\":[\"#636efa\",\"#EF553B\",\"#00cc96\",\"#ab63fa\",\"#FFA15A\",\"#19d3f3\",\"#FF6692\",\"#B6E880\",\"#FF97FF\",\"#FECB52\"],\"font\":{\"color\":\"#2a3f5f\"},\"hovermode\":\"closest\",\"hoverlabel\":{\"align\":\"left\"},\"paper_bgcolor\":\"white\",\"plot_bgcolor\":\"#E5ECF6\",\"polar\":{\"bgcolor\":\"#E5ECF6\",\"angularaxis\":{\"gridcolor\":\"white\",\"linecolor\":\"white\",\"ticks\":\"\"},\"radialaxis\":{\"gridcolor\":\"white\",\"linecolor\":\"white\",\"ticks\":\"\"}},\"ternary\":{\"bgcolor\":\"#E5ECF6\",\"aaxis\":{\"gridcolor\":\"white\",\"linecolor\":\"white\",\"ticks\":\"\"},\"baxis\":{\"gridcolor\":\"white\",\"linecolor\":\"white\",\"ticks\":\"\"},\"caxis\":{\"gridcolor\":\"white\",\"linecolor\":\"white\",\"ticks\":\"\"}},\"coloraxis\":{\"colorbar\":{\"outlinewidth\":0,\"ticks\":\"\"}},\"colorscale\":{\"sequential\":[[0.0,\"#0d0887\"],[0.1111111111111111,\"#46039f\"],[0.2222222222222222,\"#7201a8\"],[0.3333333333333333,\"#9c179e\"],[0.4444444444444444,\"#bd3786\"],[0.5555555555555556,\"#d8576b\"],[0.6666666666666666,\"#ed7953\"],[0.7777777777777778,\"#fb9f3a\"],[0.8888888888888888,\"#fdca26\"],[1.0,\"#f0f921\"]],\"sequentialminus\":[[0.0,\"#0d0887\"],[0.1111111111111111,\"#46039f\"],[0.2222222222222222,\"#7201a8\"],[0.3333333333333333,\"#9c179e\"],[0.4444444444444444,\"#bd3786\"],[0.5555555555555556,\"#d8576b\"],[0.6666666666666666,\"#ed7953\"],[0.7777777777777778,\"#fb9f3a\"],[0.8888888888888888,\"#fdca26\"],[1.0,\"#f0f921\"]],\"diverging\":[[0,\"#8e0152\"],[0.1,\"#c51b7d\"],[0.2,\"#de77ae\"],[0.3,\"#f1b6da\"],[0.4,\"#fde0ef\"],[0.5,\"#f7f7f7\"],[0.6,\"#e6f5d0\"],[0.7,\"#b8e186\"],[0.8,\"#7fbc41\"],[0.9,\"#4d9221\"],[1,\"#276419\"]]},\"xaxis\":{\"gridcolor\":\"white\",\"linecolor\":\"white\",\"ticks\":\"\",\"title\":{\"standoff\":15},\"zerolinecolor\":\"white\",\"automargin\":true,\"zerolinewidth\":2},\"yaxis\":{\"gridcolor\":\"white\",\"linecolor\":\"white\",\"ticks\":\"\",\"title\":{\"standoff\":15},\"zerolinecolor\":\"white\",\"automargin\":true,\"zerolinewidth\":2},\"scene\":{\"xaxis\":{\"backgroundcolor\":\"#E5ECF6\",\"gridcolor\":\"white\",\"linecolor\":\"white\",\"showbackground\":true,\"ticks\":\"\",\"zerolinecolor\":\"white\",\"gridwidth\":2},\"yaxis\":{\"backgroundcolor\":\"#E5ECF6\",\"gridcolor\":\"white\",\"linecolor\":\"white\",\"showbackground\":true,\"ticks\":\"\",\"zerolinecolor\":\"white\",\"gridwidth\":2},\"zaxis\":{\"backgroundcolor\":\"#E5ECF6\",\"gridcolor\":\"white\",\"linecolor\":\"white\",\"showbackground\":true,\"ticks\":\"\",\"zerolinecolor\":\"white\",\"gridwidth\":2}},\"shapedefaults\":{\"line\":{\"color\":\"#2a3f5f\"}},\"annotationdefaults\":{\"arrowcolor\":\"#2a3f5f\",\"arrowhead\":0,\"arrowwidth\":1},\"geo\":{\"bgcolor\":\"white\",\"landcolor\":\"#E5ECF6\",\"subunitcolor\":\"white\",\"showland\":true,\"showlakes\":true,\"lakecolor\":\"white\"},\"title\":{\"x\":0.05},\"mapbox\":{\"style\":\"light\"}}},\"xaxis\":{\"anchor\":\"y\",\"domain\":[0.0,1.0],\"title\":{\"text\":\"Classes\"}},\"yaxis\":{\"anchor\":\"x\",\"domain\":[0.0,1.0],\"title\":{\"text\":\"Count\"}},\"legend\":{\"tracegroupgap\":0},\"margin\":{\"t\":60},\"barmode\":\"relative\",\"title\":{\"text\":\"Class Distribution\"},\"height\":500,\"width\":600},                        {\"responsive\": true}                    ).then(function(){\n",
              "                            \n",
              "var gd = document.getElementById('c64ca37c-6d80-44a6-9689-9a63a1d5516d');\n",
              "var x = new MutationObserver(function (mutations, observer) {{\n",
              "        var display = window.getComputedStyle(gd).display;\n",
              "        if (!display || display === 'none') {{\n",
              "            console.log([gd, 'removed!']);\n",
              "            Plotly.purge(gd);\n",
              "            observer.disconnect();\n",
              "        }}\n",
              "}});\n",
              "\n",
              "// Listen for the removal of the full notebook cells\n",
              "var notebookContainer = gd.closest('#notebook-container');\n",
              "if (notebookContainer) {{\n",
              "    x.observe(notebookContainer, {childList: true});\n",
              "}}\n",
              "\n",
              "// Listen for the clearing of the current output cell\n",
              "var outputEl = gd.closest('.output');\n",
              "if (outputEl) {{\n",
              "    x.observe(outputEl, {childList: true});\n",
              "}}\n",
              "\n",
              "                        })                };                            </script>        </div>\n",
              "</body>\n",
              "</html>"
            ]
          },
          "metadata": {}
        }
      ],
      "source": [
        "# Displaying distribution of classes\n",
        "fig = px.bar(x = counter.keys(), y = counter.values())\n",
        "\n",
        "fig.update_layout(\n",
        "    title = 'Class Distribution',\n",
        "    xaxis_title = 'Classes',\n",
        "    yaxis_title = 'Count', \n",
        "    height = 500, \n",
        "    width = 600\n",
        ")\n",
        "\n",
        "fig.show()"
      ]
    },
    {
      "cell_type": "code",
      "execution_count": 38,
      "metadata": {
        "colab": {
          "base_uri": "https://localhost:8080/",
          "height": 0
        },
        "id": "vCNu4M0j9cMi",
        "outputId": "e9533148-20a9-45cf-b97d-5781ca88675f"
      },
      "outputs": [
        {
          "output_type": "display_data",
          "data": {
            "text/html": [
              "<html>\n",
              "<head><meta charset=\"utf-8\" /></head>\n",
              "<body>\n",
              "    <div>            <script src=\"https://cdnjs.cloudflare.com/ajax/libs/mathjax/2.7.5/MathJax.js?config=TeX-AMS-MML_SVG\"></script><script type=\"text/javascript\">if (window.MathJax && window.MathJax.Hub && window.MathJax.Hub.Config) {window.MathJax.Hub.Config({SVG: {font: \"STIX-Web\"}});}</script>                <script type=\"text/javascript\">window.PlotlyConfig = {MathJaxConfig: 'local'};</script>\n",
              "        <script src=\"https://cdn.plot.ly/plotly-2.18.2.min.js\"></script>                <div id=\"628625e4-c0f2-4b4a-a5d3-96e6dc934248\" class=\"plotly-graph-div\" style=\"height:800px; width:1000px;\"></div>            <script type=\"text/javascript\">                                    window.PLOTLYENV=window.PLOTLYENV || {};                                    if (document.getElementById(\"628625e4-c0f2-4b4a-a5d3-96e6dc934248\")) {                    Plotly.newPlot(                        \"628625e4-c0f2-4b4a-a5d3-96e6dc934248\",                        [{\"name\":\"Age\",\"y\":[29,29,41,36,60,77,28,28,28,54,42,51,51,37,16,54,43,63,36,40,40,40,77,77,77,77,51,56,42,85,67,67,51,51,28,61,46,41,44,51,29,41,82,64,70,54,33,44,44,44,53,41,52,59,49,44,44,46,35,56,54,54,54,54,61,40,48,64,27,69,69,60,27,27,51,76,52,73,68,66,66,30,30,30,28,58,21,60,38,38,27,45,44,62,51,77,60,30,25,86,83,75,75,72,28,55,55,41,41,27,45,14,28,68,40,15,61,63,63,77,48,39,42,15,41,62,63,58,55,77,43,20,61,49,80,90,72,72,55,29,23,15,40,30,63,13,35,78,24,20,62,24,68,38,60,49,63,58,58,58,35,35,71,81,92,92,53,57,57,57,28,74,74,74,75,54,41,41,33,33,33,45,62,62,9,44,28,28,28,41,64,25,60,71,40,72,36,40,47,47,70,17,25,72,70,76,28,60,72,24,11,50,50,57,53,55,74,72,72,56,27,57,26,50,28,75,36,28,47,33,35,35,60,60,60,45,61,63,76,33,75,34,83,25,16,8,73,41,43,79,77,77,31,27,66,65,48,53,55,55,55,55,84,65,54,21,12,10,82,30,67,77,68,78,60,67,36,88,76,73,73,73,73,42,72,11,78,29,29,16,70,58,27,77,77,43,62,24,69,65,65,65,84,16,32,30,34,66,24,49,47,47,68,68,69,70,70,69,79,63,51,70,25,68,18,76,78,57,64,42,51,20,66,58,58,71,51,48,80,66,21,53,75,23,23,47,24,72,49,54,62,67,62,20,24,72,57,57,65,58,24,43,39,72,38,62,74,36,71,71,42,72,42,30,48,71,60,51,73,1,30,52,59,59,78,22,33,25,25,46,46,27,33,60,64,32,31,66,61,49,24,23,60,50,25,58,40,58,24,34,43,53,41,54,65,64,58,84,63,23,39,36,37,54,35,47,74,63,25,20,72,72,73,70,27,57,55,68,25,25,66,34,58,34,22,56,34,56,67,31,31,62,55,55,55,48,59,65,71,62,58,51,51,77,49,25,64,79,41,61,79,34,69,71,77,55,58,18,57,72,38,41,20,20,33,59,51,75,75,34,57,79,53,69,27,27,32,35,38,34,45,41,41,41,67,67,32,21,76,2,62,45,33,72,72,45,45,54,54,26,26,55,24,24,53,37,39,59,18,27,68,57,48,59,31,45,33,38,80,58,28,62,62,62,43,28,28,43,57,57,42,42,53,80,80,24,69,55,47,64,67,28,64,72,39,46,21,69,68,36,69,72,17,60,71,67,60,73,88,65,55,55,64,71,64,64,84,39,24,56,55,48,48,60,81,33,43,66,46,58,61,23,27,60,41,44,32,23,27,47,66,59,63,71,39,38,59,57,63,63,44,62,62,24,65,35,35,17,74,30,30,22,70,52,52,72,97,62,62,56,75,75,75,54,63,6,46,64,71,34,30,65,29,45,20,72,72,47,47,47,47,56,56,20,78,78,14,26,68,53,12,62,74,66,55,55,51,78,85,59,35,14,50,50,75,58,60,60,59,42,48,65,77,23,17,59,73,58,59,27,26,73,73,73,67,30,68,27,72,72,58,47,43,54,13,13,33,47,28,35,58,85,72,72,72,72,55,55,25,25,53,19,71,72,31,69,75,30,40,66,65,50,66,17,77,62,62,62,70,55,66,20,71,66,61,55,35,76,56,42,51,46,60,65,65,69,41,45,67,68,41,39,39,78,78,64,49,55,32,50,67,75,38,62,89,45,84,55,68,68,73,41,41,41,20,73,65,50,62,62,66,73,73,41,28,43,35,45,78,54,71,71,61,72,60,76,23,23,19,56,18,34,34,64,30,74,79,62,62,66,36,35,36,33,62,62,27,70,71,67,45,70,30,29,40,56,22,64,75,75,59,59,59,59,59,59,66,49,79,61,32,52,37,37,70,70,70,28,28,28,73,59,74,36,43,22,24,28,68,64,46,53,75,58,34,58,46,62,36,21,43,32,16,38,66,33,58,66,56,56,56,74,31,70,70,63,63,1,78,54,17,75,24,70,54,37,38,59,55,72,56,36,49,49,80,31,26,43,67,25,78,58,37,37,43,62,77,77,77,60,53,56,63,37,63,63,45,45,83,82,86,44,34,31,17,40,37,45,52,52,53,59,44,37,41,39,27,31,51,51,14,39,51,26,73,73,67,63,27,19,64,40,59,59,36,38,24,34,77,77,59,61,39,26,47,50,60,37,37,28,64,36,38,38,22,51,36,29,31,60,42,42,1,71,71,76,20,38,78,23,43,54,21,78,15,22,22,55,33,33,76,18,41,57,57,60,50,38,50,79,37,63,63,64,43,43,69,35,39,54,63,28,51,50,40,48,48,15,64,37,19,47,70,20,20,25,25,21,24,70,54,54,47,17,43,58,74,52,15,46,46,79,67,28,28,57,67,62,58,24,23,69,53,57,57,78,42,51,34,78,88,55,56,62,65,65,24,68,51,73,36,58,29,70,42,42,67,67,67,45,81,65,62,62,39,19,54,22,77,82,57,17,16,40,33,77,77,77,36,49,24,25,20,24,27,58,74,37,70,75,52,56,50,60,53,70,35,65,65,62,62,62,68,40,40,40,38,41,69,69,78,29,89,6,22,36,63,70,70,55,55,78,64,57,48,28,61,26,35,27,27,72,72,69,27,37,85,66,54,61,71,67,71,79,59,59,40,39,33,62,53,45,13,39,39,54,23,61,61,50,41,33,32,56,56,56,23,59,59,52,58,38,20,25,49,53,80,84,79,79,35,57,68,58,64,69,64,75,41,65,65,56,76,75,64,64,52,57,57,57,62,57,32,32,16,53,71,38,38,47,34,52,65,52,46,29,14,36,36,26,61,59,82,38,28,27,40,44,44,78,54,60,57,57,60,21,51,38,24,40,33,38,37,63,72,55,21,62,40,61,58,69,76,76,32,74,73,60,33,72,28,28,62,31,50,42,53,69,69,68,68,65,65,65,22,13,65,41,20,61,70,37,44,44,29,78,81,57,84,84,84,82,54,28,26,34,69,53,54,35,85,43,59,72,49,49,74,59,59,23,42,68,73,80,35,72,57,65,38,70,57,74,74,69,20,77,33,22,22,30,24,64,19,50,50,68,58,48,62,75,77,80,46,41,35,64,64,61,66,39,69,69,83,59,59,78,51,61,69,69,31,37,75,75,47,40,74,72,72,73,73,47,64,23,69,85,48,67,18,59,49,53,39,39,65,50,76,62,63,53,62,77,77,78,27,57,22,22,33,44,38,38,38,20,78,38,83,53,66,53,50,49,55,31,54,54,61,49,28,55,80,28,63,59,67,86,72,78,72,72,27,62,65,30,80,70,57,57,47,58,58,16,28,56,31,55,33,42,26,69,29,55,29,38,40,27,50,67,58,16,32,25,73,78,72,74,49,69,38,38,43,42,70,70,30,28,58,65,43,63,63,36,71,43,50,42,53,61,37,45,26,26,59,67,67,85,53,49,1,59,56,18,78,69,52,46,66,66,36,63,49,68,64,68,73,57,77,65,62,35,43,38,48,35,78,63,52,68,24,63,68,61,59,57,57,59,25,36,72,49,71,69,69,52,73,73,29,51,67,25,27,33,33,59,78,64,71,55,55,62,17,35,56,26,74,92,79,70,76,76,59,75,53,46,70,75,75,75,57,41,26,23,71,71,71,62,52,45,60,65,72,21,21,21,73,58,57,60,56,55,32,52,60,77,38,73,80,53,39,77,20,54,77,69,46,51,44,68,58,36,26,61,49,70,62,56,67,45,32,53,45,38,73,62,35,35,81,62,50,62,27,37,51,70,52,47,27,32,52,52,52,25,49,30,73,12,63,26,58,42,42,57,43,37,63,37,19,75,29,74,73,53,53,70,58,78,33,65,63,60,53,77,77,39,56,19,67,67,49,70,74,33,89,39,39,50,61,41,41,72,37,40,32,79,56,56,39,85,83,16,73,72,35,54,34,68,28,60,57,25,31,64,38,38,64,66,57,69,68,32,57,75,70,31,55,72,49,59,69,58,74,40,32,56,68,79,57,39,59,68,89,70,70,57,45,73,74,51,46,46,56,58,66,20,62,74,67,41,28,28,25,54,54,57,68,56,27,26,38,37,26,19,19,39,51,56,60,62,73,28,28,77,75,47,47,47,56,60,32,29,45,56,56,68,17,22,26,18,48,41,69,69,33,78,78,30,66,34,39,59,59,55,42,51,33,51,59,65,60,66,37,79,48,70,56,57,17,17,17,33,48,46,36,22,70,48,59,59,39,62,77,85,41,37,55,15,65,15,34,35,73,65,35,68,81,90,47,63,32,59,48,28,47,59,67,39,46,54,39,24,24,27,46,55,55,22,22,39,27,29,29,51,59,41,74,39,32,50,59,62,56,28,15,89,41,45,85,30,70,62,60,32,71,21,21,59,66,57,57,28,62,19,62,67,65,43,51,60,14,41,68,65,53,36,50,58,35,37,58,34,49,22,56,63,75,62,54,30,34,34,39,49,55,39,76,59,59,72,72,72,62,73,58,41,47,35,56,49,75,82,20,58,11,13,25,61,38,38,82,77,58,27,27,73,45,48,28,31,35,60,60,75,58,73,54,37,60,82,41,20,46,19,51,60,44,75,16,87,87,25,84,52,64,60,36,43,52,41,34,63,42,48,32,64,64,64,59,56,70,66,51,22,22,43,60,54,34,58,65,54,60,49,36,60,56,84,58,56,65,89,66,55,67,29,58,84,58,44,54,54,70,33,69,72,63,51,29,92,36,36,34,42,71,13,45,59,48,15,73,19,78,67,55,73,50,50,59,79,39,28,28,59,24,27,32,49,80,78,68,47,58,40,73,33,66,76,41,75,54,61,27,29,58,37,59,42,60,86,74,37,78,57,38,34,34,45,51,66,44,19,35,59,83,45,80,79,84,82,34,64,42,28,21,64,36,52,70,70,37,42,40,41,80,67,50,74,55,79,43,37,55,15,69,26,22,26,15,87,58,58,60,70,70,70,55,51,75,70,49,36,70,63,58,58,80,56,71,31,45,67,59,73,73,48,48,48,48,48,48,59,57,43,34,39,39,32,28,75,75,19,60,60,68,39,23,64,21,22,18,11,36,32,57,57,45,38,56,76,73,87,56,61,36,11,35,24,52,72,31,23,49,52,79,61,74,63,68,65,68,20,34,46,37,25,58,29,28,45,58,27,36,36,70,59,49,64,54,54,28,69,73,64,17,81,61,65,78,65,49,58,66,68,50,47,64,64,76,79,66,59,59,24,65,60,44,44,44,23,18,40,82,59,59,26,26,62,23,74,52,39,63,77,76,52,55,53,67,74,70,51,36,41,15,15,70,83,54,72,69,41,41,33,33,33,72,80,80,64,50,70,70,73,73,58,73,66,37,71,32,54,49,78,19,19,66,50,38,75,42,69,81,43,65,19,50,70,62,71,55,55,72,51,17,57,30,16,62,43,43,33,54,66,38,38,37,65,26,61,51,25,77,57,66,63,27,58,58,39,50,58,71,70,61,37,70,26,26,70,70,41,58,48,32,67,35,25,72,72,60,65,75,36,64,78,65,74,66,59,64,37,37,15,15,56,67,40,67,28,40,41,28,43,18,73,66,43,48,37,28,22,63,65,63,74,73,73,61,89,89,49,83,55,22,69,65,65,48,29,31,59,70,88,62,34,52,34,58,62,20,36,20,27,88,43,67,23,53,21,32,30,35,35,35,39,69,69,31,31,71,44,44,55,51,75,31,53,53,53,53,82,26,66,80,73,81,78,40,57,80,48,71,58,78,78,56,75,60,73,59,41,51,45,2,61,61,56,63,65,46,20,48,48,36,48,34,70,55,34,39,75,75,45,45,53,50,66,72,56,65,57,56,63,53,40,28,15,65,61,61,29,68,63,70,30,53,28,28,71,72,25,42,82,21,54,71,62,56,76,73,73,29,39,39,59,22,71,71,25,54,64,56,69,35,78,61,29,20,64,56,70,61,25,30,73,73,29,29,76,79,39,36,23,58,69,29,59,59,59,56,70,51,72,58,67,72,84,69,73,28,1,1,73,73,44,88,72,72,69,46,46,53,43,39,28,31,55,54,48,43,46,49,49,81,56,56,23,23,79,32,72,70,59,61,46,23,34,34,64,18,55,77,83,73,77,61,63,77,77,47,72,69,31,49,42,25,78,78,52,52,30,78,78,59,62,41,40,53,53,63,50,23,37,49,28,54,23,23,52,64,70,34,25,66,71,70,33,33,71,16,45,8,19,33,35,81,68,23,47,74,19,34,37,62,34,34,48,80,45,47,47,62,80,26,66,24,56,66,23,79,54,75,51,63,41,41,27,61,36,70,62,64,37,37,47,78,71,66,46,87,61,76,47,56,35,57,65,18,38,52,52,36,53,40,71,17,50,41,56,34,34,77,60,62,14,63,32,28,30,20,63,67,69,69,74,38,57,32,59,88,63,26,26,48,63,58,58,58,43,22,75,82,60,79,25,54,60,34,23,25,56,42,31,62,33,61,75,61,68,68,54,41,30,67,38,44,44,35,48,39,60,42,61,29,39,24,24,32,60,60,38,33,77,33,69,69,55,54,22,31,77,64,51,77,53,43,83,46,75,25,56,85,15,26,34,33,33,31,68,68,69,83,83,31,41,91,24,30,38,20,20,57,27,64,61,61,61,53,54,40,77,77,25,25,39,15,15,63,58,62,70,38,46,49,70,59,59,65,50,50,19,21,36,50,32,32,40,40,55,61,52,44,79,54,37,40,35,64,53,84,49,68,62,26,67,74,39,59,38,64,69,40,73,35,48,35,72,90,76,85,38,24,34,59,44,21,26,1,1,1,51,51,37,73,73,38,59,60,61,37,39,39,71,75,38,64,60,70,20,20,74,65,60,80,75,35,24,60,60,66,58,56,56,56,44,25,59,14,48,64,55,44,25,25,54,25,71,65,21,48,82,57,59,84,60,16,47,47,66,27,55,88,66,38,34,56,51,76,19,72,28,71,53,45,18,76,77,44,55,64,40,44,68,67,72,39,83,49,40,68,70,66,53,55,57,63,76,76,76,50,15,43,25,25,37,67,24,66,77,58,38,43,43,71,40,58,35,67,33,42,32,42,56,28,18,75,68,68,83,83,83,23,48,79,70,22,68,32,37,66,23,23,23,42,42,55,61,62,62,64,27,30,60,53,53,55,61,83,27,43,28,52,68,23,27,76,45,45,55,22,36,35,35,34,34,94,84,21,29,25,28,28,68,74,14,52,52,22,60,69,48,75,52,45,57,57,23,51,56,38,67,28,28,45,45,77,56,39,28,11,60,37,13,56,62,77,29,65,44,57,76,69,70,70,62,50,28,24,62,62,68,60,44,13,84,75,71,71,51,33,72,27,25,46,46,31,62,67,48,65,67,60,78,79,66,29,37,37,48,60,41,19,50,59,63,22,22,21,27,80,36,52,65,26,83,55,79,45,33,19,83,83,68,14,59,53,22,44,44,46,74,39,67,72,68,48,22,45,61,71,57,34,40,32,47,47,61,49,70,78,53,54,42,68,68,68,24,75,17,63,71,62,71,78,90,50,68,66,66,44,38,34,25,49,50,50,68,71,75,37,39,18,64,70,44,69,63,60,41,54,60,63,48,21,59,61,44,16,16,81,70,34,57,33,76,67,78,55,55,79,35,35,35,50,50,78,78,58,58,61,39,87,63,63,63,62,56,60,37,19,76,54,74,66,22,39,62,69,72,67,63,69,24,36,61,60,21,40,46,45,41,15,61,73,46,61,71,79,24,67,67,44,57,31,53,50,28,25,45,22,64,33,71,67,27,65,81,38,51,65,62,78,30,67,35,35,35,65,25,37,67,46,79,55,44,24,37,47,62,73,18,59,53,51,37,43,32,46,59,63,33,33,52,52,52,53,53,53,71,50,61,40,38,37,73,73,55,46,16,52,46,65,74,74,74,74,42,67,27,38,68,61,44,55,47,48,68,20,20,59,68,86,66,73,76,39,66,77,49,29,23,78,24,51,26,61,22,72,26,74,49,65,65,65,56,81,28,63,68,58,64,68,82,62,62,67,24,24,28,47,37,74,59,69,31,37,62,71,27,25,62,58,51,72,78,37,37,80,67,70,30,71,23,65,68,35,72,82,76,76,73,68,68,59,61,14,59,71,52,31,63,71,69,33,58,59,73,65,50,45,34,55,49,24,67,58,60,28,72,35,56,29,27,39,60,60,60,58,54,72,20,32,53,23,23,23,37,67,57,84,42,58,24,83,2,55,26,75,63,50,69,63,74,61,27,27,71,60,53,53,34,34,81,54,37,29,61,60,63,85,81,77,22,56,47,67,59,51,41,51,77,26,55,45,35,34,62,62,74,57,41,53,57,54,47,54,75,75,35,42,23,50,48,70,62,73,72,47,47,38,25,51,51,54,27,19,19,61,61,57,57,25,25,18,25,31,61,58,52,52,35,19,2,69,84,69,19,62,26,73,51,30,36,59,33,66,70,57,23,42,16,50,57,24,19,52,38,38,61,68,68,68,54,54,60,29,67,74,57,26,48,48,48,84,19,19,59,69,64,64,79,79,42,20,40,73,67,28,61,44,51,74,26,54,54,63,18,62,59,59,68,84,53,72,57,35,68,55,28,52,42,78,39,50,52,24,74,57,23,37,60,79,67,70,62,40,63,33,41,74,72,41,58,79,26,79,27,19,76,30,74,48,48,24,30,76,76,36,61,7,65,73,13,56,14,14,15,36,36,68,29,80,55,36,42,42,44,44,72,79,44,37,42,67,63,63,63,49,40,33,70,90,78,46,60,6,7,34,55,27,82,21,31,71,71,49,40,70,70,36,36,16,16,82,55,46,25,65,33,65,72,60,52,52,59,69,71,7,60,29,23,20,66,69,21,62,61,50,53,37,63,60,59,78,67,60,60,73,73,61,47,47,69,13,25,60,84,28,87,87,76,29,72,46,48,46,77,77,25,29,63,34,22,84,31,41,60,55,63,35,46,65,75,40,85,59,84,71,90,74,72,46,65,65,71,52,54,32,63,62,56,72,72,63,75,75,30,75,47,38,61,61,41,60,52,52,46,66,42,67,16,16,30,86,39,19,68,58,77,70,68,69,39,30,42,69,61,61,58,56,47,26,44,37,29,91,73,64,45,47,65,65,65,50,63,31,27,8,42,61,61,41,71,63,54,64,64,64,27,27,27,62,66,59,65,76,63,63,15,65,75,73,14,27,27,31,31,34,42,39,83,49,49,36,63,76,69,70,83,31,34,60,60,57,57,28,18,18,25,83,83,83,83,83,47,60,58,84,37,80,65,55,28,28,53,44,41,42,57,57,27,72,81,39,49,49,40,28,57,65,34,30,44,73,69,72,65,36,47,48,27,55,61,23,73,68,24,14,31,22,22,27,40,49,39,39,64,52,53,47,13,81,74,55,55,29,29,22,28,64,52,52,49,63,65,72,42,74,24,68,65,25,51,63,42,54,40,40,40,57,60,58,55,70,68,28,60,34,77,74,59,59,65,23,79,79,25,45,37,23,23,70,47,44,31,31,75,72,63,27,77,47,46,42,50,19,53,28,28,60,32,64,19,21,35,69,76,18,51,26,36,61,30,55,42,45,89,54,26,26,75,43,70,35,41,54,45,41,41,53,52,63,88,38,38,33,68,23,60,46,79,74,74,66,17,31,45,56,61,41,68,59,57,74,61,38,94,50,18,22,53,38,69,29,35,39,73,63,41,64,67,29,35,66,62,60,57,36,57,54,72,58,72,38,38,38,37,20,53,56,68,29,48,58,69,20,60,83,38,38,38,61,30,47,21,21,21,35,37,37,60,19,67,59,30,21,21,41,41,69,50,75,30,33,55,62,62,62,86,36,72,72,41,61,50,63,45,19,52,39,36,36,67,78,76,70,44,47,37,55,55,55,55,55,46,52,83,70,39,29,30,52,47,29,35,60,33,16,51,46,55,54,75,80,18,63,55,47,58,50,50,42,48,58,29,36,37,37,53,73,47,21,31,60,26,56,51,51,46,76,55,70,47,58,25,60,60,26,39,73,74,40,40,68,35,75,25,50,53,57,18,18,18,18,28,73,25,45,55,72,42,55,71,45,56,42,47,47,29,57,20,55,25,25,71,26,58,58,57,35,53,35,60,38,38,48,45,64,64,57,55,55,72,39,45,54,46,33,70,38,27,27,58,58,82,33,37,55,72,77,62,53,69,76,72,38,30,68,31,35,35,54,43,16,16,16,45,32,36,37,26,30,50,59,72,77,41,88,64,46,71,58,68,36,75,75,16,64,61,61,40,71,68,65,70,70,34,74,55,53,70,34,34,62,62,58,76,68,79,45,68,29,32,35,21,22,22,39,77,23,45,53,79,57,61,61,14,57,55,59,60,73,60,56,38,61,42,64,81,21,75,64,23,39,45,36,36,51,29,76,70,87,63,63,63,77,55,40,16,28,39,26,25,76,32,61,76,27,78,69,78,63,62,67,67,57,16,61,71,70,42,54,66,56,85,61,38,43,46,65,42,42,48,69,40,40,40,24,23,62,76,31,38,28,28,68,43,43,44,44,73,76,75,41,51,40,40,20,20,57,62,15,44,66,47,52,43,58,58,91,33,49,63,57,73,65,65,85,63,25,39,85,31,49,22,49,65,75,60,71,71,31,48,56,56,56,39,58,42,72,74,71,75,55,57,57,49,82,40,73,74,56,47,63,77,19,19,62,56,18,63,81,71,58,57,35,41,74,61,64,29,35,35,66,51,16,16,30,43,14,42,60,47,36,74,24,24,24,50,75,20,66,28,72,76,58,57,57,56,15,70,32,42,71,55,69,60,48,41,64,29,51,26,69,64,64,32,32,32,72,32,32,42,41,41,43,68,46,40,40,40,72,33,71,58,43,20,37,35,83,60,81,39,58,67,42,75,86,72,47,30,45,70,66,66,29,33,51,50,70,61,80,37,45,45,53,35,72,63,32,61,52,20,57,67,21,21,21,55,75,72,48,66,19,72,22,87,55,68,43,34,34,34,28,83,51,53,63,16,41,62,60,40,82,30,47,30,61,61,61,43,35,35,45,64,76,27,73,54,59,59,52,28,26,74,19,35,46,56,40,54,65,42,44,76,76,23,60,28,62,62,76,67,59,63,70,41,73,53,73,27,34,49,60,60,11,64,80,19,19,77,73,60,77,59,74,36,18,50,43,43,71,70,50,48,43,70,4,73,49,63,35,40,69,69,69,29,29,66,24,65,30,66,38,38,38,32,58,62,42,56,50,55,66,23,23,72,66,60,45,43,73,55,51,23,45,45,68,58,39,68,34,47,77,54,54,57,90,86,65,40,29,32,74,87,64,41,41,25,29,62,82,60,34,57,30,34,77,77,77,37,51,60,27,38,74,40,61,56,33,33,65,51,38,61,72,67,65,73,35,47,30,74,74,25,64,65,69,57,19,49,71,77,65,36,13,57,22,53,42,66,80,54,60,22,80,73,76,59,53,53,80,71,62,75,62,51,51,52,42,79,79,72,16,50,48,45,42,61,42,76,22,22,46,78,10,69,69,75,31,25,25,44,44,75,28,28,28,44,24,57,58,31,31,31,31,39,39,39,46,48,46,76,76,29,29,32,32,67,41,56,38,37,81,55,66,66,65,54,59,32,54,70,70,56,78,46,19,19,19,49,62,53,41,72,42,65,61,60,57,36,32,78,29,19,73,39,46,87,29,12,61,49,49,49,25,38,38,73,38,61,61,20,69,28,52,52,31,37,33,59,57,57,22,32,35,78,78,36,69,38,43,43,68,65,55,43,43,78,75,42,76,38,38,38,54,62,73,73,70,37,52,80,70,60,28,34,34,34,47,62,51,56,83,67,36,55,47,51,64,64,69,56,56,69,39,46,46,69,63,63,63,31,75,75,89,50,28,72,62,39,69,25,70,67,13,13,73,77,36,34,75,77,73,71,57,57,86,86,60,66,77,72,41,35,46,61,62,56,28,84,66,74,63,80,32,60,33,37,42,22,67,52,54,74,56,28,38,63,57,44,13,55,58,52,52,68,24,22,78,84,76,29,51,57,83,33,56,49,77,49,29,29,64,65,37,30,30,30,35,58,59,66,62,62,53,46,37,37,51,46,46,30,30,74,55,54,25,55,55,82,77,74,24,32,55,63,84,84,53,83,42,56,75,32,32,32,32,48,17,68,59,59,59,62,58,59,21,15,15,15,15,26,58,20,20,64,66,73,73,81,24,18,32,83,58,46,61,76,40,40,40,63,45,72,76,53,33,26,26,28,47,38,27,20,61,52,52,65,76,69,69,87,59,55,43,57,58,36,70,26,56,78,47,47,66,34,67,75,75,19,40,20,60,36,79,62,66,70,69,64,38,66,39,81,52,45,33,48,42,40,46,63,64,56,60,39,20,62,39,74,74,60,25,46,29,19,19,58,72,68,36,26,57,57,57,57,59,52,61,74,74,45,33,54,41,63,64,73,73,36,42,58,46,74,58,73,34,69,42,90,53,52,62,72,69,42,58,58,34,46,51,57,35,78,60,63,68,72,21,45,81,74,61,50,40,28,59,76,76,40,80,65,76,60,64,46,46,32,75,75,46,38,43,39,66,84,84,35,58,34,44,35,65,65,44,66,42,58,20,18,41,38,66,69,60,66,66,66,51,47,66,74,17,69,42,2,79,85,69,49,46,42,42,73,37,46,33,37,82,52,71,45,30,30,66,54,74,24,63,62,24,26,78,73,34,76,46,42,28,67,73,73,78,54,82,72,48,47,34,33,25,69,75,60,27,47,56,54,54,29,29,21,34,80,63,61,55,44,22,67,78,71,34,61,68,55,24,17,28,78,35,66,76,26,46,64,29,15,65,56,35,81,72,52,34,62,17,61,61,3,3,15,71,87,83,68,49,39,68,70,49,63,21,71,71,61,13,16,75,60,49,49,83,58,58,30,64,42,29,37,31,19,59,61,30,73,75,60,74,63,15,47,47,56,54,58,61,70,47,82,58,42,28,63,36,63,45,49,80,59,37,37,72,58,26,76,33,33,58,53,60,86,76,68,60,60,34,22,61,61,31,64,28,83,30,48,68,61,33,56,35,48,76,44,64,78,24,37,56,81,35,61,72,72,72,57,34,41,24,47,54,71,65,58,49,76,38,37,17,38,38,34,60,51,74,79,63,35,33,33,48,56,25,42,34,56,56,17,36,45,55,52,52,28,39,22,62,36,83,76,55,77,61,44,42,38,80,47,57,68,27,57,77,36,73,28,47,72,19,55,57,71,21,64,71,75,55,53,42,25,49,24,27,44,52,46,46,39,34,69,81,59,54,23,74,56,56,67,30,35,21,62,48,58,45,76,24,49,15,23,74,37,43,51,51,46,84,53,26,29,27,58,74,70,52,29,49,60,23,75,21,25,20,49,74,51,48,72,43,37,67,79,38,74,74,49,72,57,23,37,41,31,22,56,19,46,33,73,78,68,62,68,29,46,46,62,72,55,67,53,57,25,66,59,62,41,76,53,22,68,68,59,66,45,41,65,37,32,57,15,97,97,72,72,72,56,70,41,41,49,49,55,60,60,32,43,26,56,56,65,53,76,67,47,49,83,70,62,75,71,41,42,47,47,51,70,43,57,38,53,75,81,90,86,38,30,38,47,47,34,34,47,48,53,53,73,67,78,79,70,56,62,69,30,16,61,67,56,52,28,52,60,71,57,61,34,29,60,73,65,53,48,61,62,32,84,78,59,72,72,76,49,23,26,26,84,84,84,29,29,26,68,79,56,49,62,28,65,53,67,71,71,54,39,22,69,68,75,59,1,57,77,64,80,30,49,47,29,42,81,70,55,81,44,44,62,87,32,31,56,35,37,24,24,24,55,62,54,46,33,67,48,29,29,31,34,72,75,24,34,15,15,15,70,76,81,84,17,77,69,52,66,73,57,57,57,42,22,54,53,51,70,71,24,62,69,65,56,67,60,58,57,55,54,75,66,85,82,70,66,70,54,73,13,32,53,51,60,50,38,38,55,32,74,74,25,25,52,34,36,70,69,61,11,78,51,79,69,48,61,28,52,40,57,33,60,56,65,38,45,67,15,71,14,79,57,76,26,28,47,58,41,77,56,73,71,74,70,65,18,61,84,41,51,77,20,53,58,59,65,54,62,35,79,23,73,77,62,49,54,69,53,53,61,66,40,23,32,39,38,38,72,54,41,37,27,71,71,77,62,56,37,64,56,39,80,17,19,34,70,66,66,60,76,36,62,34,34,24,24,69,71,80,58,58,72,47,44,73,58,58,62,65,37,66,39,68,61,66,74,62,51,42,77,68,91,87,47,71,49,69,32,32,88,78,21,48,42,41,55,55,19,26,33,66,54,72,36,65,28,72,57,68,41,53,47,66,65,65,80,28,46,68,61,85,61,23,78,86,61,70,20,55,26,59,54,28,30,35,78,29,69,28,39,49,39,46,40,40,69,57,32,76,76,64,73,73,14,44,29,29,61,61,73,19,75,32,57,54,48,41,62,66,75,75,58,30,62,34,69,48,48,78,66,66,69,74,34,33,30,76,76,75,58,45,42,50,60,82,58,52,49,23,66,40,79,29,48,48,49,39,44,61,46,19,83,37,59,59,31,48,39,68,62,54,54,44,33,32,29,43,61,23,56,70,69,39,74,81,83,72,77,58,62,33,73,73,67,71,68,74,53,74,66,78,76,32,66,23,62,50,54,29,59,60,76,48,23,93,93,63,51,76,70,77,61,39,76,33,66,43,21,66,28,72,75,67,26,81,43,45,68,60,30,47,43,43,66,45,1,33,56,56,56,73,44,55,50,74,51,29,57,59,22,55,33,34,39,49,49,81,54,31,76,74,18,18,73,49,62,76,45,45,76,35,38,64,39,58,38,29,46,58,1,55,33,66,66,21,66,63,32,58,31,87,82,64,25,25,44,44,86,42,73,69,22,70,28,38,35,35,52,42,63,63,71,16,19,61,54,65,56,56,76,48,71,54,76,70,51,47,28,54,53,59,61,70,48,75,51,51,64,38,79,79,81,74,16,66,49,37,27,26,26,13,77,72,72,72,72,39,39,75,75,72,29,74,23,44,40,79,61,84,64,37,71,76,76,87,70,34,34,21,66,84,79,67,76,87,27,32,79,44,81,62,75,41,41,32,50,41,63,61,22,67,46,45,36,60,60,56,40,63,72,72,2,35,65,62,35,24,34,34,34,69,52,36,62,48,67,64,22,59,74,26,24,66,30,80,49,39,48,37,22,93,76,44,31,71,71,81,77,66,56,10,49,31,31,14,66,46,71,43,30,30,62,25,47,33,58,58,24,26,45,53,49,33,74,69,59,67,83,83,49,49,82,59,43,24,54,81,86,49,65,65,65,41,42,59,50,63,54,28,78,76,46,75,75,75,49,67,79,35,60,69,69,78,73,85,74,65,82,68,47,68,67,67,67,65,48,56,43,74,53,62,44,46,45,67,54,62,58,60,38,18,57,30,52,64,25,75,28,59,34,67,67,33,66,35,35,17,59,39,54,27,27,27,39,48,17,62,63,30,15,19,48,78,42,46,37,71,56,75,64,47,74,83,63,67,60,44,71,86,86,24,48,65,77,77,50,68,70,64,70,74,24,69,42,50,45,72,69,51,45,72,19,55,2,57,42,42,42,26,26,64,32,49,65,65,49,83,83,64,79,21,21,49,54,60,60,74,48,48,41,41,47,25,67,28,45,41,54,48,69,62,46,75,41,60,72,59,76,64,36,67,70,61,72,69,69,69,53,68,42,56,59,52,21,60,68,67,58,66,66,62,85,33,40,23,80,53,74,67,56,56,70,74,67,64,64,64,27,27,60,62,51,82,75,71,57,70,59,59,91,62,76,49,63,64,64,64,64,64,51,44,18,18,91,45,39,36,37,39,69,36,51,54,59,59,62,62,75,75,50,42,62,46,30,56,34,63,60,20,24,60,58,62,33,71,63,76,54,54,72,70,21,61,75,81,72,64,64,83,70,70,31,21,25,79,63,66,80,43,55,72,72,72,19,77,37,69,57,59,67,67,59,35,31,31,40,54,54,39,30,76,42,74,74,13,51,5,59,29,79,25,54,61,61,40,76,53,28,43,55,45,31,62,62,23,52,20,68,63,27,30,13,35,44,47,30,17,79,65,55,66,38,38,58,28,48,60,60,52,56,25,47,47,66,33,42,32,45,27,52,57,65,57,39,85,23,52,76,36,60,30,37,35,53,39,66,69,76,76,56,58,37,61,59,71,32,80,80,45,70,58,55,49,72,59,71,41,59,61,34,57,39,39,21,28,27,60,26,53,20,37,54,82,78,78,78,23,15,31,58,19,28,60,77,61,53,66,66,66,56,56,76,58,51,51,65,35,69,59,59,59,41,41,51,42,26,52,25,84,84,72,65,62,62,80,52,52,18,74,38,66,63,70,62,60,66,71,31,69,44,59,47,67,42,15,56,46,46,23,70,45,35,57,88,49,82,23,17,36,47,74,69,39,55,45,57,27,26,26,66,66,81,39,74,58,95,66,45,33,65,39,36,60,60,42,46,58,81,59,82,56,72,72,33,30,69,69,75,64,64,64,65,65,73,56,45,70,79,59,51,51,35,73,65,75,61,66,82,60,60,65,62,49,57,47,51,48,22,76,61,61,64,34,53,57,57,69,65,64,25,31,63,83,51,73,73,63,17,57,66,69,43,51,51,39,55,58,87,27,41,54,54,38,76,41,68,73,79,84,80,80,73,73,73,68,30,54,23,67,84,43,36,80,79,44,44,37,75,30,30,60,24,15,64,54,56,40,48,57,56,71,63,57,10,22,41,52,67,40,42,80,80,79,15,75,43,62,62,75,42,65,65,31,31,57,74,47,26,42,76,69,63,42,15,48,63,80,40,16,35,75,62,84,80,16,54,78,72,72,46,69,40,33,70,56,22,47,31],\"type\":\"box\",\"xaxis\":\"x\",\"yaxis\":\"y\"},{\"name\":\"TSH\",\"y\":[0.3,1.6,0.0,0.0,0.0,0.0,0.7,1.2,1.9,1.9,1.0,0.5,0.7,0.0,2.6,1.0,0.0,68.0,1.5,0.0,1.2,5.9,0.05,4.0,0.4,0.8,0.05,0.2,3.0,0.05,0.2,0.05,1.2,0.3,0.0,1.9,0.0,140.0,0.6,1.5,1.7,0.05,0.4,2.5,0.05,0.0,0.4,0.0,0.4,1.0,0.7,0.2,0.2,2.1,1.2,1.1,0.8,0.0,0.0,0.05,0.05,0.7,0.8,0.05,9.799999,0.05,3.7,0.4,0.05,0.1,0.35,0.35,90.0,1.3,1.2,0.5,0.05,0.0,2.7,1.6,2.9,1.7,0.25,0.6,0.2,5.8,0.2,0.35,0.0,0.0,0.2,0.8,1.3,0.8,1.7,2.0,0.2,0.2,0.9,0.1,0.7,0.4,0.2,0.1,3.2,0.0,1.0,0.0,0.1,0.0,0.0,0.3,0.8,1.1,0.5,1.2,0.5,0.1,1.2,0.2,0.1,0.0,0.2,0.5,0.5,1.8,0.05,0.0,0.05,0.2,0.2,1.2,5.0,0.0,0.05,0.9,0.9,0.3,0.2,0.5,0.2,0.0,70.0,0.7,0.3,4.2,0.25,0.25,1.3,0.0,0.9,0.9,0.0,0.0,0.25,2.2,1.2,0.25,0.7,0.6,0.25,0.25,0.25,0.25,0.8,1.6,0.25,0.25,1.7,0.1,0.1,0.1,1.9,0.1,1.1,0.05,0.1,0.1,0.0,0.1,0.5,2.0,0.3,0.05,0.05,8.4,3.7,0.0,4.1,0.8,0.05,0.8,0.05,1.0,1.3,0.05,3.3,0.4,80.0,176.0,0.8,1.5,0.05,30.0,1.2,0.05,1.2,0.05,11.0,0.7,0.1,3.3,0.1,0.4,0.1,0.1,0.1,71.0,0.6,0.1,9.099999,0.1,1.2,10.7,1.9,4.9,0.2,0.1,0.1,0.1,1.7,3.4,0.9,0.1,1.3,1.3,0.1,0.1,1.83,4.6,0.1,1.4,0.2,1.2,1.2,0.7,0.1,4.2,1.1,0.2,46.0,1.7,0.8,18.0,0.2,170.0,0.2,0.2,1.8,4.2,0.9,0.6,0.2,145.0,1.0,0.0,0.0,1.5,0.1,0.1,1.1,0.05,0.4,1.7,0.1,0.1,0.0,7.9,2.2,1.3,0.1,19.0,1.5,48.0,25.0,0.1,1.4,7.3,0.9,0.1,0.1,0.3,0.3,0.3,6.7,153.0,0.3,0.3,2.6,35.0,0.3,0.8,1.1,0.3,0.3,0.3,0.3,0.8,0.3,5.9,1.4,0.0,1.0,4.0,2.3,0.2,1.0,0.8,0.7,0.1,0.2,3.0,9.2,0.2,4.6,1.6,0.0,2.7,0.9,0.0,5.5,0.1,0.1,1.3,30.0,0.1,1.3,0.1,2.6,0.1,0.1,15.299999,0.15,0.1,0.15,0.1,0.1,10.299999,0.7,3.0,1.1,0.1,0.0,0.1,430.0,0.1,4.1,0.6,213.0,0.0,37.0,216.0,2.3,4.0,0.7,0.8,4.3,0.1,0.0,1.7,0.1,0.1,0.3,0.1,0.1,0.6,0.1,0.1,1.9,0.1,0.1,2.4,47.0,2.1,1.6,1.6,0.25,4.0,0.25,0.0,8.2,0.25,0.0,0.25,0.8,17.4,0.25,3.2,0.25,2.7,0.0,0.0,0.6,0.8,6.7,0.1,0.0,0.1,0.0,0.0,0.1,0.7,1.4,0.9,2.0,0.1,0.1,0.1,0.1,0.4,0.3,0.1,0.1,0.1,14.0,0.5,1.0,0.1,0.8,0.1,3.1,0.6,2.1,1.3,0.15,0.15,1.9,2.2,1.1,3.2,0.7,0.0,0.15,0.0,0.0,1.1,1.2,0.0,5.5,0.5,2.0,1.8,0.0,2.1,0.6,0.1,1.3,0.1,0.1,0.0,0.1,1.5,2.2,0.15,0.5,0.0,0.1,3.0,0.0,0.6,1.5,0.1,0.5,0.05,0.7,0.7,0.1,0.0,0.0,0.1,0.6,0.1,1.3,0.4,0.5,1.0,0.3,2.1,1.9,0.05,6.7,1.3,1.3,0.4,5.5,1.7,2.2,35.0,0.3,0.0,0.0,1.8,0.0,0.8,0.9,1.3,0.0,0.0,4.5,1.5,65.0,1.8,1.0,1.6,0.5,1.4,1.9,1.4,0.9,1.8,1.9,0.0,0.9,2.1,2.0,3.0,2.5,0.0,0.0,30.0,0.15,0.8,0.0,1.0,0.0,0.0,0.0,0.9,0.5,2.5,1.5,0.1,0.0,0.0,2.7,0.9,0.1,1.9,4.4,2.3,0.8,2.9,1.8,0.7,0.7,0.7,0.5,1.4,1.4,1.6,1.5,0.1,2.6,0.1,0.7,0.1,0.9,1.3,0.6,0.6,0.1,1.6,1.1,0.7,0.8,0.0,0.0,2.0,5.5,1.2,24.0,11.4,0.9,3.1,5.2,1.2,3.3,0.0,0.0,0.6,0.0,0.7,0.4,1.4,0.1,0.1,1.3,11.0,0.9,1.1,2.4,0.8,5.6,0.9,0.4,0.3,0.9,0.6,3.3,1.3,0.3,0.8,2.5,0.2,0.2,0.25,0.2,1.8,1.4,0.7,3.3,0.2,0.2,400.0,0.2,1.0,0.2,2.1,0.4,1.0,0.4,1.5,0.8,0.0,1.1,1.4,3.2,80.0,260.0,0.4,1.5,1.0,1.0,0.4,0.0,4.9,0.0,0.4,2.7,3.0,0.4,0.4,0.0,0.4,2.0,0.3,0.05,1.2,0.2,1.4,8.0,0.0,1.0,0.4,1.2,0.8,0.0,6.6,1.6,8.5,0.0,5.1,0.5,1.2,1.7,0.2,2.4,0.05,138.0,1.4,0.0,0.0,0.0,0.0,0.3,1.5,0.5,5.1,0.0,0.1,0.0,1.9,9.799999,0.1,1.6,0.0,2.0,2.1,0.1,1.4,0.0,3.3,2.4,0.9,0.1,1.2,56.0,2.7,0.1,0.1,8.0,0.0,0.0,0.4,1.4,2.2,2.2,1.0,0.15,0.9,0.15,44.0,4.0,1.1,0.15,1.4,0.15,0.15,1.0,0.15,1.3,0.15,3.7,0.7,0.7,0.15,1.0,0.15,0.15,2.8,10.0,0.25,1.2,2.1,1.4,54.0,0.25,2.7,1.6,0.25,3.1,1.1,1.2,0.25,0.25,2.3,0.1,0.0,0.0,6.6,0.4,0.7,0.1,5.9,2.3,0.0,3.9,0.0,0.1,5.1,0.1,0.0,1.6,2.9,0.1,0.4,0.7,0.0,150.0,0.1,0.1,0.7,0.1,0.1,0.0,3.5,0.6,4.3,0.1,0.9,2.7,0.8,0.1,53.0,0.0,3.3,0.7,0.0,1.4,31.0,0.15,2.6,0.15,0.15,0.8,1.6,0.25,0.0,1.3,0.65,0.25,2.6,0.25,1.3,0.25,0.25,0.25,0.8,0.25,0.25,0.25,0.9,0.9,1.3,0.25,0.25,200.0,0.25,1.4,0.25,0.25,0.0,0.1,0.0,0.15,0.0,0.15,5.9,0.5,0.5,0.25,3.2,0.15,0.5,0.7,0.0,0.15,3.4,0.2,4.0,0.15,0.15,0.15,0.15,0.5,0.0,0.15,0.7,19.0,0.1,0.1,0.1,0.0,2.3,6.3,0.15,0.15,0.1,0.9,0.6,3.1,0.1,0.7,0.1,0.5,0.5,0.0,0.1,2.5,0.2,0.6,0.4,0.7,0.1,0.15,0.15,0.0,0.0,0.0,0.2,16.0,1.4,0.15,0.15,2.5,0.8,0.15,0.15,0.15,0.0,0.15,0.15,0.15,0.15,3.8,3.0,0.9,0.8,0.15,0.0,0.0,0.15,0.15,7.5,0.15,0.15,0.15,0.15,0.15,0.15,0.1,0.1,0.1,0.0,0.4,14.299999,0.6,3.7,0.1,0.1,0.1,0.1,0.0,0.0,0.1,4.6,7.3,0.9,0.1,1.5,0.6,0.1,0.6,0.1,0.1,5.5,0.0,2.1,0.1,0.1,0.6,0.0,49.0,0.3,0.3,0.0,0.9,0.1,4.6,1.8,2.8,3.8,0.8,1.1,0.1,0.1,1.5,0.3,2.5,0.1,0.0,0.2,0.1,5.5,0.1,2.5,0.1,0.1,2.3,6.0,0.8,2.0,0.1,0.1,2.0,0.6,0.1,0.0,5.0,3.4,0.0,0.0,0.0,0.9,0.7,0.0,4.0,0.7,1.5,1.2,0.9,0.0,0.1,0.6,0.1,82.0,4.4,0.0,1.6,2.2,0.1,1.0,0.8,2.3,77.0,34.0,92.0,0.05,4.0,0.0,0.9,5.1,0.5,2.4,0.0,0.15,0.1,0.05,0.05,0.3,1.2,2.5,0.2,0.05,0.6,1.2,0.7,1.6,0.2,1.3,0.3,0.0,0.8,4.7,1.3,0.3,0.0,1.2,0.0,1.1,0.15,0.15,0.15,34.0,0.15,2.6,3.4,35.0,2.7,1.6,3.4,0.0,0.15,0.0,0.15,2.0,0.1,0.6,0.0,0.0,0.1,0.4,0.7,1.9,0.1,0.1,0.0,27.0,0.0,0.1,1.1,0.9,0.7,0.1,0.9,0.1,2.4,1.8,1.2,0.1,0.0,0.5,1.5,0.1,8.799999,0.9,0.1,1.3,1.2,1.3,2.2,1.05,0.1,0.1,0.1,0.6,0.1,1.0,1.3,1.0,0.3,0.1,0.0,0.1,0.1,8.099999,1.5,0.1,0.9,1.3,1.9,8.099999,1.9,1.3,1.1,8.0,0.6,1.3,2.0,3.1,1.5,0.0,1.3,0.25,0.3,4.6,13.299999,2.1,0.25,0.8,0.0,0.25,0.3,0.25,0.0,5.1,0.25,0.25,14.0,0.25,1.8,0.3,0.9,0.3,0.3,3.1,0.3,1.1,0.3,0.3,0.3,2.2,0.3,0.3,0.3,0.0,0.3,0.3,0.8,0.3,28.0,0.0,0.8,3.2,0.3,0.3,4.7,0.3,0.3,1.6,1.4,0.9,0.3,0.3,125.0,3.0,0.3,1.5,0.3,0.3,0.3,0.15,0.15,0.15,5.1,1.4,0.15,0.15,0.15,0.15,0.8,18.0,0.2,15.0,0.9,0.9,0.0,1.01,1.9,39.0,1.4,0.9,0.0,0.0,8.799999,0.15,1.8,0.5,288.0,1.7,2.8,0.6,1.3,0.1,7.5,14.0,0.0,0.0,24.0,0.0,2.3,1.0,0.5,0.0,0.6,2.0,2.3,4.1,0.4,2.1,0.4,1.9,0.0,1.8,0.4,2.2,0.0,0.0,0.0,0.5,0.4,0.4,1.4,1.7,1.5,0.4,0.4,0.4,0.0,1.5,3.2,0.0,2.1,2.7,0.4,0.4,0.4,0.4,0.4,0.4,0.4,0.4,0.0,0.15,0.15,0.8,15.0,0.15,7.3,0.7,0.15,3.1,1.3,0.0,1.9,1.0,0.15,0.6,2.4,21.0,2.7,4.4,24.0,0.15,0.0,0.0,1.9,2.9,0.8,0.15,0.15,0.6,0.15,2.1,143.0,4.1,0.0,1.4,0.0,0.2,4.4,2.6,6.3,2.3,11.0,0.0,0.0,0.05,0.7,0.8,0.05,0.05,150.0,0.0,0.05,235.0,0.2,6.6,0.4,0.05,0.3,18.0,0.05,0.1,0.0,2.2,55.0,0.1,0.3,0.4,2.9,0.15,0.0,0.6,2.8,0.3,0.1,0.1,1.3,0.1,5.8,0.4,0.0,0.0,0.4,0.0,3.8,1.0,1.4,0.3,0.1,0.7,0.0,0.15,1.8,3.6,2.9,4.3,2.7,0.15,38.0,1.0,3.4,0.15,0.15,2.7,0.15,1.6,2.3,0.15,0.15,0.6,0.5,0.15,0.5,0.0,1.7,0.35,1.3,0.35,0.3,1.8,0.3,0.3,0.3,0.3,1.2,0.3,1.2,0.3,0.3,2.1,0.0,0.9,31.0,0.25,2.1,1.5,1.5,0.25,6.5,0.25,0.25,0.7,1.2,0.25,0.25,0.25,6.5,0.3,1.8,0.25,0.25,0.25,1.0,0.25,1.4,4.3,0.25,5.1,0.6,1.9,0.9,0.25,0.25,0.25,2.1,1.3,0.1,0.8,0.6,2.3,0.1,0.6,1.6,61.0,0.1,3.7,0.0,0.6,2.1,0.9,0.8,25.0,0.5,0.0,0.5,0.9,0.4,0.9,1.3,9.599999,7.9,0.0,0.1,0.1,2.9,1.4,0.1,0.1,4.0,0.5,0.1,0.0,0.4,0.1,1.0,0.1,0.1,0.05,0.0,0.05,0.3,0.05,2.1,0.05,1.0,2.4,1.6,0.0,1.9,2.6,2.0,0.2,0.8,2.3,0.3,1.0,0.3,0.8,0.05,0.05,2.5,8.2,0.8,0.3,0.3,0.05,0.0,0.0,0.2,0.2,0.2,4.8,0.2,1.7,0.2,2.1,0.2,0.0,0.25,1.1,47.0,0.7,2.3,1.3,0.2,0.2,3.9,0.0,70.0,31.0,3.7,0.9,0.2,0.2,0.2,0.2,0.2,0.9,1.4,2.1,0.2,2.6,0.2,2.3,3.1,0.2,0.0,0.2,11.0,0.2,4.3,0.2,2.8,0.2,25.0,1.0,0.0,0.2,2.2,0.2,0.9,6.8,0.9,0.8,0.2,0.2,0.8,0.0,0.2,0.0,0.0,1.6,3.0,0.1,0.2,0.2,1.1,0.0,0.1,0.4,0.1,2.3,0.0,2.6,1.1,0.1,3.3,0.4,0.3,1.5,0.7,1.0,0.1,2.3,0.4,0.0,0.4,0.1,0.1,0.8,0.05,0.7,1.0,0.1,0.1,24.0,1.9,4.9,0.0,0.0,16.0,1.5,1.0,1.5,1.9,1.6,0.05,0.4,0.0,1.5,0.0,1.3,1.0,0.3,2.1,0.9,0.3,1.2,0.3,1.0,0.3,1.1,0.3,1.8,2.4,0.3,1.5,0.3,2.3,0.7,3.6,0.3,0.3,0.3,0.3,0.9,0.3,14.799999,0.7,0.0,0.9,0.3,2.5,1.3,0.0,0.0,0.0,0.0,1.8,0.25,5.9,0.9,0.9,0.8,2.1,1.0,1.5,1.6,1.6,1.6,0.0,1.2,2.5,1.4,0.0,26.0,1.3,0.0,1.4,0.0,2.4,1.0,1.2,1.9,0.8,0.2,0.0,1.1,0.2,0.2,0.2,1.3,1.2,1.2,1.4,0.8,3.1,0.0,2.3,0.0,0.0,1.6,0.2,3.2,0.0,0.0,0.0,1.7,2.9,0.1,0.1,2.6,1.6,2.1,0.1,0.0,0.1,1.8,0.1,1.2,1.5,18.0,1.1,1.2,0.1,0.1,0.0,2.2,0.4,0.4,0.1,0.8,0.5,10.0,1.0,0.6,2.0,0.4,1.0,1.0,3.9,1.4,0.05,1.3,0.0,1.7,0.5,1.8,3.0,0.5,0.7,4.0,0.0,0.4,0.4,0.4,0.4,0.3,0.7,42.0,0.0,0.2,0.6,0.05,0.05,0.5,1.9,0.5,0.1,0.05,0.05,0.05,0.0,0.6,0.3,8.099999,0.9,4.6,0.3,0.3,0.5,0.3,0.0,0.3,0.0,0.3,0.3,0.0,0.9,1.6,2.0,0.0,2.7,0.8,2.2,0.6,20.0,0.9,1.3,0.0,0.15,0.6,0.5,0.4,0.0,0.0,1.3,1.3,0.0,0.0,0.0,0.0,0.9,0.1,0.1,1.9,0.6,0.3,0.6,3.2,0.9,0.9,12.0,0.6,0.1,0.3,0.5,2.2,0.9,1.0,1.2,0.0,1.1,5.4,0.0,1.4,0.0,0.0,0.0,1.6,1.7,0.0,1.5,0.2,1.0,0.1,1.8,1.0,4.4,12.0,1.3,0.6,0.7,0.9,1.4,0.9,1.6,1.3,1.7,0.8,0.2,1.2,0.6,0.2,2.2,9.599999,98.0,1.8,21.0,3.3,0.0,0.3,1.9,0.3,1.3,0.0,1.5,1.2,1.0,0.3,0.7,1.2,1.0,0.9,0.3,1.6,2.4,0.6,1.0,29.0,0.3,0.0,0.0,0.0,0.0,0.9,0.3,0.3,0.0,6.4,0.0,1.3,0.15,0.3,0.15,0.5,0.5,17.0,23.0,7.3,0.0,0.0,0.15,0.0,0.0,0.0,0.15,0.3,2.1,0.15,0.15,1.4,0.5,0.15,0.15,0.15,1.0,0.9,0.15,2.5,0.6,0.15,0.15,0.3,1.4,0.6,0.0,65.0,0.15,0.2,0.15,10.0,0.15,1.0,2.1,24.0,0.15,0.0,0.0,0.0,0.1,6.0,1.7,0.15,0.15,0.8,0.0,1.1,0.4,1.7,1.1,0.9,0.7,0.6,0.8,0.0,0.2,1.6,12.0,0.6,0.2,0.2,1.3,2.7,3.8,0.2,0.0,1.0,0.0,0.0,0.0,0.0,21.0,3.5,0.25,0.0,1.4,0.25,1.4,0.5,0.25,0.25,0.25,1.3,0.5,0.25,1.5,0.6,1.7,1.3,0.25,2.8,2.3,100.0,0.0,0.9,1.1,35.0,0.25,2.1,0.2,0.7,11.0,0.2,0.4,0.2,1.4,0.6,1.2,0.7,0.8,0.2,0.2,0.2,1.0,0.7,0.6,0.2,0.2,0.0,0.0,0.0,0.0,0.15,2.9,1.2,0.2,0.7,1.6,0.15,0.0,1.9,0.9,2.2,1.0,1.4,0.1,26.0,2.1,1.0,0.15,2.6,0.6,0.7,0.4,0.15,0.15,0.15,4.0,18.4,0.2,0.5,0.1,0.8,0.4,0.2,0.0,0.7,0.7,1.7,0.0,1.5,0.2,0.0,0.0,0.2,0.2,0.2,6.2,3.0,0.7,1.0,2.0,1.4,11.0,0.2,3.8,0.2,0.7,0.2,0.0,0.9,12.0,0.7,1.1,7.5,1.8,0.0,0.0,0.0,1.3,36.0,0.5,1.6,2.1,0.6,1.1,0.25,0.0,0.9,0.0,0.0,0.8,0.25,0.0,0.2,0.25,2.3,1.8,0.0,0.0,0.0,8.2,0.0,0.05,0.7,2.9,0.25,0.4,0.05,1.1,0.2,1.3,1.2,0.3,0.0,10.0,0.4,0.05,0.2,1.0,0.05,0.05,0.05,0.05,0.5,0.5,0.5,1.5,0.3,4.5,2.0,109.0,1.2,0.05,0.05,0.4,0.6,0.05,0.05,2.0,1.3,0.05,1.0,0.05,2.3,0.25,0.25,0.0,1.6,0.05,0.25,1.5,2.0,0.2,0.25,1.6,0.25,0.6,0.9,0.4,0.25,0.25,0.0,1.0,0.5,0.25,0.6,0.25,0.25,0.25,7.4,6.1,0.8,0.6,0.5,0.15,0.0,0.9,0.15,0.0,0.2,0.5,8.799999,0.5,2.5,1.1,0.6,0.15,1.0,0.15,0.15,0.3,0.6,0.2,17.0,0.2,0.9,0.2,3.4,4.9,6.2,1.7,0.0,0.7,0.3,0.6,0.0,0.2,0.9,0.2,1.4,3.4,1.0,9.599999,0.6,1.0,0.2,0.7,126.0,1.7,0.2,0.2,0.2,0.2,1.1,0.2,0.5,0.2,0.7,0.0,2.4,0.2,0.2,0.8,0.8,0.5,0.7,0.0,0.7,0.2,0.2,0.2,1.2,0.5,0.6,1.5,0.2,0.6,0.2,1.9,0.2,0.6,0.2,0.0,0.0,0.0,0.2,2.2,0.2,0.2,1.4,1.9,0.6,0.2,0.9,3.5,0.2,0.9,3.7,0.9,0.0,0.2,1.7,0.2,0.0,0.0,0.0,0.6,0.5,1.0,0.2,1.0,0.8,1.1,1.6,43.0,0.0,82.0,0.25,0.25,0.25,0.25,0.25,0.25,0.25,0.9,5.4,1.5,0.25,0.6,0.25,0.0,0.6,3.1,0.0,3.7,0.25,0.0,1.8,0.25,1.2,0.9,0.25,0.7,0.25,0.8,0.9,0.6,5.4,1.1,0.0,0.25,7.6,2.1,0.8,0.8,0.9,0.0,0.6,1.6,2.6,0.6,3.5,3.2,0.0,0.25,3.6,0.0,4.4,0.6,1.1,2.9,24.0,0.9,0.4,35.0,0.25,0.25,0.25,2.0,0.15,1.8,0.0,1.9,1.4,0.12,0.0,0.25,0.0,0.0,0.04,3.5,1.6,0.0,1.1,1.5,1.1,0.0,160.0,1.8,2.2,15.0,6.0,2.6,0.0,0.53,2.1,1.3,2.4,2.7,3.1,0.025,0.39,1.1,0.77,7.9,19.0,2.0,2.9,3.1,3.0,0.07,40.0,2.8,1.6,0.12,1.8,0.65,1.1,0.025,0.84,1.6,1.4,2.3,1.9,6.1,9.2,1.5,0.0,0.0,0.0,1.3,2.2,5.6,0.95,1.9,1.9,0.38,3.8,1.8,5.8,1.6,2.6,2.4,0.41,0.065,0.0,36.0,0.065,0.065,2.9,4.3,0.065,0.65,3.6,0.005,0.04,0.005,0.07,0.25,5.1,0.78,2.7,2.3,0.005,2.0,2.0,3.7,2.4,3.5,1.1,0.0,0.81,2.3,0.005,183.0,0.61,0.16,1.7,2.4,2.3,1.9,9.099999,0.32,12.0,8.9,1.5,13.0,0.0,2.6,0.87,1.3,0.98,0.98,3.3,0.47,0.58,1.1,2.2,1.5,0.95,3.2,1.4,1.6,0.0,0.0,1.2,0.1,1.7,3.5,1.3,0.88,1.2,0.08,2.5,3.3,0.86,2.6,2.1,0.0,0.0,0.0,0.89,1.2,1.6,0.91,530.0,2.2,2.3,1.1,3.3,0.01,6.8,18.0,0.52,1.3,1.7,1.5,1.8,0.83,2.2,0.015,1.6,0.03,2.3,0.9,4.3,1.2,2.3,2.5,1.7,5.9,1.3,0.0,1.3,0.59,2.8,5.9,0.91,2.0,3.8,4.8,0.0,0.0,12.0,0.62,2.1,1.8,0.0,2.5,0.84,2.5,0.5,3.1,0.01,0.005,0.74,0.46,1.7,0.77,2.8,1.9,0.12,2.8,2.0,4.9,0.005,0.005,15.0,6.7,0.005,2.8,1.1,1.1,1.3,4.7,0.7,4.9,2.1,0.005,178.0,0.02,0.0,0.0,1.0,1.9,1.4,1.2,2.1,0.02,1.6,1.0,4.6,2.3,3.0,0.0,1.6,2.8,3.4,165.0,1.1,54.0,1.0,0.68,0.61,1.8,4.6,2.3,8.2,1.1,0.0,1.9,35.0,1.4,1.3,0.4,0.035,5.2,0.17,0.83,0.035,1.6,0.035,1.2,5.6,0.35,1.7,1.7,2.3,1.9,7.1,2.4,2.7,0.32,2.4,0.035,2.0,1.6,2.5,3.8,4.1,0.0,0.0,0.02,1.0,0.05,6.2,0.0,8.799999,1.3,4.1,0.0,0.0,4.4,1.3,5.6,160.0,25.0,1.3,5.4,1.3,0.9,0.4,2.2,2.4,2.1,1.5,0.0,1.5,2.8,1.7,2.3,1.7,2.1,2.2,2.1,43.0,1.6,1.8,2.9,1.2,3.5,1.7,2.4,1.1,1.9,1.4,1.5,0.9,1.4,5.9,1.6,0.005,0.7,0.02,3.3,0.88,2.2,1.1,3.2,1.5,2.4,2.6,0.0,2.0,3.1,0.02,1.2,5.2,0.005,5.0,0.03,1.7,2.7,0.08,440.0,1.4,1.4,2.1,0.84,0.27,0.63,2.0,0.0,2.0,2.3,1.6,1.5,2.2,1.3,1.9,0.0,2.3,1.5,1.5,2.7,0.015,1.1,0.57,0.02,1.2,3.7,1.8,8.099999,1.5,2.6,2.3,2.4,1.1,1.9,3.2,2.4,2.6,1.9,2.0,0.92,0.005,3.1,1.6,0.71,0.52,0.005,0.0,0.0,0.0,1.8,6.3,3.4,2.2,3.9,0.72,1.3,1.0,1.3,1.1,0.5,9.0,4.4,2.3,1.1,1.6,0.005,4.4,3.3,1.8,1.5,5.6,3.4,2.2,1.9,0.005,2.0,2.2,4.5,1.9,2.4,0.94,0.0,12.0,1.5,0.005,0.005,0.005,0.0,0.88,1.9,8.599999,2.9,0.54,12.0,3.3,0.03,0.03,1.7,2.2,15.0,3.8,3.9,1.2,0.4,0.035,0.0,0.0,0.0,0.0,1.8,2.6,1.9,1.5,9.2,0.03,13.0,0.03,3.2,2.0,1.8,0.03,1.3,400.0,0.54,0.0,0.0,2.8,103.0,8.5,0.03,7.4,0.0,0.75,1.2,23.0,0.0,1.0,2.2,1.7,1.2,1.8,0.0,2.9,0.03,1.5,0.035,0.0,2.3,2.0,1.7,4.9,0.03,4.2,0.03,1.8,0.86,5.73,0.035,2.7,1.3,0.67,1.3,1.7,3.5,0.08,6.0,3.5,1.3,0.9,2.4,2.1,1.2,0.0,0.0,0.0,0.0,3.5,1.7,1.5,3.2,1.2,7.2,2.1,1.6,1.0,1.6,1.8,3.0,2.3,2.2,2.7,10.299999,2.9,3.0,0.02,11.099999,0.0,0.93,3.7,7.8,4.9,4.6,2.4,2.5,5.2,0.92,2.3,3.2,1.9,1.8,0.0,2.4,0.51,0.04,1.9,0.01,2.6,0.0,12.0,0.97,1.9,2.4,1.7,0.95,0.76,0.15,10.0,1.3,0.37,1.5,1.8,0.93,1.9,1.0,6.2,1.2,1.1,3.8,2.3,2.6,1.9,0.05,36.0,2.0,2.6,2.3,0.0,7.7,0.005,1.5,86.0,1.4,1.4,2.4,5.5,0.06,1.8,1.3,2.0,2.8,2.7,1.8,1.3,3.0,1.2,2.0,2.4,1.0,1.7,0.02,1.0,3.0,3.5,4.0,1.7,0.0,1.5,1.3,0.85,3.0,0.6,3.0,0.37,1.4,0.81,0.025,3.0,0.0,0.89,0.68,2.2,1.3,4.4,2.0,0.64,0.35,0.67,5.7,0.68,6.0,1.3,0.0,0.73,1.3,199.0,1.6,0.0,8.799999,1.5,6.6,1.4,0.58,2.6,1.4,0.025,0.035,0.78,99.0,2.0,22.0,0.79,2.1,0.98,0.0,1.7,3.5,18.0,2.0,0.0,0.1,1.1,0.025,0.9,2.5,0.0,0.0,2.5,0.0,0.025,1.5,1.2,0.93,2.7,7.9,1.7,1.5,1.5,5.1,7.1,0.02,11.0,16.0,2.0,3.0,0.08,0.53,0.5,0.02,1.4,0.42,1.9,0.0,0.9,34.0,27.0,0.81,0.0,0.61,0.83,1.4,0.6,1.2,1.2,2.0,1.7,0.87,1.8,3.1,2.8,0.0,2.2,6.7,4.3,3.0,12.0,0.61,1.0,4.2,2.0,1.2,0.73,4.4,20.0,0.07,5.7,0.02,0.6,2.5,0.7,16.0,1.1,2.1,0.02,1.9,0.0,4.4,0.93,1.1,27.0,58.0,145.0,2.2,0.09,3.0,1.7,3.2,2.3,2.0,0.02,5.6,0.75,0.0,0.89,0.02,0.26,0.22,0.05,2.7,1.8,3.1,1.5,3.0,0.0,9.4,41.0,5.1,1.3,1.2,0.68,1.5,2.4,0.01,5.4,0.0,4.1,2.6,0.58,0.96,2.2,2.5,4.1,0.19,0.0,2.3,3.6,0.02,1.6,1.4,1.1,0.24,1.6,2.5,2.0,1.6,0.19,3.6,11.0,2.9,1.4,1.1,2.8,2.0,1.4,1.8,3.2,2.5,1.1,2.3,0.55,1.7,3.1,1.7,1.5,0.85,6.3,1.9,1.1,0.0,1.1,8.9,1.4,1.5,2.0,5.1,5.8,0.04,12.0,2.0,0.18,0.22,2.9,2.8,0.3,6.7,0.005,2.3,0.0,0.0,0.52,0.67,1.9,2.2,1.5,1.2,1.9,0.93,0.72,1.4,2.1,0.0,0.005,0.0,0.0,0.0,0.95,2.3,1.4,3.1,14.0,0.0,39.0,0.0,2.3,0.82,0.43,28.0,4.2,2.4,3.4,0.45,15.0,8.2,0.04,2.9,3.3,2.1,0.48,1.8,2.8,2.9,1.4,0.87,1.5,0.0,0.91,5.1,0.81,0.67,1.5,1.02,1.3,1.1,2.1,2.8,1.9,1.3,0.6,4.1,1.8,11.0,0.025,8.799999,80.0,0.0,5.6,1.7,1.3,1.5,2.1,1.1,0.04,2.0,0.47,1.9,0.44,0.005,0.005,1.4,1.5,4.0,0.38,1.8,1.3,0.78,2.9,0.83,0.56,1.4,2.1,0.025,1.5,0.38,2.2,6.0,42.0,1.6,2.9,1.7,0.99,25.0,1.3,0.0,1.3,0.45,4.7,2.4,1.8,1.2,0.34,1.4,1.6,0.01,1.3,2.0,2.5,0.0,1.4,0.33,0.8,0.03,1.5,1.2,3.2,1.3,0.03,117.0,24.0,1.1,1.2,2.3,0.73,0.88,1.2,0.0,89.0,7.6,1.5,38.0,0.035,0.61,43.0,2.3,0.24,0.69,2.5,6.2,5.8,0.48,4.1,2.7,1.6,1.9,2.4,1.6,0.1,0.38,41.0,0.0,2.7,5.4,34.0,0.83,9.099999,1.0,1.8,2.0,0.99,1.2,1.9,3.8,31.0,1.9,0.93,151.0,2.8,0.58,0.77,4.2,0.01,0.01,1.6,2.5,5.8,0.0,0.0,6.6,0.3,98.0,0.0,5.7,0.65,2.1,6.3,0.42,0.0,2.0,4.2,2.0,0.0,0.25,4.5,0.01,1.3,0.59,0.025,5.8,2.2,0.65,1.7,0.94,3.1,0.015,0.73,0.79,4.2,1.2,1.3,1.4,3.7,0.52,51.0,45.0,0.02,0.0,0.02,1.3,139.0,1.3,0.42,1.2,3.3,1.9,0.02,1.7,0.85,2.7,1.9,1.2,2.1,1.4,3.5,0.35,2.5,0.42,0.97,28.0,0.0,1.7,1.4,0.05,1.7,1.7,1.1,1.6,0.7,1.3,1.1,1.9,3.3,3.2,1.5,2.8,0.06,1.6,0.0,6.5,0.64,1.5,2.0,1.8,1.2,0.0,1.0,0.97,0.015,183.0,0.63,0.51,4.7,0.54,0.0,1.6,0.05,0.72,0.01,0.0,0.01,0.02,3.3,5.5,0.5,2.8,6.9,0.33,0.73,2.6,6.1,0.6,2.2,2.0,3.7,0.0,1.8,0.28,0.01,0.42,0.02,2.6,0.015,4.1,2.4,1.7,0.19,8.0,2.0,0.93,0.34,4.1,0.015,1.6,1.4,2.9,0.77,1.6,1.2,2.0,1.9,0.54,0.25,2.0,0.015,0.015,10.0,0.14,5.0,3.9,1.7,0.78,0.95,0.17,0.44,28.0,1.3,0.86,2.2,1.1,2.6,3.2,1.4,1.9,4.4,3.3,7.1,1.6,1.2,0.64,1.1,0.92,0.035,0.7,2.4,0.49,0.29,3.9,0.64,2.1,0.0,0.04,0.02,0.15,0.5,0.8,3.7,2.8,0.005,2.1,0.82,3.2,7.5,0.005,0.39,55.0,0.96,1.5,6.4,3.6,1.1,1.9,2.0,1.1,1.4,1.4,2.3,1.3,2.0,0.82,3.4,3.4,1.8,0.57,1.8,1.4,4.5,0.82,1.4,0.82,0.53,2.4,0.0,1.9,1.3,1.7,1.4,0.25,151.0,1.1,0.0,0.59,0.46,5.4,0.1,8.099999,1.6,1.4,0.015,2.1,12.0,4.3,1.1,12.0,2.3,0.6,0.78,8.299999,472.0,2.9,2.1,0.04,0.74,1.4,0.83,2.3,5.5,0.51,1.8,15.0,1.1,8.9,3.9,5.4,1.2,3.3,1.3,2.9,1.4,3.0,3.9,1.7,1.5,0.58,3.1,6.2,3.1,0.02,2.3,1.2,4.0,3.3,2.5,4.7,2.7,1.6,1.9,1.1,1.7,7.8,4.4,0.02,0.28,1.6,0.0,2.4,1.9,4.7,11.0,1.2,10.0,0.77,0.97,1.2,4.1,1.7,2.8,2.3,0.005,5.6,1.5,1.1,0.02,2.5,3.4,0.08,58.0,1.9,1.4,3.1,1.8,4.3,6.2,0.58,1.0,1.7,0.02,1.2,1.1,1.9,0.0,1.8,3.3,5.1,230.0,0.0,0.025,4.9,0.0,0.71,9.0,2.5,1.8,1.8,2.0,3.2,22.0,9.7,0.0,0.31,0.72,0.8,1.2,0.02,0.07,1.9,0.08,0.1,1.4,2.3,0.57,4.3,0.81,2.6,0.02,3.7,5.4,2.9,2.5,24.0,2.3,1.3,2.9,4.5,2.8,0.15,3.1,3.4,0.0,0.86,0.0,0.0,0.08,1.6,5.1,12.099999,2.8,0.02,1.6,0.56,0.97,1.9,2.1,3.4,2.4,0.5,5.7,1.6,2.3,2.7,1.2,0.0,1.1,0.93,2.8,4.6,0.045,0.85,0.055,0.0,4.8,60.0,47.0,0.93,13.0,0.73,1.0,0.2,0.13,0.83,2.4,1.4,2.1,3.1,0.35,2.1,1.4,2.8,2.2,7.2,4.9,1.8,0.0,3.3,3.0,1.9,1.5,2.8,9.2,2.4,0.055,2.1,2.5,1.4,3.7,0.0,0.0,0.0,2.9,2.3,1.4,0.0,1.7,15.0,2.5,1.9,1.9,1.1,3.0,2.9,1.3,1.8,3.6,19.0,2.8,0.97,2.5,2.2,6.8,1.6,1.01,0.72,0.035,2.4,3.0,1.4,5.1,0.45,108.0,2.9,0.0,1.7,2.7,0.0,1.4,2.5,0.89,0.98,0.0,1.4,0.94,2.3,9.2,1.6,1.0,1.5,188.0,0.0,5.1,0.045,2.8,1.5,0.8,6.0,1.1,1.1,2.3,0.5,2.2,1.1,1.8,0.0,2.2,4.7,1.9,0.4,0.9,0.6,0.0,1.2,8.0,7.3,30.5,0.7,0.04,1.2,1.0,1.8,0.4,1.3,1.1,1.7,0.9,2.6,1.9,2.1,0.0,1.1,46.0,2.7,1.0,3.1,2.2,0.3,2.7,1.1,0.0,2.7,2.1,0.045,17.0,0.045,1.0,3.0,2.7,0.5,0.7,2.4,0.7,0.045,0.045,0.015,468.0,1.3,1.2,2.2,1.0,1.4,1.2,5.6,0.1,3.2,0.025,0.0,2.2,1.5,0.0,2.6,3.3,11.4,3.5,1.2,1.8,1.8,0.015,1.1,3.9,103.0,1.0,1.8,0.51,1.1,0.88,13.0,3.2,0.08,1.7,0.67,0.83,2.3,0.0,0.31,0.68,1.0,2.2,0.44,1.2,2.4,0.03,9.2,0.15,1.1,1.0,52.0,3.6,4.9,5.3,13.0,0.55,1.7,6.7,0.8,0.07,4.4,2.6,0.31,1.5,0.0,0.04,3.1,1.2,0.29,1.3,0.015,4.4,2.1,0.015,25.0,5.1,3.4,1.4,2.6,2.0,1.5,3.2,0.36,1.5,3.0,3.9,0.1,0.0,1.1,2.9,2.6,0.05,0.39,9.4,0.005,16.0,0.1,1.5,3.2,2.9,3.3,2.1,5.0,1.9,1.5,4.3,1.8,2.7,0.98,1.6,12.0,1.9,2.1,2.9,2.2,0.0,1.0,3.1,0.0,1.1,2.2,2.5,1.1,1.2,0.24,3.3,1.1,1.1,0.43,2.9,3.4,2.1,6.5,1.1,0.43,0.0,0.15,1.1,0.0,26.4,4.7,7.0,2.5,1.4,19.0,1.1,1.6,0.0,0.5,0.65,5.3,1.3,2.1,7.1,0.47,1.7,0.26,0.02,2.8,1.6,0.67,2.6,1.1,0.0,0.0,0.0,0.02,1.1,1.3,0.62,55.0,4.0,1.9,2.3,2.5,0.69,2.3,0.32,0.05,1.7,1.8,2.3,4.5,1.2,0.66,2.1,1.2,0.09,3.8,0.44,2.6,1.3,2.6,12.0,0.93,0.06,1.2,0.07,0.0,0.08,0.02,0.0,1.8,5.4,2.0,0.9,2.1,7.0,2.7,0.36,0.82,4.5,1.3,0.0,0.75,2.2,4.1,0.2,22.0,0.4,4.8,0.035,236.0,2.1,33.0,0.0,1.8,0.0,2.1,34.0,0.0,0.0,0.26,0.99,2.4,0.47,6.1,0.035,27.0,1.6,1.5,2.8,1.7,0.4,1.6,0.02,6.8,0.0,0.75,2.4,7.9,1.3,1.2,2.2,2.0,3.0,1.6,0.02,0.005,0.63,0.02,1.3,1.3,0.02,0.67,13.0,1.6,0.32,4.2,3.4,0.81,0.005,1.2,2.3,1.2,2.5,0.0,1.2,478.0,0.02,1.3,2.3,3.6,5.0,9.299999,2.5,1.6,2.5,0.52,1.9,2.7,1.8,2.0,3.6,2.7,3.6,3.3,0.94,2.0,2.8,0.005,0.0,42.0,2.9,0.61,1.4,6.9,1.4,0.78,1.4,0.98,1.4,2.9,4.8,2.0,1.1,2.2,3.2,0.66,0.0,0.82,0.92,0.0,1.8,5.2,0.03,0.88,3.9,0.03,0.03,2.3,0.03,2.2,1.3,2.3,0.4,1.5,0.03,0.03,5.1,0.73,0.03,0.33,0.14,2.3,1.7,1.7,2.2,1.3,0.62,0.58,0.34,3.0,0.0,44.0,0.93,1.5,1.6,1.3,0.0,0.38,1.2,0.31,0.0,0.98,0.005,1.6,5.2,2.3,3.0,1.7,0.0,0.35,1.8,2.6,1.3,0.0,0.0,0.46,0.57,12.0,1.4,58.0,0.035,0.09,1.1,1.5,5.1,2.8,0.0,26.0,0.17,0.12,2.6,0.045,0.035,0.76,1.9,1.3,2.0,0.0,5.8,1.4,0.0,0.0,0.66,70.0,0.0,5.0,0.45,2.1,1.9,0.59,1.3,2.9,0.69,3.0,1.9,2.1,55.0,0.57,0.015,0.59,0.0,1.9,0.015,44.0,0.77,2.3,0.015,0.84,0.42,1.2,0.04,0.0,0.44,3.7,0.015,4.5,0.1,1.4,0.98,0.9,2.0,1.1,1.1,2.9,1.3,2.0,3.7,0.82,0.67,0.0,2.3,1.1,1.0,1.9,1.6,1.5,60.0,0.005,3.4,0.0,5.0,0.005,2.6,0.0,1.0,4.1,0.6,0.005,1.7,2.4,2.6,3.0,2.9,0.005,1.4,9.4,4.3,0.005,0.0,1.4,1.7,1.0,0.27,0.045,2.7,0.01,1.8,1.9,0.98,4.2,12.0,1.3,3.1,3.9,2.1,1.4,2.6,0.005,52.0,0.005,2.6,0.0,0.0,0.06,0.79,0.005,0.59,0.8,2.1,0.34,1.1,14.0,0.01,3.4,1.9,1.8,1.4,3.9,0.045,0.045,0.0,2.5,2.5,0.0,2.1,1.3,4.3,2.1,1.8,2.4,4.8,1.6,0.065,1.4,0.05,1.5,2.7,0.065,3.1,13.0,5.5,2.6,6.6,0.16,2.8,0.0,0.0,3.5,2.1,0.05,1.4,3.4,0.0,1.1,3.0,1.9,3.4,5.2,1.8,0.75,1.7,0.0,9.7,6.2,0.005,1.4,0.74,2.1,0.08,0.08,3.3,0.01,5.0,0.06,1.3,13.0,0.78,0.0,2.4,2.4,0.0,0.22,1.9,0.76,0.0,2.0,6.9,2.1,12.0,0.65,0.41,3.5,0.7,1.0,0.08,1.3,0.29,0.09,0.08,6.2,1.3,0.0,1.1,2.2,11.0,2.1,2.8,1.1,2.1,6.1,1.3,0.005,1.0,0.4,1.6,1.6,0.81,0.255,61.0,0.045,3.2,1.1,0.7,0.04,2.4,1.1,1.0,7.7,0.06,0.89,0.025,27.0,19.0,5.9,0.0,0.03,1.9,2.5,5.2,0.38,2.0,1.1,1.4,1.0,1.2,2.1,1.9,0.0,1.4,1.9,0.0,1.4,33.0,12.0,0.065,1.3,4.4,0.0,0.11,1.6,3.6,0.065,2.5,29.0,4.1,0.0,1.2,2.1,1.8,3.0,0.0,0.98,1.9,0.57,29.0,0.85,0.49,0.6,0.73,0.72,2.8,0.51,114.0,0.18,1.8,0.0,0.01,2.1,9.099999,0.92,0.96,0.34,1.5,33.0,0.0,1.8,4.0,1.5,0.0,3.9,0.87,4.6,0.96,3.9,0.93,2.4,0.0,1.4,2.1,0.72,49.0,0.55,1.8,0.63,1.03,1.2,1.1,1.8,4.6,0.68,0.0,1.2,3.0,3.0,8.299999,2.7,0.64,4.7,0.025,0.0,0.09,2.7,1.6,0.1,7.0,197.0,3.4,1.6,1.3,197.0,1.4,2.4,0.3,96.0,0.05,1.1,1.2,0.11,3.0,1.4,1.6,1.1,2.2,0.0,5.7,0.0,0.0,0.06,0.59,1.01,1.5,0.02,0.0,0.97,0.0,0.32,1.3,1.9,4.4,1.2,0.25,0.07,1.9,0.0,1.7,0.02,0.47,0.74,2.2,2.2,0.08,1.6,1.7,1.1,1.5,2.9,1.0,0.92,1.5,1.3,2.5,1.2,131.0,1.5,0.1,4.2,0.0,0.0,1.4,0.1,2.7,0.0,4.5,3.6,3.8,5.6,0.97,3.7,0.03,4.7,3.0,1.1,1.0,3.3,1.5,1.9,3.0,1.9,0.62,1.5,0.83,1.6,0.81,0.5,1.1,0.0,0.0,0.0,20.0,0.63,1.6,1.6,8.2,2.0,1.8,7.8,1.6,1.2,1.8,1.4,0.045,3.1,1.7,0.55,0.1,1.3,0.85,1.1,0.81,85.0,1.2,0.0,1.8,2.8,0.0,1.8,2.1,5.2,0.52,2.3,7.1,0.045,2.1,0.0,2.6,1.2,1.9,0.38,0.0,0.11,9.5,0.32,2.1,0.68,0.0,2.7,2.8,0.045,29.0,0.75,1.4,1.1,2.0,5.1,5.0,1.1,0.63,3.8,2.2,1.7,0.55,2.3,2.0,1.9,0.76,11.0,0.66,5.3,0.25,0.0,0.81,1.2,0.05,1.6,1.2,0.0,0.0,0.0,0.83,6.0,0.98,1.4,0.36,0.0,31.0,2.1,1.8,2.8,2.9,4.8,6.7,0.76,1.2,0.65,0.61,3.4,1.5,3.3,0.62,0.54,3.0,2.4,2.1,24.0,1.0,1.01,0.66,1.8,42.0,2.9,5.6,0.0,2.9,1.0,1.3,1.1,2.7,2.4,7.2,2.7,1.0,1.1,2.8,1.1,1.7,0.44,0.68,2.2,0.06,5.7,1.3,2.9,0.51,6.7,4.6,6.1,0.0,4.4,2.7,1.2,1.6,0.9,1.9,3.0,0.13,2.2,3.2,5.5,0.09,1.1,1.3,0.025,2.9,1.3,0.0,0.0,0.32,3.2,0.68,1.3,1.7,0.68,1.4,3.0,1.6,0.065,0.23,2.1,0.0,1.2,6.1,1.4,1.0,1.8,2.7,0.62,20.0,0.06,8.2,1.4,0.065,2.4,0.0,1.2,0.76,1.1,1.6,0.05,1.3,3.3,0.05,2.5,1.9,1.4,0.0,3.2,2.2,0.37,4.2,1.4,0.035,106.0,0.69,1.6,0.77,0.6,1.3,3.2,2.1,1.2,2.2,2.9,0.0,0.0,0.23,3.4,0.0,0.65,0.82,5.9,3.9,0.0,3.4,2.5,1.8,8.0,0.88,1.0,1.7,2.6,0.65,1.2,4.8,0.055,2.3,6.2,2.2,3.3,1.3,0.73,0.53,8.2,0.045,3.0,2.2,2.2,6.0,0.56,6.2,0.81,1.2,1.3,0.025,1.6,6.9,0.0,1.3,2.1,0.0,0.0,2.9,2.8,1.2,0.63,0.78,1.0,7.7,3.6,0.76,2.8,0.42,0.025,0.71,2.5,1.6,1.8,0.0,1.9,0.05,0.83,0.0,0.0,1.2,0.46,37.0,8.2,2.8,1.2,2.3,172.0,1.6,0.71,2.6,0.64,2.2,2.9,1.9,4.4,2.0,0.6,0.95,2.7,2.7,0.45,0.025,114.0,0.75,0.025,0.19,0.0,1.2,0.84,1.5,2.5,2.6,2.9,4.3,0.0,1.5,34.0,0.95,0.66,1.2,1.4,0.07,11.0,1.3,2.0,3.3,22.0,1.5,0.06,3.6,1.7,1.8,1.1,1.6,2.2,0.0,2.0,0.0,3.7,1.7,0.0,0.06,1.7,2.3,0.84,0.05,0.06,1.4,4.0,0.07,48.0,1.0,1.3,2.2,1.3,0.35,1.1,1.9,0.0,2.1,1.03,1.3,2.8,3.6,0.0,1.1,0.7,1.8,4.0,2.1,0.0,0.0,2.0,2.1,3.8,0.44,2.8,0.72,1.2,164.0,3.2,0.0,0.0,3.1,2.7,0.0,0.92,1.2,1.7,0.05,1.3,0.54,3.4,2.4,0.93,2.5,0.06,2.0,2.1,2.5,3.5,0.63,44.0,0.91,0.005,2.7,1.3,1.6,2.2,7.5,0.01,0.17,0.59,2.3,0.45,0.97,3.8,1.9,1.0,1.2,0.0,3.6,1.1,1.8,4.0,5.8,3.8,5.1,2.5,7.5,3.0,0.0,3.8,3.9,2.3,4.2,3.4,4.6,5.2,4.1,0.03,0.0,0.03,0.03,2.1,0.49,1.1,1.1,0.73,2.3,0.04,0.04,3.8,19.0,0.88,0.0,0.09,0.04,0.0,3.4,8.9,35.0,8.0,0.66,0.15,2.4,0.0,0.0,1.3,0.0,14.0,2.9,2.1,4.5,0.18,1.1,2.9,0.0,1.0,44.0,3.9,1.5,2.3,0.0,0.07,2.4,0.075,6.6,0.0,0.69,0.04,2.4,1.4,0.0,0.075,2.2,0.43,0.45,0.61,2.9,0.07,0.0,1.9,0.3,0.07,1.7,48.0,1.2,4.4,8.299999,1.4,1.5,0.0,1.8,1.4,0.0,2.0,1.9,5.5,2.5,1.7,3.2,1.1,4.1,0.07,28.0,0.13,2.4,28.0,25.0,1.2,0.16,2.5,0.055,0.9,2.1,1.3,1.5,4.9,11.0,0.79,0.42,1.6,1.1,141.0,1.7,3.9,0.0,1.7,2.0,1.4,4.8,2.3,0.13,0.77,0.61,7.0,3.2,0.23,21.0,0.29,2.0,0.69,1.6,1.1,0.07,3.0,0.99,2.0,0.36,3.2,0.065,2.8,2.4,1.0,6.2,1.7,0.19,1.04,5.9,1.2,0.75,2.2,4.0,2.5,1.9,2.0,0.0,4.8,0.0,3.7,1.1,1.2,2.9,1.2,1.6,0.1,0.65,2.4,3.6,1.3,2.6,0.0,3.3,3.3,1.3,0.9,0.73,1.1,1.5,2.0,2.6,0.87,1.2,0.85,0.67,1.9,0.48,1.7,7.0,0.95,3.0,0.39,1.5,0.44,0.0,0.0,1.3,2.1,0.135,1.6,3.6,2.1,1.0,3.1,0.99,0.49,2.5,0.36,3.1,2.4,4.5,0.9,4.2,1.8,0.18,0.79,2.1,0.74,2.5,0.04,11.0,1.4,1.3,0.97,1.2,0.0,29.0,1.1,0.96,3.9,1.4,2.3,2.2,0.98,0.0,2.0,1.2,1.2,0.085,3.9,1.9,1.7,2.2,4.6,0.085,0.47,7.5,1.8,4.3,3.8,0.085,1.7,0.72,0.085,0.91,0.035,0.42,0.98,0.07,0.87,1.7,4.7,1.7,1.1,0.0,13.0,5.8,3.3,0.06,0.46,2.1,4.1,1.4,2.8,1.7,0.0,1.4,3.6,2.8,13.0,0.86,0.58,4.4,2.4,1.5,1.6,3.0,1.6,10.0,1.5,1.1,1.3,2.5,0.83,0.21,0.075,4.2,3.7,1.1,1.6,6.4,1.2,0.08,0.07,1.9,0.65,7.7,0.22,3.4,1.4,1.1,20.0,0.21,0.83,5.3,34.0,2.5,1.8,4.4,1.5,6.7,0.0,17.0,1.2,9.299999,6.2,4.8,1.7,0.08,2.3,2.0,0.28,0.065,0.075,0.0,2.0,0.45,0.97,2.1,1.8,1.7,1.2,3.1,0.73,2.1,0.9,2.0,0.0,0.0,0.08,1.9,1.5,0.87,2.7,1.4,3.2,0.085,2.6,1.3,0.85,1.6,1.9,0.15,2.0,0.0,0.0,2.6,1.9,0.59,1.4,0.085,0.0,0.07,12.0,1.2,0.115,0.62,1.6,1.8,2.0,0.05,2.7,1.6,0.0,3.7,2.5,0.045,1.2,17.0,0.0,2.0,0.58,1.5,0.87,0.1,4.3,22.0,2.0,0.6,7.1,0.045,0.125,0.63,0.14,2.7,3.0,1.3,1.8,1.6,3.8,1.1,0.87,0.97,2.1,4.1,0.0,2.0,1.1,5.2,2.5,1.7,73.0,0.3,0.1,12.0,1.3,3.5,0.7,1.2,1.4,0.3,0.12,436.0,0.2,2.1,2.3,0.0,1.4,3.0,5.3,20.0,1.7,1.6,2.8,3.1,56.0,4.5,0.38,4.8,0.0,0.67,0.0,1.6,2.5,1.9,1.5,2.4,33.0,6.5,2.9,0.47,0.27,2.5,1.2,1.6,3.2,1.1,4.1,0.51,0.09,0.67,1.4,4.6,8.0,0.0,1.5,1.6,29.0,1.0,2.7,5.0,1.2,1.7,0.19,14.0,10.0,1.9,1.1,2.8,0.99,2.6,2.9,1.3,1.2,1.9,3.0,0.72,1.2,0.11,0.83,1.8,3.8,0.12,0.19,1.4,0.0,0.0,11.0,1.9,2.5,1.5,1.3,2.2,0.48,1.7,3.1,5.2,0.77,2.1,6.5,0.71,3.9,1.9,1.9,73.0,0.63,0.3,1.0,3.2,2.9,0.085,12.0,0.0,4.1,7.8,1.8,2.4,0.0,1.5,0.39,4.3,6.5,1.0,6.4,1.4,8.099999,4.9,2.1,5.0,1.7,2.9,1.1,1.9,0.0,17.0,0.14,3.1,1.9,12.0,0.0,0.55,1.6,3.0,1.7,1.4,0.9,0.065,1.3,1.2,0.85,1.0,0.0,1.2,0.8,3.8,2.3,2.0,1.4,1.5,2.4,1.7,1.4,8.4,1.8,0.55,0.07,3.3,2.0,6.9,32.0,3.1,2.8,3.9,2.9,0.13,0.56,2.2,12.0,0.23,98.0,2.4,2.0,0.91,1.7,2.7,1.1,1.7,0.99,0.065,0.065,1.4,13.0,1.6,1.6,1.8,5.1,11.9,2.4,1.9,0.9,1.6,0.4,3.2,2.4,1.9,4.9,1.5,0.065,1.6,1.6,1.5,3.3,1.5,3.6,66.0,2.5,2.1,3.0,2.1,2.9,3.3,0.35,1.6,4.5,4.0,1.0,6.3,0.68,9.299999,2.0,0.49,3.0,3.9,1.5,0.0,2.8,0.72,0.34,1.6,1.2,0.74,27.0,0.0,0.0,0.66,494.0,2.1,1.9,0.065,1.8,1.4,30.0,2.3,4.4,1.3,7.1,1.3,1.2,3.1,0.39,0.07,0.0,0.085,1.1,1.1,1.6,1.9,0.85,1.3,1.5,2.2,0.0,16.0,0.0,0.68,1.6,1.4,22.0,1.0,62.0,1.4,0.23,0.0,0.0,6.6,0.35,0.47,0.48,0.88,4.1,0.0,6.6,3.6,1.9,1.8,2.2,3.0,1.4,2.2,0.0,1.7,4.6,0.3,0.0,0.09,1.6,1.2,1.5,1.2,1.6,3.4,393.0,15.0,2.5,6.0,1.2,1.5,4.3,3.5,1.5,58.0,2.3,2.2,4.8,1.1,1.0,1.9,2.6,6.8,7.9,1.2,9.299999,3.8,0.66,0.0,1.0,0.075,2.2,3.0,0.96,11.0,1.4,0.15,1.4,1.2,2.9,2.3,1.5,0.0,1.5,0.64,2.0,1.6,3.6,20.0,0.8,2.6,0.0,0.08,0.0,7.2,1.1,5.1,3.1,1.8,2.9,3.1,3.0,3.1,0.27,4.9,2.0,2.7,1.9,0.83,0.89,0.13,2.3,11.0,0.08,4.3,2.5,0.0,1.0,0.6,2.1,5.4,1.5,2.1,0.59,2.1,0.39,0.25,1.2,1.9,10.0,1.1,0.21,14.0,4.0,2.0,0.7,38.0,1.9,1.0,0.105,6.5,2.4,2.1,252.0,1.2,2.6,0.76,0.19,1.7,1.9,2.7,2.7,0.93,1.3,0.0,7.9,1.1,2.1,2.8,0.0,6.7,1.6,2.2,1.6,7.8,2.2,2.1,1.1,3.6,1.3,1.1,0.22,2.4,5.1,0.9,1.0,1.7,1.1,1.9,2.2,0.88,2.5,12.0,0.63,2.0,3.0,4.5,5.2,2.4,5.9,1.7,0.15,0.0,1.1,1.6,2.2,5.1,15.0,16.0,2.4,1.6,4.4,8.4,0.05,8.2,2.5,1.0,1.9,0.06,0.1,4.6,4.2,1.6,1.6,0.41,0.0,1.6,2.7,2.4,1.5,1.1,0.0,0.045,7.2,2.3,2.0,2.8,0.46,4.3,0.46,2.7,4.1,0.5,0.91,0.035,1.0,3.2,1.4,0.0,3.0,1.0,1.5,2.3,0.075,1.1,1.0,3.6,3.1,0.47,2.7,0.33,0.025,0.94,1.7,6.0,0.63,1.3,3.4,2.7,4.9,0.46,2.3,0.08,1.6,0.055,4.2,14.0,5.5,11.0,0.87,0.59,5.2,0.03,0.37,0.18,0.0,0.0,1.4,3.2,2.4,2.9,0.56,0.0,3.0,1.0,0.88,0.41,0.0,7.3,0.37,3.5,0.99,5.0,0.71,4.2,0.81,2.2,1.5,2.6,5.3,0.82,0.13,2.1,0.0,0.99,1.5,0.07,1.1,1.3,0.0,3.1,0.0,0.13,0.96,5.7,0.97,1.3,2.2,1.3,2.1,1.5,0.88,4.1,1.5,1.0,2.7,1.8,0.66,2.1,0.18,1.8,1.9,8.9,1.3,2.2,10.0,0.37,0.31,4.7,106.0,0.04,1.4,2.8,0.1,3.1,0.67,11.0,3.3,1.6,14.0,1.7,1.0,0.92,1.1,4.5,0.03,1.3,1.7,0.03,3.1,1.5,1.4,0.38,0.89,4.2,1.3,2.6,1.2,0.57,3.1,1.8,1.8,9.4,0.62,0.0,18.0,3.8,1.3,0.0,44.0,1.5,0.37,0.03,0.81,1.6,1.6,2.3,2.9,1.5,1.7,0.68,27.0,5.5,0.03,1.2,0.67,0.04,0.11,3.9,0.11,0.05,0.94,59.0,0.93,7.7,1.3,1.2,0.04,2.6,0.22,1.1,7.7,0.13,0.32,0.045,1.8,118.0,1.7,9.299999,2.2,3.4,0.045,0.12,3.8,11.0,176.0,1.7,4.2,1.9,2.8,2.1,16.0,1.5,1.5,1.3,4.1,4.8,0.0,0.85,4.2,1.1,0.89,0.99,0.05,0.04,1.6,1.1,7.7,1.1,0.45,0.23,0.48,1.1,2.7,2.4,3.7,0.05,1.6,2.7,0.82,1.1,1.2,1.2,0.58,7.8,2.9,1.3,2.4,0.17,20.0,0.46,0.43,1.14,0.75,1.1,1.12,1.4,31.0,191.0,2.4,2.9,0.29,0.77,2.0,0.92,0.06,6.0,73.0,1.3,2.9,2.9,1.8,1.0,0.84,2.3,0.56,1.6,0.06,0.95,0.0,1.2,0.62,0.82,2.6,3.6,0.0,1.7,1.3,1.3,1.3,3.7,1.8,3.4,2.8,0.03,3.5,1.8,0.015,1.6,0.03,0.07,1.3,0.61,12.0,1.8,1.2,0.22,1.7,0.69,1.1,0.79,5.1,1.1,1.1,2.4,1.9,2.0,1.1,2.4,1.7,0.43,0.75,6.0,2.0,3.0,0.66,0.055,0.65,0.0,1.9,4.6,2.4,3.0,0.48,2.3,1.6,0.06,1.5,1.4,1.2,3.5,1.9,0.82,3.3,5.9,0.0,0.055,1.5,1.4,0.0,65.0,3.2,2.4,1.7,0.08,0.005,5.1,1.7,170.0,3.1,1.2,4.3,1.4,0.98,1.3,1.9,0.09,9.9,0.33,0.0,0.0,3.5,1.3,0.57,2.3,0.0,2.6,0.31,0.16,1.5,1.4,1.9,1.0,0.0,0.74,2.2,1.2,0.0,5.6,0.07,3.4,12.0,2.2,2.2,2.6,2.7,0.45,0.96,2.5,4.5,22.0,0.81,1.4,3.8,1.7,0.77,3.1,1.2,1.6,2.8,0.07,3.4,3.4,1.4,1.9,1.6,0.93,2.5,6.5,41.0,3.9,5.0,3.6,1.3,1.8,1.1,3.7,2.0,1.4,1.5,0.07,2.0,3.0,4.5,6.7,0.24,2.0,0.075,1.4,3.2,0.075,0.47,3.4,0.7,1.3,5.9,7.3,0.1,0.0,2.9,1.7,2.3,0.26,1.1,0.085,0.32,0.105,6.4,5.5,2.1,0.27,0.52,2.1,7.2,4.5,2.0,8.9,8.5,7.8,3.2,0.1,1.0,166.0,2.0,1.9,6.2,1.5,0.0,1.9,5.4,4.0,0.065,0.04,1.8,1.4,4.4,1.1,4.3,0.52,0.0,0.04,3.8,7.3,3.0,3.4,0.21,0.91,2.2,3.1,1.4,1.6,0.0,1.3,0.63,1.2,0.85,3.1,2.6,0.52,2.5,3.7,2.6,0.72,2.5,2.5,1.9,20.0,0.57,1.0,0.11,0.045,1.4,1.8,1.3,2.1,1.1,0.055,3.4,3.7,2.1,1.8,460.0,1.6,3.3,1.3,4.1,1.4,0.0,192.0,0.11,4.3,1.7,1.4,1.6,1.7,1.2,0.015,4.6,2.6,1.2,3.3,4.0,1.7,1.9,2.0,1.3,2.2,14.0,2.3,1.4,0.0,0.0,2.0,2.0,0.28,2.7,2.1,10.0,0.98,0.33,7.1,7.5,4.8,0.0,1.4,2.0,1.1,1.0,0.2,5.6,0.0,109.0,0.0,0.055,1.2,0.11,0.0,0.035,0.0,15.0,2.1,0.34,1.9,0.85,136.0,0.06,3.6,0.74,0.0,0.0,3.4,11.0,2.2,3.5,2.5,1.7,0.0,0.06,0.85,1.4,1.5,1.4,2.7,1.1,11.0,0.04,0.79,6.1,0.0,0.04,1.9,0.94,0.91,0.98,1.8,2.3,1.8,0.0,0.0,0.28,2.0,2.0,1.4,2.0,3.4,1.9,2.9,1.5,2.6,2.2,11.0,0.005,1.4,15.0,0.66,1.0,0.0,0.8,0.29,1.3,0.0,1.8,3.5,2.0,0.025,1.7,3.5,0.34,47.0,2.6,2.2,0.83,0.27,2.5,1.5,2.0,0.46,1.2,40.0,3.9,2.0,1.8,0.035,1.9,1.9,0.0,0.0,0.83,0.05,2.6,1.4,1.8,2.8,0.83,0.83,1.7,3.2,1.3,3.5,8.099999,1.1,0.0,0.81,0.02,3.1,2.4,0.02,13.0,1.1,14.0,4.7,0.8,0.5,1.9,7.6,10.0,2.1,0.02,1.9,0.02,0.0,1.3,1.6,0.4,1.8,2.6,1.1,2.5,3.2,1.0,1.1,3.4,0.02,1.3,2.8,0.25,2.2,1.3,0.0,0.69,0.02,0.59,2.5,0.77,1.3,6.6,8.299999,1.7,1.7,1.0,1.7,2.1,0.0,0.01,0.52,1.3,0.01,0.04,0.8,1.6,5.4,3.3,1.5,0.56,1.1,3.7,1.7,2.7,1.9,2.4,65.0,1.1,1.3,3.2,1.8,3.5,0.88,5.6,7.0,2.6,1.5,6.7,1.5,2.7,2.9,23.0,1.1,2.5,1.8,0.06,3.1,1.8,4.0,0.37,0.92,2.3,2.2,0.17,0.0,0.56,0.95,1.4,4.1,3.2,2.5,0.0,4.1,0.0,0.0,0.005,3.5,198.0,0.0,0.09,0.0,6.0,1.0,1.0,0.0,0.09,1.7,38.0,1.2,9.5,1.4,0.0,0.09,0.09,1.9,5.5,4.3,2.4,1.2,1.0,1.4,2.1,2.4,1.3,0.0,7.3,1.6,1.5,24.0,2.1,1.8,0.0,1.4,3.1,1.3,2.6,0.35,0.49,1.5,1.2,1.8,4.8,0.9,1.7,2.1,1.8,0.025,2.3,0.82,0.0,73.0,0.0,0.025,3.0,1.7,1.2,5.3,0.38,2.0,0.025,1.1,0.015,0.05,2.7,5.4,0.03,1.8,3.1,1.7,2.4,3.6,3.0,0.07,4.1,1.2,1.9,3.6,0.0,0.015,7.5,0.06,4.4,1.5,0.83,2.8,1.1,0.0,0.67,1.01,0.64,4.6,0.4,22.0,0.84,2.1,0.91,2.3,2.2,1.6,0.49,1.6,1.1,3.1,1.3,0.83,4.0,2.3,1.1,2.4,1.3,4.1,0.06,13.0,1.1,1.1,2.1,4.2,0.7,0.0,3.9,0.94,1.4,0.99,4.8,7.9,0.005,0.005,1.6,0.37,0.01,3.2,2.3,1.1,3.0,2.9,0.64,2.7,3.4,0.04,1.0,2.1,2.2,1.1,0.02,13.7,1.5,0.56,0.84,0.57,0.86,20.0,1.1,0.67,2.7,2.0,4.5,18.0,0.0,0.82,1.0,0.69,0.41,0.02,26.0,0.02,1.2,0.02,2.2,1.1,0.0,0.96,1.1,0.05,49.0,0.64,22.0,3.5,1.5,3.3,1.5,2.3,2.0,1.1,4.0,4.0,0.02,0.0,0.02,1.3,1.9,1.8,0.04,1.0,4.2,1.4,0.72,0.02,0.02,1.8,1.3,1.2,0.53,1.1,0.0,2.4,0.54,9.4,1.8,1.5,1.5,1.4,0.02,0.02,2.8,2.6,0.98,4.0,0.15,1.3,5.9,0.8,0.35,0.0,2.6,2.9,5.5,0.12,0.0,74.0,0.72,1.5,2.1,5.0,0.0,0.0,2.1,1.1,0.97,0.035,0.3,1.4,3.4,2.7,32.0,2.7,1.5,0.85,1.2,3.0,4.3,1.7,1.9,1.6,1.3,53.0,1.8,2.5,2.5,2.3,0.4,0.89,5.2,4.2,3.4,2.0,1.2,1.7,3.9,1.3,0.95,3.1,0.035,3.5,30.0,1.8,3.3,0.0,3.0,0.09,0.0,2.8,6.0,1.2,1.3,3.6,2.8,0.0,1.4,0.025,1.1,0.02,1.5,6.3,2.1,1.3,1.1,0.0,4.7,20.0,500.0,2.1,0.02,3.6,9.099999,0.02,6.7,6.9,1.4,2.2,2.4,3.4,2.5,1.5,2.7,7.2,1.2,1.3,6.0,3.2,0.76,2.3,4.5,1.7,3.4,0.56,1.9,2.4,5.0,14.0,0.0,0.0,0.64,0.7,0.54,9.599999,2.6,2.1,0.99,0.55,0.02,2.5,2.0,0.94,0.0,3.6,23.0,1.3,2.2,0.0,0.99,3.1,5.4,0.0,4.8,2.0,4.0,1.8,1.5,1.1,1.4,0.68,4.8,1.9,4.6,3.5,2.3,1.3,0.0,1.0,5.1,0.41,1.7,2.9,3.3,3.3,1.5,0.5,1.0,1.5,3.7,5.1,4.2,3.6,1.2,1.6,0.73,0.025,0.96,0.03,0.8,0.97,1.9,1.3,1.9,1.7,0.46,1.3,1.8,1.2,2.1,1.0,21.0,2.3,1.7,6.9,5.5,0.93,3.0,3.9,3.3,1.9,0.65,1.7,0.46,0.77,0.9,4.9,2.5,106.0,0.76,2.8,0.56,5.9,1.2,0.38,0.06,2.3,1.7,1.5,4.8,2.7,1.5,0.72,1.6,0.0,4.7,1.8,1.1,0.025,2.3,3.8,2.3,0.87,1.1,2.1,0.0,1.1,1.5,0.97,1.4,0.0,1.8,1.9,3.3,2.3,0.34,2.6,0.82,85.0,0.41,0.79,3.1,59.0,2.4,1.6,1.4,1.1,0.82,0.36,4.01,1.7,0.0,2.8,1.1,1.5,78.0,1.7,0.48,0.62,0.08,2.0,2.3,1.4,20.0,2.5,1.2,1.2,4.7,0.54,2.1,0.93,3.4,2.0,1.4,0.12,1.7,1.2,1.4,3.5,0.45,2.1,3.1,3.3,0.96,4.4,0.05,2.1,0.78,0.53,3.8,11.0,2.2,2.5,0.0,0.0,1.4,1.7,2.1,0.0,0.06,3.9,1.6,1.5,17.0,1.4,3.9,2.6,0.12,0.89,0.73,4.1,0.0,0.0,1.4,53.0,5.8,0.06,2.3,7.4,3.6,3.4,2.4,12.0,1.4,1.3,0.74,1.1,0.0,0.0,18.0,1.1,0.34,3.3,2.6,1.1,0.97,0.0,0.0,0.0,0.0,0.0,0.0,0.0,0.0,0.0,0.0,0.0],\"type\":\"box\",\"xaxis\":\"x2\",\"yaxis\":\"y2\"},{\"name\":\"T3\",\"y\":[0.0,1.9,0.0,0.0,0.0,0.0,2.6,1.8,1.7,2.3,1.8,0.0,2.4,2.9,0.0,2.0,2.1,0.0,2.4,0.0,2.3,2.1,2.4,2.0,0.0,2.4,2.1,1.6,2.0,0.1,0.0,2.0,2.1,0.0,2.1,2.1,1.4,0.0,1.8,1.2,2.4,1.5,1.3,1.6,2.6,0.0,2.0,0.0,1.8,2.7,1.3,1.5,1.9,1.8,2.2,1.5,2.5,0.0,2.2,2.5,1.8,2.1,2.4,1.6,1.2,0.0,2.8,2.0,2.8,3.2,2.4,1.8,0.4,2.2,1.7,1.6,0.0,0.0,1.3,2.1,1.6,1.9,1.8,1.8,2.4,1.7,0.0,1.8,0.0,0.0,1.7,1.7,1.3,2.1,2.6,1.4,1.2,1.4,0.0,1.4,2.1,2.3,1.8,1.4,2.5,1.5,2.0,0.0,1.6,2.9,2.2,1.9,1.9,2.7,1.9,2.6,0.0,2.3,1.4,0.0,0.0,0.0,0.0,0.0,1.8,1.8,2.5,7.6,0.0,1.5,1.8,1.5,2.6,0.0,1.3,1.6,1.4,2.2,1.5,2.3,2.2,0.0,0.4,1.3,1.3,3.0,2.5,2.0,2.5,0.0,2.3,1.9,0.0,0.0,2.2,0.8,2.2,2.1,1.8,2.0,2.3,1.6,1.7,2.0,1.7,2.2,2.4,4.2,2.3,1.4,2.5,1.9,2.1,1.8,1.3,0.0,1.9,2.2,0.0,1.7,2.1,2.3,2.7,2.3,2.6,1.8,2.3,0.0,2.2,2.1,1.4,2.3,2.0,2.1,0.0,0.0,0.0,1.8,0.4,0.5,1.8,2.4,2.1,0.6,2.1,2.6,1.5,0.0,0.3,0.0,1.8,1.4,1.6,0.0,2.4,1.9,1.5,0.5,1.9,2.2,1.7,0.0,1.4,0.0,1.8,1.4,1.9,2.2,1.7,2.6,1.6,1.0,1.3,1.9,1.6,2.6,1.9,1.6,1.4,1.2,1.4,1.9,1.7,2.0,0.0,2.4,2.6,1.9,1.7,2.0,0.5,2.3,0.0,0.0,2.1,0.3,0.0,2.5,1.5,2.0,1.8,2.2,1.2,0.2,0.0,0.0,2.4,2.2,1.4,1.4,2.0,1.5,1.7,1.8,2.0,2.2,1.4,1.9,2.4,1.6,2.1,2.3,2.2,0.0,0.3,0.0,0.0,1.5,1.7,0.0,1.2,4.1,0.0,0.0,0.0,0.0,6.6,1.5,1.8,1.2,2.5,1.8,2.8,0.0,0.0,2.1,4.7,1.7,2.6,2.2,2.1,0.0,1.6,2.2,2.4,1.4,2.0,0.9,1.6,1.6,2.3,1.8,0.0,2.0,2.5,1.8,1.7,2.0,2.5,0.0,4.4,1.9,1.6,0.0,0.3,1.9,2.0,1.6,1.6,0.0,1.9,1.5,2.1,2.2,2.0,2.4,1.7,1.3,2.4,2.5,0.0,2.3,0.0,0.0,0.4,8.599999,2.2,2.1,0.9,1.2,0.0,0.0,2.1,0.0,2.0,1.5,2.1,0.0,2.3,2.2,2.4,1.6,2.0,1.5,2.0,1.6,1.4,1.7,2.8,1.2,2.4,1.9,1.9,2.2,1.7,2.4,2.2,1.2,2.6,1.7,3.8,2.8,0.0,2.7,2.1,1.9,2.0,2.2,0.0,2.0,0.0,0.0,1.8,2.6,0.0,0.0,0.0,2.0,0.0,7.6,0.0,1.8,1.3,2.2,1.5,2.4,0.0,1.2,1.8,2.3,0.0,2.6,2.4,0.0,0.2,1.4,2.0,1.6,2.8,2.6,1.7,2.0,0.0,2.3,1.9,2.0,1.2,1.5,2.1,1.9,1.5,2.3,3.0,0.0,0.0,0.0,1.9,0.0,1.5,1.7,1.9,1.0,0.0,2.4,2.4,0.0,3.0,2.4,2.2,0.0,2.2,2.1,1.8,0.0,2.5,0.0,2.4,0.0,0.0,1.7,1.9,2.7,2.2,1.5,1.8,2.1,2.3,0.0,0.0,1.6,2.2,0.0,2.6,2.5,1.4,1.7,1.5,1.9,2.8,7.6,1.8,2.0,1.8,1.9,2.6,2.4,2.1,0.3,2.0,2.7,0.0,2.3,0.0,1.6,1.9,1.8,2.3,0.0,1.6,0.0,0.7,2.0,1.8,2.1,1.8,1.6,2.0,1.9,2.1,2.2,1.6,0.0,1.7,1.9,2.3,2.3,2.6,2.1,2.4,3.3,2.8,2.4,0.0,0.0,0.0,0.0,0.0,2.4,2.5,2.6,0.0,2.9,0.0,0.0,1.7,2.3,1.7,2.3,1.7,2.0,2.4,2.0,0.0,1.7,2.0,2.1,0.0,2.0,1.8,1.6,2.1,2.1,2.0,4.3,2.1,1.9,1.4,2.1,1.3,1.2,1.6,1.4,2.1,0.0,1.7,0.0,0.0,1.5,1.4,1.2,0.6,2.1,0.0,1.6,1.0,0.0,1.5,0.0,0.0,1.8,0.0,1.4,1.5,1.4,1.2,1.8,1.6,1.4,1.6,1.8,1.0,1.7,2.0,1.4,0.0,1.5,1.2,2.1,1.2,2.0,1.8,1.2,1.6,0.9,1.0,1.8,1.2,1.6,0.0,1.2,1.2,1.5,1.4,0.2,0.0,0.0,2.1,0.0,2.2,1.2,1.9,1.3,0.3,0.0,1.5,1.3,1.3,0.4,0.05,1.3,2.3,1.6,2.0,0.0,0.0,0.0,0.0,1.3,1.7,1.7,0.0,1.2,0.0,1.6,2.1,1.3,0.4,1.6,2.0,1.3,1.6,1.5,1.7,0.0,1.6,2.3,0.0,1.7,2.1,1.7,0.0,1.7,1.2,2.2,1.7,1.2,1.7,1.7,1.1,0.0,1.3,0.0,0.0,0.0,1.8,0.0,1.6,0.9,1.5,1.7,1.9,1.3,1.4,2.8,0.0,1.9,1.7,2.5,0.0,2.2,0.0,1.5,1.2,1.7,1.0,2.1,0.6,1.8,3.2,1.3,1.3,1.8,1.5,0.0,1.9,1.5,0.0,0.0,0.0,0.0,1.7,2.0,1.5,1.9,1.6,1.6,2.3,1.7,1.9,1.7,1.9,0.0,1.4,1.7,1.7,1.5,0.2,1.3,1.3,0.0,1.1,1.8,1.5,1.8,1.7,0.6,2.0,1.4,1.8,1.7,1.7,2.6,1.5,2.2,1.7,1.6,1.9,0.0,0.0,0.0,1.6,1.6,1.4,1.8,1.6,0.0,1.6,1.6,1.8,0.0,0.0,0.0,1.9,1.7,1.8,1.5,1.3,0.0,0.4,0.0,1.2,1.6,2.0,1.3,1.4,1.7,1.5,1.5,1.3,1.9,1.2,2.2,2.1,0.4,0.0,1.2,0.0,1.2,0.0,2.0,1.3,1.6,3.0,1.8,1.4,1.4,4.6,1.5,1.6,1.3,1.4,1.2,1.3,0.0,0.0,1.6,3.3,1.3,1.1,3.2,2.5,2.3,2.5,1.7,1.5,1.4,0.4,1.7,1.5,1.2,1.6,0.0,2.0,1.5,1.4,0.0,1.4,0.4,1.3,2.2,1.9,0.0,2.7,1.6,1.7,1.4,1.9,0.0,1.3,1.8,1.9,2.1,1.6,2.4,2.3,1.8,2.3,1.9,1.3,2.1,0.0,2.0,0.0,2.2,1.3,0.0,2.1,1.6,0.0,2.4,1.4,1.8,1.6,2.2,1.5,1.8,0.0,1.9,2.1,1.8,2.3,0.0,1.8,0.0,2.2,1.6,0.0,0.0,0.0,1.8,1.9,2.1,2.0,1.0,0.0,1.4,0.0,1.6,0.0,2.2,1.4,1.7,1.7,1.2,1.7,1.2,1.3,1.5,2.0,0.0,0.0,1.7,2.8,1.4,1.7,1.6,2.5,4.9,1.5,2.6,1.7,2.2,2.0,2.4,1.5,1.9,2.2,1.2,0.0,3.3,1.8,2.1,2.6,2.3,1.8,0.0,1.2,1.5,1.8,2.1,1.9,1.7,1.5,2.1,2.1,1.7,1.7,2.1,1.3,4.3,1.3,0.0,0.4,2.1,2.8,0.0,1.4,1.6,1.7,1.4,1.4,1.8,1.2,2.2,6.2,2.5,0.0,2.2,1.9,2.7,3.1,0.0,1.7,0.0,2.5,1.3,0.0,1.5,2.5,1.4,1.2,1.7,1.6,1.6,1.2,1.9,2.5,0.0,1.9,1.4,0.0,0.0,0.0,2.1,1.4,0.0,1.9,1.5,2.4,2.2,1.8,1.9,2.2,1.9,0.0,0.6,0.0,0.0,1.5,2.1,2.5,2.0,1.6,1.8,0.3,1.7,0.0,0.0,0.0,0.0,2.1,1.5,1.8,1.4,0.0,2.0,1.6,1.5,1.7,1.6,1.6,2.7,1.2,3.7,1.3,1.6,1.4,1.8,1.4,1.6,2.1,0.0,2.4,2.0,2.6,2.1,2.3,2.4,1.9,2.4,0.0,1.8,1.5,0.0,3.5,0.0,1.8,2.0,1.2,1.4,2.3,0.0,1.3,0.0,1.6,1.9,2.8,0.0,0.0,0.0,2.7,1.8,0.0,2.3,0.0,2.1,2.3,1.6,0.0,2.5,1.3,1.2,2.1,3.0,2.3,1.9,1.6,2.2,0.0,3.0,0.0,1.6,1.5,6.6,1.8,2.2,1.9,2.0,2.0,1.4,2.4,1.8,0.0,0.0,2.2,2.9,1.7,1.5,1.4,1.7,2.2,1.6,3.9,0.0,3.1,3.5,1.4,1.3,2.3,1.8,1.5,1.5,1.5,1.3,2.0,1.6,0.0,2.6,2.4,2.0,1.9,2.0,1.8,1.6,1.9,2.1,2.5,2.6,1.7,2.1,0.0,2.8,1.5,1.8,2.2,1.5,1.6,1.8,1.6,0.0,0.0,0.0,1.2,2.4,1.8,2.1,2.8,1.5,1.6,1.7,1.1,1.4,1.6,0.0,1.5,0.0,1.8,2.0,1.2,1.8,0.2,1.7,0.8,1.9,1.8,0.0,0.4,2.0,1.8,0.0,1.7,2.1,1.7,1.9,0.2,0.0,0.0,1.5,2.0,2.1,2.0,1.5,2.1,2.7,2.3,1.7,1.4,1.7,2.3,2.2,2.0,1.7,2.2,1.3,2.6,0.0,0.0,1.7,0.0,1.3,1.9,1.8,0.0,0.0,1.8,0.0,2.4,1.3,0.7,2.3,1.9,1.7,1.9,2.2,1.2,4.7,0.0,0.0,8.9,0.0,2.3,2.0,1.8,2.6,1.9,1.6,2.5,1.8,1.5,2.2,0.0,2.3,2.0,0.0,1.7,0.0,0.0,0.0,0.0,2.2,1.6,1.8,4.2,1.8,2.2,0.0,2.0,2.4,2.8,1.7,1.7,0.0,2.0,2.6,1.7,1.7,1.4,1.9,1.8,1.7,2.5,1.7,0.0,1.2,1.2,1.8,1.8,2.0,1.4,1.3,2.2,1.2,1.2,2.0,2.5,2.3,1.6,0.0,1.1,0.7,1.9,2.1,1.3,2.2,0.0,0.0,1.9,2.7,2.0,1.7,1.8,2.5,1.5,2.0,0.4,2.0,0.0,1.9,0.0,1.8,2.2,1.7,1.3,2.1,1.8,0.0,0.0,2.7,2.1,2.2,1.8,1.4,1.6,3.0,2.1,0.5,2.5,1.5,2.1,2.0,1.3,1.3,2.3,0.0,0.0,2.4,1.0,2.1,1.2,1.8,1.7,1.8,0.0,0.0,2.2,1.2,1.8,4.5,1.3,1.9,1.9,2.4,0.0,0.0,1.9,3.5,2.5,1.9,1.4,1.5,2.3,1.9,3.1,2.2,2.2,1.5,1.9,2.2,2.1,1.9,3.8,1.6,2.5,1.6,1.7,2.4,0.0,1.7,1.8,2.2,1.6,1.7,1.9,1.9,2.9,2.3,2.1,1.6,1.8,2.0,3.8,1.6,7.6,0.0,1.7,1.2,1.9,8.9,2.5,2.4,1.9,1.8,0.0,0.0,2.6,0.0,4.5,1.8,1.9,3.1,1.8,2.7,1.1,1.9,1.9,2.1,2.2,1.8,2.1,1.9,1.6,2.0,2.2,1.2,1.3,2.5,1.4,2.5,2.6,1.5,1.5,2.4,1.7,2.6,1.6,2.3,2.0,2.4,2.3,2.3,2.3,2.0,1.8,2.0,1.8,0.0,2.1,0.0,0.0,2.6,2.1,2.4,1.4,0.9,1.3,0.0,1.7,2.5,2.2,1.8,2.8,4.8,4.7,0.0,0.6,1.5,1.4,1.9,1.8,0.0,0.0,1.8,1.8,3.0,0.0,1.9,2.2,1.3,1.8,2.8,2.8,1.6,0.8,3.6,2.0,2.0,1.7,1.3,2.2,3.2,1.5,2.1,2.6,2.6,2.3,1.8,2.1,2.2,2.1,2.2,1.9,6.2,2.6,2.0,2.6,0.0,2.5,2.0,0.0,0.0,2.2,3.6,2.7,2.4,1.6,1.9,2.0,1.4,2.1,5.0,2.5,2.2,1.1,1.6,2.0,1.2,2.0,2.5,2.2,0.0,0.5,0.8,0.0,0.0,1.9,2.0,0.0,1.9,1.9,2.1,1.9,2.4,1.6,1.8,1.8,1.1,2.4,3.8,0.0,2.0,0.0,5.1,1.2,1.9,2.2,1.3,0.4,1.6,0.0,2.8,1.4,2.1,2.3,2.2,2.7,2.1,2.5,1.6,2.3,0.0,2.4,0.0,0.0,2.5,1.9,2.4,1.6,2.4,1.7,2.2,0.0,2.4,0.0,2.4,0.0,1.3,2.7,1.8,1.2,1.4,2.2,1.7,1.6,1.6,2.2,2.0,2.3,0.0,0.0,2.5,1.4,2.4,2.6,2.0,1.6,1.8,2.2,0.4,0.0,0.0,2.3,0.0,1.7,2.1,2.3,2.8,1.2,1.7,2.0,2.2,0.0,2.0,2.1,2.5,1.8,0.0,2.2,1.8,2.3,2.5,2.1,1.5,1.2,2.9,1.8,2.0,2.6,2.1,2.5,2.3,1.8,1.9,1.7,2.3,2.1,2.0,0.0,2.3,1.8,1.5,2.0,3.1,1.8,2.6,2.1,1.9,0.0,0.0,0.0,0.0,2.2,0.0,0.0,0.0,2.4,1.9,1.4,2.2,1.9,2.3,2.4,2.9,2.6,2.3,0.0,0.0,0.0,0.3,0.0,1.8,1.5,2.0,2.7,2.0,0.0,0.0,2.3,2.1,0.0,2.2,2.0,2.0,2.5,1.8,1.9,2.0,2.0,1.3,1.9,2.6,2.6,4.3,0.0,1.8,0.0,1.8,0.0,0.0,0.0,2.1,2.0,1.7,2.7,2.1,2.0,2.7,0.0,0.0,2.0,2.0,1.5,1.4,1.2,1.5,2.3,2.0,4.2,3.1,0.0,2.6,2.3,0.0,0.0,1.8,2.3,2.0,2.4,2.0,1.8,2.4,2.1,2.4,2.0,2.4,0.0,2.5,0.0,2.3,1.8,1.8,1.2,1.9,1.5,1.7,0.0,2.8,0.0,0.0,2.5,1.9,2.1,0.2,0.0,1.6,2.4,1.9,2.3,1.2,2.6,3.2,1.5,1.1,2.3,1.2,0.0,0.0,2.9,1.8,1.5,2.4,2.7,2.8,2.2,2.5,0.0,1.6,0.0,2.6,1.7,0.0,1.5,1.5,2.2,0.0,2.4,1.8,1.2,1.5,1.0,1.6,1.9,0.0,2.4,2.7,2.3,2.0,0.0,0.0,3.2,1.5,0.0,0.0,0.0,0.0,2.6,1.7,2.0,2.2,2.3,2.2,0.0,2.1,1.9,2.4,1.5,1.6,2.1,1.9,2.2,2.2,2.6,2.4,1.7,1.8,1.8,1.7,0.0,2.5,0.0,0.0,0.0,2.2,1.9,0.0,2.4,2.1,2.1,0.7,1.6,2.5,2.8,0.0,2.2,2.9,1.9,2.1,2.3,2.4,1.3,1.6,2.0,1.8,2.2,1.2,2.6,2.3,2.9,2.4,1.9,2.4,0.8,1.5,2.3,1.7,2.4,1.8,1.7,5.3,2.8,1.2,1.4,2.1,1.5,2.3,2.2,1.7,1.6,1.9,2.1,2.2,2.3,1.6,2.4,0.0,0.0,0.0,0.0,1.4,1.5,2.1,0.0,2.3,0.0,0.0,0.0,2.6,2.5,2.1,2.2,1.7,0.5,2.4,0.0,0.0,2.0,0.0,0.0,0.0,2.7,2.0,2.8,3.5,5.1,2.4,2.2,1.7,4.3,0.0,2.4,2.0,2.7,2.9,1.7,2.8,1.6,0.0,1.6,1.8,0.0,0.7,2.7,2.2,3.0,2.1,2.5,2.3,2.3,1.9,2.8,0.0,0.0,2.6,2.5,1.9,1.4,1.6,2.9,2.1,0.0,2.3,2.3,0.0,0.0,2.4,2.2,1.9,2.1,1.8,2.7,1.9,2.2,1.6,2.2,2.5,1.8,2.1,2.1,0.0,2.2,2.3,0.0,0.0,0.0,0.0,1.2,1.7,1.9,0.0,0.0,3.1,1.3,0.0,2.1,1.7,2.0,2.3,2.2,0.0,1.6,2.3,2.3,2.3,2.0,2.0,1.3,0.4,1.9,1.9,1.8,1.4,1.9,1.3,1.8,1.2,1.2,0.0,2.1,2.3,1.4,2.0,0.0,2.0,0.0,0.0,1.5,2.1,2.3,2.1,1.8,1.4,3.0,0.0,0.0,0.0,0.0,2.1,1.8,2.0,0.1,2.2,2.0,1.6,0.0,1.5,1.9,2.1,3.1,2.3,2.8,2.0,1.4,2.2,2.5,1.6,2.2,2.6,1.9,1.4,7.3,2.5,1.9,2.0,2.0,2.4,2.5,2.5,1.7,1.5,0.0,1.6,1.6,1.8,6.1,1.9,2.7,0.0,0.0,3.8,2.8,1.1,1.7,0.0,2.9,2.2,1.8,1.2,1.5,2.5,3.1,1.8,0.0,2.9,0.0,2.7,1.7,2.0,1.8,1.6,2.6,0.0,0.0,0.0,1.9,0.6,2.3,1.5,2.4,2.5,1.4,1.2,0.0,2.3,0.0,1.6,1.4,2.2,0.0,1.5,2.9,2.0,1.5,0.0,0.0,0.0,2.1,0.0,2.0,1.3,1.4,1.8,0.0,2.6,0.0,0.0,2.3,2.0,1.6,0.0,1.0,2.4,2.0,1.6,1.8,1.9,1.8,0.0,2.0,1.6,2.1,2.2,2.8,2.4,0.0,2.5,0.2,0.0,3.7,1.3,2.2,2.0,2.4,2.5,2.9,2.5,1.8,2.9,3.0,2.6,0.0,0.0,0.0,2.6,2.6,2.0,2.1,0.0,4.0,1.8,2.1,2.0,2.4,2.1,2.0,2.3,1.6,0.0,1.9,1.9,0.0,2.3,2.0,2.4,2.3,1.4,1.3,2.2,2.1,0.6,2.3,0.0,0.0,1.9,2.8,1.9,0.0,2.3,1.9,2.3,2.0,2.5,1.7,1.5,2.2,2.9,1.5,2.4,1.7,1.6,0.0,2.3,1.8,4.5,0.0,0.0,2.2,0.0,1.8,1.5,2.0,0.0,0.0,2.6,2.0,2.1,2.3,2.2,1.9,2.5,2.8,3.0,0.9,1.3,2.4,1.9,1.8,2.1,4.5,2.2,1.8,1.9,4.3,0.0,2.7,2.3,1.8,2.5,1.0,1.2,1.4,2.8,0.0,2.5,2.5,1.9,0.3,2.9,2.5,1.5,2.2,2.3,2.4,2.1,2.9,2.2,0.0,0.0,3.7,0.0,2.4,0.0,0.0,1.7,2.0,2.3,2.3,2.8,0.0,2.2,1.6,3.4,2.4,2.4,2.8,0.0,2.1,2.4,2.3,2.8,3.6,0.0,1.3,1.6,1.4,2.3,2.1,1.9,1.5,1.4,0.3,2.2,0.2,2.0,2.5,3.4,2.4,1.1,2.0,1.4,2.3,2.2,1.3,2.5,2.6,1.8,0.0,1.8,0.0,0.0,2.8,0.0,2.1,1.4,0.0,1.5,2.3,1.4,1.5,2.2,1.5,1.5,2.4,2.7,2.2,0.0,0.0,4.2,1.3,1.2,1.8,3.6,0.0,3.0,2.2,2.8,2.7,1.7,1.9,0.0,3.1,2.5,0.0,2.4,2.0,2.0,2.4,1.7,2.9,2.7,2.1,2.9,0.0,1.7,3.7,2.7,2.3,0.0,0.0,0.0,0.0,0.0,2.3,0.0,0.0,1.4,2.5,1.2,1.6,2.2,1.8,0.0,0.0,0.3,2.0,2.6,2.2,1.6,2.2,3.1,2.1,1.7,1.8,2.0,1.6,2.9,1.5,2.3,1.9,2.1,2.2,2.2,2.1,1.7,2.8,2.1,0.0,2.2,2.4,1.6,0.0,2.3,1.3,1.3,3.2,2.0,2.4,1.7,2.3,1.5,2.3,2.5,1.9,0.0,0.0,0.0,2.0,0.0,0.0,1.9,1.8,1.9,1.1,1.9,2.5,2.0,2.3,2.2,1.9,1.2,2.2,0.0,0.0,4.2,2.0,1.6,2.5,3.4,3.0,0.0,2.4,2.6,2.2,0.9,2.5,2.5,1.9,2.5,2.0,3.5,2.5,2.8,1.7,2.7,1.8,1.2,0.0,2.8,2.6,2.6,1.1,1.8,0.0,2.3,2.0,2.1,1.8,2.0,2.5,1.5,1.2,3.0,2.5,0.0,2.4,1.9,2.2,1.8,1.8,1.8,0.0,0.0,2.0,0.0,0.0,2.5,1.6,2.2,1.6,0.0,0.0,2.5,0.0,2.4,2.5,2.3,1.5,2.3,2.3,1.6,2.2,2.7,1.3,1.6,0.0,0.0,0.0,2.6,2.5,2.7,2.1,2.0,1.8,2.2,2.4,2.7,2.4,2.4,2.1,2.1,2.6,2.6,2.4,2.5,1.5,2.3,4.2,2.7,0.0,1.6,2.3,2.0,2.7,2.3,1.2,2.0,1.8,1.7,0.0,1.5,2.1,2.3,2.4,1.8,1.8,1.6,2.6,2.4,0.0,2.0,1.7,1.7,2.7,2.8,2.2,1.3,1.8,1.9,2.2,2.9,2.7,2.9,1.4,2.3,1.8,2.2,1.4,1.5,2.4,1.6,1.4,2.2,2.8,2.1,0.0,2.5,1.7,1.7,1.9,1.5,1.9,2.4,1.9,1.6,0.0,1.0,2.3,0.0,0.0,2.3,2.0,2.1,2.0,1.3,1.4,2.1,2.0,2.4,2.3,2.3,0.0,2.1,1.7,2.1,0.4,1.8,2.1,1.4,1.4,1.6,1.9,1.6,1.5,2.1,1.4,1.8,2.6,2.3,2.4,1.4,1.3,3.3,1.4,1.8,2.2,1.4,1.8,2.6,1.6,1.0,1.6,3.6,0.0,2.5,2.4,1.9,1.7,1.2,1.6,2.2,1.9,1.3,1.9,1.5,2.0,1.9,0.0,0.0,2.6,1.5,0.7,1.8,0.0,2.2,2.3,2.2,2.0,1.4,1.7,1.8,1.5,0.4,0.3,2.1,1.6,2.0,2.7,1.6,2.5,1.9,2.2,2.3,0.0,1.8,2.1,0.0,2.0,1.2,1.9,1.6,2.6,0.0,1.8,1.7,2.0,1.7,1.6,2.0,2.2,1.6,2.0,1.5,2.8,1.5,1.7,2.0,2.3,1.6,2.0,2.2,2.5,0.7,2.3,1.3,1.8,0.0,1.7,1.8,0.0,1.2,2.1,1.4,0.0,0.0,2.3,2.0,2.8,1.9,3.1,1.3,0.5,1.6,1.7,1.6,2.0,0.0,1.8,1.6,1.8,1.3,2.0,2.2,1.8,2.3,1.6,2.0,0.0,0.0,1.3,2.3,2.1,2.0,1.8,1.9,1.6,1.4,1.7,2.0,2.4,1.8,0.0,2.0,1.3,2.0,1.8,1.3,2.2,2.0,1.6,1.8,0.0,1.9,1.8,2.1,1.7,1.3,1.7,0.0,0.0,0.0,2.0,2.0,0.0,0.0,2.2,3.8,1.2,2.1,2.2,2.1,0.8,2.2,2.7,1.8,1.9,1.7,2.0,1.6,1.3,1.7,1.5,1.9,1.3,1.7,1.5,1.5,1.6,1.4,1.3,2.4,1.3,1.3,0.0,1.5,1.2,1.3,1.5,2.5,1.0,1.6,1.8,0.0,0.0,2.5,1.2,1.8,1.8,3.8,1.4,1.7,4.5,1.3,1.7,2.1,0.0,1.7,0.0,0.0,0.0,0.0,2.3,1.6,1.8,1.6,1.5,1.5,1.6,0.0,1.3,1.0,1.4,1.6,1.3,0.5,0.0,0.0,0.0,1.3,2.1,2.1,2.7,2.0,0.0,1.6,2.3,0.2,0.0,2.1,2.0,2.1,1.6,2.3,1.9,1.7,1.8,1.9,0.0,0.0,2.3,1.8,2.3,1.9,1.4,1.6,4.1,0.0,1.7,1.8,2.5,2.0,1.8,1.1,1.7,2.2,1.7,0.0,1.5,2.2,1.7,1.9,1.3,2.0,1.6,0.0,0.0,0.0,0.0,2.6,2.2,2.5,3.1,2.6,2.1,1.3,2.4,2.4,2.2,2.1,1.9,2.2,1.6,1.5,2.0,2.6,2.5,2.4,1.3,0.0,1.8,2.1,2.0,1.6,1.5,2.5,1.7,2.0,2.3,1.6,1.2,1.4,2.1,2.3,1.4,1.3,1.6,2.1,0.0,1.3,0.0,1.4,1.3,1.5,1.3,1.5,2.6,0.0,1.3,2.5,1.7,2.2,2.5,1.6,1.3,2.4,1.7,1.2,1.6,2.2,2.5,1.7,2.4,0.0,2.4,4.5,2.3,3.0,3.4,1.5,1.9,3.9,1.6,0.5,1.5,1.3,2.5,1.7,2.5,1.7,2.0,2.5,2.0,2.7,2.6,1.6,2.2,1.6,1.7,2.1,1.1,1.9,2.1,1.8,2.0,1.6,2.0,2.5,0.0,2.4,2.6,2.0,1.4,0.0,2.6,1.2,2.1,0.0,2.2,2.7,2.3,1.3,1.4,1.8,2.3,1.2,2.6,2.3,2.5,1.8,1.6,2.0,2.0,2.4,0.0,1.8,1.6,0.6,1.7,0.0,1.9,1.4,1.7,2.6,1.6,2.2,1.6,2.3,1.8,2.0,0.8,0.0,1.4,1.9,2.0,1.8,0.0,2.7,1.8,1.5,1.3,0.0,1.9,2.4,3.9,1.5,1.8,0.0,0.0,1.8,1.7,3.9,1.5,1.7,2.1,1.5,1.2,1.3,2.1,1.7,2.8,1.4,0.0,1.5,0.0,2.2,2.1,2.1,1.8,0.0,3.1,1.6,2.4,2.9,0.0,2.0,0.7,1.8,2.1,2.0,1.4,2.3,1.9,1.5,2.0,2.2,2.6,2.4,2.0,1.9,2.0,1.4,0.0,1.8,1.9,1.5,2.1,2.2,1.5,2.1,2.2,1.7,0.0,2.0,1.9,2.5,1.7,1.4,4.0,1.2,1.5,1.8,1.4,1.7,2.0,2.0,1.8,0.0,2.3,2.1,2.0,2.3,2.4,1.7,2.2,2.2,2.7,1.9,1.9,2.0,2.1,2.7,2.1,1.8,0.0,2.0,0.0,0.0,2.6,0.0,1.6,1.8,2.1,1.8,0.8,0.0,2.6,0.0,2.2,2.4,2.1,2.2,2.2,1.2,2.9,1.9,3.1,2.0,0.0,0.0,0.0,0.0,1.6,2.0,1.3,0.0,2.3,1.9,2.2,1.9,2.0,2.0,1.4,1.9,1.9,2.2,1.8,1.8,2.0,1.2,1.3,0.0,2.3,2.2,1.8,1.9,1.9,2.4,1.5,1.6,2.4,2.1,1.7,1.8,2.4,2.3,2.5,2.7,1.3,2.2,0.0,1.5,1.7,2.1,2.3,2.5,1.8,2.8,1.9,1.8,1.9,2.1,2.4,2.2,2.0,1.2,2.5,3.6,0.0,0.0,0.0,2.4,1.9,2.9,1.9,1.5,2.7,2.5,1.9,2.1,2.9,0.0,0.0,1.5,0.0,0.0,2.7,2.5,1.7,3.8,2.7,2.7,1.6,0.0,0.0,1.4,2.4,2.2,0.2,2.8,2.8,1.3,1.6,2.0,1.7,0.0,3.3,2.2,1.5,1.7,1.5,0.0,2.2,1.6,1.8,2.7,2.9,2.4,0.0,2.3,1.8,1.9,3.0,2.3,2.2,1.8,1.2,2.2,1.8,2.1,2.5,2.3,2.6,4.4,2.7,1.4,0.0,2.2,2.3,1.9,2.1,2.1,1.8,2.2,1.8,2.3,2.5,0.0,0.0,3.4,2.1,2.5,2.2,2.1,2.4,2.0,2.2,1.4,0.0,2.7,2.4,3.3,2.7,2.1,1.3,2.0,2.4,0.2,2.1,1.9,2.5,1.5,0.3,2.7,0.0,2.6,2.5,2.4,2.2,2.3,2.2,2.5,2.0,2.1,3.6,2.0,1.5,3.5,0.0,2.3,1.8,3.4,3.3,2.0,2.1,1.8,1.9,1.9,0.4,1.3,1.8,2.3,2.3,2.4,3.0,2.6,2.4,0.2,1.7,2.3,0.4,1.2,1.6,1.6,2.1,0.0,1.9,1.6,1.9,1.9,1.7,2.0,1.9,1.7,1.9,2.0,2.1,2.0,0.0,1.5,0.0,1.9,1.3,1.5,2.4,0.0,1.4,1.2,2.5,1.7,2.4,2.3,1.4,2.6,0.0,2.8,1.0,1.6,2.2,1.9,2.1,3.3,2.1,1.8,1.7,1.3,0.0,0.0,2.2,2.8,0.4,0.0,1.9,1.5,2.5,1.7,1.9,0.0,2.3,2.2,1.7,0.0,2.0,1.5,2.4,1.8,0.0,0.0,1.8,1.5,1.7,0.0,2.0,2.5,6.0,1.7,1.5,2.2,1.8,1.2,1.6,2.3,1.4,0.4,1.4,3.4,0.0,4.3,2.0,0.9,1.5,1.9,1.9,1.5,2.1,1.0,1.8,2.3,2.3,1.5,0.0,2.0,1.7,2.0,2.0,2.2,1.4,0.0,2.5,0.0,2.3,1.6,0.0,1.9,2.3,1.7,1.6,1.9,1.7,2.4,1.7,2.0,1.5,2.6,0.0,1.9,2.1,0.0,1.8,1.7,1.6,2.4,2.0,2.2,1.9,1.9,2.3,2.7,1.4,1.6,2.4,1.7,1.8,0.0,1.9,4.8,2.8,3.4,0.0,5.5,1.9,0.0,2.0,1.7,1.8,0.0,2.3,2.3,2.1,2.2,0.0,2.3,1.9,0.6,0.0,1.9,2.1,4.2,2.5,2.2,3.3,4.8,3.1,1.6,1.6,1.4,1.3,1.4,2.6,0.0,2.1,0.0,2.2,2.0,1.9,2.8,0.0,2.5,1.7,2.1,1.7,1.8,2.2,0.0,1.9,2.0,5.3,1.7,1.8,2.1,1.9,2.0,1.2,2.5,1.8,1.4,1.9,2.8,2.3,1.3,2.8,2.4,2.3,2.6,1.2,2.1,1.9,2.7,2.1,2.3,2.1,2.2,0.0,2.0,0.0,0.0,2.5,1.7,2.3,0.0,2.0,0.0,1.5,2.2,2.3,2.3,2.1,1.8,2.2,1.5,1.4,2.1,3.0,0.0,0.6,0.0,1.8,2.4,1.2,2.0,2.9,0.0,2.0,1.4,1.8,1.4,2.2,1.7,1.4,1.6,1.9,2.5,1.8,2.2,1.8,3.2,2.5,2.1,2.2,2.5,2.1,0.0,1.8,1.8,2.3,2.3,2.9,1.4,0.0,1.2,1.5,3.0,1.8,1.3,2.5,1.9,3.0,4.0,2.7,2.4,2.0,3.0,0.0,2.2,2.0,2.5,2.1,1.7,1.5,2.2,0.8,0.0,1.8,2.4,2.3,1.4,0.0,2.3,1.6,2.4,0.0,0.0,2.6,1.6,1.6,1.6,2.5,1.7,2.2,2.7,1.7,2.1,1.9,1.8,1.2,2.7,7.1,1.6,2.2,1.3,1.9,1.8,0.0,2.0,2.1,2.3,2.0,2.3,2.0,2.6,2.0,1.3,2.0,0.0,2.6,1.7,0.0,2.6,1.9,1.6,2.3,2.4,1.8,1.9,1.8,0.0,2.7,2.1,1.9,1.3,2.3,1.9,2.3,1.9,2.8,0.0,2.0,2.0,1.8,1.8,1.8,2.3,2.5,2.0,2.0,2.3,2.4,2.6,2.7,0.0,1.6,1.5,1.4,1.5,0.0,0.0,0.0,0.0,0.0,0.0,0.0,2.5,2.1,0.0,0.0,0.2,0.0,0.0,2.0,1.2,1.9,1.6,2.6,1.5,2.0,0.0,1.6,1.9,2.5,1.3,1.7,2.3,2.0,2.5,1.9,1.5,2.1,1.3,0.0,1.4,1.3,1.5,2.1,2.7,2.0,2.5,2.4,2.2,2.2,1.5,1.5,1.7,2.8,2.0,3.4,2.0,2.6,2.4,1.3,1.8,0.0,1.2,1.6,2.0,2.4,2.1,2.0,2.4,2.2,1.9,1.4,0.0,1.7,1.9,1.5,2.5,0.0,1.7,0.0,2.1,0.7,0.2,1.3,1.9,2.0,1.9,1.8,2.1,2.2,1.2,2.5,3.1,2.1,1.6,1.7,1.5,2.4,2.0,2.3,1.9,2.4,0.0,1.8,2.3,2.2,1.6,1.9,1.6,0.0,8.5,2.9,0.0,2.2,2.2,0.0,1.6,0.0,1.4,1.5,2.4,2.0,2.5,0.0,0.0,2.2,0.0,2.2,2.7,0.8,0.0,1.9,1.3,0.0,1.8,1.7,1.9,1.7,1.2,1.6,1.8,0.9,4.9,2.6,1.4,2.0,1.5,0.0,0.4,3.2,0.0,2.0,2.0,0.0,1.8,1.2,1.8,0.0,0.0,2.0,2.0,2.5,1.8,2.4,2.4,2.0,1.3,0.0,1.8,0.0,1.6,1.5,2.0,1.7,2.3,2.2,2.4,0.0,1.6,0.0,2.0,0.0,1.7,1.6,1.4,2.0,0.0,1.9,0.0,2.3,0.0,1.6,1.0,2.1,3.8,2.1,0.0,2.3,2.1,2.5,1.4,0.0,0.0,2.3,0.0,0.0,2.2,2.0,1.0,0.0,1.5,1.5,2.5,2.0,2.0,2.8,0.0,2.8,0.0,0.0,0.0,2.6,1.2,1.6,1.4,2.5,1.4,2.3,0.0,1.5,1.2,10.599999,0.7,2.8,2.4,2.3,2.7,2.5,2.2,0.0,0.0,1.7,1.6,0.0,0.0,2.2,0.0,1.8,2.3,0.0,0.0,2.6,2.4,2.6,2.9,2.8,1.6,1.3,1.7,0.0,0.0,2.2,2.2,0.0,1.7,0.0,0.0,1.8,1.9,1.6,0.0,2.2,1.8,2.0,1.7,0.0,2.7,0.0,0.0,2.2,5.3,0.0,2.4,1.2,2.6,1.8,2.1,0.0,0.0,1.9,1.4,2.2,0.9,1.3,1.8,0.0,2.8,1.6,1.9,0.0,0.0,1.5,0.0,4.1,1.6,0.0,0.0,0.0,0.0,0.0,0.0,1.7,1.7,1.4,1.4,2.4,1.7,0.0,1.8,1.8,2.2,2.2,0.0,0.0,2.4,1.9,1.4,0.0,1.5,0.0,2.3,1.5,0.0,1.7,0.0,0.0,1.3,0.0,0.0,1.4,0.7,0.0,2.4,0.0,1.4,0.0,3.1,1.7,1.9,2.2,1.8,0.0,1.7,1.9,0.0,0.0,1.8,2.4,0.9,2.6,1.9,0.0,0.0,0.0,1.7,0.0,0.0,0.0,2.2,0.0,0.0,0.0,2.3,1.9,0.0,1.5,0.0,0.0,0.0,2.1,1.6,2.1,1.3,2.0,2.1,2.2,1.7,2.2,1.9,0.0,2.0,1.7,2.5,2.6,2.2,0.0,1.7,6.6,0.0,0.0,2.8,1.4,2.4,0.7,1.8,0.0,0.0,2.0,1.6,1.2,2.7,2.2,1.7,2.7,1.9,1.7,2.3,2.3,1.9,0.0,0.0,2.5,1.5,1.1,1.8,0.0,2.1,0.0,2.4,2.0,1.9,0.0,0.0,1.2,2.1,1.8,1.4,1.2,1.6,2.2,0.0,2.4,3.0,0.0,0.0,2.0,0.0,1.4,1.9,1.6,1.9,1.2,0.0,2.0,0.0,0.2,2.2,1.5,0.0,1.8,0.0,0.6,1.7,0.0,2.2,2.7,1.3,0.0,0.0,2.2,2.3,4.4,1.5,0.0,1.7,1.2,1.0,1.4,2.4,0.0,2.2,2.3,2.7,2.2,1.8,0.0,2.0,1.3,2.1,0.0,0.0,2.1,2.3,5.3,1.8,0.0,4.5,1.9,1.3,1.6,0.0,1.5,1.9,0.0,2.9,2.3,2.3,1.6,0.0,2.1,2.1,0.0,3.3,0.0,0.0,0.0,2.4,1.9,2.1,1.8,1.8,0.0,2.9,2.8,2.0,2.6,1.9,1.7,2.3,0.0,2.4,2.5,0.0,0.0,0.0,1.6,0.0,1.7,1.5,0.0,1.8,2.0,1.7,2.5,1.6,1.6,2.5,0.0,0.0,2.5,2.0,1.7,0.0,1.4,0.0,2.1,3.0,0.0,1.8,1.6,0.0,3.4,0.0,3.6,5.4,0.0,1.9,1.9,0.0,0.0,1.7,5.5,1.8,2.0,0.0,2.2,1.9,0.0,0.0,1.6,0.0,2.1,1.5,2.6,1.4,0.0,0.0,1.7,1.6,2.1,2.2,1.7,2.8,0.0,0.0,0.0,2.4,0.0,1.7,1.4,0.0,0.0,1.7,0.0,0.0,1.4,2.1,1.7,1.9,0.0,1.8,0.0,2.6,0.0,0.0,0.0,0.0,1.3,3.1,2.0,0.0,1.6,2.0,2.0,1.7,0.0,1.7,0.0,4.4,0.0,0.0,1.5,0.0,0.0,1.4,0.0,0.0,0.0,0.0,0.0,0.0,2.2,2.1,0.0,0.0,1.5,1.4,2.2,2.3,1.3,2.2,0.0,0.9,1.4,1.9,0.0,0.0,0.0,2.0,2.5,1.44,1.2,1.5,1.5,1.8,1.7,2.0,0.0,1.8,1.9,5.0,0.0,0.0,2.2,0.0,0.0,0.0,1.3,0.0,0.0,0.0,0.0,1.6,2.1,2.6,1.1,0.9,2.3,1.2,1.0,0.0,1.8,0.3,0.0,2.2,0.0,0.0,0.0,2.0,3.9,2.2,0.0,0.0,0.0,2.0,0.0,0.0,1.6,0.0,7.1,0.0,0.0,2.4,3.6,1.9,1.8,0.0,0.0,1.6,2.0,0.0,2.8,2.4,0.0,0.0,0.0,0.0,0.0,2.7,2.1,0.0,0.0,1.9,4.1,0.8,1.9,1.3,1.3,2.2,2.0,1.2,2.0,0.0,0.0,0.0,1.4,0.0,0.0,0.0,0.0,0.0,0.0,0.0,0.0,1.8,2.1,0.0,0.0,1.5,0.0,0.0,2.4,0.0,0.0,0.0,2.3,0.0,1.2,4.6,0.0,2.2,2.1,0.0,1.8,1.6,0.0,2.1,0.0,1.6,5.2,0.0,2.1,0.0,0.0,1.7,2.2,0.0,0.0,0.0,2.2,0.0,0.0,0.0,0.0,1.7,2.3,0.0,2.5,0.0,0.0,0.0,0.0,1.5,2.4,1.7,1.9,2.1,2.0,0.0,0.0,2.5,0.0,0.0,0.0,1.9,0.0,1.1,4.0,0.0,0.0,3.0,0.0,0.0,0.0,0.0,0.0,0.0,0.0,1.3,1.8,2.1,1.8,0.0,3.9,2.1,0.0,1.8,1.3,0.0,2.1,0.8,0.0,1.5,2.0,1.5,2.8,1.9,3.1,1.8,2.2,2.0,3.6,2.0,1.4,0.6,2.2,1.5,0.0,2.2,0.0,0.0,0.0,2.8,1.8,1.6,1.9,0.0,0.0,1.2,2.0,0.0,0.0,1.9,1.4,0.0,0.0,0.0,1.6,2.2,1.8,2.6,1.9,2.1,2.6,1.4,1.8,1.5,2.0,1.9,1.7,0.0,0.0,0.0,0.0,0.0,0.0,2.1,2.2,2.4,1.5,0.0,0.0,1.2,2.5,2.3,1.7,0.0,1.6,2.5,2.7,1.9,2.3,2.0,2.8,0.0,0.0,2.3,1.2,0.3,1.5,1.6,0.0,4.7,1.7,0.0,1.6,1.5,0.0,0.0,3.2,0.0,0.0,2.7,1.3,0.0,0.0,1.8,1.5,1.4,1.6,0.0,1.7,0.0,0.0,0.0,0.0,0.3,1.7,0.0,0.0,2.0,1.5,0.0,0.0,0.0,0.0,0.0,0.0,0.0,0.0,1.9,1.4,0.0,1.4,5.3,0.0,4.9,0.0,0.0,0.0,0.0,0.0,0.0,1.7,1.2,0.0,0.0,0.0,0.0,0.4,0.0,0.0,1.6,0.0,0.0,0.0,2.3,2.6,1.3,0.0,0.0,0.0,0.0,0.8,2.0,2.5,0.0,2.8,0.0,0.0,0.0,1.6,1.8,0.0,2.4,0.0,0.0,0.0,1.6,0.0,0.0,0.0,0.0,2.3,0.0,0.0,0.0,2.0,0.0,2.8,2.0,1.5,1.4,1.9,2.5,2.5,1.8,1.2,0.3,1.9,0.0,2.5,0.0,0.0,1.4,6.9,0.0,3.0,1.3,0.0,0.0,0.0,0.0,2.0,2.0,1.3,2.1,1.4,1.9,1.8,1.2,2.1,1.5,0.0,2.5,2.8,2.9,2.0,2.5,1.0,2.9,0.0,0.0,0.0,0.0,0.0,2.3,0.0,1.4,0.0,2.5,5.5,1.7,0.0,1.7,0.0,3.1,1.2,1.8,2.9,0.0,0.0,0.0,0.0,0.0,0.6,2.2,6.2,2.2,0.0,0.0,0.0,0.0,1.8,2.6,2.4,0.0,2.7,1.8,2.5,0.0,1.2,0.0,3.4,0.0,0.0,0.5,1.7,2.8,2.0,0.0,2.9,1.5,0.0,2.4,2.1,1.3,1.6,2.6,2.4,0.0,2.2,2.0,2.6,0.0,2.4,1.6,0.0,1.6,0.0,1.1,1.4,0.0,0.0,4.4,0.0,0.0,2.8,1.4,0.0,1.1,5.5,0.0,0.0,0.0,0.0,1.9,2.6,1.9,0.0,2.6,1.8,0.0,0.0,2.9,2.8,0.0,2.3,0.0,0.0,1.5,1.6,2.3,0.0,2.5,2.3,0.0,1.8,0.0,0.0,0.0,1.8,0.0,2.5,0.2,0.0,0.0,0.0,0.0,2.4,1.6,1.8,0.0,2.3,0.0,0.0,0.0,0.0,0.0,3.0,3.9,1.7,0.0,2.1,0.0,0.0,0.0,0.0,0.0,0.0,2.4,1.4,0.0,1.5,2.7,0.0,0.0,0.0,0.0,2.7,3.0,0.0,2.2,0.0,1.8,1.6,1.7,0.0,0.0,1.9,0.0,0.0,1.5,2.1,2.5,0.0,0.0,2.4,0.0,0.0,0.0,0.0,0.0,0.0,0.0,0.0,0.0,0.0,0.0,0.0,0.0,0.0,0.0,1.7,1.6,1.3,1.9,2.1,0.0,1.8,2.1,0.0,0.0,2.7,1.9,1.9,6.8,1.5,0.0,2.8,0.0,0.0,2.3,2.2,0.0,0.0,2.0,0.4,0.0,2.6,1.7,1.6,3.0,2.4,0.0,0.0,0.0,0.0,0.0,0.0,0.0,0.0,0.0,0.0,0.0,0.0,2.0,0.4,1.4,0.0,1.5,1.5,1.7,0.0,0.0,0.0,0.0,2.1,2.1,0.0,0.0,1.6,0.0,0.0,1.9,0.0,1.4,1.4,1.6,1.5,1.7,1.8,0.0,2.4,0.0,0.0,0.0,0.0,0.0,2.1,0.0,2.0,1.5,0.0,0.0,0.0,0.0,2.0,2.5,0.0,0.0,0.0,0.0,1.7,1.9,0.0,1.3,0.0,1.7,1.7,1.5,0.0,0.0,1.7,1.1,1.9,0.0,0.0,0.0,1.8,0.0,0.0,1.8,1.6,1.5,0.0,0.0,2.2,0.0,1.4,0.0,1.5,2.8,1.9,0.0,0.0,0.0,0.0,1.5,0.0,4.2,0.8,1.7,3.1,1.6,0.0,2.3,1.7,0.0,0.0,1.6,1.4,1.7,0.0,1.8,0.0,0.0,0.0,0.0,0.0,1.9,0.0,1.5,0.0,1.3,1.0,0.0,0.0,1.5,1.4,0.0,1.8,0.0,0.0,1.8,0.0,0.0,0.0,0.0,0.0,2.9,1.7,0.0,0.0,3.8,2.9,0.0,0.0,0.0,0.4,2.0,1.4,0.0,0.0,1.7,0.0,2.2,0.0,1.7,0.0,0.0,0.0,1.7,0.0,0.0,0.0,1.8,0.0,0.0,0.0,0.0,1.1,1.6,0.0,1.6,0.0,1.7,2.3,0.0,0.0,0.0,0.0,0.0,0.0,0.0,0.0,0.0,1.6,0.0,0.0,1.7,1.9,1.4,0.0,0.0,2.6,0.0,1.7,0.0,0.0,0.0,0.0,2.0,3.2,0.0,0.0,0.5,0.0,0.0,1.9,0.0,2.0,0.0,1.4,1.6,2.2,1.8,0.0,0.0,0.0,0.0,2.3,1.3,0.0,2.7,2.7,1.6,0.0,0.0,0.0,1.1,0.0,1.9,2.8,2.2,2.3,1.8,1.1,0.7,2.4,2.6,3.2,2.2,0.0,0.0,0.0,0.0,2.0,0.0,1.7,1.4,0.0,1.9,0.0,0.0,0.0,3.8,1.8,0.0,1.7,1.2,0.0,0.0,0.0,2.2,1.7,1.8,2.3,0.0,0.0,0.0,1.7,0.0,1.5,0.0,0.0,0.0,0.0,0.0,0.0,0.0,1.6,0.0,4.1,1.6,3.0,1.3,2.1,0.0,1.3,1.9,0.0,2.2,1.3,1.6,0.0,0.0,1.7,0.0,3.8,0.0,2.1,1.6,0.0,1.8,0.5,0.0,0.0,0.0,0.0,0.0,1.6,2.1,2.3,1.0,1.9,0.0,0.0,0.0,0.0,1.4,1.8,1.8,0.0,0.0,0.0,0.0,0.0,0.0,2.1,0.0,3.1,6.2,1.8,0.0,0.0,2.4,0.0,2.1,1.3,0.0,0.0,0.0,0.05,0.0,1.0,0.5,0.0,0.9,1.6,1.5,0.0,0.0,1.5,0.0,0.0,0.0,0.0,1.4,0.0,0.0,0.0,0.0,5.3,3.8,1.3,1.9,1.9,1.3,0.0,1.7,2.6,2.3,2.1,1.5,1.9,1.9,2.5,1.2,0.0,0.0,0.0,2.4,2.2,0.5,1.8,0.0,1.6,2.3,2.1,0.0,0.0,1.7,0.0,0.0,1.7,0.0,0.0,1.8,1.8,2.1,0.0,2.5,2.3,0.0,2.9,2.9,0.0,0.0,1.8,0.0,1.8,1.8,2.1,0.0,2.2,1.5,1.7,0.0,0.0,2.3,0.0,1.9,1.9,2.1,1.6,2.4,0.0,2.2,2.2,2.5,3.9,2.3,1.5,2.6,1.7,2.0,2.4,2.0,2.4,1.2,2.0,0.0,2.5,1.4,1.7,2.1,2.2,0.0,4.5,2.1,2.5,1.8,1.3,0.0,0.0,2.2,0.0,1.4,2.8,0.0,0.0,1.6,1.9,2.2,1.8,0.0,1.6,4.5,0.0,2.0,0.3,1.5,0.0,1.5,1.4,1.7,0.0,0.4,1.5,0.0,0.0,1.7,2.1,3.1,4.0,2.1,1.5,2.3,1.9,0.0,3.0,2.0,1.9,1.9,1.6,1.4,0.0,2.4,2.3,1.9,2.6,0.0,0.0,1.4,0.0,2.2,1.6,0.8,1.2,1.7,0.0,2.3,0.0,1.8,2.3,0.0,0.0,2.2,2.1,2.0,2.0,0.0,1.4,0.0,2.0,2.7,2.8,1.4,2.4,0.0,3.0,2.4,2.2,1.6,2.1,2.6,0.8,2.1,3.2,2.6,0.0,2.0,0.0,1.6,0.0,0.0,1.9,0.0,0.0,1.5,0.0,2.7,0.0,1.5,0.0,1.7,2.2,0.0,2.2,2.3,0.0,3.9,2.6,0.0,1.3,1.2,0.0,2.4,2.1,1.4,2.8,2.3,2.2,3.4,1.2,2.3,0.0,0.0,1.0,2.5,2.3,2.8,2.3,2.3,2.5,2.2,1.6,3.3,1.7,1.7,2.2,1.6,3.1,0.0,0.0,2.0,2.2,1.2,1.1,1.1,2.8,2.9,2.9,2.7,2.6,2.3,0.0,2.6,2.3,7.6,1.2,0.0,0.0,2.0,1.5,2.1,2.5,1.7,0.0,2.2,0.0,1.0,0.0,2.9,1.3,0.0,3.5,1.9,2.3,2.2,2.3,2.4,0.0,2.5,0.0,0.0,2.3,1.2,2.0,1.8,2.6,2.7,2.6,1.9,0.0,1.2,2.5,1.7,1.1,1.3,2.3,0.0,3.1,1.5,2.2,1.3,1.5,0.6,1.9,2.1,0.0,0.0,0.0,2.1,2.3,2.3,1.4,1.5,2.0,0.0,2.0,1.7,2.0,0.0,4.9,1.5,1.9,1.7,0.0,1.8,1.9,0.0,2.4,1.7,2.2,0.0,2.4,2.3,1.2,2.4,2.1,1.8,0.0,1.4,2.3,0.0,1.9,0.0,3.7,0.0,0.0,2.5,0.0,3.9,0.0,2.2,0.0,1.5,1.3,1.3,2.0,0.0,1.6,0.0,0.0,1.5,0.0,2.0,1.1,0.0,0.0,2.5,1.5,2.5,2.2,0.7,1.6,0.0,2.1,0.0,1.8,1.3,1.7,2.6,0.0,0.0,1.6,1.7,1.4,2.2,1.8,0.0,1.5,1.6,0.0,0.0,0.0,2.4,1.9,2.5,1.2,1.3,1.7,1.0,1.6,2.8,1.9,1.7,2.0,1.9,0.0,0.0,0.7,0.0,1.9,2.0,1.9,0.0,1.8,2.5,1.2,2.1,2.3,2.7,2.1,1.5,1.3,2.4,2.6,0.0,0.0,0.0,0.0,1.6,1.0,0.0,1.5,1.5,0.0,0.0,0.9,2.4,2.5,1.9,1.5,3.4,2.4,2.4,1.6,2.0,0.0,1.4,1.7,2.1,0.0,1.8,0.0,1.8,1.8,2.2,0.0,0.0,2.4,1.8,3.1,1.9,2.7,1.5,2.1,1.2,0.0,1.0,2.5,6.4,2.9,2.4,3.1,3.7,3.5,1.2,1.8,0.0,2.6,3.2,1.9,2.4,3.0,3.1,5.1,2.3,2.5,0.0,2.8,1.9,2.1,2.6,2.8,1.7,1.5,2.7,2.6,2.0,1.8,1.4,2.0,1.8,5.3,0.0,0.0,2.9,1.9,2.9,2.5,0.0,0.0,2.5,2.6,1.7,1.2,2.0,2.6,1.8,1.3,1.1,1.1,1.4,1.7,2.5,3.0,1.2,1.7,0.0,2.4,0.0,1.8,2.6,0.7,2.4,1.9,2.1,2.5,0.0,0.0,2.2,0.5,2.1,2.3,18.0,1.7,2.4,2.6,2.7,2.7,2.0,2.9,0.0,0.0,1.9,2.5,3.3,0.0,2.7,0.0,0.0,0.0,2.3,1.8,2.5,0.0,2.4,0.0,0.0,0.0,0.0,0.0,1.5,2.0,1.7,0.0,2.1,0.0,0.0,2.2,1.4,0.9,2.0,1.4,1.2,1.2,0.0,1.5,0.0,3.3,2.0,2.8,1.0,0.0,1.3,0.0,2.1,0.0,1.1,0.0,1.9,1.8,1.7,1.7,0.0,2.8,1.8,0.0,2.0,1.5,1.1,1.3,2.0,3.7,2.0,2.3,0.0,2.1,1.8,1.2,1.9,0.0,2.1,1.2,1.9,1.8,1.7,0.0,1.9,2.2,0.0,6.8,2.4,2.0,2.1,2.0,0.0,0.0,0.0,2.5,2.1,0.5,1.8,0.0,2.7,2.4,2.4,2.2,3.1,3.4,0.0,1.8,2.4,2.7,2.8,0.0,2.3,2.3,2.9,0.9,2.3,0.9,1.4,1.6,2.4,1.6,1.2,2.1,2.0,2.3,3.0,2.3,2.1,2.3,2.1,0.0,0.0,2.6,0.0,0.0,2.5,1.3,2.1,1.8,2.2,2.3,1.8,2.1,2.4,2.1,2.7,2.2,2.1,3.8,1.3,2.2,1.9,0.0,1.4,1.3,2.3,1.5,0.0,2.1,1.7,1.7,2.3,2.6,2.3,3.0,2.9,1.7,1.3,1.8,1.4,2.0,0.0,2.4,3.1,2.3,2.7,2.1,0.0,0.0,0.0,1.7,1.2,3.1,0.0,2.1,1.4,2.4,0.0,6.5,2.4,2.0,1.7,1.1,2.2,2.6,1.8,2.4,2.9,2.0,1.4,1.1,1.5,1.0,1.1,0.7,1.2,1.8,2.3,0.0,0.0,2.0,2.1,2.4,2.1,1.4,2.7,0.0,2.4,2.2,1.3,1.9,2.1,1.8,1.1,1.6,3.2,2.1,0.0,2.1,0.0,1.7,3.1,1.6,2.7,2.3,2.7,1.9,2.0,1.7,1.9,1.6,2.5,1.5,2.4,2.3,2.3,2.4,2.3,1.3,2.6,0.0,2.4,1.6,0.0,3.0,2.5,2.3,1.8,1.9,1.6,2.1,1.3,1.2,2.2,1.3,0.0,2.0,2.2,4.4,2.6,2.0,2.3,2.5,0.0,1.7,0.0,0.8,0.7,0.7,0.4,1.5,0.3,0.6,1.9,2.2,2.3,1.3,0.9,2.5,2.7,1.7,2.6,0.0,0.0,2.2,0.0,1.6,1.5,1.3,0.0,2.9,0.0,2.1,0.0,0.0,1.7,2.5,2.4,2.5,2.3,2.5,2.2,1.8,2.6,0.0,2.1,2.7,1.9,0.0,2.8,0.0,1.9,2.2,2.7,2.5,1.8,1.6,1.9,0.0,2.4,2.7,2.2,1.9,1.4,1.6,1.2,1.3,0.0,2.2,3.0,1.5,1.9,1.8,0.0,2.4,2.4,1.4,2.8,1.7,1.2,1.7,1.2,1.5,0.6,0.3,2.8,0.3,4.2,2.1,2.5,1.9,2.2,1.7,3.5,2.3,1.9,2.0,2.7,1.9,0.0,0.0,3.1,13.299999,2.1,3.0,0.0,0.0,0.0,0.0,0.0,1.7,2.0,1.6,3.0,2.5,0.0,0.0,1.7,0.0,0.8,2.0,0.0,1.9,1.7,1.5,0.0,1.6,2.2,2.6,6.4,2.1,1.3,3.3,3.0,2.0,1.3,0.0,0.0,1.2,1.3,4.0,0.0,1.3,2.8,3.8,0.0,0.0,0.0,1.1,1.9,0.0,0.0,0.0,0.0,0.0,2.9,2.0,2.2,1.4,1.8,0.7,1.3,1.6,0.0,0.7,2.4,2.5,2.2,2.8,1.4,0.0,0.0,0.0,0.0,0.0,0.0,2.2,0.0,1.6,0.0,0.0,0.0,0.0,0.0,0.0,2.6,1.6,1.7,2.0,2.3,2.5,3.1,0.0,0.0,1.1,0.0,2.5,2.4,3.0,0.0,0.0,2.0,2.4,2.9,2.1,2.0,1.3,2.3,2.4,2.0,1.7,0.0,0.0,2.3,0.0,2.4,0.0,2.0,0.0,0.0,0.0,0.0,2.6,0.0,0.0,0.8,0.0,0.0,0.0,0.0,0.0,0.0,0.0,2.0,0.0,0.0,2.5,2.0,0.0,0.0,0.0,1.9,0.0,0.0,1.6,2.0,2.3,0.0,2.0,1.7,0.0,2.1,0.0,1.9,0.0,1.5,0.0,1.4,0.0,0.0,0.0,2.1,2.4,0.9,4.0,2.9,3.1,1.7,0.0,1.3,2.2,2.0,1.3,2.8,2.5,0.0,1.4,0.0,2.4,2.6,1.2,0.0,1.8,2.1,2.0,1.2,0.0,1.5,2.2,2.0,1.8,0.0,2.1,3.4,0.0,0.0,0.0,0.0,0.0,1.8,0.0,0.0,0.0,2.1,0.0,1.8,2.4,2.6,2.0,0.0,0.0,0.0,0.0,0.0,2.7,3.3,0.0,0.0,0.0,0.0,0.0,0.0,2.8,0.0,1.6,0.0,0.0,0.0,3.0,0.0,2.4,0.0,0.0,1.0,1.8,3.1,0.0,0.0,0.0,0.0,0.0,1.6,0.0,2.2,1.7,2.1,0.0,1.5,2.1,2.1,2.6,0.0,0.0,0.0,0.0,0.0,1.1,2.2,1.5,0.0,0.0,2.4,0.0,0.0,0.0,1.3,0.2,1.5,1.1,2.3,1.2,3.1,0.0,2.6,2.3,0.0,0.0,0.0,1.2,0.0,0.0,0.0,0.0,0.0,0.0,0.0,0.0,0.0,0.0,0.0,0.0,0.0,0.0,0.0,0.0,2.3,1.6,1.6,0.0,2.2,1.2,0.0,2.7,2.4,3.3,0.0,0.0,5.0,0.0,1.9,0.0,0.0,2.1,2.1,3.1,0.0,1.6,1.8,2.2,0.1,1.8,4.0,0.0,4.1,0.0,0.0,1.6,0.0,0.0,0.0,0.0,2.1,2.0,0.0,1.6,0.0,1.9,0.0,1.9,0.6,1.3,0.0,2.0,0.0,0.0,1.8,0.0,0.0,2.3,3.8,1.6,0.0,2.8,2.3,1.5,2.6,0.0,0.0,2.3,0.0,0.0,0.0,2.4,2.2,1.8,1.9,1.9,3.0,0.0,2.2,0.0,2.0,1.3,2.4,0.0,0.0,2.5,2.4,0.0,0.0,2.7,2.0,0.0,2.8,0.0,2.6,2.1,2.4,0.0,0.0,0.0,0.0,1.7,2.6,2.7,2.0,0.0,2.2,0.5,0.0,2.3,1.2,1.3,2.3,1.0,0.0,2.4,1.8,2.0,0.0,2.2,2.0,0.0,0.0,0.0,2.4,2.9,0.0,1.7,0.0,0.0,2.5,0.0,0.0,0.0,2.6,0.0,0.0,2.0,1.9,0.0,1.5,1.9,2.2,0.2,2.6,2.3,2.6,0.0,0.0,0.0,1.6,2.4,0.0,0.0,1.8,1.4,0.0,1.3,0.0,3.1,2.3,0.0,0.0,7.6,0.0,2.1,0.0,0.0,1.8,1.7,0.0,0.0,0.0,0.0,0.0,0.0,0.0,0.0,0.0,0.0,0.0,0.0,0.6,1.4,2.0,0.0,2.0,2.4,1.7,0.0,1.9,4.9,1.8,0.0,0.0,1.0,1.0,1.9,0.0,0.0,1.6,1.9,2.4,0.0,0.0,1.3,0.0,1.8,0.0,0.0,0.0,0.0,0.0,0.0,0.0,1.3,1.3,3.0,0.0,5.6,2.1,3.2,0.0,2.3,0.0,2.7,0.0,0.0,0.0,1.5,3.7,0.0,0.0,0.9,0.0,0.0,1.5,0.0,1.8,2.5,0.0,0.0,0.0,0.0,1.9,1.4,0.0,0.0,0.0,0.0,0.0,1.7,1.9,2.3,0.0,2.5,0.0,1.7,0.0,2.1,0.0,1.6,1.6,0.0,1.2,0.0,0.0,0.0,1.6,0.0,0.0,0.0,0.0,0.0,1.7,0.0,1.4,1.8,1.3,0.0,0.0,0.0,2.3,0.0,0.69,1.9,1.4,0.0,0.0,2.5,2.1,0.0,0.0,0.0,2.2,1.3,0.0,1.2,2.1,3.3,0.0,0.0,1.9,0.0,0.0,0.0,0.0,1.9,2.3,0.0,0.0,0.0,0.0,0.0,0.0,1.5,2.1,1.1,0.0,3.2,2.3,1.8,0.0,1.5,0.0,0.0,0.0,0.0,0.0,0.0,0.0,0.0,0.0,0.0,0.0,2.5,0.0,1.7,0.0,0.0,2.3,1.8,0.0,0.0,0.0,1.4,2.0,1.6,2.1,2.4,2.8,0.0,2.1,0.4,2.4,2.4,0.0,2.1,1.8,0.0,2.5,1.8,1.7,0.0,0.0,0.0,2.2,0.0,0.0,0.0,2.7,0.0,0.0,0.0,2.3,0.0,1.5,0.0,1.8,2.3,0.0,2.6,1.4,0.0,3.9,0.0,0.0,1.2,0.0,2.1,1.6,0.0,0.0,1.9,0.0,0.0,1.8,0.0,0.0,0.0,1.4,0.0,0.0,0.0,0.0,0.0,0.0,0.0,0.0,0.0,0.0,1.4,0.0,1.8,0.0,0.0,1.4,1.6,0.0,1.2,1.5,0.0,0.0,2.0,0.0,2.0,2.5,1.4,2.1,0.0,0.0,0.0,2.3,0.0,0.0,0.0,0.0,0.0,0.0,0.0,0.0,2.4,1.5,0.0,0.0,2.2,0.0,1.5,0.6,0.0,2.2,1.3,0.0,0.0,0.0,0.0,1.7,0.0,2.3,0.0,1.0,0.0,1.2,0.0,0.0,0.0,0.0,0.0,0.0,1.4,0.0,0.0,0.0,0.0,0.0,0.0,0.0,0.0,1.9,1.8,2.1,0.0,1.2,1.3,0.0,0.0,0.0,1.8,0.0,2.0,0.0,1.4,0.0,0.0,1.4,0.0,0.0,0.0,0.0,0.0,0.0,0.0,0.0,0.0,0.0,1.3,1.7,0.0,0.0,1.8,1.5,0.0,1.6,1.2,0.0,1.4,0.0,0.0,3.2,1.9,0.0,0.0,0.0,2.2,0.0,1.5,1.8,0.0,2.1,0.0,2.5,2.3,0.0,0.0,0.0,0.0,2.0,1.9,0.0,0.0,0.0,1.9,0.0,3.0,2.0,0.0,2.1,1.3,1.5,2.1,0.0,0.0,0.0,0.0,2.0,1.5,1.7,1.6,0.0,0.0,2.3,0.0,1.9,0.0,1.7,0.0,0.0,5.7,1.7,0.0,2.3,1.1,1.6,1.7,2.1,1.6,5.9,2.9,0.0,0.0,0.0,0.0,0.0,0.0,0.0,0.0,0.0,1.7,0.0,1.7,0.0,0.0,0.0,1.5,2.2,1.6,0.0,2.4,0.0,1.5,0.0,0.0,0.0,0.0,0.0,0.0,0.0,2.2,0.5,0.0,0.0,0.0,2.0,0.0,0.0,0.0,2.0,2.7,1.9,2.2,2.5,0.0,0.0,0.0,0.0,0.0,0.0,0.0,1.6,2.0,1.8,0.0,0.0,0.0,1.6,2.4,0.0,0.0,0.0,0.0,0.0,0.0,2.5,2.1,0.0,0.0,0.0,0.0,0.0,0.0,0.0,2.4,1.6,1.1,0.0,1.7,0.0,1.2,2.1,2.1,0.0,0.0,0.0,0.0,0.0,0.0,3.0,2.2,0.0,0.0,0.0,0.0,0.0,0.0,0.0,0.0,0.0,2.6,0.0,0.5,0.0,1.4,1.8,0.0,0.0,0.0,0.0,0.0,2.2,0.0,0.0,1.4,0.0,2.0,1.7,0.0,0.0,1.1,1.8,0.0,0.0,0.0,0.0,0.0,2.1,0.0,2.0,2.6,6.7,0.0,0.0,0.0,0.0,2.0,1.2,0.0,0.0,1.9,2.2,2.4,1.8,2.0,1.8,0.0,1.9,1.8,1.6,0.0,2.7,0.0,0.0,1.2,2.1,0.0,2.0,2.2,0.0,0.0,2.6,0.0,2.0,2.4,1.3,2.2,0.0,0.0,0.0,0.0,0.0,2.5,0.0,0.0,0.0,2.0,2.5,0.0,1.8,0.0,0.0,0.0,1.7,2.4,2.0,0.0,0.0,1.5,0.0,2.8,2.2,2.2,0.0,0.0,0.0,0.0,0.0,0.0,1.3,0.0,1.4,0.0,1.4,0.0,0.0,2.3,0.0,0.0,0.0,0.0,0.0,0.0,0.0,0.0,1.8,1.9,0.0,1.5,0.0,2.1,0.6,0.0,0.0,0.0,2.1,0.0,2.7,1.6,1.6,0.0,0.0,0.0,0.0,0.0,0.0,0.0,2.2,0.0,1.7,0.0,8.0,0.0,0.0,2.2,2.1,1.6,0.0,1.4,2.5,1.7,0.0,0.0,0.0,0.0,1.8,0.0,1.3,0.0,3.0,0.0,1.8,2.3,0.0,0.0,0.2,0.0,1.8,0.0,0.0,0.0,1.9,1.4,3.0,0.0,2.4,0.0,0.0,0.0,0.0,0.0,0.0,2.5,2.2,0.0,0.0,0.0,0.0,2.4,0.0,0.0,0.0,0.0,0.0,0.0,1.8,0.0,0.0,0.0,1.2,0.0,0.0,2.5,0.0,0.0,0.0,0.0,1.9,0.0,0.0,0.0,0.0,0.0,0.0,1.9,0.0,0.0,0.0,0.0,0.0,0.0,3.2,0.0,2.1,0.0,0.0,1.4,0.0,0.0,0.0,0.0,2.1,1.8,2.1,1.5,0.0,0.0,1.0,0.0,0.0,1.3,0.0,0.0,0.0,1.8,0.0,0.0,0.0,0.0,0.0,0.0,0.0,0.0,0.0,0.0,0.0,0.0,0.0,0.0,0.0,0.0,0.0,0.0,0.0,0.0,0.0,0.0,0.0,0.0,0.0],\"type\":\"box\",\"xaxis\":\"x3\",\"yaxis\":\"y3\"},{\"name\":\"TT4\",\"y\":[0.0,128.0,0.0,0.0,0.0,0.0,116.0,76.0,83.0,133.0,105.0,0.0,116.0,0.0,0.0,122.0,116.0,48.0,90.0,79.0,104.0,88.0,107.0,126.0,113.0,150.0,93.0,80.0,91.0,47.0,71.0,88.0,104.0,111.0,86.0,118.0,82.0,33.0,134.0,60.0,102.0,97.0,115.0,86.0,132.0,116.0,114.0,90.0,94.0,118.0,145.0,106.0,87.0,104.0,80.0,105.0,120.0,121.0,0.0,152.0,79.0,98.0,109.0,114.0,114.0,139.0,106.0,104.0,131.0,112.0,64.0,109.0,7.5,104.0,68.0,97.0,133.0,99.0,64.0,92.0,115.0,120.0,95.0,100.0,106.0,86.0,95.0,109.0,86.0,308.0,98.0,122.0,71.0,130.0,126.0,128.0,51.0,105.0,105.0,94.0,131.0,112.0,73.0,63.0,78.0,129.0,63.0,133.0,91.0,109.0,0.0,88.0,85.0,118.0,125.0,95.0,130.0,153.0,90.0,130.0,96.0,127.0,51.0,108.0,78.0,105.0,152.0,250.0,141.0,110.0,101.0,63.0,140.0,99.0,132.0,102.0,98.0,81.0,74.0,105.0,80.0,188.0,3.9,91.0,130.0,134.0,97.0,110.0,111.0,119.0,90.0,105.0,87.0,98.0,121.0,27.0,119.0,89.0,125.0,110.0,112.0,68.0,119.0,83.0,134.0,68.0,104.0,236.0,91.0,97.0,113.0,88.0,85.0,82.0,88.0,120.0,81.0,113.0,0.0,104.0,55.0,111.0,84.0,144.0,145.0,108.0,136.0,145.0,81.0,72.0,96.0,118.0,130.0,158.0,73.0,96.0,81.0,69.0,9.0,6.0,81.0,87.0,87.0,15.0,96.0,149.0,84.0,108.0,13.0,97.0,61.0,79.0,105.0,114.0,182.0,125.0,73.0,4.0,83.0,86.0,135.0,109.0,79.0,70.0,78.0,71.0,99.0,131.0,96.0,151.0,100.0,89.0,113.0,151.0,71.0,56.0,118.0,73.0,117.0,59.0,104.0,83.0,79.0,98.0,84.0,117.0,77.0,88.0,98.0,110.0,14.0,91.0,69.0,61.0,139.0,12.0,115.0,135.0,99.0,67.0,89.0,127.0,105.0,16.0,60.0,0.0,97.0,82.0,147.0,112.0,78.0,123.0,91.0,101.0,130.0,93.0,65.0,47.0,113.0,81.0,90.0,66.0,105.0,7.6,4.1,90.0,64.0,90.0,73.0,101.0,75.0,202.0,90.0,116.0,114.0,3.0,169.0,101.0,126.0,24.0,105.0,70.0,105.0,128.0,87.0,90.0,242.0,103.0,151.0,112.0,82.0,104.0,78.0,108.0,94.0,143.0,98.0,90.0,117.0,99.0,93.0,95.0,64.0,112.0,104.0,107.0,0.0,82.0,123.0,84.0,4.0,110.0,124.0,104.0,13.0,94.0,75.0,111.0,92.0,73.0,94.0,44.0,87.0,103.0,91.0,109.0,74.0,35.0,101.0,144.0,150.0,134.0,0.0,121.0,6.0,359.0,115.0,123.0,43.0,77.0,47.0,4.0,94.0,124.0,105.0,106.0,77.0,128.0,108.0,95.0,116.0,106.0,90.0,101.0,86.0,99.0,59.0,137.0,104.0,65.0,124.0,85.0,79.0,98.0,87.0,83.0,124.0,80.0,95.0,74.0,124.0,166.0,104.0,112.0,82.0,90.0,101.0,93.0,169.0,90.0,0.0,0.0,77.0,141.0,114.0,132.0,101.0,129.0,82.0,302.0,61.0,75.0,65.0,115.0,86.0,77.0,101.0,71.0,121.0,98.0,116.0,98.0,109.0,134.0,4.0,81.0,104.0,132.0,143.0,150.0,98.0,84.0,110.0,118.0,103.0,102.0,79.0,118.0,86.0,99.0,69.0,139.0,148.0,103.0,89.0,89.0,88.0,126.0,78.0,96.0,70.0,55.0,0.0,104.0,92.0,119.0,120.0,132.0,142.0,108.0,113.0,75.0,68.0,101.0,124.0,101.0,119.0,92.0,35.0,113.0,119.0,104.0,105.0,95.0,108.0,142.0,155.0,113.0,0.0,123.0,82.0,100.0,119.0,110.0,97.0,52.0,79.0,70.0,95.0,261.0,91.0,114.0,128.0,106.0,145.0,104.0,76.0,4.0,125.0,93.0,0.0,84.0,44.0,75.0,95.0,85.0,111.0,107.0,105.0,0.0,22.0,96.0,83.0,81.0,126.0,99.0,82.0,78.0,119.0,116.0,113.0,91.0,86.0,77.0,79.0,84.0,159.0,79.0,92.0,80.0,86.0,120.0,115.0,96.0,54.0,0.0,139.0,101.0,101.0,120.0,151.0,132.0,260.0,113.0,103.0,124.0,116.0,73.0,89.0,104.0,106.0,118.0,86.0,119.0,76.0,145.0,107.0,83.0,110.0,67.0,99.0,101.0,103.0,230.0,120.0,133.0,97.0,93.0,86.0,91.0,125.0,136.0,121.0,128.0,122.0,55.0,172.0,80.0,96.0,123.0,21.0,96.0,115.0,87.0,133.0,100.0,106.0,63.0,119.0,81.0,147.0,91.0,63.0,90.0,107.0,93.0,89.0,68.0,62.0,106.0,132.0,107.0,134.0,138.0,0.0,94.0,80.0,105.0,87.0,120.0,101.0,84.0,70.0,96.0,127.0,113.0,119.0,90.0,76.0,101.0,87.0,112.0,107.0,4.0,118.0,90.0,151.0,119.0,128.0,85.0,142.0,85.0,90.0,11.0,136.0,117.0,84.0,42.0,4.0,89.0,136.0,101.0,136.0,112.0,135.0,139.0,138.0,149.0,113.0,98.0,141.0,103.0,0.0,107.0,116.0,118.0,93.0,81.0,148.0,86.0,58.0,117.0,132.0,148.0,120.0,117.0,155.0,96.0,120.0,93.0,93.0,81.0,92.0,118.0,74.0,68.0,76.0,106.0,27.0,107.0,81.0,0.0,86.0,106.0,94.0,118.0,95.0,87.0,97.0,59.0,104.0,124.0,134.0,201.0,95.0,0.0,100.0,140.0,140.0,149.0,212.0,115.0,79.0,102.0,148.0,115.0,23.0,102.0,333.0,101.0,83.0,117.0,98.0,90.0,93.0,97.0,104.0,120.0,139.0,113.0,93.0,38.0,85.0,119.0,113.0,72.0,102.0,136.0,106.0,97.0,104.0,106.0,81.0,97.0,106.0,71.0,47.0,112.0,105.0,0.0,0.0,128.0,142.0,113.0,114.0,41.0,122.0,101.0,175.0,155.0,76.0,137.0,105.0,121.0,103.0,146.0,132.0,81.0,77.0,89.0,88.0,107.0,129.0,98.0,122.0,0.0,79.0,77.0,139.0,98.0,151.0,0.0,140.0,103.0,93.0,77.0,58.0,0.0,16.0,153.0,111.0,107.0,109.0,109.0,0.0,96.0,83.0,119.0,116.0,104.0,87.0,92.0,148.0,9.7,0.0,85.0,96.0,106.0,104.0,65.0,134.0,122.0,125.0,94.0,141.0,101.0,275.0,122.0,100.0,75.0,106.0,0.0,135.0,96.0,102.0,157.0,247.0,119.0,67.0,268.0,269.0,122.0,143.0,127.0,108.0,113.0,10.0,93.0,98.0,112.0,79.0,101.0,95.0,99.0,64.0,97.0,106.0,48.0,130.0,117.0,128.0,70.0,216.0,95.0,127.0,77.0,93.0,113.0,115.0,82.0,143.0,89.0,123.0,113.0,116.0,72.0,105.0,106.0,69.0,106.0,107.0,98.0,0.0,126.0,125.0,100.0,89.0,79.0,89.0,112.0,104.0,126.0,90.0,111.0,105.0,109.0,153.0,95.0,88.0,146.0,121.0,99.0,122.0,74.0,83.0,97.0,0.0,0.0,0.0,100.0,63.0,92.0,123.0,77.0,89.0,102.0,72.0,100.0,100.0,0.0,118.0,100.0,132.0,94.0,79.0,87.0,101.0,100.0,117.0,0.0,92.0,94.0,159.0,57.0,95.0,119.0,131.0,116.0,110.0,110.0,71.0,160.0,99.0,0.0,80.0,111.0,111.0,107.0,120.0,164.0,107.0,111.0,0.0,0.0,117.0,135.0,57.0,86.0,98.0,74.0,112.0,80.0,93.0,118.0,99.0,103.0,102.0,96.0,100.0,147.0,135.0,91.0,9.0,178.0,147.0,0.0,118.0,125.0,84.0,83.0,63.0,91.0,85.0,103.0,207.0,125.0,152.0,118.0,116.0,109.0,102.0,82.0,90.0,124.0,156.0,108.0,113.0,152.0,70.0,106.0,129.0,99.0,117.0,108.0,81.0,95.0,72.0,0.0,116.0,105.0,160.0,91.0,0.0,139.0,76.0,122.0,78.0,69.0,106.0,102.0,94.0,161.0,96.0,98.0,129.0,10.0,90.0,100.0,100.0,109.0,112.0,113.0,110.0,111.0,18.0,61.0,39.0,90.0,84.0,64.0,94.0,66.0,104.0,65.0,0.0,87.0,88.0,89.0,109.0,104.0,111.0,131.0,86.0,244.0,93.0,103.0,71.0,84.0,109.0,94.0,110.0,0.0,123.0,76.0,69.0,86.0,151.0,95.0,0.0,70.0,156.0,83.0,72.0,55.0,126.0,103.0,87.0,19.0,98.0,95.0,92.0,83.0,112.0,149.0,80.0,98.0,0.0,0.0,0.0,0.0,134.0,83.0,101.0,102.0,129.0,115.0,0.0,76.0,0.0,145.0,89.0,109.0,124.0,235.0,89.0,121.0,83.0,75.0,119.0,131.0,116.0,150.0,72.0,190.0,86.0,102.0,80.0,72.0,83.0,116.0,105.0,73.0,144.0,120.0,94.0,102.0,95.0,71.0,63.0,103.0,163.0,72.0,148.0,0.0,0.0,134.0,139.0,108.0,121.0,62.0,79.0,108.0,123.0,99.0,81.0,110.0,107.0,95.0,95.0,134.0,92.0,105.0,72.0,103.0,97.0,108.0,68.0,91.0,105.0,144.0,125.0,109.0,81.0,73.0,105.0,63.0,111.0,86.0,68.0,191.0,113.0,155.0,98.0,140.0,83.0,69.0,107.0,85.0,87.0,120.0,70.0,106.0,99.0,107.0,117.0,86.0,140.0,149.0,60.0,121.0,17.0,0.0,111.0,78.0,92.0,118.0,38.0,108.0,130.0,112.0,90.0,102.0,67.0,129.0,11.0,82.0,148.0,119.0,125.0,148.0,108.0,66.0,122.0,101.0,121.0,91.0,114.0,66.0,88.0,121.0,70.0,72.0,119.0,50.0,118.0,74.0,0.0,84.0,88.0,45.0,77.0,126.0,108.0,0.0,67.0,91.0,124.0,93.0,14.0,82.0,78.0,115.0,84.0,125.0,37.0,117.0,171.0,139.0,218.0,123.0,98.0,139.0,68.0,143.0,77.0,103.0,106.0,100.0,96.0,122.0,136.0,111.0,0.0,0.0,137.0,80.0,141.0,0.0,99.0,112.0,108.0,139.0,112.0,106.0,93.0,89.0,149.0,102.0,0.0,75.0,85.0,134.0,111.0,113.0,81.0,77.0,90.0,99.0,88.0,105.0,128.0,107.0,0.0,99.0,122.0,99.0,56.0,133.0,95.0,82.0,101.0,80.0,90.0,0.0,93.0,60.0,114.0,117.0,105.0,42.0,122.0,86.0,52.0,92.0,0.0,0.0,76.0,101.0,112.0,106.0,106.0,131.0,95.0,87.0,15.0,78.0,113.0,106.0,0.0,90.0,124.0,117.0,134.0,101.0,69.0,0.0,0.0,108.0,97.0,83.0,97.0,137.0,34.0,169.0,100.0,2.0,136.0,50.0,92.0,103.0,96.0,72.0,98.0,0.0,110.0,62.0,50.0,72.0,72.0,96.0,119.0,92.0,154.0,0.0,120.0,118.0,128.0,159.0,101.0,68.0,52.0,117.0,0.0,0.0,81.0,120.0,76.0,86.0,79.0,70.0,76.0,104.0,198.0,182.0,94.0,107.0,60.0,65.0,91.0,99.0,0.0,95.0,96.0,63.0,106.0,117.0,107.0,74.0,92.0,98.0,93.0,112.0,130.0,73.0,138.0,149.0,107.0,0.0,89.0,106.0,54.0,80.0,221.0,130.0,125.0,69.0,90.0,212.0,102.0,177.0,70.0,104.0,0.0,69.0,0.0,115.0,208.0,113.0,59.0,85.0,45.0,93.0,117.0,96.0,89.0,100.0,129.0,102.0,56.0,94.0,98.0,107.0,111.0,115.0,78.0,106.0,126.0,88.0,92.0,101.0,120.0,102.0,77.0,139.0,86.0,128.0,86.0,87.0,98.0,94.0,113.0,63.0,90.0,114.0,78.0,13.0,98.0,86.0,0.0,136.0,87.0,100.0,124.0,50.0,108.0,0.0,83.0,110.0,90.0,119.0,122.0,168.0,123.0,0.0,70.0,106.0,95.0,104.0,108.0,129.0,120.0,86.0,103.0,158.0,60.0,102.0,91.0,82.0,85.0,189.0,103.0,91.0,74.0,94.0,83.0,79.0,93.0,87.0,107.0,0.0,104.0,79.0,134.0,80.0,124.0,122.0,122.0,79.0,99.0,96.0,123.0,255.0,179.0,66.0,113.0,76.0,107.0,129.0,0.0,109.0,89.0,301.0,103.0,114.0,95.0,146.0,121.0,119.0,106.0,164.0,105.0,112.0,52.0,102.0,130.0,89.0,94.0,124.0,61.0,144.0,2.9,13.0,69.0,70.0,86.0,115.0,256.0,134.0,98.0,153.0,118.0,179.0,122.0,137.0,123.0,93.0,87.0,252.0,116.0,87.0,89.0,187.0,59.0,109.0,105.0,111.0,39.0,93.0,0.0,142.0,88.0,120.0,112.0,77.0,114.0,108.0,142.0,137.0,72.0,52.0,137.0,0.0,0.0,99.0,106.0,81.0,84.0,129.0,105.0,81.0,62.0,102.0,119.0,130.0,0.0,128.0,159.0,80.0,70.0,115.0,99.0,111.0,129.0,73.0,150.0,74.0,107.0,95.0,186.0,109.0,120.0,73.0,93.0,85.0,76.0,137.0,85.0,3.0,152.0,74.0,100.0,87.0,75.0,77.0,96.0,130.0,61.0,76.0,149.0,85.0,0.0,93.0,113.0,132.0,105.0,0.0,97.0,94.0,146.0,133.0,82.0,121.0,105.0,125.0,98.0,84.0,108.0,117.0,135.0,111.0,93.0,116.0,89.0,120.0,119.0,89.0,129.0,138.0,114.0,61.0,82.0,0.0,84.0,106.0,123.0,66.0,0.0,0.0,0.0,0.0,101.0,119.0,126.0,131.0,91.0,121.0,111.0,108.0,102.0,144.0,93.0,115.0,0.0,135.0,109.0,151.0,118.0,6.0,123.0,82.0,90.0,147.0,93.0,91.0,84.0,129.0,104.0,101.0,0.0,83.0,133.0,78.0,136.0,112.0,95.0,89.0,97.0,110.0,77.0,142.0,100.0,187.0,71.0,107.0,105.0,95.0,0.0,0.0,0.0,103.0,73.0,92.0,141.0,97.0,105.0,93.0,117.0,0.0,101.0,66.0,87.0,118.0,78.0,98.0,90.0,103.0,128.0,141.0,90.0,84.0,94.0,115.0,184.0,82.0,115.0,69.0,120.0,144.0,133.0,77.0,74.0,101.0,105.0,112.0,230.0,151.0,106.0,104.0,128.0,85.0,96.0,92.0,120.0,63.0,0.0,94.0,113.0,91.0,98.0,104.0,98.0,4.8,0.0,82.0,142.0,137.0,95.0,93.0,119.0,137.0,77.0,108.0,112.0,112.0,0.0,0.0,171.0,59.0,91.0,61.0,108.0,123.0,88.0,88.0,145.0,120.0,88.0,89.0,144.0,0.0,91.0,85.0,138.0,196.0,133.0,93.0,89.0,133.0,51.0,91.0,99.0,0.0,135.0,100.0,81.0,143.0,0.0,0.0,149.0,74.0,0.0,0.0,0.0,0.0,92.0,107.0,113.0,74.0,101.0,85.0,117.0,75.0,72.0,123.0,105.0,95.0,96.0,117.0,107.0,82.0,120.0,107.0,81.0,71.0,89.0,104.0,79.0,98.0,0.0,0.0,0.0,96.0,89.0,0.0,103.0,69.0,97.0,71.0,110.0,134.0,103.0,77.0,100.0,113.0,99.0,91.0,111.0,111.0,119.0,90.0,71.0,76.0,108.0,84.0,102.0,147.0,85.0,220.0,29.0,115.0,53.0,130.0,110.0,76.0,109.0,117.0,86.0,181.0,131.0,70.0,83.0,100.0,90.0,72.0,84.0,95.0,112.0,99.0,93.0,123.0,89.0,47.0,117.0,0.0,0.0,0.0,83.0,111.0,101.0,112.0,82.0,64.0,0.0,110.0,162.0,119.0,90.0,86.0,121.0,65.0,33.0,66.0,0.0,0.0,98.0,0.0,0.0,0.0,96.0,75.0,109.0,217.0,167.0,149.0,102.0,118.0,189.0,79.0,121.0,88.0,119.0,86.0,94.0,84.0,94.0,0.0,86.0,100.0,63.0,28.0,116.0,99.0,161.0,65.0,109.0,87.0,81.0,65.0,199.0,0.0,0.0,0.0,100.0,114.0,75.0,74.0,132.0,105.0,0.0,130.0,120.0,138.0,67.0,105.0,104.0,121.0,100.0,96.0,79.0,66.0,71.0,134.0,140.0,108.0,95.0,86.0,79.0,121.0,104.0,116.0,91.0,0.0,0.0,0.0,72.0,99.0,101.0,0.0,91.0,134.0,119.0,90.0,145.0,83.0,77.0,77.0,89.0,133.0,103.0,76.0,123.0,83.0,83.0,93.0,88.0,10.0,95.0,76.0,93.0,78.0,94.0,120.0,134.0,81.0,86.0,82.0,78.0,87.0,115.0,106.0,90.0,116.0,98.0,430.0,61.0,139.0,103.0,102.0,99.0,113.0,135.0,0.0,89.0,94.0,0.0,97.0,93.0,101.0,50.0,72.0,109.0,101.0,103.0,113.0,83.0,55.0,107.0,150.0,138.0,69.0,89.0,120.0,87.0,89.0,98.0,98.0,106.0,133.0,430.0,93.0,69.0,105.0,113.0,93.0,87.0,141.0,88.0,132.0,0.0,94.0,70.0,102.0,214.0,72.0,120.0,65.0,52.0,253.0,160.0,187.0,72.0,90.0,90.0,99.0,80.0,119.0,89.0,138.0,110.0,91.0,127.0,107.0,0.0,109.0,67.0,101.0,60.0,82.0,121.0,0.0,0.0,0.0,62.0,23.0,85.0,96.0,95.0,122.0,121.0,70.0,64.0,117.0,97.0,86.0,129.0,138.0,74.0,107.0,101.0,78.0,70.0,0.0,0.0,75.0,80.0,0.0,127.0,120.0,92.0,124.0,109.0,122.0,108.0,67.0,88.0,110.0,86.0,0.0,84.0,103.0,114.0,90.0,95.0,76.0,109.0,105.0,118.0,128.0,95.0,89.0,117.0,86.0,166.0,90.0,3.0,87.0,152.0,101.0,117.0,142.0,103.0,131.0,116.0,101.0,133.0,100.0,90.0,90.0,156.0,87.0,86.0,89.0,132.0,83.0,103.0,102.0,68.0,89.0,120.0,114.0,118.0,93.0,91.0,103.0,107.0,0.0,91.0,80.0,106.0,100.0,121.0,109.0,147.0,108.0,83.0,103.0,110.0,139.0,139.0,0.0,135.0,75.0,143.0,159.0,101.0,106.0,87.0,84.0,97.0,125.0,132.0,100.0,124.0,99.0,146.0,137.0,95.0,66.0,134.0,77.0,52.0,97.0,116.0,86.0,93.0,0.0,84.0,100.0,107.0,0.0,159.0,92.0,119.0,91.0,86.0,69.0,79.0,98.0,141.0,125.0,73.0,39.0,133.0,93.0,111.0,136.0,125.0,103.0,94.0,109.0,140.0,88.0,87.0,99.0,104.0,91.0,46.0,97.0,80.0,87.0,0.0,99.0,104.0,83.0,73.0,128.0,84.0,63.0,70.0,91.0,101.0,105.0,90.0,106.0,78.0,98.0,162.0,0.0,86.0,191.0,187.0,85.0,91.0,70.0,92.0,146.0,134.0,105.0,143.0,164.0,99.0,77.0,126.0,0.0,116.0,126.0,116.0,120.0,176.0,86.0,77.0,80.0,92.0,112.0,77.0,98.0,92.0,78.0,14.0,117.0,5.8,112.0,111.0,101.0,102.0,46.0,99.0,86.0,102.0,75.0,62.0,102.0,144.0,102.0,81.0,112.0,104.0,0.0,100.0,135.0,0.0,117.0,117.0,114.0,124.0,79.0,88.0,81.0,85.0,88.0,100.0,94.0,81.0,0.0,92.0,164.0,93.0,113.0,114.0,112.0,0.0,119.0,120.0,82.0,107.0,103.0,99.0,0.0,160.0,95.0,0.0,80.0,106.0,72.0,90.0,72.0,136.0,101.0,77.0,125.0,161.0,113.0,142.0,133.0,98.0,0.0,167.0,109.0,124.0,77.0,99.0,0.0,0.0,103.0,123.0,103.0,60.0,124.0,136.0,97.0,0.0,9.5,139.0,86.0,98.0,99.0,97.0,136.0,94.0,131.0,94.0,119.0,97.0,96.0,77.0,102.0,117.0,123.0,76.0,83.0,79.0,104.0,131.0,80.0,118.0,75.0,96.0,102.0,149.0,108.0,91.0,136.0,129.0,98.0,111.0,97.0,92.0,135.0,88.0,106.0,141.0,0.0,0.0,0.0,80.0,113.0,103.0,101.0,114.0,83.0,128.0,119.0,101.0,102.0,97.0,73.0,170.0,116.0,164.0,78.0,82.0,235.0,153.0,101.0,105.0,129.0,92.0,92.0,153.0,117.0,93.0,104.0,101.0,84.0,136.0,130.0,135.0,194.0,102.0,110.0,64.0,110.0,91.0,90.0,67.0,106.0,111.0,82.0,45.0,96.0,0.0,77.0,101.0,112.0,84.0,72.0,169.0,88.0,67.0,114.0,96.0,92.0,100.0,116.0,104.0,98.0,94.0,109.0,89.0,102.0,105.0,98.0,116.0,119.0,126.0,75.0,140.0,0.0,0.0,106.0,80.0,73.0,108.0,113.0,113.0,74.0,150.0,108.0,105.0,94.0,100.0,86.0,0.0,0.0,0.0,95.0,81.0,87.0,66.0,10.0,87.0,101.0,81.0,104.0,108.0,96.0,68.0,100.0,87.0,129.0,137.0,97.0,89.0,87.0,188.0,138.0,52.0,88.0,129.0,82.0,137.0,83.0,124.0,78.0,163.0,116.0,0.0,101.0,119.0,129.0,61.0,93.0,68.0,106.0,93.0,99.0,116.0,0.0,116.0,99.0,119.0,0.0,113.0,66.0,76.0,81.0,103.0,98.0,101.0,100.0,85.0,124.0,109.0,105.0,62.0,117.0,112.0,116.0,96.0,64.0,132.0,83.0,0.0,114.0,96.0,82.0,110.0,110.0,96.0,113.0,101.0,96.0,108.0,63.0,122.0,0.0,0.0,120.0,109.0,115.0,101.0,109.0,144.0,117.0,101.0,125.0,111.0,128.0,0.0,164.0,113.0,157.0,17.0,150.0,50.0,64.0,101.0,103.0,102.0,97.0,112.0,80.0,106.0,89.0,118.0,42.0,102.0,116.0,91.0,116.0,58.0,119.0,132.0,152.0,136.0,128.0,119.0,143.0,120.0,115.0,141.0,130.0,95.0,98.0,103.0,107.0,164.0,152.0,100.0,124.0,97.0,82.0,98.0,116.0,0.0,0.0,171.0,126.0,50.0,124.0,0.0,109.0,106.0,145.0,87.0,76.0,94.0,101.0,94.0,11.0,10.0,108.0,105.0,121.0,156.0,113.0,96.0,133.0,91.0,141.0,0.0,0.0,109.0,82.0,106.0,132.0,90.0,129.0,121.0,0.0,119.0,130.0,121.0,92.0,94.0,78.0,96.0,99.0,106.0,97.0,130.0,76.0,94.0,126.0,89.0,115.0,95.0,127.0,70.0,82.0,92.0,108.0,123.0,103.0,86.0,107.0,0.0,88.0,88.0,140.0,109.0,119.0,110.0,107.0,183.0,104.0,97.0,105.0,24.0,101.0,77.0,103.0,101.0,0.0,120.0,102.0,111.0,97.0,109.0,87.0,142.0,132.0,126.0,114.0,0.0,80.0,116.0,117.0,116.0,71.0,98.0,90.0,140.0,113.0,112.0,88.0,132.0,105.0,84.0,127.0,72.0,111.0,81.0,96.0,116.0,104.0,88.0,93.0,162.0,103.0,94.0,89.0,102.0,138.0,71.0,0.0,0.0,0.0,103.0,119.0,87.0,85.0,120.0,140.0,147.0,124.0,103.0,94.0,151.0,117.0,131.0,78.0,113.0,67.0,54.0,61.0,93.0,104.0,98.0,81.0,92.0,83.0,87.0,76.0,96.0,71.0,89.0,129.0,92.0,78.0,120.0,106.0,117.0,95.0,100.0,145.0,72.0,114.0,114.0,86.0,121.0,170.0,105.0,91.0,122.0,171.0,89.0,81.0,239.0,93.0,104.0,130.0,0.0,114.0,0.0,0.0,0.0,0.0,128.0,103.0,122.0,108.0,113.0,104.0,151.0,124.0,78.0,54.0,85.0,96.0,102.0,11.0,85.0,100.0,0.0,86.0,65.0,91.0,107.0,120.0,101.0,100.0,104.0,50.0,0.0,102.0,102.0,84.0,107.0,146.0,92.0,129.0,83.0,97.0,137.0,0.0,104.0,121.0,127.0,122.0,74.0,101.0,160.0,75.0,98.0,109.0,119.0,90.0,118.0,137.0,84.0,116.0,98.0,126.0,97.0,118.0,91.0,108.0,80.0,92.0,91.0,0.0,0.0,0.0,0.0,113.0,114.0,101.0,99.0,117.0,123.0,92.0,107.0,98.0,139.0,91.0,94.0,90.0,123.0,76.0,68.0,118.0,121.0,136.0,88.0,170.0,115.0,83.0,159.0,85.0,133.0,106.0,101.0,88.0,93.0,105.0,122.0,79.0,102.0,98.0,86.0,121.0,97.0,118.0,132.0,89.0,0.0,111.0,85.0,126.0,101.0,97.0,152.0,107.0,126.0,110.0,93.0,86.0,94.0,63.0,90.0,115.0,96.0,83.0,93.0,83.0,105.0,105.0,105.0,0.0,96.0,162.0,92.0,125.0,115.0,135.0,89.0,181.0,69.0,27.0,80.0,104.0,94.0,131.0,121.0,119.0,105.0,133.0,116.0,121.0,120.0,112.0,91.0,68.0,92.0,112.0,111.0,132.0,128.0,102.0,115.0,91.0,110.0,139.0,134.0,111.0,118.0,103.0,103.0,87.0,117.0,91.0,112.0,84.0,108.0,91.0,98.0,118.0,92.0,92.0,87.0,95.0,102.0,107.0,99.0,99.0,89.0,107.0,103.0,138.0,103.0,97.0,82.0,10.0,79.0,115.0,113.0,82.0,68.0,118.0,115.0,80.0,119.0,122.0,130.0,70.0,12.0,85.0,71.0,107.0,89.0,100.0,147.0,130.0,72.0,66.0,106.0,123.0,94.0,95.0,133.0,86.0,112.0,0.0,89.0,92.0,75.0,123.0,129.0,123.0,92.0,103.0,73.0,93.0,133.0,97.0,93.0,88.0,125.0,144.0,87.0,123.0,93.0,133.0,107.0,126.0,114.0,95.0,134.0,116.0,0.0,97.0,52.0,65.0,70.0,85.0,107.0,113.0,89.0,113.0,123.0,122.0,76.0,94.0,95.0,97.0,118.0,96.0,0.0,90.0,91.0,94.0,121.0,94.0,112.0,113.0,113.0,115.0,89.0,121.0,82.0,111.0,132.0,92.0,209.0,95.0,101.0,96.0,68.0,95.0,128.0,131.0,97.0,0.0,118.0,142.0,92.0,135.0,25.0,19.0,93.0,181.0,110.0,95.0,91.0,121.0,108.0,155.0,94.0,114.0,86.0,94.0,127.0,120.0,156.0,129.0,127.0,92.0,134.0,93.0,83.0,93.0,89.0,118.0,82.0,82.0,85.0,105.0,112.0,99.0,205.0,87.0,162.0,125.0,134.0,150.0,122.0,100.0,73.0,102.0,100.0,0.0,128.0,87.0,71.0,103.0,101.0,139.0,65.0,119.0,110.0,128.0,81.0,124.0,96.0,83.0,92.0,78.0,140.0,83.0,88.0,98.0,77.0,102.0,81.0,84.0,91.0,75.0,85.0,87.0,102.0,98.0,108.0,153.0,119.0,115.0,107.0,93.0,62.0,135.0,134.0,79.0,112.0,91.0,86.0,109.0,101.0,132.0,129.0,146.0,92.0,101.0,98.0,144.0,111.0,67.0,92.0,158.0,92.0,133.0,86.0,120.0,120.0,114.0,121.0,114.0,97.0,100.0,0.0,132.0,0.0,0.0,120.0,138.0,92.0,127.0,131.0,63.0,57.0,83.0,0.0,98.0,96.0,122.0,33.0,134.0,122.0,134.0,101.0,81.0,65.0,141.0,113.0,109.0,103.0,97.0,139.0,69.0,96.0,118.0,98.0,120.0,158.0,124.0,93.0,109.0,80.0,89.0,130.0,97.0,107.0,80.0,122.0,110.0,106.0,148.0,118.0,89.0,109.0,138.0,108.0,41.0,72.0,99.0,111.0,94.0,130.0,114.0,94.0,116.0,86.0,113.0,102.0,145.0,161.0,151.0,100.0,109.0,90.0,90.0,100.0,131.0,78.0,95.0,193.0,179.0,112.0,140.0,107.0,70.0,84.0,99.0,118.0,18.0,80.0,83.0,106.0,63.0,31.0,89.0,0.0,135.0,100.0,102.0,143.0,89.0,100.0,163.0,130.0,133.0,142.0,87.0,110.0,0.0,175.0,73.0,134.0,46.0,120.0,96.0,134.0,86.0,126.0,203.0,17.0,84.0,135.0,133.0,118.0,135.0,69.0,121.0,111.0,10.0,128.0,117.0,37.0,98.0,116.0,63.0,79.0,83.0,129.0,119.0,89.0,102.0,88.0,127.0,111.0,153.0,125.0,66.0,96.0,102.0,121.0,48.0,76.0,112.0,73.0,88.0,114.0,101.0,88.0,65.0,133.0,114.0,95.0,98.0,98.0,46.0,73.0,155.0,32.0,105.0,92.0,113.0,83.0,129.0,159.0,114.0,140.0,92.0,0.0,0.0,99.0,141.0,5.8,98.0,104.0,111.0,128.0,146.0,153.0,151.0,102.0,104.0,109.0,161.0,101.0,93.0,127.0,95.0,115.0,113.0,98.0,78.0,101.0,139.0,102.0,149.0,250.0,160.0,110.0,68.0,88.0,98.0,121.0,100.0,129.0,12.0,39.0,136.0,112.0,250.0,94.0,36.0,96.0,109.0,92.0,102.0,69.0,120.0,143.0,141.0,100.0,71.0,115.0,96.0,141.0,67.0,93.0,99.0,140.0,94.0,0.0,73.0,101.0,78.0,181.0,103.0,136.0,111.0,114.0,108.0,106.0,106.0,98.0,116.0,69.0,86.0,134.0,135.0,111.0,118.0,60.0,102.0,125.0,94.0,152.0,118.0,0.0,88.0,125.0,122.0,14.0,115.0,124.0,93.0,160.0,61.0,142.0,32.0,110.0,133.0,91.0,219.0,116.0,65.0,95.0,132.0,107.0,97.0,99.0,122.0,149.0,74.0,76.0,105.0,139.0,65.0,0.0,118.0,116.0,214.0,93.0,142.0,121.0,22.0,110.0,83.0,124.0,97.0,101.0,107.0,130.0,95.0,98.0,126.0,87.0,156.0,90.0,110.0,160.0,114.0,107.0,76.0,90.0,120.0,109.0,137.0,88.0,78.0,129.0,60.0,131.0,142.0,85.0,109.0,75.0,89.0,72.0,131.0,78.0,122.0,114.0,67.0,91.0,110.0,135.0,108.0,91.0,79.0,90.0,99.0,92.0,119.0,84.0,88.0,183.0,103.0,172.0,98.0,87.0,113.0,93.0,0.0,141.0,121.0,85.0,124.0,133.0,150.0,84.0,142.0,106.0,83.0,76.0,89.0,158.0,104.0,15.0,104.0,147.0,141.0,103.0,95.0,111.0,120.0,98.0,90.0,94.0,88.0,120.0,144.0,91.0,100.0,93.0,114.0,128.0,78.0,103.0,84.0,97.0,132.0,100.0,105.0,125.0,0.0,100.0,104.0,135.0,132.0,136.0,42.0,0.0,87.0,83.0,116.0,87.0,77.0,90.0,96.0,174.0,204.0,113.0,84.0,125.0,117.0,101.0,178.0,151.0,148.0,104.0,34.0,88.0,95.0,93.0,74.0,126.0,123.0,111.0,89.0,90.0,119.0,82.0,122.0,75.0,114.0,125.0,103.0,83.0,94.0,74.0,71.0,86.0,84.0,109.0,129.0,140.0,105.0,89.0,136.0,223.0,75.0,121.0,120.0,92.0,95.0,111.0,103.0,140.0,90.0,63.0,82.0,95.0,98.0,113.0,138.0,87.0,0.0,151.0,76.0,120.0,91.0,89.0,90.0,83.0,81.0,70.0,66.0,113.0,112.0,95.0,130.0,115.0,86.0,113.0,111.0,90.0,63.0,109.0,77.0,88.0,93.0,82.0,92.0,124.0,118.0,89.0,87.0,90.0,85.0,74.0,212.0,99.0,0.0,102.0,111.0,117.0,36.0,90.0,145.0,73.0,88.0,91.0,95.0,126.0,147.0,103.0,109.0,97.0,4.0,81.0,0.0,123.0,61.0,109.0,105.0,138.0,140.0,97.0,142.0,182.0,111.0,114.0,156.0,76.0,103.0,152.0,113.0,67.0,102.0,127.0,119.0,63.0,124.0,111.0,85.0,113.0,102.0,124.0,90.0,0.0,0.0,0.0,0.0,0.0,74.0,99.0,107.0,94.0,68.0,106.0,105.0,70.0,102.0,104.0,109.0,107.0,143.0,100.0,73.0,84.0,106.0,83.0,83.0,0.0,141.0,81.0,123.0,83.0,157.0,131.0,75.0,110.0,107.0,14.0,2.0,86.0,61.0,92.0,83.0,142.0,87.0,79.0,95.0,101.0,116.0,87.0,98.0,112.0,95.0,111.0,117.0,111.0,90.0,120.0,0.0,98.0,121.0,138.0,140.0,108.0,104.0,0.0,244.0,135.0,118.0,122.0,99.0,112.0,0.0,121.0,113.0,93.0,118.0,96.0,121.0,137.0,137.0,134.0,113.0,103.0,80.0,121.0,102.0,138.0,153.0,93.0,99.0,83.0,109.0,115.0,44.0,139.0,109.0,96.0,192.0,111.0,103.0,99.0,53.0,124.0,14.0,0.0,162.0,155.0,128.0,120.0,88.0,97.0,103.0,109.0,116.0,134.0,93.0,121.0,87.0,121.0,139.0,76.0,63.0,0.0,87.0,138.0,75.0,70.0,109.0,121.0,101.0,90.0,110.0,125.0,84.0,70.0,90.0,0.0,94.0,72.0,109.0,113.0,100.0,92.0,76.0,110.0,66.0,64.0,32.0,110.0,131.0,106.0,103.0,97.0,82.0,91.0,110.0,90.0,88.0,68.0,118.0,127.0,0.0,123.0,48.0,88.0,102.0,120.0,110.0,93.0,110.0,96.0,118.0,110.0,101.0,139.0,35.0,143.0,103.0,71.0,91.0,80.0,110.0,99.0,114.0,75.0,67.0,226.0,21.0,144.0,134.0,99.0,150.0,134.0,103.0,93.0,150.0,126.0,124.0,96.0,119.0,97.0,0.0,62.0,120.0,99.0,77.0,105.0,73.0,131.0,198.0,143.0,103.0,31.0,79.0,92.0,118.0,107.0,101.0,75.0,87.0,133.0,113.0,107.0,116.0,111.0,90.0,85.0,104.0,131.0,79.0,75.0,113.0,0.0,163.0,72.0,233.0,117.0,128.0,65.0,94.0,143.0,92.0,87.0,83.0,100.0,101.0,97.0,61.0,107.0,104.0,118.0,99.0,106.0,117.0,110.0,93.0,119.0,88.0,191.0,100.0,83.0,135.0,71.0,72.0,112.0,87.0,85.0,93.0,90.0,84.0,128.0,116.0,106.0,103.0,93.0,0.0,77.0,141.0,113.0,128.0,120.0,77.0,127.0,60.0,113.0,116.0,106.0,112.0,92.0,70.0,82.0,109.0,92.0,88.0,111.0,41.0,0.0,105.0,99.0,107.0,88.0,112.0,89.0,0.0,124.0,120.0,178.0,79.0,98.0,118.0,124.0,109.0,119.0,82.0,122.0,135.0,116.0,85.0,79.0,138.0,45.0,90.0,96.0,0.0,133.0,93.0,95.0,73.0,89.0,71.0,91.0,95.0,148.0,94.0,112.0,0.0,138.0,136.0,86.0,111.0,84.0,96.0,161.0,110.0,127.0,122.0,105.0,103.0,79.0,94.0,131.0,71.0,248.0,0.0,131.0,107.0,120.0,118.0,15.0,135.0,98.0,88.0,134.0,89.0,77.0,96.0,162.0,91.0,124.0,94.0,91.0,143.0,114.0,118.0,125.0,126.0,80.0,75.0,102.0,118.0,112.0,81.0,74.0,148.0,102.0,112.0,98.0,127.0,72.0,82.0,148.0,109.0,95.0,126.0,101.0,112.0,157.0,131.0,125.0,75.0,102.0,87.0,112.0,101.0,94.0,151.0,71.0,142.0,87.0,113.0,16.0,0.0,128.0,101.0,94.0,63.0,79.0,78.0,99.0,0.0,120.0,93.0,101.0,117.0,136.0,160.0,273.0,117.0,175.0,97.0,101.0,154.0,76.0,99.0,144.0,113.0,119.0,155.0,104.0,122.0,131.0,108.0,136.0,86.0,111.0,150.0,98.0,139.0,272.0,104.0,98.0,156.0,74.0,86.0,94.0,145.0,83.0,86.0,192.0,138.0,177.0,82.0,99.0,139.0,113.0,81.0,45.0,200.0,98.0,125.0,129.0,99.0,85.0,121.0,89.0,86.0,96.0,94.0,96.0,102.0,87.0,114.0,101.0,114.0,147.0,80.0,109.0,149.0,103.0,99.0,60.0,78.0,107.0,95.0,85.0,120.0,102.0,103.0,120.0,110.0,90.0,66.0,134.0,154.0,85.0,73.0,114.0,63.0,129.0,98.0,98.0,106.0,0.0,145.0,108.0,157.0,131.0,183.0,148.0,162.0,93.0,101.0,100.0,135.0,93.0,127.0,199.0,91.0,152.0,152.0,142.0,73.0,78.0,97.0,130.0,100.0,81.0,74.0,100.0,100.0,115.0,108.0,59.0,131.0,109.0,104.0,104.0,0.0,105.0,95.0,146.0,130.0,99.0,116.0,96.0,88.0,100.0,84.0,0.0,78.0,108.0,116.0,66.0,112.0,90.0,163.0,77.0,159.0,68.0,100.0,74.0,124.0,80.0,119.0,76.0,87.0,75.0,99.0,89.0,120.0,109.0,82.0,112.0,195.0,105.0,68.0,96.0,131.0,81.0,107.0,113.0,0.0,91.0,127.0,63.0,57.0,115.0,107.0,0.0,123.0,116.0,113.0,129.0,138.0,105.0,103.0,117.0,45.0,75.0,115.0,118.0,89.0,128.0,93.0,66.0,123.0,107.0,84.0,100.0,120.0,92.0,104.0,0.0,94.0,115.0,244.0,0.0,130.0,122.0,107.0,113.0,74.0,118.0,147.0,95.0,72.0,114.0,76.0,124.0,85.0,93.0,105.0,60.0,84.0,77.0,67.0,109.0,13.0,102.0,102.0,132.0,141.0,103.0,111.0,141.0,95.0,85.0,98.0,143.0,102.0,70.0,73.0,71.0,88.0,184.0,119.0,70.0,135.0,119.0,98.0,92.0,117.0,103.0,104.0,146.0,73.0,74.0,104.0,85.0,158.0,78.0,142.0,91.0,100.0,130.0,107.0,101.0,115.0,139.0,28.0,107.0,93.0,0.0,74.0,79.0,117.0,128.0,80.0,82.0,105.0,123.0,101.0,81.0,146.0,104.0,96.0,63.0,82.0,83.0,102.0,71.0,0.0,81.0,81.0,91.0,93.0,111.0,114.0,76.0,84.0,104.0,87.0,95.0,210.0,98.0,97.0,104.0,155.0,139.0,86.0,87.0,82.0,164.0,92.0,183.0,0.0,0.0,114.0,114.0,96.0,89.0,123.0,77.0,98.0,145.0,96.0,93.0,104.0,95.0,118.0,109.0,104.0,71.0,98.0,108.0,132.0,108.0,72.0,177.0,174.0,147.0,107.0,113.0,101.0,125.0,125.0,123.0,106.0,93.0,133.0,122.0,128.0,191.0,124.0,138.0,135.0,118.0,126.0,114.0,97.0,120.0,123.0,106.0,96.0,112.0,99.0,96.0,81.0,216.0,136.0,116.0,86.0,0.0,108.0,114.0,60.0,112.0,105.0,111.0,126.0,111.0,84.0,239.0,87.0,134.0,123.0,133.0,80.0,113.0,23.0,115.0,159.0,120.0,118.0,115.0,89.0,103.0,122.0,111.0,123.0,151.0,175.0,74.0,102.0,82.0,125.0,65.0,118.0,109.0,96.0,100.0,136.0,133.0,141.0,101.0,148.0,63.0,96.0,105.0,71.0,119.0,116.0,136.0,65.0,123.0,206.0,152.0,101.0,104.0,135.0,121.0,107.0,137.0,150.0,61.0,56.0,110.0,82.0,131.0,116.0,93.0,69.0,147.0,102.0,189.0,58.0,66.0,123.0,122.0,127.0,120.0,119.0,76.0,24.0,90.0,131.0,96.0,141.0,164.0,120.0,89.0,77.0,115.0,93.0,0.0,71.0,99.0,132.0,71.0,98.0,106.0,107.0,92.0,105.0,139.0,81.0,138.0,0.0,94.0,123.0,131.0,5.0,110.0,104.0,74.0,98.0,103.0,95.0,83.0,96.0,82.0,131.0,98.0,123.0,125.0,95.0,120.0,98.0,101.0,278.0,87.0,221.0,123.0,107.0,145.0,116.0,0.0,96.0,123.0,58.0,14.0,112.0,90.0,159.0,2.9,147.0,91.0,100.0,105.0,93.0,113.0,82.0,142.0,97.0,98.0,97.0,106.0,0.0,61.0,130.0,125.0,102.0,105.0,105.0,79.0,91.0,98.0,81.0,119.0,115.0,120.0,139.0,100.0,114.0,98.0,0.0,127.0,125.0,143.0,116.0,138.0,108.0,119.0,118.0,127.0,79.0,96.0,118.0,162.0,100.0,126.0,77.0,93.0,8.4,106.0,143.0,114.0,101.0,0.0,116.0,132.0,82.0,71.0,108.0,133.0,84.0,138.0,91.0,112.0,92.0,145.0,136.0,100.0,130.0,106.0,97.0,113.0,103.0,104.0,111.0,133.0,123.0,81.0,81.0,111.0,104.0,65.0,0.0,100.0,79.0,93.0,115.0,135.0,127.0,116.0,138.0,166.0,102.0,123.0,123.0,75.0,119.0,144.0,135.0,128.0,147.0,73.0,103.0,139.0,107.0,22.0,117.0,0.0,78.0,117.0,101.0,118.0,115.0,107.0,119.0,155.0,106.0,108.0,98.0,60.0,94.0,128.0,86.0,144.0,80.0,147.0,99.0,152.0,148.0,142.0,0.0,136.0,84.0,159.0,58.0,129.0,102.0,123.0,108.0,105.0,93.0,116.0,108.0,144.0,126.0,115.0,95.0,108.0,104.0,120.0,104.0,82.0,131.0,98.0,192.0,0.0,126.0,112.0,89.0,110.0,118.0,214.0,125.0,60.0,125.0,91.0,133.0,91.0,96.0,119.0,0.0,121.0,85.0,102.0,122.0,100.0,87.0,93.0,113.0,131.0,82.0,118.0,104.0,107.0,134.0,99.0,99.0,117.0,113.0,74.0,138.0,95.0,117.0,102.0,14.0,138.0,107.0,0.0,110.0,106.0,87.0,103.0,125.0,150.0,74.0,88.0,101.0,112.0,99.0,96.0,120.0,115.0,118.0,96.0,127.0,98.0,117.0,145.0,74.0,117.0,129.0,82.0,78.0,123.0,116.0,70.0,126.0,89.0,126.0,99.0,122.0,111.0,118.0,141.0,120.0,89.0,148.0,143.0,133.0,100.0,113.0,136.0,138.0,140.0,175.0,86.0,111.0,118.0,94.0,93.0,114.0,103.0,95.0,114.0,85.0,104.0,139.0,85.0,105.0,77.0,89.0,119.0,42.0,66.0,96.0,117.0,158.0,0.0,129.0,99.0,82.0,60.0,117.0,111.0,86.0,0.0,169.0,77.0,167.0,87.0,102.0,94.0,87.0,97.0,93.0,77.0,109.0,10.0,204.0,113.0,91.0,86.0,136.0,107.0,100.0,105.0,101.0,105.0,88.0,0.0,85.0,87.0,139.0,106.0,140.0,115.0,104.0,0.0,111.0,143.0,123.0,72.0,84.0,101.0,129.0,65.0,114.0,115.0,85.0,187.0,102.0,109.0,72.0,116.0,108.0,110.0,131.0,60.0,149.0,131.0,129.0,83.0,110.0,97.0,51.0,102.0,85.0,105.0,113.0,114.0,82.0,104.0,102.0,132.0,114.0,87.0,103.0,99.0,123.0,104.0,110.0,106.0,63.0,76.0,99.0,106.0,67.0,121.0,93.0,96.0,93.0,95.0,0.0,101.0,69.0,116.0,0.0,0.0,86.0,115.0,86.0,125.0,101.0,68.0,119.0,29.0,114.0,91.0,96.0,110.0,120.0,124.0,124.0,127.0,120.0,97.0,85.0,100.0,172.0,113.0,183.0,4.06,88.0,136.0,129.0,119.0,0.0,111.0,115.0,83.0,116.0,135.0,142.0,81.0,93.0,14.0,115.0,62.0,134.0,105.0,175.0,106.0,64.0,87.0,67.0,155.0,75.0,123.0,105.0,62.0,152.0,91.0,107.0,116.0,0.0,78.0,0.0,103.0,125.0,0.0,116.0,138.0,81.0,130.0,200.0,150.0,100.0,97.0,92.0,12.0,91.0,144.0,113.0,83.0,97.0,146.0,0.0,0.0,124.0,90.0,124.0,134.0,102.0,0.0,91.0,119.0,96.0,98.0,90.0,109.0,148.0,140.0,136.0,132.0,122.0,88.0,122.0,99.0,65.0,121.0,0.0,141.0,80.0,104.0,0.0,128.0,98.0,106.0,193.0,77.0,113.0,124.0,91.0,107.0,113.0,110.0,86.0,118.0,104.0,74.0,111.0,79.0,85.0,185.0,148.0,133.0,110.0,121.0,109.0,136.0,75.0,101.0,95.0,91.0,105.0,130.0,98.0,89.0,98.0,106.0,88.0,121.0,98.0,86.0,79.0,97.0,91.0,95.0,76.0,107.0,96.0,104.0,91.0,90.0,142.0,84.0,120.0,112.0,105.0,220.0,82.0,123.0,105.0,93.0,111.0,108.0,120.0,105.0,84.0,102.0,130.0,80.0,92.0,125.0,0.0,131.0,162.0,130.0,131.0,97.0,16.0,88.0,107.0,173.0,113.0,81.0,67.0,0.0,107.0,0.0,0.0,116.0,102.0,103.0,106.0,110.0,110.0,123.0,31.0,76.0,106.0,77.0,0.0,153.0,110.0,139.0,146.0,132.0,135.0,121.0,124.0,116.0,84.0,131.0,77.0,93.0,119.0,108.0,100.0,148.0,0.0,116.0,131.0,172.0,82.0,4.2,123.0,136.0,115.0,88.0,157.0,65.0,184.0,95.0,79.0,101.0,110.0,57.0,112.0,127.0,95.0,81.0,100.0,142.0,85.0,139.0,90.0,86.0,33.0,144.0,100.0,119.0,386.0,100.0,95.0,83.0,133.0,100.0,75.0,108.0,125.0,149.0,76.0,3.0,85.0,126.0,0.0,119.0,112.0,81.0,82.0,125.0,103.0,141.0,123.0,77.0,80.0,118.0,88.0,75.0,152.0,123.0,142.0,116.0,148.0,127.0,119.0,107.0,96.0,111.0,148.0,111.0,143.0,100.0,99.0,80.0,109.0,116.0,53.0,63.0,98.0,92.0,123.0,126.0,134.0,126.0,109.0,93.0,157.0,124.0,90.0,104.0,75.0,153.0,96.0,122.0,114.0,88.0,139.0,111.0,115.0,0.0,144.0,120.0,156.0,101.0,102.0,118.0,103.0,130.0,142.0,110.0,121.0,93.0,112.0,77.0,87.0,101.0,148.0,120.0,85.0,139.0,95.0,146.0,100.0,99.0,91.0,117.0,112.0,131.0,123.0,115.0,140.0,113.0,152.0,101.0,128.0,114.0,119.0,130.0,108.0,101.0,99.0,136.0,104.0,118.0,118.0,95.0,98.0,161.0,134.0,99.0,82.0,113.0,130.0,136.0,103.0,105.0,106.0,124.0,141.0,81.0,71.0,150.0,0.0,130.0,105.0,104.0,198.0,91.0,146.0,61.0,108.0,180.0,131.0,127.0,127.0,112.0,106.0,111.0,171.0,69.0,144.0,173.0,102.0,131.0,145.0,106.0,124.0,120.0,104.0,109.0,132.0,79.0,0.0,128.0,96.0,151.0,103.0,96.0,142.0,124.0,141.0,114.0,85.0,0.0,116.0,99.0,48.0,108.0,95.0,120.0,110.0,155.0,96.0,118.0,102.0,85.0,81.0,95.0,92.0,104.0,107.0,76.0,104.0,99.0,132.0,92.0,116.0,102.0,97.0,95.0,132.0,138.0,91.0,87.0,57.0,73.0,88.0,148.0,114.0,60.0,142.0,123.0,93.0,123.0,125.0,110.0,120.0,137.0,101.0,103.0,90.0,106.0,57.0,98.0,130.0,91.0,182.0,123.0,69.0,114.0,186.0,157.0,138.0,122.0,133.0,63.0,127.0,90.0,93.0,181.0,76.0,106.0,135.0,97.0,122.0,103.0,0.0,141.0,137.0,101.0,113.0,91.0,126.0,88.0,130.0,142.0,130.0,81.0,109.0,126.0,144.0,135.0,66.0,0.0,86.0,135.0,89.0,92.0,138.0,0.0,145.0,44.0,82.0,118.0,102.0,78.0,122.0,134.0,257.0,100.0,114.0,90.0,53.0,69.0,111.0,106.0,112.0,108.0,92.0,98.0,117.0,91.0,123.0,55.0,65.0,120.0,104.0,90.0,132.0,106.0,94.0,119.0,131.0,105.0,90.0,109.0,106.0,87.0,127.0,129.0,69.0,63.0,104.0,85.0,108.0,131.0,168.0,112.0,108.0,87.0,113.0,30.0,86.0,133.0,70.0,112.0,103.0,148.0,114.0,140.0,12.0,108.0,122.0,135.0,0.0,115.0,95.0,142.0,104.0,108.0,87.0,75.0,118.0,37.0,90.0,137.0,105.0,102.0,120.0,68.0,118.0,150.0,107.0,98.0,174.0,64.0,101.0,101.0,92.0,92.0,81.0,94.0,90.0,80.0,97.0,85.0,105.0,201.0,108.0,89.0,82.0,76.0,0.0,77.0,89.0,57.0,96.0,100.0,113.0,80.0,77.0,91.0,123.0,111.0,63.0,115.0,125.0,129.0,100.0,104.0,103.0,128.0,95.0,91.0,123.0,100.0,132.0,127.0,111.0,97.0,93.0,147.0,136.0,90.0,84.0,120.0,104.0,77.0,119.0,78.0,77.0,92.0,98.0,88.0,98.0,80.0,137.0,88.0,94.0,107.0,136.0,109.0,25.0,107.0,118.0,98.0,87.0,96.0,186.0,137.0,0.0,131.0,89.0,115.0,99.0,125.0,151.0,147.0,89.0,90.0,108.0,85.0,129.0,118.0,73.0,93.0,100.0,113.0,82.0,111.0,150.0,0.0,89.0,103.0,98.0,102.0,94.0,91.0,81.0,83.0,88.0,93.0,107.0,97.0,133.0,97.0,135.0,122.0,120.0,100.0,72.0,93.0,87.0,127.0,95.0,108.0,97.0,82.0,86.0,116.0,94.0,92.0,134.0,156.0,116.0,121.0,91.0,82.0,100.0,114.0,90.0,110.0,256.0,158.0,85.0,93.0,144.0,13.0,75.0,73.0,118.0,89.0,143.0,86.0,91.0,149.0,156.0,138.0,115.0,77.0,102.0,131.0,105.0,96.0,79.0,118.0,74.0,84.0,111.0,101.0,107.0,99.0,67.0,97.0,114.0,210.0,97.0,123.0,89.0,112.0,69.0,60.0,28.0,107.0,134.0,114.0,83.0,78.0,75.0,63.0,99.0,62.0,79.0,64.0,66.0,94.0,92.0,97.0,88.0,94.0,142.0,109.0,111.0,103.0,117.0,66.0,130.0,79.0,127.0,91.0,118.0,0.0,152.0,12.0,107.0,161.0,430.0,107.0,129.0,151.0,124.0,131.0,80.0,48.0,71.0,105.0,133.0,120.0,183.0,86.0,157.0,126.0,148.0,157.0,112.0,93.0,117.0,113.0,116.0,0.0,107.0,123.0,164.0,129.0,98.0,89.0,127.0,2.5,146.0,126.0,74.0,126.0,115.0,68.0,78.0,120.0,110.0,123.0,137.0,111.0,87.0,110.0,118.0,99.0,139.0,101.0,80.0,0.0,104.0,106.0,100.0,102.0,108.0,111.0,101.0,106.0,116.0,86.0,123.0,15.0,80.0,128.0,121.0,109.0,101.0,124.0,106.0,96.0,36.0,70.0,129.0,128.0,76.0,79.0,95.0,107.0,90.0,93.0,76.0,107.0,107.0,120.0,86.0,109.0,146.0,90.0,107.0,102.0,73.0,98.0,102.0,121.0,113.0,101.0,93.0,79.0,0.0,112.0,86.0,133.0,61.0,99.0,5.0,98.0,74.0,71.0,161.0,82.0,81.0,96.0,133.0,57.0,119.0,50.0,96.0,80.0,93.0,75.0,55.0,110.0,103.0,103.0,154.0,98.0,84.0,75.0,95.0,146.0,78.0,95.0,0.0,117.0,75.0,84.0,102.0,98.0,75.0,99.0,101.0,111.0,150.0,105.0,128.0,86.0,61.0,168.0,77.0,83.0,99.0,99.0,74.0,73.0,112.0,108.0,110.0,93.0,111.0,5.0,96.0,157.0,90.0,108.0,119.0,107.0,105.0,97.0,57.0,137.0,82.0,151.0,62.0,104.0,105.0,75.0,161.0,115.0,99.0,125.0,83.0,132.0,87.0,104.0,89.0,136.0,128.0,245.0,82.0,80.0,99.0,129.0,106.0,99.0,93.0,110.0,68.0,88.0,67.0,60.0,95.0,79.0,94.0,61.0,100.0,0.0,154.0,127.0,89.0,81.0,109.0,117.0,90.0,155.0,150.0,79.0,75.0,98.0,68.0,112.0,79.0,94.0,92.0,101.0,138.0,126.0,109.0,88.0,78.0,118.0,108.0,0.0,114.0,87.0,80.0,92.0,92.0,76.0,107.0,85.0,93.0,77.0,104.0,93.0,125.0,158.0,94.0,63.0,157.0,128.0,46.0,125.0,145.0,132.0,186.0,84.0,121.0,138.0,86.0,94.0,112.0,100.0,111.0,106.0,111.0,83.0,134.0,235.0,115.0,95.0,115.0,111.0,114.0,113.0,108.0,81.0,78.0,108.0,58.0,105.0,65.0,58.0,94.0,107.0,91.0,94.0,110.0,94.0,112.0,101.0,83.0,128.0,105.0,106.0,95.0,145.0,133.0,111.0,0.0,107.0,101.0,88.0,96.0,0.0,95.0,180.0,119.0,101.0,82.0,141.0,78.0,78.0,106.0,0.0,95.0,103.0,159.0,107.0,92.0,89.0,91.0,102.0,123.0,111.0,72.0,58.0,0.0,85.0,116.0,112.0,108.0,96.0,97.0,80.0,95.0,100.0,84.0,148.0,114.0,139.0,83.0,99.0,101.0,87.0,106.0,104.0,60.0,128.0,109.0,59.0,127.0,100.0,115.0,80.0,135.0,5.0,151.0,103.0,82.0,100.0,101.0,92.0,146.0,140.0,131.0,62.0,129.0,115.0,101.0,98.0,109.0,410.0,110.0,125.0,0.0,109.0,96.0,83.0,110.0,125.0,144.0,79.0,138.0,117.0,88.0,134.0,114.0,115.0,80.0,95.0,80.0,97.0,92.0,125.0,74.0,28.0,100.0,108.0,191.0,117.0,0.0,84.0,93.0,68.0,139.0,132.0,76.0,139.0,128.0,178.0,87.0,72.0,155.0,96.0,90.0,141.0,178.0,133.0,38.0,84.0,50.0,143.0,72.0,138.0,119.0,134.0,116.0,79.0,118.0,87.0,86.0,99.0,18.0,69.0,117.0,85.0,78.0,142.0,91.0,134.0,82.0,52.0,78.0,112.0,122.0,83.0,91.0,62.0,140.0,105.0,93.0,97.0,57.0,0.0,112.0,69.0,111.0,80.0,130.0,130.0,231.0,141.0,111.0,156.0,90.0,126.0,108.0,97.0,102.0,117.0,122.0,133.0,138.0,104.0,130.0,57.0,90.0,111.0,121.0,107.0,72.0,109.0,120.0,97.0,122.0,72.0,119.0,107.0,92.0,129.0,98.0,122.0,91.0,67.0,5.0,94.0,86.0,61.0,85.0,89.0,115.0,117.0,125.0,43.0,98.0,118.0,88.0,110.0,95.0,94.0,102.0,109.0,114.0,113.0,136.0,102.0,69.0,104.0,73.0,92.0,106.0,64.0,87.0,107.0,124.0,124.0,83.0,105.0,91.0,156.0,130.0,95.0,121.0,239.0,119.0,96.0,104.0,117.0,107.0,96.0,126.0,95.0,95.0,115.0,94.0,74.0,96.0,126.0,134.0,70.0,99.0,120.0,100.0,126.0,119.0,109.0,168.0,106.0,91.0,115.0,84.0,109.0,219.0,98.0,148.0,92.0,69.0,87.0,115.0,74.0,72.0,109.0,99.0,113.0,97.0,122.0,106.0,100.0,110.0,95.0,123.0,0.0,148.0,163.0,139.0,126.0,51.0,96.0,101.0,97.0,114.0,148.0,93.0,112.0,29.0,107.0,101.0,105.0,118.0,113.0,106.0,84.0,101.0,89.0,103.0,74.0,108.0,144.0,86.0,138.0,125.0,77.0,109.0,147.0,77.0,92.0,107.0,81.0,108.0,0.0,134.0,112.0,95.0,137.0,83.0,145.0,108.0,126.0,112.0,78.0,98.0,109.0,184.0,95.0,94.0,44.0,107.0,143.0,120.0,122.0,90.0,95.0,95.0,89.0,75.0,89.0,147.0,109.0,94.0,135.0,77.0,134.0,114.0,108.0,133.0,95.0,83.0,98.0,91.0,134.0,97.0,84.0,118.0,99.0,122.0,83.0,75.0,157.0,134.0,151.0,90.0,117.0,96.0,239.0,97.0,75.0,216.0,92.0,126.0,90.0,61.0,93.0,139.0,139.0,98.0,109.0,94.0,98.0,34.0,111.0,221.0,99.0,131.0,117.0,131.0,99.0,117.0,116.0,117.0,106.0,83.0,177.0,119.0,112.0,77.0,114.0,153.0,112.0,32.0,98.0,122.0,73.0,156.0,0.0,94.0,75.0,106.0,130.0,292.0,109.0,88.0,118.0,99.0,142.0,91.0,0.0,176.0,127.0,142.0,101.0,106.0,126.0,96.0,123.0,98.0,109.0,104.0,167.0,142.0,132.0,103.0,102.0,122.0,97.0,137.0,108.0,107.0,83.0,120.0,74.0,101.0,112.0,74.0,135.0,89.0,135.0,132.0,93.0,152.0,78.0,137.0,80.0,109.0,90.0,91.0,86.0,91.0,22.0,136.0,105.0,123.0,101.0,65.0,16.0,0.0,135.0,92.0,111.0,77.0,128.0,93.0,80.0,127.0,79.0,105.0,127.0,110.0,64.0,80.0,134.0,107.0,58.0,77.0,89.0,117.0,76.0,0.0,0.0,91.0,136.0,138.0,138.0,107.0,43.0,144.0,77.0,153.0,86.0,130.0,131.0,86.0,103.0,103.0,61.0,130.0,130.0,56.0,44.0,0.0,157.0,98.0,129.0,103.0,236.0,99.0,133.0,81.0,142.0,148.0,81.0,53.0,0.0,97.0,97.0,114.0,0.0,105.0,69.0,106.0,130.0,93.0,100.0,0.0,129.0,140.0,99.0,0.0,131.0,115.0,96.0,92.0,249.0,81.0,116.0,102.0,61.0,60.0,99.0,134.0,88.0,123.0,74.0,107.0,0.0,0.0,91.0,97.0,115.0,111.0,98.0,95.0,108.0,113.0,104.0,85.0,114.0,81.0,130.0,143.0,278.0,150.0,117.0,0.0,114.0,131.0,116.0,77.0,122.0,107.0,89.0,178.0,103.0,62.0,150.0,19.0,75.0,115.0,125.0,98.0,100.0,86.0,117.0,126.0,114.0,48.0,102.0,127.0,80.0,148.0,86.0,114.0,83.0,0.0,119.0,129.0,109.0,102.0,120.0,68.0,134.0,80.0,112.0,80.0,118.0,144.0,110.0,137.0,226.0,99.0,102.0,97.0,108.0,143.0,120.0,102.0,57.0,98.0,69.0,92.0,140.0,107.0,155.0,138.0,161.0,115.0,98.0,66.0,86.0,97.0,129.0,163.0,101.0,106.0,103.0,107.0,79.0,65.0,106.0,144.0,163.0,110.0,102.0,88.0,115.0,83.0,117.0,106.0,143.0,113.0,135.0,131.0,114.0,94.0,90.0,83.0,103.0,142.0,84.0,85.0,163.0,102.0,160.0,98.0,81.0,77.0,74.0,88.0,176.0,99.0,82.0,91.0,114.0,95.0,91.0,108.0,93.0,49.0,103.0,125.0,119.0,114.0,131.0,139.0,85.0,96.0,88.0,141.0,121.0,64.0,139.0,122.0,78.0,84.0,99.0,116.0,152.0,124.0,97.0,109.0,131.0,99.0,84.0,105.0,152.0,131.0,94.0,134.0,148.0,125.0,97.0,137.0,91.0,155.0,160.0,0.0,178.0,83.0,5.0,0.0,114.0,0.0,128.0,129.0,101.0,240.0,102.0,123.0,60.0,140.0,140.0,63.0,118.0,134.0,142.0,121.0,126.0,72.0,111.0,110.0,78.0,96.0,117.0,127.0,75.0,0.0,127.0,96.0,81.0,75.0,137.0,116.0,102.0,101.0,95.0,96.0,93.0,139.0,97.0,131.0,123.0,59.0,93.0,153.0,154.0,102.0,78.0,134.0,85.0,121.0,113.0,43.0,105.0,119.0,100.0,95.0,100.0,120.0,60.0,89.0,149.0,84.0,139.0,135.0,107.0,104.0,132.0,104.0,108.0,121.0,96.0,94.0,96.0,138.0,80.0,138.0,100.0,115.0,106.0,116.0,81.0,146.0,105.0,91.0,104.0,116.0,67.0,70.0,118.0,104.0,130.0,65.0,148.0,88.0,121.0,80.0,133.0,130.0,111.0,96.0,109.0,63.0,71.0,84.0,73.0,90.0,80.0,126.0,77.0,139.0,123.0,93.0,108.0,64.0,104.0,103.0,90.0,81.0,146.0,108.0,102.0,94.0,147.0,111.0,83.0,88.0,96.0,158.0,133.0,149.0,130.0,73.0,91.0,104.0,92.0,82.0,101.0,139.0,72.0,239.0,100.0,129.0,94.0,94.0,153.0,67.0,89.0,90.0,102.0,101.0,97.0,58.0,60.0,153.0,83.0,87.0,115.0,76.0,92.0,80.0,96.0,108.0,108.0,171.0,61.0,126.0,64.0,97.0,78.0,87.0,0.0,97.0,90.0,117.0,87.0,57.0,52.0,113.0,66.0,87.0,101.0,93.0,88.0,106.0,102.0,70.0,206.0,0.0,172.0,102.0,91.0,77.0,82.0,130.0,93.0,80.0,65.0,183.0,130.0,64.0,82.0,122.0,118.0,86.0,59.0,121.0,75.0,34.0,90.0,64.0,106.0,82.0,120.0,154.0,91.0,140.0,138.0,102.0,137.0,134.0,108.0,91.0,132.0,77.0,115.0,109.0,105.0,138.0,71.0,5.0,128.0,97.0,97.0,106.0,0.0,114.0,113.0,68.0,96.0,84.0,98.0,180.0,75.0,100.0,55.0,64.0,98.0,94.0,117.0,104.0,154.0,72.0,130.0,120.0,59.0,113.0,132.0,67.0,139.0,129.0,77.0,118.0,65.0,90.0,87.0,119.0,57.0,145.0,80.0,99.0,88.0,64.0,180.0,108.0,45.0,105.0,115.0,43.0,69.0,116.0,93.0,89.0,135.0,83.0,80.0,110.0,71.0,189.0,91.0,182.0,83.0,85.0,116.0,59.0,137.0,85.0,87.0,73.0,73.0,39.0,5.0,85.0,90.0,134.0,82.0,0.0,56.0,95.0,66.0,90.0,67.0,97.0,63.0,95.0,115.0,81.0,93.0,109.0,48.0,106.0,121.0,97.0,97.0,72.0,90.0,137.0,104.0,106.0,128.0,280.0,84.0,0.0,144.0,93.0,112.0,126.0,91.0,143.0,121.0,145.0,122.0,94.0,99.0,83.0,94.0,82.0,87.0,124.0,87.0,101.0,70.0,133.0,88.0,0.0,69.0,94.0,123.0,123.0,121.0,117.0,66.0,90.0,164.0,110.0,92.0,116.0,158.0,74.0,0.0,74.0,132.0,117.0,90.0,143.0,93.0,66.0,90.0,111.0,80.0,78.0,105.0,98.0,102.0,84.0,98.0,98.0,97.0,114.0,118.0,146.0,91.0,101.0,123.0,110.0,125.0,135.0,117.0,107.0,121.0,115.0,130.0,120.0,60.0,77.0,83.0,109.0,56.0,127.0,96.0,106.0,113.0,86.0,96.0,82.0,103.0,0.0,104.0,77.0,79.0,5.0,90.0,90.0,81.0,109.0,57.0,116.0,100.0,66.0,87.0,71.0,65.0,95.0,105.0,108.0,133.0,76.0,119.0,104.0,87.0,202.0,93.0,133.0,81.0,122.0,120.0,82.0,118.0,95.0,81.0,153.0,117.0,105.0,147.0,85.0,109.0,100.0,112.0,89.0,131.0,118.0,160.0,103.0,91.0,13.0,93.0,101.0,91.0,77.0,105.0,154.0,69.0,141.0,0.0,86.0,97.0,81.0,57.0,90.0,60.0,86.0,68.0,119.0,94.0,136.0,63.0,126.0,91.0,100.0,70.0,72.0,90.0,78.0,101.0,103.0,70.0,106.0,76.0,77.0,92.0,69.0,153.0,116.0,64.0,89.0,128.0,88.0,146.0,62.0,134.0,107.0,83.0,57.0,94.0,109.0,0.0,0.0,97.0,86.0,134.0,174.0,101.0,101.0,57.0,71.0,104.0,82.0,84.0,78.0,115.0,114.0,85.0,135.0,71.0,0.0,79.0,49.0,71.0,118.0,59.0,122.0,68.0,111.0,102.0,92.0,104.0,62.0,94.0,113.0,124.0,0.0,54.0,81.0,105.0,111.0,122.0,105.0,97.0,125.0,93.0,70.0,94.0,67.0,76.0,88.0,64.0,91.0,75.0,66.0],\"type\":\"box\",\"xaxis\":\"x4\",\"yaxis\":\"y4\"},{\"name\":\"T4U\",\"y\":[0.0,0.0,0.0,0.0,0.0,0.0,0.0,0.0,0.0,0.0,0.0,0.0,0.0,0.0,0.0,0.0,0.0,1.02,1.06,0.94,1.08,0.84,1.13,0.0,1.07,0.0,0.87,0.62,0.91,0.68,0.79,0.95,1.57,0.92,0.92,1.1,0.7,1.07,1.13,0.89,1.01,1.05,0.91,0.96,1.07,0.78,1.01,1.05,0.0,0.0,0.0,0.0,0.66,0.86,0.76,0.9,0.0,1.0,0.0,1.16,0.68,0.0,1.12,0.92,0.84,0.98,1.0,1.04,1.26,0.0,0.0,0.83,0.94,0.97,0.93,0.88,1.02,0.95,0.7,1.04,0.9,0.98,0.87,0.0,0.0,0.91,1.04,0.83,1.0,0.87,0.96,1.07,0.88,0.0,1.03,1.13,0.61,0.79,1.06,1.01,1.18,1.04,0.86,0.81,0.89,0.87,0.64,1.01,0.91,1.2,0.0,0.83,1.06,0.93,0.98,0.82,1.19,1.03,0.82,0.98,0.95,1.07,0.78,0.97,0.88,0.88,1.06,0.79,0.91,1.05,0.0,0.71,1.32,1.01,0.88,0.99,0.82,0.95,0.67,0.86,0.0,0.73,0.83,0.82,1.05,1.11,0.0,0.89,0.0,0.86,0.84,0.0,0.85,0.86,1.02,0.52,0.96,0.75,1.15,0.95,1.21,0.0,0.91,0.83,1.11,0.79,0.0,0.7,0.97,0.99,0.96,0.81,1.01,0.61,0.77,0.66,0.86,1.07,0.0,0.8,0.79,1.03,0.69,0.97,0.98,1.01,1.33,1.01,1.0,0.89,1.03,0.97,1.01,1.16,0.87,0.91,1.01,0.99,0.85,1.45,0.85,0.96,0.85,1.48,1.0,1.24,0.93,0.92,1.0,1.12,0.82,0.72,0.93,1.05,1.2,0.95,0.95,1.27,1.01,0.88,0.93,1.12,0.93,1.1,1.01,0.9,0.0,0.89,1.09,1.43,0.96,0.82,0.85,1.03,0.76,1.03,0.96,0.85,1.01,0.87,0.94,0.69,0.8,0.91,0.82,1.2,0.86,0.84,0.71,1.01,1.19,1.1,0.83,1.01,1.1,1.05,1.0,1.28,0.95,0.82,0.93,1.18,0.98,0.94,0.68,0.0,0.97,0.77,1.12,0.85,0.86,0.0,0.98,0.92,0.94,1.13,0.81,1.07,1.07,0.86,0.93,1.09,1.14,1.02,1.2,1.07,1.19,1.48,1.0,1.1,1.06,0.8,0.98,1.0,1.52,1.23,0.86,0.86,1.02,0.99,0.0,0.74,1.01,1.06,0.89,0.96,1.02,0.95,1.53,1.0,1.02,0.84,0.82,1.03,1.03,1.07,1.03,0.61,0.82,0.93,0.66,1.0,0.96,1.05,1.19,1.02,0.0,1.05,1.16,0.94,1.11,0.92,0.92,1.21,0.97,0.97,0.7,1.1,0.87,0.81,0.88,0.98,0.89,0.96,0.0,1.07,0.98,0.77,1.12,1.44,0.94,0.93,0.0,0.91,1.04,0.74,0.96,0.97,0.95,0.84,0.95,1.28,1.06,1.16,1.0,1.03,0.99,0.87,1.09,1.1,1.05,1.86,0.98,0.0,0.0,1.02,0.64,1.0,1.23,0.89,1.23,1.14,1.13,1.07,0.95,0.93,0.0,0.81,0.9,0.9,0.29,1.43,1.01,1.2,0.96,1.21,0.8,0.92,1.17,0.0,0.0,0.0,0.75,1.44,1.19,0.97,0.96,0.95,0.95,0.0,0.74,0.98,0.72,1.04,0.0,0.98,0.98,0.9,0.99,1.04,1.07,0.0,0.9,1.24,0.98,0.94,0.98,1.07,1.66,1.11,0.96,0.76,1.11,1.06,0.74,0.99,0.87,1.07,0.96,1.02,0.67,0.0,0.91,0.96,0.82,0.87,0.84,1.09,1.02,0.8,0.0,0.86,0.0,0.7,0.76,0.82,1.14,1.15,1.05,0.84,0.83,0.89,0.0,0.88,1.09,1.11,0.91,0.95,0.95,0.86,0.98,0.94,0.98,0.86,1.13,1.03,1.08,1.02,0.0,0.92,0.7,0.75,1.08,0.0,1.04,0.7,0.9,0.94,1.01,1.01,0.94,0.78,0.87,0.92,1.16,1.12,0.86,0.0,0.92,1.1,0.0,0.95,0.9,0.66,0.95,0.57,0.98,0.82,0.96,0.0,1.03,0.99,0.77,0.79,1.1,0.98,0.0,0.95,1.13,0.99,0.0,0.96,0.93,0.99,0.96,0.84,1.19,0.63,1.18,1.71,1.05,1.07,0.78,1.02,1.06,0.0,1.07,0.96,1.01,1.15,1.45,0.95,0.31,0.34,1.1,1.26,0.77,1.03,1.05,0.0,1.05,1.04,0.49,0.87,0.0,1.31,1.05,1.01,0.93,0.9,0.99,1.34,1.01,0.77,1.08,0.5,0.85,1.03,0.93,0.75,0.97,0.93,1.17,0.9,0.99,1.04,1.12,0.83,0.86,0.92,0.97,0.88,0.97,0.98,0.79,1.09,1.05,0.89,1.17,0.92,1.07,0.0,1.05,0.7,1.1,0.97,0.93,0.97,0.97,1.01,1.05,0.0,1.41,0.92,0.0,1.07,0.87,1.05,1.28,0.95,1.13,0.93,0.87,0.81,1.0,0.99,1.1,1.04,0.78,0.88,0.0,1.14,0.88,1.0,0.86,0.99,1.02,1.23,1.29,0.93,1.02,1.02,0.9,1.12,1.08,1.12,0.97,0.8,1.27,0.83,1.11,0.9,1.18,0.79,0.64,0.99,0.98,1.27,1.06,0.98,1.2,0.98,0.0,1.12,1.19,1.16,0.78,0.94,0.99,0.97,0.36,1.0,1.09,1.2,1.05,1.03,0.93,0.99,1.1,0.91,1.18,0.96,1.0,1.13,0.99,0.72,0.83,1.03,1.19,1.04,1.14,0.0,0.88,1.16,0.75,0.97,0.73,0.87,0.91,0.71,1.0,0.86,1.09,1.14,1.02,0.0,0.97,1.3,1.04,1.29,0.82,1.08,0.76,0.0,0.91,0.0,1.01,1.09,0.74,0.84,0.85,0.88,1.05,0.93,0.0,1.02,0.93,1.0,0.96,0.91,0.99,1.03,0.84,0.96,0.87,1.05,0.82,0.96,1.03,0.98,1.04,1.0,1.14,0.99,0.0,0.6,0.6,0.87,0.87,0.0,0.0,0.95,1.08,1.03,0.96,0.78,0.99,0.88,1.18,1.03,0.83,1.3,0.96,0.84,0.98,1.04,0.98,1.05,1.08,0.95,1.05,1.08,1.08,1.16,1.32,0.0,1.11,0.89,1.12,1.0,1.1,0.0,1.31,0.88,0.78,0.88,0.82,0.0,0.95,1.01,0.94,1.01,0.98,0.85,0.0,0.94,0.95,1.08,0.83,0.83,0.83,0.94,1.44,1.46,0.0,0.9,0.88,1.41,1.12,1.0,0.99,1.02,0.81,1.03,1.12,0.7,1.06,0.93,1.11,0.69,0.81,0.0,1.15,0.98,0.83,1.08,0.93,0.94,0.99,1.01,1.63,1.1,1.24,1.12,1.06,0.84,1.19,0.96,0.99,0.85,0.9,1.06,0.93,0.94,0.97,0.28,0.99,0.71,1.03,0.95,1.0,0.68,1.68,0.8,0.93,0.88,0.78,1.1,1.04,1.0,1.0,0.96,0.99,1.23,1.11,0.0,0.96,0.97,0.99,0.99,0.93,1.15,0.0,1.28,1.07,1.02,1.01,1.07,0.92,1.26,1.12,1.29,0.87,1.16,1.03,0.97,1.47,1.01,1.11,1.38,1.25,1.01,1.09,0.89,1.14,1.96,0.0,0.0,0.0,0.84,1.08,1.05,1.18,0.8,1.03,0.96,0.85,1.06,1.0,0.0,0.96,1.0,1.3,0.93,0.92,0.9,0.89,0.93,1.12,0.0,0.96,0.98,1.39,0.0,0.89,1.09,1.19,0.94,0.77,1.02,0.84,1.43,0.89,0.0,0.99,1.1,1.08,1.23,0.9,0.95,0.86,1.03,0.0,0.0,1.1,1.02,1.28,0.98,1.0,1.11,1.02,0.96,0.9,0.76,0.92,0.96,0.9,0.88,0.91,1.06,1.16,0.9,1.05,1.68,1.28,0.0,0.91,0.95,0.67,0.99,0.48,0.83,0.94,0.98,0.89,0.98,1.41,1.01,1.09,0.95,1.06,0.79,0.7,1.02,0.95,0.73,1.15,1.2,1.02,1.13,1.03,0.82,1.04,1.06,0.82,0.0,0.78,0.0,1.08,0.99,0.85,0.75,0.0,0.0,0.76,0.75,0.91,0.63,0.86,0.0,0.93,0.0,0.78,1.1,0.83,0.94,1.01,1.04,0.88,1.1,1.04,0.9,0.77,1.03,1.06,0.88,1.21,0.95,0.89,0.86,1.0,0.72,0.97,0.87,0.0,0.9,0.8,0.72,0.8,0.0,0.97,0.89,0.75,0.95,0.78,1.07,0.79,0.95,0.82,0.84,0.92,0.0,0.99,1.0,0.94,0.84,1.11,0.78,0.0,0.96,1.01,0.95,0.68,0.93,0.78,1.05,0.89,0.95,0.91,0.98,0.96,0.85,0.89,0.99,0.79,0.81,0.0,0.0,0.0,0.0,0.9,0.91,0.76,1.12,0.89,0.95,0.0,1.09,0.0,1.36,0.78,0.85,1.12,1.38,0.89,0.97,0.89,0.95,0.86,1.23,1.07,1.25,1.06,0.86,0.0,1.01,0.67,0.65,1.0,0.93,1.06,0.87,0.95,0.92,0.89,0.91,0.8,0.8,0.98,0.8,1.06,0.99,1.44,0.0,0.0,0.28,1.06,0.93,1.07,0.71,0.93,1.03,1.21,0.0,0.81,0.91,1.01,0.96,1.01,1.0,0.92,1.12,0.9,0.9,0.9,1.03,1.03,1.02,0.77,0.98,1.14,0.99,0.0,0.89,0.98,1.2,0.96,1.05,0.0,1.3,1.01,1.09,1.03,1.02,1.09,1.14,1.09,0.96,0.93,1.07,0.72,1.16,0.94,0.85,0.83,0.92,1.08,1.0,1.11,1.0,1.01,0.0,0.68,0.86,0.0,1.03,0.64,1.05,1.11,0.84,1.01,1.0,0.69,0.85,1.06,0.88,1.07,0.94,0.94,1.08,1.01,0.97,0.0,1.06,1.21,0.98,0.76,1.12,0.97,1.16,0.95,0.82,0.98,0.91,1.13,0.85,0.0,0.85,0.8,0.82,0.76,0.92,1.01,0.0,0.9,0.67,1.16,0.84,1.13,0.95,0.0,0.95,0.85,0.89,1.06,0.96,1.29,0.98,0.83,0.81,0.91,0.94,0.99,1.24,0.0,0.89,0.0,0.99,0.69,1.13,0.99,1.18,0.0,0.0,1.0,1.06,1.15,0.0,1.12,1.05,0.93,0.97,0.99,0.93,0.85,0.89,1.13,0.83,0.0,0.84,0.87,1.03,0.94,1.03,0.86,0.8,0.68,0.9,0.75,0.99,1.05,0.76,0.0,0.77,1.02,1.01,0.95,0.0,0.96,0.77,0.84,0.0,0.94,0.0,0.84,0.9,0.81,0.93,0.0,0.96,1.11,0.0,0.79,0.76,0.0,0.0,0.76,1.15,0.87,0.75,0.92,1.01,0.97,1.03,0.98,0.79,1.12,1.08,0.0,0.7,1.14,0.9,1.15,1.13,0.9,0.0,0.0,1.1,1.02,1.05,1.01,1.0,1.07,0.96,0.84,1.24,1.18,0.83,1.02,0.91,0.92,0.0,0.9,0.0,1.03,1.03,1.17,0.86,0.83,0.69,0.96,0.0,1.06,0.0,0.97,0.76,0.86,1.04,0.83,0.8,0.64,0.9,0.0,0.0,0.79,0.78,0.98,0.89,0.81,0.8,1.03,0.99,0.59,0.85,0.92,0.72,0.76,0.83,0.81,0.0,0.0,0.88,0.97,0.7,0.76,1.08,0.93,1.02,0.85,0.93,0.78,1.01,0.91,0.78,1.32,0.97,0.96,0.0,0.82,0.97,0.0,1.11,0.86,1.08,0.96,1.07,1.06,0.88,1.11,1.14,0.96,0.89,0.0,0.86,0.0,0.81,1.76,1.01,0.62,0.88,0.89,0.0,0.68,0.94,1.0,1.17,1.05,0.76,0.87,1.04,0.75,1.08,1.0,1.0,0.81,1.0,0.89,1.33,0.94,1.14,0.82,1.31,0.9,0.9,0.7,1.06,0.78,1.09,0.85,0.0,1.02,0.95,0.71,1.0,0.92,1.18,1.01,0.91,0.0,1.19,0.93,0.8,1.2,0.84,0.79,0.0,0.86,1.0,0.98,0.98,1.1,0.28,0.28,0.0,0.9,0.79,0.81,0.93,0.71,1.08,0.8,0.82,0.91,1.01,0.87,0.93,0.87,1.0,0.78,1.66,1.0,0.88,0.85,1.02,0.96,0.62,0.78,0.89,1.12,0.0,0.0,0.89,0.99,0.84,1.04,0.85,0.82,0.7,0.85,0.86,0.99,1.04,1.55,0.94,0.91,1.01,0.92,1.02,0.0,1.03,0.99,1.75,0.0,0.84,0.99,1.19,1.04,0.98,0.94,1.26,1.05,0.98,0.9,1.23,0.0,0.94,0.97,1.15,0.76,0.94,1.05,1.19,0.83,0.8,0.9,0.92,0.9,0.98,0.89,1.22,0.0,1.36,0.81,1.02,0.97,0.73,0.94,1.13,0.9,0.0,1.04,1.17,0.83,1.03,0.91,0.94,0.61,0.94,0.0,0.99,0.77,1.12,1.08,0.0,1.31,0.91,1.25,0.95,1.05,0.85,0.0,0.0,0.0,1.09,0.0,0.89,0.87,0.98,1.02,0.96,0.94,1.12,0.91,1.11,0.0,1.07,1.19,0.77,0.87,1.02,0.86,0.94,1.07,0.97,1.01,0.69,0.94,0.76,1.24,1.08,0.87,0.97,0.88,0.89,0.81,0.98,1.06,0.99,1.13,0.92,0.88,0.86,0.0,0.72,1.05,1.18,0.8,0.65,1.09,1.07,0.0,1.01,0.94,1.24,0.9,0.0,1.01,0.82,1.0,1.16,0.88,0.8,0.91,1.02,0.93,0.9,1.05,0.95,1.02,0.83,1.19,0.89,1.04,0.8,1.03,0.89,0.19,1.01,1.0,0.85,0.94,0.0,0.75,1.06,1.03,0.96,0.0,0.0,0.0,0.0,1.13,0.92,1.13,0.74,0.0,1.01,0.97,0.89,0.87,0.95,0.92,1.07,0.0,1.07,1.11,1.06,0.95,0.8,0.93,0.0,0.9,0.0,0.99,0.95,0.9,1.05,1.04,0.84,0.0,1.05,0.98,0.85,0.89,0.89,1.1,0.0,1.2,1.12,0.8,0.0,0.0,0.96,0.87,1.11,0.97,1.09,0.0,0.0,0.0,1.03,1.04,0.89,1.17,0.0,1.17,0.0,0.98,0.0,1.2,0.93,0.8,1.02,0.72,0.88,0.88,1.09,0.98,0.95,1.0,0.98,0.9,0.9,1.21,0.77,1.0,0.96,0.98,1.0,1.16,0.99,0.9,1.17,1.05,1.03,1.06,1.21,0.92,0.0,1.0,0.92,0.93,0.92,0.92,0.0,0.0,0.88,1.06,0.96,1.01,1.01,0.99,0.9,0.0,0.8,1.12,1.09,0.89,0.79,1.22,1.16,0.79,0.66,1.0,0.77,0.0,0.0,1.2,0.96,0.78,0.82,1.05,1.23,0.96,0.95,0.93,0.91,0.86,1.1,0.96,0.0,0.79,0.94,1.24,0.94,1.0,0.79,1.09,1.19,0.84,1.06,1.12,0.0,1.15,1.04,0.92,1.28,0.0,0.0,1.17,0.72,0.0,0.0,0.0,0.0,0.9,0.94,0.97,0.91,0.99,1.13,1.11,1.04,0.84,0.99,0.86,1.07,1.01,1.08,0.94,0.94,1.24,1.06,0.87,0.72,0.83,1.01,0.79,0.92,0.0,0.0,0.0,0.94,0.88,0.0,1.14,0.81,1.1,0.74,0.98,1.13,1.1,1.06,0.97,1.13,0.79,0.98,0.97,1.12,0.9,0.97,0.93,0.8,0.88,0.78,0.97,1.01,1.08,1.68,1.11,1.11,0.86,0.86,1.01,0.86,0.0,0.97,0.91,1.04,1.26,0.71,0.86,1.05,1.14,0.84,0.84,0.95,0.75,1.03,0.96,0.93,0.94,0.97,1.02,0.0,0.0,0.0,0.99,1.02,0.81,0.0,0.93,0.98,0.0,0.94,1.12,1.2,0.85,0.81,1.01,0.68,0.67,1.09,0.0,0.0,0.67,0.0,0.0,0.0,1.05,1.21,1.32,0.98,1.0,1.18,0.85,0.82,1.07,0.81,1.2,0.0,1.12,1.19,0.0,0.99,0.87,0.0,0.74,0.77,0.87,1.0,0.82,0.82,0.93,0.0,0.75,0.89,1.01,0.0,1.46,0.0,0.0,0.0,0.98,1.0,0.74,0.89,1.14,1.02,0.0,1.24,1.03,1.21,0.93,0.95,1.02,1.04,1.06,0.93,0.98,0.71,1.4,1.2,1.14,1.13,0.96,0.92,1.07,0.79,1.07,1.13,1.01,0.0,0.0,0.0,0.0,1.14,1.08,0.0,0.93,1.0,1.11,1.09,1.03,0.92,0.75,0.0,0.0,0.98,0.9,1.05,1.15,0.97,0.87,1.04,0.85,1.0,0.88,0.83,0.9,0.98,0.93,1.43,1.02,0.99,0.85,0.73,0.82,0.94,0.97,1.05,1.16,0.99,1.02,1.09,0.91,1.0,1.08,0.93,1.03,0.85,1.29,0.0,0.89,0.91,0.0,1.03,0.95,1.01,0.31,1.18,1.09,1.09,1.14,1.06,0.67,0.85,1.05,1.42,1.13,0.97,0.99,1.03,0.79,0.94,1.03,0.95,1.06,1.0,1.09,1.0,0.0,0.0,0.84,1.04,0.98,1.28,0.89,0.86,0.0,0.93,0.93,0.99,0.94,1.06,0.97,0.93,1.06,1.24,1.51,0.95,0.89,1.14,1.02,1.07,0.91,0.98,1.12,1.15,1.08,1.12,1.19,1.01,0.0,1.1,0.87,1.09,0.75,1.08,1.05,0.0,0.0,0.0,0.77,0.68,0.81,0.82,0.95,1.05,0.81,1.06,0.78,0.95,0.95,0.78,1.07,0.97,0.82,0.79,1.0,1.04,0.86,0.0,0.0,1.01,1.02,0.0,0.92,0.84,0.92,0.75,0.91,1.16,1.05,0.93,0.84,0.96,0.93,0.0,1.39,0.91,0.85,0.97,0.95,0.88,0.77,0.92,0.92,0.99,0.89,1.06,0.98,0.9,1.59,1.06,1.02,0.91,0.93,0.0,0.86,1.0,0.97,0.91,1.18,0.9,1.02,1.02,0.96,0.99,1.23,0.79,0.93,0.98,1.03,1.14,0.91,1.03,1.0,0.89,0.98,0.9,0.88,0.9,0.78,1.05,1.05,0.0,1.03,0.85,1.02,0.94,0.81,0.97,1.09,1.08,0.88,0.95,1.04,0.86,1.06,0.0,0.66,1.12,1.25,1.04,0.86,1.25,0.87,0.92,0.99,1.22,0.93,0.86,0.81,1.14,1.18,1.18,0.79,1.0,1.03,0.8,0.95,0.0,1.1,0.9,1.08,0.0,0.98,1.2,0.95,0.0,1.07,0.89,0.86,0.99,1.08,1.04,1.0,1.06,1.11,0.74,0.0,1.08,1.15,0.84,0.97,0.0,0.82,1.05,0.84,1.01,1.68,0.82,1.07,1.05,1.11,1.17,0.66,0.9,0.88,1.0,0.0,1.12,1.2,0.89,0.78,1.12,1.06,0.68,0.85,0.93,1.18,1.09,1.0,0.75,1.07,0.72,1.47,0.0,1.01,1.23,1.69,0.84,1.18,0.99,1.05,1.1,1.03,1.09,1.06,0.82,1.21,1.24,1.29,0.0,1.06,0.92,0.94,1.18,1.43,0.98,0.65,0.82,0.88,1.01,0.91,0.89,1.08,0.82,0.0,0.0,0.0,1.01,0.97,0.0,0.77,0.0,0.8,0.75,1.0,0.9,0.75,0.96,1.2,0.82,1.14,1.06,0.9,0.0,0.0,1.1,0.0,0.97,0.92,0.99,1.17,0.77,0.87,0.9,0.73,0.84,1.0,1.14,0.94,0.0,0.91,1.55,1.01,1.01,0.92,1.18,0.0,1.03,0.85,0.89,0.86,0.96,0.72,0.0,0.9,1.0,0.0,0.98,0.87,0.69,0.92,1.07,1.38,0.96,1.1,0.96,1.07,0.94,1.13,1.05,0.97,0.0,1.43,0.96,0.96,0.77,0.95,0.0,0.0,0.85,1.15,0.79,0.65,1.08,0.92,0.88,0.0,0.0,1.02,0.88,1.29,0.95,1.04,1.07,0.95,1.0,0.86,0.92,0.78,1.03,0.94,0.0,1.0,0.91,1.01,1.03,0.87,0.76,0.95,0.89,0.94,1.01,0.98,0.94,1.05,1.03,0.87,0.97,0.77,0.88,1.0,0.79,0.95,1.06,0.91,1.13,1.09,0.0,0.0,0.0,0.72,0.95,1.12,0.81,0.92,1.03,0.8,1.0,1.04,1.16,1.04,0.99,1.23,0.87,1.09,0.9,1.02,1.1,0.99,0.0,1.01,0.95,0.95,1.09,1.19,1.02,0.87,0.83,1.0,1.05,0.9,1.08,1.21,0.9,0.92,1.14,0.69,1.09,0.9,0.82,0.9,1.32,1.06,0.89,0.97,1.03,0.0,1.04,0.94,1.11,0.91,0.9,1.14,0.98,0.75,0.93,1.33,1.06,0.0,0.0,0.92,0.99,0.88,0.91,0.89,0.84,0.9,0.85,1.05,1.04,1.02,0.85,1.01,0.0,0.0,0.0,0.84,0.89,0.96,0.96,0.74,0.0,1.2,0.92,0.94,0.0,0.86,0.8,0.0,0.0,0.0,1.01,0.91,0.85,0.66,1.12,1.16,1.0,0.97,1.01,0.7,1.06,1.08,0.0,0.0,1.18,1.35,1.0,0.94,0.93,1.39,1.34,1.09,1.01,1.29,0.0,1.19,1.19,1.12,0.84,1.09,0.95,0.0,0.89,1.08,1.24,0.0,1.04,0.79,0.88,1.18,1.13,0.95,0.0,1.0,0.91,1.36,0.0,1.17,1.17,1.02,0.83,1.1,0.87,0.84,1.06,1.12,1.25,0.92,1.01,0.72,0.94,0.0,0.93,0.88,0.94,0.95,1.24,0.0,0.93,0.83,1.0,1.02,0.8,1.12,1.34,0.0,0.79,1.1,1.08,1.66,0.0,0.0,1.01,0.0,0.97,0.93,0.89,0.0,1.09,0.94,1.09,1.14,1.14,0.0,1.14,0.0,1.16,1.19,1.04,1.1,0.79,0.98,0.93,1.06,1.12,0.99,1.01,0.92,1.05,1.1,1.01,1.08,0.96,1.02,0.0,0.83,0.91,0.99,1.05,1.16,1.03,1.05,0.83,1.11,1.23,1.25,1.01,1.21,1.11,1.0,1.1,1.11,1.36,1.11,0.9,0.99,0.66,1.01,1.05,0.0,0.0,1.12,0.86,0.25,1.11,0.0,0.97,1.06,1.34,0.0,0.57,0.97,1.17,1.02,1.24,1.18,1.04,0.0,1.07,1.25,0.99,0.91,0.99,0.84,1.2,0.0,0.93,0.0,0.89,1.01,0.92,0.87,1.22,0.94,0.0,1.05,1.2,1.19,0.98,0.944,0.94,0.93,0.92,1.01,0.94,1.01,0.81,0.85,1.26,1.22,0.84,0.99,1.05,0.93,0.0,0.0,0.83,0.98,1.07,0.91,1.06,0.0,0.85,0.7,1.13,1.08,0.93,1.01,1.14,1.23,1.13,1.1,1.05,1.32,0.93,0.87,0.92,1.04,0.0,0.91,0.82,0.96,0.9,1.0,1.17,1.13,1.16,0.87,1.33,0.0,0.86,0.97,1.11,0.0,0.89,1.14,0.88,0.95,1.03,1.05,0.0,1.28,0.0,0.9,1.13,0.9,0.91,0.91,0.9,1.03,1.06,0.89,0.99,1.07,0.95,0.0,0.86,1.12,1.07,1.08,0.0,0.0,0.0,1.03,1.04,1.0,0.95,1.41,1.16,1.06,1.08,1.35,0.79,1.01,0.0,1.73,1.04,1.14,1.15,1.66,1.09,0.86,0.0,0.86,1.0,0.89,1.11,0.94,0.85,0.0,0.72,0.73,1.18,0.92,1.12,0.97,0.92,0.96,0.79,1.01,1.45,0.7,1.02,1.02,0.84,1.0,1.4,0.84,0.92,1.07,1.13,0.87,0.0,2.12,0.84,1.04,0.99,0.0,0.98,0.0,0.0,0.0,0.0,1.22,0.92,0.92,1.14,1.03,1.05,1.39,0.99,0.97,0.78,0.93,0.97,0.95,1.19,0.94,1.09,0.0,0.89,1.16,1.16,1.07,1.02,1.01,0.93,0.0,0.85,0.0,0.97,0.86,1.0,1.09,1.34,1.0,1.1,1.19,1.03,0.91,0.0,1.08,0.94,1.0,0.95,0.52,1.1,0.78,0.87,0.96,1.05,1.55,0.93,0.99,0.86,0.63,1.14,0.74,1.0,0.88,1.01,0.98,1.06,0.88,1.0,0.68,0.0,0.0,0.0,0.0,1.09,0.93,0.97,1.01,1.31,1.18,0.89,1.1,1.08,1.02,0.93,1.07,1.04,1.09,0.88,1.15,1.19,1.38,0.92,1.06,1.1,0.94,0.82,1.51,0.87,1.08,0.81,0.85,1.04,0.86,0.83,0.94,0.79,1.12,1.07,0.98,0.78,1.0,1.2,0.87,0.9,0.0,1.2,0.87,0.96,0.86,0.98,1.4,0.91,0.96,1.17,0.96,0.75,1.04,1.0,1.04,1.14,0.9,0.82,0.81,0.83,1.04,0.0,1.18,0.0,0.98,1.15,0.8,1.13,0.96,0.0,1.04,0.96,0.82,0.84,1.12,1.06,1.15,1.49,1.25,0.0,1.28,1.08,1.26,1.17,1.2,1.13,1.11,1.02,1.01,1.25,1.02,1.15,0.94,0.97,1.1,0.99,0.99,1.12,1.2,1.52,1.11,0.93,1.1,1.0,1.24,0.95,0.0,0.83,0.85,0.92,1.08,0.87,0.81,0.0,0.96,1.11,1.13,1.06,1.04,0.98,0.91,0.97,0.0,1.16,1.09,0.97,0.88,1.03,0.77,1.08,0.86,0.74,0.0,0.91,0.0,1.07,0.92,0.86,0.87,0.76,1.27,1.0,0.97,0.99,1.14,0.0,0.8,0.0,0.86,1.0,0.84,1.04,0.91,1.09,1.23,0.65,0.99,0.0,1.1,1.02,1.03,0.98,1.02,0.96,0.85,0.95,0.8,0.87,0.0,0.76,0.86,0.93,1.13,1.24,0.91,1.52,1.01,1.14,0.93,1.02,0.91,0.93,1.14,1.2,0.0,0.71,1.11,0.99,0.83,1.06,0.86,0.84,0.85,0.97,1.16,1.15,0.85,1.17,0.91,1.0,1.16,0.88,0.0,0.84,1.03,0.88,1.02,0.96,0.98,1.09,1.09,1.06,0.95,1.02,0.9,1.57,1.02,0.99,1.06,0.83,1.11,0.94,1.01,0.68,1.04,0.93,0.91,0.0,1.17,1.09,0.95,1.54,1.21,1.13,1.17,1.23,0.87,1.05,0.79,0.81,0.96,0.98,1.01,1.01,1.04,0.0,1.06,1.06,1.11,1.01,1.0,0.84,1.0,0.93,0.99,0.95,1.02,1.13,0.78,0.91,0.0,0.0,0.97,0.88,0.87,1.0,0.78,0.97,1.14,1.03,1.07,1.14,0.8,0.0,0.85,0.0,0.85,0.0,1.0,0.88,1.13,1.04,0.85,0.89,0.89,1.24,1.16,1.12,1.1,1.01,1.0,0.86,1.2,1.0,0.86,0.82,0.79,0.88,0.92,0.96,0.86,1.01,0.92,1.16,1.06,0.92,1.09,1.7,1.04,0.95,1.07,0.75,0.75,0.92,1.24,0.86,1.07,1.03,0.77,1.06,0.92,1.1,1.14,1.48,1.03,0.9,0.88,0.84,1.1,0.98,0.83,1.18,0.76,1.18,1.06,1.01,1.13,1.01,1.36,1.11,1.03,1.15,0.0,0.95,0.0,0.0,1.27,1.17,0.96,1.14,1.03,1.17,1.05,1.18,0.0,0.94,0.91,1.17,0.7,1.26,1.13,1.19,0.89,1.01,0.96,1.03,1.23,1.07,1.07,1.04,1.03,0.76,1.03,1.01,1.0,1.31,1.03,1.05,0.97,1.18,0.86,0.92,0.0,1.09,0.95,0.72,1.0,1.21,1.17,1.19,0.0,0.83,1.06,0.64,1.11,1.14,0.92,1.02,1.02,0.89,1.04,1.1,0.94,1.04,0.86,0.91,1.16,1.08,0.9,0.74,0.95,1.11,1.16,0.88,1.02,1.07,0.88,1.11,1.33,1.25,1.01,1.65,0.77,0.74,0.91,0.96,1.26,1.09,0.98,0.74,0.97,0.56,0.68,0.91,0.0,1.09,1.17,1.12,0.92,0.85,0.93,1.11,0.93,1.08,1.23,0.73,0.89,0.0,0.86,1.09,0.97,0.0,0.96,1.05,1.06,0.81,0.9,0.9,1.14,0.82,1.09,1.17,1.01,1.05,0.67,0.97,1.07,1.13,1.08,1.04,0.74,0.83,0.91,0.84,1.1,0.9,1.02,1.09,0.94,1.18,0.83,1.04,0.99,1.06,1.01,0.74,0.85,0.82,0.95,1.17,0.93,1.26,0.72,1.06,1.02,1.12,0.78,0.76,1.19,0.96,1.05,1.03,0.97,1.0,0.77,1.01,1.16,0.8,0.96,1.03,1.19,1.23,1.13,0.98,0.96,0.94,0.0,0.0,1.16,0.99,0.8,0.83,1.1,0.96,1.12,1.22,1.04,1.05,1.16,1.11,0.93,0.9,0.81,0.87,0.84,0.82,1.2,0.98,0.87,0.89,0.93,1.1,0.86,1.09,0.8,1.11,0.88,0.0,0.0,0.0,1.13,1.11,0.96,1.26,1.16,0.73,0.97,1.01,0.96,0.9,0.8,0.77,0.87,0.95,0.74,0.56,0.87,1.14,1.11,0.78,0.97,0.95,1.15,0.73,1.03,1.04,0.98,0.97,0.0,0.91,0.95,0.88,1.21,0.99,1.07,1.02,0.93,1.04,1.0,0.97,1.08,1.06,0.8,0.91,1.05,1.02,0.95,1.04,0.89,0.76,1.06,0.96,1.18,0.89,0.0,0.8,1.06,0.83,1.31,0.9,0.96,0.98,1.1,0.78,0.91,0.0,0.99,0.84,0.8,0.8,0.9,0.73,1.08,1.02,1.1,0.87,0.98,0.8,1.02,0.0,0.86,0.97,0.96,0.88,0.0,1.07,1.14,1.45,1.14,0.99,1.08,0.0,1.06,0.89,1.01,0.87,0.93,0.77,1.13,0.99,1.12,0.83,0.95,1.17,0.97,0.91,1.09,1.09,0.99,0.79,0.83,0.85,0.91,0.8,0.81,0.0,0.0,0.77,0.98,1.07,1.1,1.15,0.88,0.97,0.87,1.08,0.85,1.13,1.1,0.88,0.0,0.99,1.07,1.12,0.92,0.96,0.99,0.88,0.99,0.95,0.86,0.9,1.41,0.95,1.15,1.03,1.11,0.99,0.82,0.0,1.05,0.96,0.91,1.31,1.1,1.25,0.87,1.05,0.91,0.76,0.86,1.14,0.87,0.97,0.89,1.0,1.11,1.26,0.88,0.85,0.92,1.02,0.84,0.91,0.76,0.86,0.96,0.94,0.97,0.88,0.97,1.11,1.14,0.77,0.89,0.84,0.91,1.13,0.98,1.01,0.0,0.0,0.81,0.0,0.97,0.94,1.44,1.06,0.0,0.72,0.86,1.05,0.91,0.0,0.95,0.78,1.35,0.84,1.1,1.24,1.01,0.97,1.08,1.26,1.05,1.23,1.06,1.17,0.94,1.0,0.58,0.77,1.07,1.14,1.06,0.99,0.81,0.99,0.82,1.12,0.97,1.17,0.0,0.73,0.7,0.8,0.99,0.72,1.09,1.03,0.84,1.08,0.96,0.92,0.74,1.27,1.0,0.93,1.02,0.94,0.93,0.9,1.0,0.9,1.05,0.81,0.66,0.88,0.99,0.93,1.03,0.83,0.61,0.0,1.16,0.81,1.01,0.0,0.85,0.89,0.89,0.75,0.86,0.85,1.01,0.92,1.07,0.99,0.98,0.88,1.1,0.93,0.91,0.81,0.9,1.11,0.95,0.91,0.0,0.0,0.99,1.3,0.99,0.84,0.85,0.79,1.16,1.75,1.0,0.0,1.07,0.98,1.02,1.34,0.89,0.93,0.93,0.87,0.94,0.87,1.24,1.13,0.92,0.91,0.69,1.01,0.96,0.0,1.15,0.87,0.78,0.87,1.58,0.89,0.88,0.93,0.0,1.08,1.07,1.39,0.0,1.02,1.41,0.76,0.95,0.96,1.24,0.88,1.2,0.86,0.92,0.84,1.02,0.94,0.96,1.03,0.0,0.0,0.0,0.0,0.0,1.07,0.83,1.04,0.92,0.87,0.91,0.83,0.93,0.92,1.06,0.78,1.15,1.31,1.07,0.74,0.0,1.0,0.0,1.08,0.0,1.17,0.0,1.16,0.78,1.07,0.91,0.81,0.96,0.99,1.11,0.84,0.64,0.82,0.95,0.9,0.99,0.95,0.8,0.8,1.03,1.2,0.75,0.75,0.96,0.78,0.8,0.8,0.99,0.98,0.99,0.0,0.83,1.01,0.9,1.1,0.93,1.12,0.0,0.98,0.81,1.0,1.1,1.04,0.9,0.0,1.09,0.83,0.71,0.91,0.86,1.07,1.03,1.06,1.18,0.99,0.9,0.83,0.95,0.97,0.91,1.0,1.2,0.0,0.97,1.04,0.98,0.87,1.04,1.0,0.75,1.09,1.0,0.88,1.02,0.76,1.02,0.98,0.0,0.81,1.01,1.02,0.98,1.14,0.93,0.98,0.91,1.06,0.96,0.84,1.29,1.04,1.23,1.15,1.03,1.19,0.0,0.89,0.83,0.76,0.77,0.85,1.12,0.94,0.98,0.92,0.84,0.91,0.58,0.92,0.0,1.0,0.85,0.95,1.03,0.79,1.05,0.94,1.12,0.66,0.97,0.63,0.95,1.05,0.92,1.17,0.89,0.76,1.02,0.0,0.92,1.05,0.94,1.02,1.01,0.0,0.91,0.98,1.07,0.0,0.94,1.28,0.99,1.02,0.94,1.11,1.1,1.0,1.07,0.83,1.07,0.87,1.06,0.85,0.88,0.88,1.05,0.98,0.9,0.96,0.65,1.1,1.17,0.92,0.79,1.22,1.12,0.92,0.84,0.99,1.24,0.89,0.76,0.9,0.87,0.0,0.85,0.96,0.97,0.74,1.02,1.07,1.18,0.91,1.3,1.13,0.0,0.95,0.87,1.15,0.94,1.03,1.35,0.87,0.84,0.85,0.85,0.99,0.77,0.92,1.19,0.89,0.95,0.78,0.6,1.06,0.0,0.95,1.08,0.92,1.08,1.11,0.92,0.94,0.97,1.05,0.92,1.04,1.06,0.0,1.1,0.99,1.12,1.1,0.83,0.95,1.4,0.77,1.02,0.94,0.9,0.81,1.0,1.01,0.7,0.82,1.04,0.8,0.99,0.92,0.0,0.84,0.97,0.96,1.01,1.07,1.07,0.84,0.0,0.0,0.85,1.08,0.82,1.13,1.03,0.89,0.92,0.78,0.91,1.08,0.91,0.95,0.0,0.48,0.81,1.04,0.93,0.72,0.78,0.6,0.72,1.16,1.14,0.92,0.93,1.06,0.86,0.0,0.0,1.22,1.0,0.88,0.88,0.97,1.15,1.04,1.1,1.1,1.25,0.96,0.78,0.65,0.95,1.03,0.47,1.07,0.88,0.0,0.99,1.04,0.93,1.09,0.0,0.78,0.81,0.86,1.11,0.97,0.98,0.0,0.92,1.19,1.02,0.99,0.85,0.89,1.05,0.73,1.03,0.94,1.03,1.02,0.84,0.89,0.5,0.92,0.89,0.0,0.83,1.09,0.82,1.12,1.08,1.0,0.99,1.05,1.17,0.96,0.85,1.4,1.15,0.96,1.2,1.05,1.09,1.02,0.88,0.9,1.11,0.86,0.89,0.92,0.81,0.96,1.15,1.09,0.87,1.07,0.93,0.94,0.71,0.9,0.82,0.88,1.19,0.83,0.98,0.93,0.79,1.08,1.2,1.04,1.01,0.84,0.0,1.2,0.86,0.99,0.92,0.98,1.11,1.2,0.95,0.85,0.94,0.0,0.0,1.09,1.0,0.88,0.91,0.9,0.99,0.0,1.27,0.86,0.9,1.02,1.24,1.05,1.22,0.86,1.15,0.91,0.9,1.03,0.83,0.73,1.29,1.08,0.94,1.43,1.07,1.1,0.95,1.08,0.94,0.99,1.0,0.88,0.9,1.11,0.97,1.04,1.14,0.76,0.79,0.87,1.06,0.96,0.0,0.0,1.44,1.15,1.51,0.88,0.87,1.13,0.88,0.94,1.3,1.0,1.04,0.93,1.14,1.07,1.07,1.12,0.8,1.04,0.69,1.15,0.82,0.83,1.13,0.0,0.0,0.0,1.07,1.06,1.03,1.0,1.08,0.92,0.93,0.78,0.81,0.91,0.89,1.09,0.97,0.89,1.06,0.85,0.79,0.89,0.98,1.34,0.81,0.74,0.89,0.71,0.88,0.79,0.9,1.12,0.0,1.04,0.85,1.02,1.02,1.3,1.42,0.73,1.15,0.0,0.93,0.84,0.75,0.89,1.05,1.12,1.15,0.99,0.93,1.16,1.02,0.86,1.05,1.0,0.9,0.78,1.01,0.8,1.07,1.02,1.04,1.3,1.02,0.99,0.96,0.0,0.9,1.02,1.04,1.24,1.08,0.0,0.0,0.95,0.82,0.99,0.0,0.87,1.02,1.05,0.75,1.06,0.98,1.05,0.67,1.39,0.62,0.83,0.9,1.04,1.02,1.08,1.03,0.89,0.76,0.96,1.5,0.98,0.85,1.03,0.83,0.82,0.85,0.64,0.88,1.01,0.85,1.07,0.97,0.0,0.71,0.97,1.19,0.85,1.02,0.9,0.0,1.16,0.93,0.85,0.97,1.04,0.94,1.2,1.09,1.04,0.72,0.77,1.03,0.96,0.98,0.97,1.22,0.99,1.01,0.99,0.74,0.94,0.76,0.87,0.0,0.86,1.07,0.67,0.0,0.86,1.03,0.99,0.9,1.05,1.12,0.95,1.08,0.75,0.89,0.81,1.03,0.89,0.78,0.61,0.89,0.67,0.86,0.71,0.97,0.99,0.89,1.02,0.87,1.09,0.65,0.8,1.12,0.96,0.92,0.94,0.76,0.96,0.9,0.79,0.82,0.87,1.03,1.12,0.95,1.51,0.9,1.06,0.85,1.21,1.01,0.78,1.05,0.97,1.14,0.81,0.79,1.31,0.77,1.37,0.98,0.93,1.11,1.15,0.95,1.02,0.71,0.86,0.74,0.81,0.0,0.86,0.81,0.85,0.94,0.82,0.99,1.04,0.96,1.07,0.9,0.93,1.12,0.87,0.86,1.07,0.85,1.0,1.1,0.0,0.86,0.86,0.91,1.16,1.15,1.06,1.0,0.95,1.03,0.93,0.93,1.11,1.01,0.77,0.85,1.05,0.0,1.04,0.85,0.92,1.1,1.0,0.83,0.0,0.0,1.11,1.0,0.0,0.83,0.91,0.67,0.0,1.23,0.82,0.86,0.94,1.11,1.1,1.14,0.91,0.8,1.3,1.14,0.9,1.15,0.5,1.46,1.23,1.03,1.07,0.86,0.88,1.07,1.14,0.99,0.88,0.91,1.09,1.12,0.68,0.98,0.86,0.96,1.02,1.22,1.36,1.05,1.01,1.07,0.98,1.08,1.14,1.06,0.87,1.06,0.7,1.15,1.07,1.13,0.86,0.0,0.95,0.94,1.04,0.93,1.05,0.97,1.26,1.31,0.78,1.0,0.88,1.35,1.13,1.44,0.0,0.0,0.87,0.93,1.17,1.0,0.0,0.83,0.74,0.92,1.12,1.07,0.81,0.97,1.03,1.01,0.0,0.0,1.12,0.82,1.02,0.73,0.89,0.84,0.67,1.02,0.98,0.92,1.29,0.58,1.02,0.0,0.8,0.89,0.88,1.14,0.94,1.03,0.81,1.5,1.02,1.03,1.01,1.08,0.95,1.02,0.96,0.96,0.76,1.1,1.01,1.03,1.08,0.64,0.87,0.89,0.93,1.35,1.03,1.07,0.0,1.09,1.05,0.97,0.9,0.74,0.61,0.79,0.0,0.95,0.9,1.09,1.07,0.82,1.15,1.02,0.91,0.0,1.01,1.01,1.39,0.0,1.12,1.15,0.88,1.02,1.01,0.93,0.84,1.02,0.0,0.9,1.01,0.91,1.17,1.07,1.06,0.99,0.95,1.1,0.95,0.76,1.01,0.95,0.94,0.76,1.02,0.9,1.17,0.85,0.63,0.88,0.78,0.84,0.93,0.89,0.93,1.05,0.9,0.0,0.91,1.06,0.84,0.62,1.14,0.92,1.04,1.2,1.14,0.79,0.86,0.74,0.77,1.17,0.89,0.96,0.85,0.86,1.0,1.13,0.0,0.98,1.02,1.02,1.18,0.0,0.94,0.74,0.88,0.89,0.85,0.9,1.14,0.98,1.04,0.95,0.99,1.04,0.0,0.95,1.05,1.15,0.98,0.84,0.8,1.11,1.11,1.58,0.0,0.84,1.02,1.07,0.93,1.13,0.0,1.25,1.01,1.04,0.0,1.17,1.13,0.0,0.95,0.0,1.01,0.85,0.0,0.83,1.04,1.21,0.8,0.97,1.03,0.0,0.0,0.8,1.21,0.95,0.97,1.01,0.8,1.06,1.25,0.89,0.95,0.76,0.73,0.85,0.95,0.77,0.0,0.91,1.16,1.01,0.85,0.69,1.11,1.01,0.89,1.21,0.89,0.93,0.95,0.78,0.8,1.03,0.94,0.87,0.97,0.77,0.87,0.0,1.0,1.11,0.94,0.0,0.97,0.77,1.08,0.88,0.96,1.02,1.04,1.13,0.94,0.72,0.0,0.91,0.77,0.94,1.09,1.26,0.86,1.16,0.59,1.13,1.49,1.05,0.0,1.2,1.02,1.04,0.98,1.06,0.93,1.02,0.96,1.31,0.99,1.03,0.9,1.43,1.15,1.21,0.85,0.86,1.07,1.17,1.13,0.99,1.06,0.75,0.91,0.0,0.96,1.12,1.13,1.03,0.75,0.91,1.05,1.22,1.02,0.93,1.0,0.67,0.94,0.94,0.0,0.0,1.0,0.94,1.11,1.06,0.87,1.01,1.12,0.99,1.19,1.06,0.92,1.03,1.09,1.08,1.15,1.0,0.83,0.84,0.91,0.0,1.09,1.1,1.17,1.24,0.94,0.0,1.06,0.87,0.0,0.87,1.04,1.24,0.88,1.03,0.83,1.01,0.99,0.81,1.18,0.87,0.0,0.86,0.84,0.86,0.89,0.98,0.63,1.04,1.02,0.85,0.85,0.0,0.87,0.66,0.97,0.96,1.16,1.0,0.95,0.88,0.99,1.06,0.96,0.74,1.05,0.92,0.97,0.92,1.01,0.98,1.05,1.14,1.23,0.68,0.82,1.01,0.79,0.69,1.09,0.86,1.18,0.85,0.75,0.96,1.35,0.82,0.96,0.85,0.74,0.98,0.98,0.79,0.0,1.16,1.07,0.0,1.18,0.0,0.86,0.82,1.07,0.88,0.71,1.18,0.84,0.0,1.11,1.14,0.96,0.78,0.94,1.0,0.64,0.99,0.93,1.11,1.34,1.13,0.96,0.94,1.0,0.98,1.04,1.07,1.06,0.93,0.87,0.0,0.76,0.84,1.24,0.94,1.06,0.87,0.91,0.0,1.26,0.91,0.0,0.0,0.77,0.92,1.08,0.64,0.95,1.04,0.97,0.72,0.9,0.0,0.75,0.99,0.0,0.85,0.98,1.25,0.97,1.12,0.87,0.71,1.03,0.0,0.66,0.84,0.96,0.87,0.93,1.14,0.91,0.93,0.87,1.12,1.11,0.99,0.99,1.03,1.1,1.13,0.96,0.92,0.81,0.78,1.19,0.88,1.08,0.94,0.88,0.68,0.97,0.98,0.0,0.84,0.78,0.0,0.0,0.0,0.86,1.0,0.82,0.81,1.07,0.87,1.01,0.84,1.01,0.94,1.12,0.78,1.22,0.88,1.16,1.14,1.11,0.9,0.8,1.03,1.15,1.05,0.78,1.06,0.92,1.0,0.99,1.12,0.0,0.98,1.08,0.93,1.04,1.19,1.12,0.85,0.99,1.03,0.97,0.94,1.14,0.94,1.23,0.97,1.01,0.88,0.96,1.13,0.75,0.0,0.8,0.64,1.51,0.94,1.07,1.0,0.0,0.93,0.0,1.03,1.08,0.0,0.0,1.15,0.91,1.06,0.76,0.0,0.86,0.92,0.58,1.35,0.95,1.3,0.97,0.81,0.86,1.08,0.0,0.0,1.11,1.02,1.01,1.12,0.0,0.0,1.05,0.94,0.86,0.83,0.89,1.05,0.85,0.9,0.0,1.16,0.86,0.74,1.07,0.96,1.59,0.88,0.0,0.98,0.88,0.93,0.0,1.02,0.89,0.98,1.05,0.87,0.94,1.2,1.05,1.05,0.94,0.0,0.91,0.91,0.95,0.83,0.99,0.82,1.05,0.91,1.09,1.0,0.86,0.93,1.13,1.07,1.02,0.9,0.91,0.8,0.86,0.97,0.88,0.84,0.78,1.13,0.99,0.88,1.03,0.95,1.0,1.19,1.08,0.99,0.95,1.08,0.94,0.99,0.8,1.1,0.0,0.72,1.04,0.78,0.85,1.48,1.02,1.08,0.85,1.03,0.9,0.99,1.03,0.85,0.96,0.9,0.85,0.91,0.84,0.87,0.83,0.7,1.04,0.91,0.92,0.88,0.86,0.99,0.86,1.12,0.0,0.95,0.89,0.0,1.01,0.0,0.0,1.01,0.94,0.0,0.91,1.03,1.08,0.85,1.04,0.98,1.07,1.04,0.0,0.86,1.04,0.98,1.06,0.92,1.02,0.8,1.08,0.93,0.77,0.93,0.85,0.93,1.15,0.8,0.98,0.0,0.0,1.12,0.95,1.71,0.92,1.36,1.18,1.0,0.86,0.78,1.06,0.76,1.41,0.98,0.86,0.96,0.81,0.65,0.96,0.94,0.9,0.87,1.21,0.87,1.01,0.89,1.03,1.02,0.96,1.25,0.91,1.23,1.02,0.91,0.63,0.96,1.09,0.81,1.01,0.76,0.86,1.06,0.71,1.06,0.79,1.08,0.0,1.01,0.94,1.1,1.13,1.09,0.79,1.05,0.96,0.98,0.72,0.87,0.77,0.47,0.99,0.97,1.23,0.97,0.0,1.11,0.83,0.85,0.75,1.02,0.95,0.87,0.95,0.77,0.9,0.9,0.97,0.89,0.79,0.89,0.72,0.63,0.0,0.0,0.73,0.91,0.89,0.96,1.05,0.95,0.79,0.96,0.97,1.31,0.96,0.91,0.96,0.82,1.11,0.92,0.9,0.0,1.19,1.09,1.02,0.96,0.88,1.04,1.12,1.01,1.2,0.89,0.91,0.0,0.95,0.78,0.87,0.8,0.87,1.08,0.9,0.78,0.91,0.85,0.96,0.71,0.79,0.99,0.95,1.06,1.0,1.04,1.1,0.93,1.13,0.75,1.12,1.0,0.0,0.95,0.73,1.08,0.89,1.06,0.68,0.99,0.93,0.84,0.81,1.08,0.0,1.15,0.95,0.91,0.91,0.88,0.9,0.87,0.9,1.08,0.98,0.86,0.99,1.03,0.0,0.87,0.98,0.99,1.15,0.77,0.95,1.18,1.07,1.46,1.08,0.0,0.97,1.06,0.68,0.73,0.88,0.53,1.08,0.93,0.75,1.0,1.02,0.87,0.82,0.96,1.21,1.06,1.1,1.07,0.0,1.01,0.99,1.14,1.06,0.65,1.61,1.3,0.75,0.95,0.93,0.0,1.14,0.94,0.7,0.9,0.96,0.93,1.16,1.33,0.91,0.97,0.88,1.02,1.09,0.97,0.86,0.94,1.11,0.74,0.95,0.86,1.7,1.22,0.81,0.71,0.87,1.34,0.95,0.85,0.96,0.83,0.94,0.75,0.96,1.14,0.95,0.95,1.03,1.15,0.91,1.07,1.16,0.93,0.76,0.82,0.65,0.97,0.74,1.0,0.69,0.84,1.02,1.04,1.31,1.09,0.91,0.94,0.94,1.09,0.95,0.99,0.94,0.88,1.2,0.89,0.77,1.26,0.86,0.74,1.05,0.91,0.0,1.2,0.0,0.75,1.1,0.81,1.18,0.99,1.0,1.02,0.91,1.01,1.21,0.96,0.82,0.97,1.09,1.17,0.78,0.0,0.86,1.07,0.9,0.84,0.8,0.0,1.25,1.13,1.05,0.93,1.03,0.76,1.03,1.0,0.96,0.93,0.61,0.91,0.71,0.9,0.89,0.98,1.16,0.71,0.71,0.99,1.19,0.99,1.03,0.83,1.15,1.18,1.01,0.98,0.93,0.92,0.93,0.57,1.18,1.0,0.9,1.38,1.23,1.15,1.28,1.42,0.52,0.74,0.97,0.83,0.94,1.11,1.14,0.68,0.94,1.12,0.91,0.89,1.0,0.92,0.92,0.89,1.01,1.13,0.9,0.92,1.01,0.84,1.14,0.98,0.0,0.91,0.91,1.15,0.0,0.97,0.89,0.0,1.01,0.78,0.97,0.82,1.07,1.06,0.88,1.03,0.62,1.18,1.08,1.14,1.16,1.16,1.14,1.07,0.72,1.04,0.89,0.8,0.8,0.64,0.0,0.99,1.04,0.97,0.99,1.1,1.17,0.95,0.0,0.76,0.82,1.08,0.8,0.83,0.84,1.0,0.65,1.04,1.11,0.85,0.57,0.71,1.12,0.8,1.06,0.87,0.86,0.89,0.98,0.86,0.73,0.89,0.76,1.01,1.04,0.85,0.67,0.0,1.15,0.87,0.78,0.0,0.9,0.7,0.92,0.65,0.63,0.85,0.88,0.74,0.74,0.0,1.19,1.02,0.94,0.86,0.8,0.89,0.99,0.93,0.97,0.95,0.75,0.91,0.0,0.74,0.0,0.74,0.85,1.19,0.83,0.97,1.02,0.79,0.95,0.86,0.92,1.06,0.95,1.05,0.0,0.82,0.0,0.9,0.74,0.96,1.06,0.0,0.69,0.66,0.9,0.8,0.94,0.84,0.57,0.65,0.62,0.78,0.93,0.85,0.53,0.99,1.01,0.79,0.96,0.87,0.47,0.73,1.05,1.11,0.91,0.95,1.0,0.84,0.69,0.88,0.84,0.85,0.97,0.81,0.91,0.97,0.95,0.73,0.7,0.94,0.77,0.91,0.77,0.75,0.55,0.0,0.91,0.9,0.57,0.64,0.85,0.6,0.84,0.94,1.05,0.0,0.94,1.13,1.07,0.95,0.93,1.05,0.9,0.87,0.9,1.01,0.73,0.89,0.91,1.03,0.84,0.76,0.65,0.87,0.81,0.87,0.81,0.91,1.0,0.87,1.01,0.94,1.07,0.99,0.94,0.88,0.58,0.73,0.82,0.92,1.05,0.74,0.73,0.67,0.64,0.0,0.0,1.14,0.63,0.85,1.17,0.97,0.97,0.72,0.0,1.17,1.08,0.62,1.07,0.87,0.71,0.0,1.05,1.39,0.93,1.04,0.67,0.84,0.94,1.48,1.01,0.99,1.08,1.01,0.72,0.72,0.99,1.04,1.0,1.03,1.06,1.16,1.14,1.24,0.87,0.73,0.83,0.92,0.8,0.0,1.35,1.06,1.1,0.0,0.72,1.1,0.92,1.19,1.2,0.84,0.69,1.16,0.94,0.0,0.0,0.0,0.8,0.94,0.84,0.86,0.98,1.19,1.14,0.67,0.8,0.9,0.74,0.0,0.78,0.95,0.64,0.96,0.77,0.81,0.86,0.72,1.03,0.89,0.9,1.17,0.83,0.0,0.74,0.92,0.88,1.46,0.9,0.87,1.01,0.76,0.98,0.92,0.67,0.81,0.94,0.95,0.98,0.0,0.78,1.13,1.01,1.22,0.93,0.96,1.08,0.9,1.17,0.97,0.78,1.0,0.96,1.02,0.9,0.64,0.89,0.96,0.0,1.02,0.92,0.95,0.93,1.07,1.0,1.13,0.97,0.85,1.12,0.91,0.99,0.78,1.0,0.61,1.04,0.62,1.02,0.64,1.1,0.77,0.74,0.87,0.72,0.95,1.14,0.98,0.75,0.89,1.07,0.82,0.98,1.06,0.0,0.92,0.0,0.63,1.1,0.94,0.82,0.96,1.03,0.91,1.1,0.89,0.0,0.91,0.89,0.98,0.94,0.0,0.83,0.94,0.98,0.76,1.04,0.81,1.41,1.06,0.82,1.08,0.72,1.16,0.94,1.13,1.41,1.01,1.01,1.01,0.72,1.15,1.08,1.63,0.94,0.94,1.16,0.86,1.62,1.08,1.03,0.96,0.69,1.06,0.96,0.91,0.76,1.07,1.02,0.76,0.81,0.77,0.79,0.86,0.0,0.93,0.69,0.85,0.0,0.91,0.71,0.64,0.67,1.11,0.79,0.46,0.87,0.0,1.14,0.89,1.17,0.88,0.97,1.04,1.07,1.05,1.09,1.13,0.98,0.97,0.9,0.77,0.89,1.0,0.81,0.87,1.08,0.83,0.97,1.07,0.8,1.1,1.07,0.0,0.93,1.17,0.94,0.89,0.96,1.02,0.85,0.91,1.09,0.0,0.74,0.89,0.95,1.17,0.94,1.04,1.31,0.87,1.1,0.95,1.0,1.35,1.33,0.98,1.25,0.98,0.72,1.0,0.8,0.7,1.01,0.88,0.84,0.63,0.95,0.92,1.11,0.9,0.0,0.97,0.88,0.93,0.93,0.85,0.59,0.69,0.76,0.76,0.42,0.73,0.86,0.86,0.96,1.02,0.88,0.98,1.0,0.77,0.8,1.11,1.1,0.75,0.87,0.97,0.96,0.86,0.0,0.87,1.02,0.85,0.87,0.0,0.0,1.23,1.7,0.98,1.02,1.39,0.94,1.01,0.97,0.0,0.97,1.29,1.16,1.08,0.97,0.97,0.95,0.9,1.29,1.3,1.04,1.13,0.0,1.12,0.89,1.03,1.15,0.93,0.82,0.99,0.84,0.82,1.04,1.22,1.0,0.97,1.01,0.8,0.9,0.82,1.12,0.83,0.95,0.93,0.93,0.87,0.89,0.87,0.73,0.72,1.2,1.11,0.88,1.04,0.92,0.98,1.06,0.99,1.1,1.1,0.95,0.9,1.1,0.86,0.91,0.89,1.09,0.79,1.14,1.24,0.0,0.8,1.03,0.8,1.01,0.98,1.16,0.66,1.24,1.04,0.94,1.07,1.03,0.98,1.35,0.83,0.94,0.93,1.03,1.06,0.95,0.97,0.87,1.07,0.97,0.96,0.0,0.0,0.95,0.88,0.98,1.13,1.0,1.09,1.06,1.14,0.95,0.75,1.0,0.81,1.02,0.9,1.13,0.83,1.13,0.61,0.66,1.11,0.84,0.94,1.12,0.66,1.04,0.92,0.91,0.91,1.02,0.82,1.05,0.93,1.07,0.92,1.04,1.05,0.81,1.02,0.88,1.23,0.96,0.89,0.78,0.8,0.81,0.88,1.14,0.62,0.73,0.98,0.8,0.0,1.01,0.99,0.83,0.7,1.01,0.86,0.96,0.97,1.11,1.01,1.11,1.08,1.03,1.05,1.07,0.95,1.1,1.29,1.22,1.32,1.05,0.69,0.87,0.91,0.89,0.85,0.93,0.9,1.16,0.91,1.0,0.96,1.1,0.98,0.93,1.03,0.95,0.95,0.89,0.92,1.03,0.92,0.75,0.51,0.71,0.87,1.08,0.86,1.04,0.87,0.84,1.21,0.84,0.99,0.92,0.97,1.0,1.01,1.03,0.88,1.01,0.0,0.81,0.95,0.87,0.83,1.05,0.76,1.12,1.18,1.08,0.86,0.81,1.08,0.84,1.46,0.87,1.08,0.96,0.9,1.07,0.92,0.0,0.98,0.0,0.0,1.02,1.02,1.1,1.12,1.1,0.73,0.99,1.13,0.0,0.98,0.85,1.01,0.95,1.09,0.0,1.1,1.11,0.88,1.07,1.12,0.83,1.14,1.51,0.81,1.07,1.03,0.9,0.8,1.01,0.58,0.62,0.67,0.73,0.92,0.0,1.04,1.09,0.92,0.81,0.84,1.02,0.0,0.95,1.14,1.0,1.03,1.05,0.96,0.79,1.13,0.45,1.09,0.77,0.91,1.03,1.0,0.9,0.99,1.0,1.08,0.74,1.0,1.16,0.99,1.1,0.87,0.82,0.89,0.68,0.76,0.95,0.73,0.0,1.04,0.9,0.87,0.86,0.92,1.04,0.0,1.02,0.97,0.88,1.05,0.87,0.87,1.12,0.95,0.73,0.55,0.93,1.0,1.21,0.82,0.89,0.64,0.91,0.91,0.94,1.17,0.96,1.02,0.89,1.14,0.91,0.97,0.95,0.86,0.83,1.06,0.9,0.86,1.02,0.98,1.26,1.02,0.86,1.01,0.8,1.03,1.05,0.82,0.99,0.94,1.1,1.01,1.09,1.05,0.97,1.14,1.02,1.08,0.98,1.28,0.71,1.0,0.86,0.91,1.18,0.77,0.77,0.96,1.15,1.14,1.0,0.83,0.86,0.93,0.61,1.02,1.09,1.01,0.95,1.04,1.15,0.87,1.08,0.98,0.97,0.83,0.95,1.18,1.19,0.91,0.76,1.0,0.67,0.95,1.04,0.91,1.12,1.0,1.36,0.0,0.89,0.82,0.83,1.03,0.91,0.93,0.73,1.01,0.86,0.97,0.97,0.0,1.49,0.97,1.26,0.96,0.93,0.93,0.88,1.04,1.01,0.92,1.15,1.54,1.31,1.07,0.99,0.91,0.0,1.12,1.11,1.23,0.96,1.07,0.88,1.12,0.85,0.95,0.0,0.88,0.89,1.08,0.95,0.83,1.03,0.83,1.15,0.95,0.99,0.99,0.85,0.77,0.85,1.38,1.07,0.85,0.98,0.78,0.87,1.1,0.0,0.92,0.0,1.08,0.71,1.12,0.81,0.95,0.93,0.83,0.99,1.0,1.11,0.96,0.94,1.2,1.0,0.65,0.6,1.01,1.08,0.76,0.0,0.0,0.96,0.75,0.99,0.95,0.9,0.63,1.01,0.83,1.23,1.42,1.18,1.13,0.89,1.02,0.99,0.99,1.12,1.16,1.0,0.98,0.0,0.92,0.93,0.85,0.81,0.91,1.03,0.97,0.78,0.99,1.25,0.89,0.77,0.0,1.07,1.01,0.8,0.0,1.01,0.96,1.11,1.07,0.88,0.91,0.0,0.9,1.36,0.92,0.0,1.08,1.11,0.89,0.84,0.86,0.86,0.94,0.94,0.77,0.74,0.86,0.91,0.66,0.96,0.79,0.83,0.0,0.0,1.02,0.79,0.97,0.93,0.99,0.87,0.94,0.76,0.98,0.7,0.84,0.91,0.84,0.97,0.78,1.19,1.11,0.0,1.04,0.99,1.13,0.95,1.03,0.98,1.03,0.0,1.15,0.78,0.9,0.94,0.57,0.84,0.94,1.08,1.03,0.8,1.1,0.82,1.11,0.79,1.02,1.08,0.66,1.03,0.86,0.9,0.79,0.0,1.11,1.04,1.07,1.1,0.91,1.0,1.07,0.88,1.14,0.91,0.91,0.88,0.91,1.05,0.93,0.0,0.77,1.02,1.09,1.0,0.88,0.98,0.83,0.91,0.85,0.78,0.96,1.02,1.5,1.24,1.02,0.8,0.65,0.78,1.01,1.05,1.04,1.2,1.04,0.96,0.74,1.0,0.76,0.96,1.1,1.06,1.53,0.94,0.76,1.04,0.7,0.83,1.0,1.23,0.0,1.06,1.16,0.97,0.93,0.95,0.84,1.12,0.88,1.28,0.98,0.89,1.1,0.94,1.12,0.75,1.01,0.91,0.73,1.01,1.57,1.05,0.59,1.04,0.92,0.86,0.96,0.93,1.07,0.95,0.77,0.94,1.04,1.1,1.22,0.95,0.94,0.93,0.79,1.03,0.88,0.7,0.98,1.19,0.92,0.9,0.8,0.97,1.16,1.1,1.04,0.82,0.84,0.97,1.24,0.91,1.3,1.04,0.61,0.9,1.07,1.05,0.95,1.14,1.05,1.04,1.05,0.0,0.71,0.92,0.95,0.0,0.93,0.0,1.25,1.0,0.83,1.25,0.93,0.97,1.03,1.17,1.49,0.85,0.88,0.99,0.98,1.03,1.16,0.9,0.99,1.0,0.75,0.87,0.88,1.09,0.68,0.0,0.9,0.86,0.74,0.84,0.89,0.94,0.84,1.01,0.91,0.66,0.8,0.92,0.79,1.01,0.9,0.79,0.85,0.99,1.31,0.66,0.0,0.88,0.87,0.77,0.93,0.85,0.83,0.79,0.76,0.83,0.87,0.95,0.72,0.95,0.98,0.8,0.96,1.06,1.13,0.68,0.88,1.01,0.94,1.19,0.87,0.81,1.01,0.99,0.93,0.93,0.0,1.1,0.79,0.94,1.03,0.98,0.92,0.97,0.87,1.2,0.83,0.77,1.22,0.89,0.91,0.91,0.98,1.1,0.89,0.88,1.06,0.87,0.97,1.0,0.82,0.78,0.61,0.91,1.04,1.02,0.82,1.18,0.62,0.91,0.0,0.98,0.97,0.97,0.93,0.89,0.87,0.86,0.96,0.88,1.01,0.95,1.09,0.76,0.84,0.83,0.92,1.04,1.0,0.84,0.86,0.82,0.83,0.79,0.69,0.67,0.84,1.08,0.0,0.83,0.92,0.0,0.86,0.88,1.09,0.75,0.97,0.79,0.85,0.78,1.01,1.07,0.98,1.07,0.84,0.73,1.25,1.08,0.76,0.86,0.9,0.87,0.72,0.97,0.88,0.85,0.53,0.72,0.76,0.89,0.0,0.94,0.77,0.78,1.35,0.68,0.84,0.0,1.15,1.17,0.82,1.27,0.77,1.17,0.8,0.9,1.41,0.0,0.86,0.9,1.24,0.9,0.94,1.0,0.91,1.13,0.65,0.82,0.8,0.66,0.67,0.84,0.9,0.0,0.77,0.88,0.71,0.63,0.79,0.89,0.92,0.95,0.8,1.04,0.92,1.33,0.84,0.8,0.99,1.01,0.89,1.04,1.04,0.89,0.97,0.99,0.81,0.8,0.78,0.93,1.03,0.83,0.66,1.05,0.0,0.9,1.04,0.93,0.8,0.67,0.77,1.25,0.95,1.1,0.89,0.8,0.88,0.53,1.09,0.98,1.0,0.69,1.03,0.96,0.8,1.29,1.21,0.99,1.07,1.0,0.81,0.91,1.07,1.02,0.89,0.88,0.78,1.13,0.75,0.86,0.85,0.9,1.25,0.83,0.91,0.96,0.87,0.81,0.99,0.98,0.84,0.9,0.96,0.65,0.77,1.04,0.76,1.21,0.76,1.43,0.75,0.85,0.92,0.98,0.96,0.69,0.97,0.87,0.97,1.0,1.19,0.73,0.81,1.02,0.84,0.0,0.73,1.05,0.93,0.84,0.71,1.23,0.0,0.77,0.9,0.9,0.76,0.93,0.62,1.16,1.11,0.96,0.85,0.92,0.93,0.91,0.8,0.85,1.14,0.85,0.94,0.0,1.15,0.88,1.11,0.9,0.9,0.0,1.09,1.01,0.92,0.88,1.1,0.82,1.09,1.13,0.96,0.96,0.8,1.1,0.67,1.07,0.69,0.0,1.02,0.9,0.9,0.99,1.21,1.05,0.77,0.8,1.12,0.82,0.83,0.74,1.55,0.77,0.0,0.59,0.97,1.14,0.68,0.91,0.98,0.91,0.82,0.83,0.75,0.7,0.83,0.0,1.02,0.78,0.93,0.91,0.71,0.81,1.17,1.06,0.79,0.77,0.97,0.87,0.78,1.05,0.9,0.85,0.99,0.74,1.12,0.94,1.17,0.83,0.81,1.03,0.86,0.94,0.79,0.93,0.93,0.94,0.79,0.93,1.06,0.0,0.95,0.82,0.99,0.89,0.67,0.89,0.9,0.89,0.63,0.99,1.17,0.8,0.67,0.83,0.91,0.93,0.99,0.77,0.92,0.98,0.9,0.89,0.81,0.0,0.95,0.91,0.78,0.97,0.87,0.69,0.87,0.98,0.0,1.1,1.05,0.95,0.92,0.78,0.76,0.88,0.98,0.99,1.06,1.27,1.06,0.83,0.84,0.0,0.99,1.02,0.94,0.75,1.08,1.04,0.94,1.2,0.0,0.79,0.79,0.77,0.97,0.98,0.8,0.58,0.83,1.06,0.91,1.07,1.01,0.87,0.95,0.72,0.95,0.7,1.11,0.79,0.66,1.0,0.7,0.93,0.0,0.65,0.85,0.86,1.05,0.8,0.78,0.65,0.8,0.83,1.04,0.9,0.94,0.97,0.77,1.0,0.9,1.0,0.0,0.0,0.87,0.82,1.17,0.0,0.58,0.92,0.66,0.82,1.15,0.88,1.02,0.7,0.91,1.04,0.9,1.19,0.73,0.0,0.85,1.25,0.71,0.65,0.73,0.94,0.8,0.88,0.95,0.96,1.09,0.77,0.84,1.1,0.82,0.0,1.03,0.78,0.93,0.92,0.86,0.82,0.73,1.05,1.0,0.75,0.94,0.79,0.66,0.74,0.83,0.92,0.85,1.02],\"type\":\"box\",\"xaxis\":\"x5\",\"yaxis\":\"y5\"},{\"name\":\"FTI\",\"y\":[0.0,0.0,0.0,0.0,0.0,0.0,0.0,0.0,0.0,0.0,0.0,0.0,0.0,0.0,0.0,0.0,0.0,47.0,85.0,84.0,96.0,105.0,95.0,0.0,106.0,0.0,106.0,129.0,100.0,69.0,90.0,93.0,66.0,121.0,93.0,93.0,117.0,31.0,113.0,67.0,101.0,92.0,126.0,90.0,123.0,149.0,113.0,86.0,0.0,0.0,0.0,0.0,132.0,121.0,105.0,117.0,0.0,121.0,0.0,131.0,116.0,0.0,97.0,124.0,136.0,142.0,106.0,100.0,104.0,0.0,0.0,131.0,7.5,107.0,73.0,110.0,130.0,104.0,97.0,88.0,128.0,122.0,102.0,0.0,0.0,95.0,91.0,131.0,86.0,354.0,102.0,114.0,81.0,0.0,122.0,113.0,84.0,133.0,99.0,93.0,111.0,108.0,85.0,78.0,88.0,148.0,98.0,132.0,100.0,91.0,0.0,106.0,80.0,127.0,128.0,116.0,109.0,149.0,110.0,133.0,101.0,119.0,65.0,111.0,89.0,119.0,143.0,316.0,155.0,105.0,0.0,89.0,106.0,98.0,150.0,103.0,120.0,85.0,110.0,122.0,0.0,258.0,5.0,111.0,124.0,121.0,0.0,124.0,0.0,138.0,107.0,0.0,102.0,114.0,119.0,52.0,124.0,119.0,109.0,116.0,93.0,0.0,131.0,100.0,121.0,89.0,0.0,337.0,94.0,98.0,118.0,109.0,84.0,134.0,114.0,182.0,94.0,106.0,0.0,130.0,70.0,108.0,122.0,148.0,148.0,107.0,103.0,144.0,81.0,81.0,93.0,122.0,129.0,136.0,84.0,105.0,80.0,68.0,10.0,4.0,95.0,91.0,102.0,10.0,96.0,120.0,90.0,117.0,13.0,87.0,74.0,110.0,113.0,109.0,152.0,132.0,77.0,3.0,82.0,98.0,145.0,97.0,85.0,64.0,77.0,79.0,0.0,147.0,88.0,106.0,104.0,109.0,133.0,147.0,93.0,54.0,123.0,86.0,116.0,68.0,111.0,120.0,99.0,108.0,102.0,98.0,90.0,105.0,138.0,109.0,12.0,83.0,83.0,61.0,126.0,11.0,115.0,105.0,104.0,82.0,96.0,108.0,107.0,17.0,88.0,0.0,100.0,106.0,131.0,132.0,91.0,0.0,93.0,110.0,138.0,82.0,80.0,44.0,106.0,94.0,97.0,61.0,92.0,7.5,3.4,84.0,54.0,61.0,73.0,92.0,71.0,253.0,92.0,116.0,75.0,2.5,197.0,117.0,124.0,24.0,0.0,95.0,104.0,121.0,98.0,94.0,237.0,108.0,99.0,112.0,80.0,124.0,95.0,105.0,91.0,134.0,95.0,148.0,143.0,106.0,141.0,95.0,67.0,107.0,87.0,105.0,0.0,78.0,107.0,89.0,3.5,120.0,135.0,86.0,13.0,97.0,107.0,101.0,106.0,90.0,107.0,45.0,98.0,107.0,0.0,102.0,111.0,76.0,90.0,100.0,160.0,144.0,0.0,133.0,6.0,485.0,120.0,127.0,45.0,92.0,49.0,3.0,89.0,107.0,105.0,103.0,78.0,147.0,99.0,86.0,110.0,123.0,92.0,0.0,0.0,97.0,92.0,137.0,85.0,73.0,101.0,75.0,70.0,92.0,92.0,89.0,0.0,99.0,106.0,82.0,428.0,116.0,103.0,93.0,85.0,74.0,126.0,101.0,144.0,0.0,0.0,0.0,103.0,98.0,96.0,136.0,105.0,136.0,86.0,0.0,82.0,77.0,90.0,111.0,0.0,79.0,103.0,79.0,122.0,94.0,108.0,0.0,121.0,108.0,4.0,86.0,106.0,123.0,86.0,135.0,102.0,111.0,99.0,111.0,139.0,103.0,91.0,110.0,90.0,97.0,103.0,0.0,163.0,107.0,109.0,102.0,105.0,116.0,76.0,120.0,0.0,64.0,0.0,149.0,121.0,145.0,105.0,115.0,135.0,129.0,136.0,84.0,0.0,115.0,114.0,93.0,131.0,97.0,37.0,131.0,121.0,111.0,107.0,110.0,96.0,138.0,144.0,105.0,0.0,134.0,117.0,133.0,110.0,0.0,93.0,74.0,88.0,96.0,94.0,258.0,97.0,146.0,147.0,115.0,125.0,93.0,88.0,0.0,136.0,85.0,0.0,88.0,49.0,114.0,100.0,149.0,113.0,130.0,109.0,0.0,21.0,97.0,108.0,103.0,115.0,101.0,0.0,82.0,105.0,117.0,0.0,95.0,92.0,78.0,82.0,100.0,134.0,125.0,78.0,41.0,82.0,112.0,147.0,94.0,51.0,0.0,130.0,105.0,100.0,104.0,104.0,139.0,839.0,332.0,94.0,98.0,151.0,71.0,85.0,0.0,101.0,113.0,176.0,137.0,0.0,111.0,102.0,82.0,118.0,74.0,100.0,75.0,102.0,299.0,111.0,266.0,114.0,90.0,92.0,121.0,129.0,146.0,103.0,109.0,123.0,53.0,154.0,96.0,112.0,134.0,22.0,109.0,119.0,89.0,168.0,92.0,101.0,71.0,102.0,88.0,137.0,0.0,60.0,126.0,97.0,96.0,96.0,70.0,64.0,105.0,126.0,0.0,95.0,150.0,0.0,88.0,92.0,100.0,68.0,126.0,89.0,90.0,80.0,119.0,127.0,114.0,108.0,87.0,97.0,115.0,0.0,98.0,122.0,4.0,137.0,91.0,148.0,97.0,99.0,91.0,139.0,82.0,100.0,10.0,126.0,104.0,87.0,53.0,3.0,107.0,123.0,112.0,115.0,142.0,211.0,140.0,141.0,117.0,107.0,100.0,118.0,105.0,0.0,96.0,97.0,102.0,119.0,86.0,149.0,89.0,161.0,117.0,121.0,123.0,114.0,114.0,166.0,97.0,109.0,102.0,79.0,84.0,92.0,104.0,75.0,94.0,92.0,99.0,23.0,103.0,71.0,0.0,98.0,91.0,125.0,122.0,130.0,100.0,107.0,83.0,104.0,145.0,123.0,176.0,93.0,0.0,102.0,108.0,134.0,115.0,257.0,106.0,104.0,0.0,163.0,0.0,22.0,94.0,450.0,120.0,98.0,134.0,93.0,97.0,0.0,95.0,112.0,120.0,145.0,124.0,94.0,37.0,101.0,124.0,130.0,69.0,124.0,142.0,103.0,99.0,100.0,106.0,71.0,98.0,0.0,118.0,77.0,130.0,119.0,0.0,0.0,134.0,131.0,109.0,119.0,52.0,123.0,115.0,148.0,150.0,92.0,103.0,109.0,144.0,105.0,140.0,134.0,80.0,71.0,94.0,85.0,107.0,129.0,98.0,122.0,0.0,79.0,77.0,139.0,98.0,151.0,0.0,140.0,117.0,120.0,88.0,71.0,0.0,17.0,150.0,118.0,106.0,111.0,128.0,0.0,102.0,88.0,110.0,139.0,126.0,104.0,98.0,103.0,6.6,0.0,94.0,109.0,75.0,93.0,65.0,135.0,120.0,154.0,91.0,126.0,144.0,259.0,131.0,90.0,109.0,131.0,0.0,117.0,99.0,123.0,145.0,265.0,126.0,68.0,266.0,165.0,111.0,114.0,113.0,102.0,136.0,9.0,97.0,99.0,132.0,88.0,96.0,102.0,106.0,66.0,347.0,107.0,68.0,126.0,124.0,128.0,104.0,128.0,119.0,136.0,88.0,119.0,102.0,110.0,82.0,143.0,97.0,124.0,91.0,104.0,0.0,110.0,109.0,70.0,107.0,115.0,85.0,0.0,99.0,117.0,98.0,88.0,74.0,97.0,88.0,93.0,98.0,103.0,96.0,103.0,113.0,104.0,94.0,79.0,106.0,97.0,99.0,116.0,83.0,73.0,101.0,0.0,0.0,0.0,119.0,57.0,88.0,105.0,96.0,87.0,106.0,84.0,94.0,100.0,0.0,122.0,100.0,101.0,101.0,85.0,96.0,114.0,107.0,104.0,0.0,96.0,96.0,114.0,0.0,107.0,109.0,110.0,123.0,144.0,107.0,84.0,111.0,111.0,0.0,81.0,101.0,103.0,87.0,134.0,172.0,124.0,108.0,0.0,0.0,107.0,132.0,44.0,88.0,98.0,67.0,109.0,83.0,104.0,155.0,107.0,107.0,113.0,108.0,110.0,139.0,117.0,101.0,9.0,106.0,116.0,0.0,129.0,132.0,127.0,84.0,133.0,111.0,91.0,105.0,232.0,128.0,108.0,117.0,106.0,116.0,96.0,105.0,129.0,121.0,120.0,147.0,98.0,127.0,68.0,94.0,125.0,109.0,113.0,101.0,98.0,0.0,92.0,0.0,108.0,106.0,188.0,122.0,0.0,0.0,99.0,162.0,86.0,110.0,123.0,0.0,101.0,0.0,124.0,89.0,155.0,10.0,89.0,97.0,113.0,99.0,108.0,125.0,143.0,108.0,17.0,70.0,32.0,95.0,95.0,74.0,94.0,92.0,108.0,75.0,0.0,98.0,111.0,124.0,137.0,0.0,114.0,149.0,116.0,256.0,118.0,96.0,91.0,89.0,134.0,112.0,120.0,0.0,124.0,77.0,73.0,103.0,137.0,122.0,0.0,73.0,154.0,88.0,106.0,60.0,162.0,99.0,98.0,20.0,107.0,98.0,96.0,97.0,125.0,150.0,101.0,121.0,0.0,0.0,0.0,0.0,149.0,92.0,134.0,92.0,145.0,121.0,0.0,70.0,0.0,107.0,114.0,128.0,111.0,171.0,100.0,126.0,95.0,79.0,139.0,107.0,108.0,120.0,69.0,222.0,0.0,100.0,119.0,111.0,83.0,124.0,100.0,84.0,152.0,131.0,106.0,112.0,119.0,88.0,64.0,128.0,153.0,73.0,103.0,0.0,0.0,482.0,131.0,116.0,113.0,88.0,85.0,105.0,102.0,0.0,101.0,121.0,106.0,99.0,94.0,135.0,100.0,94.0,80.0,115.0,108.0,105.0,66.0,87.0,136.0,147.0,110.0,111.0,0.0,82.0,107.0,53.0,116.0,82.0,78.0,147.0,112.0,143.0,95.0,138.0,76.0,61.0,99.0,88.0,94.0,112.0,96.0,91.0,104.0,125.0,141.0,94.0,129.0,149.0,54.0,121.0,16.0,0.0,165.0,91.0,0.0,114.0,60.0,103.0,117.0,134.0,89.0,101.0,97.0,151.0,11.0,93.0,138.0,126.0,133.0,137.0,107.0,69.0,0.0,96.0,101.0,93.0,149.0,59.0,91.0,105.0,74.0,88.0,121.0,55.0,105.0,88.0,0.0,99.0,110.0,55.0,100.0,136.0,107.0,0.0,75.0,147.0,107.0,111.0,12.0,86.0,0.0,122.0,98.0,140.0,35.0,122.0,133.0,141.0,264.0,152.0,108.0,149.0,68.0,115.0,0.0,116.0,0.0,101.0,142.0,108.0,137.0,94.0,0.0,0.0,137.0,76.0,124.0,0.0,89.0,107.0,117.0,143.0,113.0,114.0,110.0,99.0,132.0,123.0,0.0,89.0,98.0,130.0,118.0,110.0,94.0,97.0,132.0,111.0,117.0,105.0,122.0,140.0,0.0,128.0,120.0,98.0,59.0,0.0,98.0,106.0,119.0,0.0,96.0,0.0,111.0,67.0,141.0,126.0,0.0,43.0,110.0,0.0,66.0,121.0,0.0,0.0,100.0,88.0,128.0,141.0,115.0,129.0,99.0,84.0,15.0,99.0,101.0,98.0,0.0,128.0,109.0,129.0,117.0,90.0,77.0,0.0,0.0,98.0,95.0,79.0,92.0,137.0,32.0,176.0,119.0,1.4,116.0,60.0,91.0,113.0,104.0,0.0,109.0,0.0,107.0,60.0,43.0,84.0,87.0,140.0,123.0,0.0,146.0,0.0,123.0,154.0,150.0,153.0,121.0,86.0,81.0,131.0,0.0,0.0,102.0,154.0,78.0,97.0,98.0,88.0,84.0,104.0,334.0,214.0,103.0,147.0,79.0,79.0,112.0,0.0,0.0,108.0,99.0,90.0,140.0,109.0,116.0,73.0,108.0,105.0,120.0,111.0,143.0,94.0,105.0,153.0,109.0,0.0,109.0,109.0,0.0,72.0,256.0,121.0,130.0,64.0,85.0,240.0,92.0,155.0,73.0,117.0,0.0,80.0,0.0,142.0,118.0,112.0,96.0,97.0,51.0,0.0,170.0,101.0,89.0,85.0,122.0,135.0,64.0,90.0,131.0,99.0,111.0,115.0,96.0,106.0,141.0,66.0,98.0,89.0,146.0,78.0,85.0,153.0,123.0,121.0,110.0,80.0,115.0,0.0,111.0,66.0,126.0,114.0,85.0,11.0,97.0,95.0,0.0,114.0,94.0,124.0,103.0,60.0,137.0,0.0,97.0,110.0,91.0,120.0,111.0,612.0,445.0,0.0,177.0,134.0,118.0,112.0,151.0,119.0,150.0,105.0,113.0,156.0,69.0,110.0,105.0,82.0,109.0,114.0,103.0,103.0,87.0,92.0,87.0,126.0,119.0,97.0,96.0,0.0,0.0,90.0,136.0,95.0,118.0,144.0,150.0,114.0,117.0,111.0,124.0,244.0,115.0,70.0,123.0,76.0,116.0,126.0,0.0,106.0,90.0,172.0,0.0,135.0,96.0,123.0,116.0,121.0,113.0,130.0,100.0,115.0,58.0,83.0,0.0,95.0,98.0,108.0,80.0,154.0,2.8,11.0,83.0,87.0,96.0,124.0,283.0,137.0,110.0,126.0,0.0,131.0,152.0,134.0,126.0,127.0,93.0,222.0,128.0,0.0,86.0,160.0,71.0,106.0,115.0,118.0,64.0,99.0,0.0,143.0,114.0,107.0,104.0,0.0,87.0,119.0,113.0,144.0,68.0,61.0,0.0,0.0,0.0,90.0,0.0,91.0,97.0,131.0,103.0,84.0,66.0,92.0,131.0,117.0,0.0,120.0,134.0,104.0,80.0,113.0,115.0,118.0,121.0,75.0,149.0,107.0,114.0,125.0,150.0,100.0,138.0,75.0,106.0,96.0,94.0,140.0,80.0,3.0,135.0,80.0,113.0,101.0,0.0,107.0,92.0,111.0,76.0,116.0,136.0,79.0,0.0,93.0,120.0,107.0,117.0,0.0,97.0,115.0,146.0,115.0,93.0,153.0,115.0,122.0,105.0,93.0,102.0,123.0,132.0,134.0,78.0,130.0,86.0,149.0,116.0,99.0,142.0,126.0,114.0,72.0,87.0,0.0,113.0,101.0,119.0,68.0,0.0,0.0,0.0,0.0,90.0,129.0,111.0,176.0,0.0,119.0,115.0,121.0,118.0,152.0,101.0,107.0,0.0,127.0,98.0,142.0,124.0,7.6,132.0,0.0,100.0,0.0,94.0,96.0,94.0,123.0,100.0,121.0,0.0,79.0,136.0,92.0,153.0,126.0,87.0,0.0,81.0,98.0,97.0,0.0,0.0,194.0,82.0,97.0,108.0,87.0,0.0,0.0,0.0,100.0,70.0,103.0,120.0,0.0,89.0,0.0,120.0,0.0,84.0,71.0,109.0,116.0,108.0,112.0,102.0,95.0,130.0,149.0,90.0,86.0,105.0,128.0,153.0,107.0,115.0,71.0,123.0,145.0,115.0,78.0,83.0,87.0,100.0,109.0,217.0,125.0,115.0,0.0,128.0,92.0,103.0,101.0,130.0,0.0,0.0,106.0,106.0,95.0,96.0,104.0,100.0,5.4,0.0,104.0,127.0,126.0,106.0,117.0,97.0,119.0,97.0,165.0,112.0,145.0,0.0,0.0,143.0,61.0,116.0,75.0,103.0,100.0,92.0,93.0,155.0,132.0,102.0,81.0,150.0,0.0,115.0,90.0,111.0,209.0,132.0,117.0,82.0,112.0,61.0,86.0,88.0,0.0,118.0,96.0,88.0,112.0,0.0,0.0,127.0,103.0,0.0,0.0,0.0,0.0,102.0,113.0,116.0,81.0,102.0,75.0,105.0,72.0,86.0,125.0,122.0,89.0,95.0,108.0,113.0,87.0,96.0,101.0,94.0,99.0,105.0,103.0,100.0,107.0,0.0,0.0,0.0,102.0,102.0,0.0,90.0,86.0,90.0,96.0,112.0,119.0,94.0,73.0,104.0,100.0,125.0,92.0,115.0,99.0,133.0,93.0,76.0,95.0,122.0,107.0,106.0,145.0,79.0,131.0,26.0,104.0,61.0,151.0,109.0,88.0,0.0,121.0,94.0,174.0,104.0,99.0,96.0,96.0,79.0,85.0,100.0,100.0,148.0,97.0,97.0,132.0,95.0,48.0,115.0,0.0,0.0,0.0,84.0,109.0,125.0,0.0,88.0,65.0,0.0,117.0,146.0,100.0,106.0,107.0,121.0,97.0,49.0,61.0,0.0,0.0,131.0,0.0,0.0,0.0,91.0,62.0,83.0,221.0,168.0,126.0,119.0,144.0,176.0,97.0,101.0,0.0,106.0,72.0,0.0,86.0,108.0,0.0,111.0,130.0,72.0,28.0,143.0,120.0,174.0,0.0,145.0,98.0,80.0,0.0,137.0,0.0,0.0,0.0,103.0,114.0,101.0,83.0,116.0,100.0,0.0,105.0,117.0,115.0,73.0,110.0,102.0,116.0,95.0,103.0,81.0,93.0,51.0,112.0,123.0,96.0,99.0,93.0,74.0,153.0,97.0,103.0,90.0,0.0,0.0,0.0,0.0,87.0,94.0,0.0,98.0,134.0,107.0,83.0,141.0,90.0,103.0,0.0,0.0,136.0,114.0,73.0,106.0,85.0,96.0,89.0,103.0,10.0,109.0,92.0,103.0,80.0,101.0,83.0,131.0,82.0,101.0,112.0,95.0,93.0,118.0,101.0,77.0,117.0,96.0,395.0,67.0,139.0,95.0,110.0,96.0,132.0,105.0,0.0,100.0,103.0,0.0,95.0,98.0,100.0,161.0,62.0,100.0,92.0,91.0,106.0,124.0,65.0,103.0,106.0,122.0,71.0,90.0,117.0,109.0,95.0,96.0,103.0,100.0,134.0,395.0,93.0,0.0,0.0,134.0,89.0,88.0,110.0,99.0,153.0,0.0,101.0,75.0,103.0,228.0,68.0,123.0,70.0,49.0,204.0,106.0,197.0,81.0,79.0,88.0,92.0,88.0,121.0,79.0,119.0,102.0,81.0,107.0,106.0,0.0,99.0,77.0,92.0,80.0,77.0,115.0,0.0,0.0,0.0,81.0,34.0,105.0,117.0,100.0,116.0,149.0,66.0,82.0,123.0,102.0,111.0,120.0,143.0,90.0,135.0,100.0,75.0,81.0,0.0,0.0,74.0,78.0,0.0,138.0,143.0,101.0,166.0,120.0,105.0,104.0,72.0,106.0,114.0,92.0,0.0,60.0,114.0,134.0,93.0,101.0,86.0,141.0,114.0,129.0,129.0,107.0,84.0,114.0,96.0,104.0,85.0,3.0,95.0,164.0,0.0,136.0,142.0,107.0,144.0,99.0,112.0,130.0,98.0,94.0,91.0,126.0,109.0,92.0,91.0,128.0,72.0,113.0,93.0,67.0,100.0,122.0,128.0,135.0,104.0,117.0,98.0,102.0,0.0,89.0,94.0,105.0,106.0,148.0,113.0,135.0,100.0,95.0,109.0,106.0,161.0,131.0,0.0,206.0,67.0,114.0,153.0,117.0,85.0,100.0,92.0,98.0,102.0,141.0,116.0,152.0,88.0,124.0,116.0,121.0,65.0,131.0,96.0,55.0,0.0,105.0,95.0,87.0,0.0,86.0,83.0,113.0,0.0,149.0,103.0,138.0,92.0,80.0,66.0,80.0,92.0,127.0,169.0,0.0,37.0,116.0,111.0,114.0,0.0,152.0,98.0,111.0,108.0,83.0,107.0,81.0,95.0,94.0,78.0,70.0,107.0,91.0,87.0,0.0,89.0,86.0,93.0,94.0,114.0,79.0,92.0,82.0,98.0,86.0,97.0,90.0,141.0,73.0,136.0,110.0,0.0,85.0,156.0,111.0,101.0,77.0,71.0,88.0,133.0,130.0,96.0,134.0,200.0,82.0,62.0,98.0,0.0,109.0,136.0,123.0,102.0,123.0,88.0,118.0,98.0,105.0,111.0,84.0,111.0,85.0,96.0,0.0,0.0,0.0,111.0,114.0,0.0,134.0,104.0,124.0,114.0,102.0,84.0,83.0,106.0,120.0,124.0,71.0,106.0,116.0,0.0,0.0,123.0,0.0,121.0,126.0,115.0,106.0,103.0,101.0,90.0,116.0,105.0,100.0,82.0,86.0,0.0,101.0,106.0,91.0,111.0,124.0,96.0,0.0,115.0,141.0,93.0,125.0,107.0,139.0,0.0,177.0,95.0,0.0,81.0,121.0,104.0,98.0,68.0,99.0,105.0,70.0,130.0,151.0,120.0,126.0,127.0,101.0,0.0,117.0,114.0,129.0,99.0,104.0,0.0,0.0,120.0,107.0,131.0,92.0,115.0,149.0,110.0,0.0,0.0,137.0,98.0,76.0,104.0,94.0,127.0,99.0,130.0,110.0,129.0,125.0,93.0,82.0,0.0,118.0,135.0,75.0,81.0,91.0,137.0,138.0,91.0,126.0,74.0,99.0,109.0,143.0,105.0,104.0,140.0,168.0,112.0,111.0,122.0,97.0,127.0,97.0,94.0,129.0,0.0,0.0,0.0,110.0,119.0,93.0,125.0,125.0,81.0,160.0,119.0,97.0,89.0,93.0,74.0,138.0,134.0,151.0,87.0,81.0,214.0,154.0,0.0,103.0,136.0,92.0,84.0,129.0,114.0,107.0,124.0,101.0,80.0,152.0,121.0,111.0,215.0,111.0,97.0,93.0,101.0,101.0,110.0,75.0,81.0,105.0,93.0,46.0,94.0,0.0,74.0,107.0,101.0,93.0,80.0,149.0,90.0,89.0,122.0,73.0,87.0,0.0,0.0,114.0,99.0,107.0,119.0,100.0,121.0,116.0,115.0,111.0,114.0,123.0,88.0,138.0,0.0,0.0,0.0,95.0,82.0,113.0,118.0,153.0,0.0,125.0,118.0,112.0,0.0,117.0,107.0,0.0,0.0,0.0,95.0,89.0,102.0,99.0,8.5,75.0,101.0,84.0,103.0,154.0,90.0,63.0,0.0,0.0,109.0,101.0,85.0,95.0,94.0,135.0,103.0,140.0,87.0,100.0,0.0,115.0,69.0,111.0,93.0,149.0,122.0,0.0,113.0,110.0,103.0,0.0,89.0,86.0,120.0,79.0,88.0,122.0,0.0,116.0,108.0,88.0,0.0,97.0,56.0,75.0,98.0,93.0,113.0,121.0,95.0,77.0,99.0,118.0,105.0,85.0,125.0,0.0,125.0,109.0,69.0,139.0,67.0,0.0,122.0,116.0,81.0,108.0,137.0,85.0,84.0,0.0,122.0,99.0,59.0,73.0,0.0,0.0,119.0,0.0,119.0,109.0,122.0,0.0,107.0,108.0,115.0,97.0,112.0,0.0,145.0,0.0,135.0,14.0,145.0,46.0,81.0,103.0,111.0,97.0,87.0,114.0,79.0,115.0,85.0,107.0,41.0,95.0,121.0,89.0,0.0,69.0,130.0,133.0,145.0,117.0,124.0,113.0,173.0,108.0,93.0,113.0,129.0,78.0,88.0,103.0,97.0,148.0,112.0,90.0,138.0,99.0,124.0,97.0,110.0,0.0,0.0,153.0,147.0,205.0,112.0,0.0,113.0,100.0,108.0,0.0,132.0,97.0,86.0,92.0,8.9,8.4,105.0,0.0,113.0,125.0,114.0,105.0,134.0,108.0,117.0,0.0,112.0,0.0,92.0,105.0,145.0,104.0,106.0,130.0,0.0,113.0,109.0,102.0,94.0,100.0,87.0,103.0,108.0,104.0,104.0,128.0,93.0,110.0,100.0,72.0,138.0,96.0,121.0,75.0,0.0,0.0,130.0,125.0,97.0,95.0,101.0,0.0,104.0,125.0,124.0,100.0,127.0,109.0,94.0,149.0,92.0,86.0,101.0,18.0,108.0,89.0,112.0,97.0,0.0,132.0,128.0,115.0,108.0,109.0,74.0,125.0,114.0,145.0,86.0,0.0,93.0,119.0,105.0,0.0,80.0,85.0,102.0,148.0,110.0,107.0,0.0,103.0,0.0,93.0,113.0,80.0,123.0,88.0,107.0,112.0,98.0,100.0,95.0,152.0,109.0,0.0,103.0,92.0,129.0,66.0,0.0,0.0,0.0,100.0,114.0,87.0,90.0,85.0,121.0,138.0,114.0,76.0,119.0,150.0,0.0,76.0,76.0,99.0,59.0,33.0,56.0,108.0,0.0,113.0,82.0,104.0,76.0,93.0,89.0,0.0,99.0,121.0,109.0,100.0,70.0,124.0,115.0,121.0,120.0,99.0,100.0,103.0,112.0,112.0,101.0,121.0,121.0,125.0,99.0,114.0,151.0,103.0,0.0,113.0,111.0,100.0,131.0,0.0,115.0,0.0,0.0,0.0,0.0,105.0,111.0,113.0,95.0,109.0,100.0,109.0,130.0,80.0,70.0,92.0,99.0,108.0,9.099999,91.0,91.0,0.0,96.0,56.0,79.0,100.0,117.0,100.0,107.0,0.0,58.0,0.0,105.0,119.0,83.0,99.0,108.0,92.0,116.0,69.0,94.0,151.0,0.0,96.0,129.0,127.0,129.0,143.0,92.0,204.0,86.0,102.0,104.0,76.0,97.0,119.0,160.0,133.0,102.0,132.0,126.0,110.0,117.0,93.0,102.0,91.0,92.0,133.0,0.0,0.0,0.0,0.0,104.0,123.0,104.0,98.0,90.0,104.0,103.0,92.0,91.0,136.0,98.0,88.0,87.0,113.0,86.0,59.0,99.0,88.0,148.0,83.0,155.0,123.0,101.0,105.0,98.0,124.0,130.0,119.0,85.0,108.0,127.0,131.0,101.0,91.0,92.0,88.0,155.0,95.0,98.0,152.0,98.0,0.0,93.0,98.0,131.0,117.0,99.0,110.0,118.0,132.0,94.0,98.0,115.0,90.0,63.0,86.0,100.0,107.0,101.0,114.0,101.0,101.0,0.0,88.0,0.0,98.0,142.0,114.0,111.0,120.0,0.0,85.0,188.0,83.0,32.0,71.0,99.0,82.0,88.0,97.0,0.0,83.0,123.0,92.0,104.0,100.0,100.0,82.0,66.0,91.0,90.0,109.0,114.0,136.0,106.0,104.0,91.0,111.0,124.0,112.0,73.0,106.0,111.0,94.0,88.0,94.0,96.0,0.0,101.0,126.0,98.0,91.0,136.0,114.0,0.0,90.0,85.0,91.0,101.0,96.0,101.0,98.0,110.0,0.0,118.0,95.0,101.0,93.0,10.0,102.0,107.0,131.0,111.0,0.0,130.0,0.0,75.0,130.0,142.0,150.0,92.0,10.0,85.0,73.0,108.0,79.0,0.0,183.0,0.0,84.0,66.0,125.0,118.0,102.0,86.0,108.0,132.0,113.0,0.0,81.0,90.0,72.0,126.0,127.0,129.0,109.0,109.0,91.0,107.0,0.0,129.0,109.0,95.0,110.0,116.0,95.0,81.0,92.0,116.0,115.0,124.0,126.0,102.0,117.0,97.0,0.0,135.0,47.0,66.0,84.0,80.0,124.0,134.0,105.0,117.0,107.0,106.0,89.0,81.0,105.0,97.0,102.0,109.0,0.0,108.0,89.0,107.0,118.0,98.0,114.0,115.0,103.0,105.0,94.0,118.0,90.0,71.0,130.0,93.0,197.0,114.0,92.0,101.0,67.0,140.0,123.0,142.0,106.0,0.0,101.0,129.0,97.0,88.0,20.0,17.0,80.0,147.0,126.0,90.0,115.0,149.0,112.0,159.0,93.0,113.0,83.0,0.0,119.0,114.0,140.0,128.0,126.0,110.0,135.0,100.0,84.0,98.0,87.0,105.0,105.0,90.0,0.0,0.0,115.0,112.0,235.0,87.0,209.0,128.0,118.0,146.0,114.0,87.0,92.0,0.0,118.0,0.0,151.0,0.0,71.0,118.0,88.0,134.0,77.0,134.0,125.0,103.0,70.0,110.0,88.0,82.0,92.0,90.0,116.0,82.0,102.0,118.0,97.0,116.0,88.0,87.0,106.0,74.0,92.0,75.0,96.0,106.0,99.0,90.0,114.0,121.0,100.0,124.0,83.0,147.0,109.0,92.0,105.0,88.0,112.0,102.0,109.0,120.0,113.0,98.0,89.0,112.0,111.0,171.0,101.0,68.0,111.0,134.0,121.0,113.0,81.0,118.0,106.0,113.0,89.0,103.0,94.0,87.0,0.0,138.0,0.0,0.0,95.0,118.0,96.0,112.0,126.0,54.0,54.0,70.0,0.0,105.0,105.0,104.0,47.0,107.0,109.0,113.0,114.0,81.0,68.0,137.0,92.0,101.0,96.0,93.0,135.0,91.0,93.0,117.0,98.0,91.0,154.0,118.0,95.0,93.0,93.0,96.0,0.0,88.0,113.0,111.0,122.0,91.0,91.0,124.0,0.0,107.0,103.0,218.0,97.0,36.0,78.0,97.0,108.0,105.0,124.0,104.0,100.0,111.0,101.0,124.0,87.0,135.0,180.0,203.0,106.0,98.0,78.0,102.0,98.0,122.0,89.0,86.0,144.0,143.0,111.0,86.0,139.0,94.0,97.0,103.0,94.0,16.0,82.0,112.0,110.0,113.0,46.0,99.0,0.0,124.0,86.0,92.0,154.0,105.0,108.0,148.0,139.0,123.0,115.0,118.0,124.0,0.0,204.0,67.0,138.0,0.0,125.0,92.0,127.0,106.0,141.0,224.0,15.0,102.0,124.0,113.0,117.0,129.0,102.0,125.0,104.0,9.0,118.0,113.0,50.0,118.0,127.0,75.0,72.0,93.0,126.0,110.0,95.0,87.0,105.0,122.0,112.0,144.0,124.0,89.0,112.0,125.0,128.0,41.0,82.0,89.0,101.0,83.0,112.0,90.0,113.0,86.0,112.0,119.0,90.0,95.0,110.0,46.0,95.0,153.0,28.0,131.0,96.0,110.0,69.0,105.0,140.0,120.0,147.0,98.0,0.0,0.0,85.0,142.0,7.0,119.0,94.0,116.0,114.0,119.0,147.0,144.0,88.0,93.0,117.0,180.0,124.0,107.0,152.0,116.0,96.0,116.0,112.0,88.0,109.0,127.0,119.0,137.0,312.0,149.0,125.0,0.0,0.0,0.0,107.0,90.0,134.0,10.0,33.0,185.0,116.0,247.0,98.0,40.0,121.0,138.0,105.0,108.0,93.0,213.0,164.0,125.0,90.0,91.0,114.0,101.0,123.0,92.0,90.0,96.0,143.0,97.0,0.0,81.0,106.0,89.0,150.0,104.0,127.0,108.0,123.0,103.0,106.0,109.0,90.0,110.0,86.0,94.0,128.0,132.0,117.0,112.0,67.0,134.0,118.0,98.0,129.0,132.0,0.0,110.0,117.0,147.0,11.0,128.0,129.0,94.0,146.0,81.0,156.0,0.0,111.0,159.0,113.0,274.0,129.0,90.0,88.0,130.0,98.0,112.0,101.0,152.0,147.0,0.0,88.0,109.0,145.0,74.0,0.0,110.0,102.0,148.0,82.0,143.0,112.0,0.0,104.0,93.0,122.0,111.0,108.0,139.0,115.0,95.0,87.0,152.0,92.0,134.0,93.0,121.0,147.0,104.0,107.0,96.0,109.0,140.0,119.0,170.0,109.0,0.0,0.0,78.0,133.0,133.0,77.0,94.0,85.0,92.0,82.0,121.0,91.0,109.0,104.0,76.0,0.0,111.0,126.0,96.0,99.0,83.0,91.0,113.0,93.0,125.0,98.0,98.0,130.0,109.0,150.0,95.0,78.0,115.0,113.0,0.0,134.0,127.0,94.0,95.0,121.0,120.0,96.0,135.0,117.0,117.0,88.0,78.0,183.0,107.0,17.0,104.0,132.0,112.0,118.0,111.0,121.0,118.0,117.0,100.0,124.0,102.0,126.0,153.0,94.0,113.0,96.0,103.0,112.0,102.0,115.0,100.0,107.0,116.0,102.0,104.0,0.0,0.0,123.0,0.0,140.0,140.0,94.0,39.0,0.0,121.0,97.0,110.0,95.0,0.0,95.0,124.0,129.0,242.0,102.0,68.0,124.0,120.0,94.0,142.0,144.0,120.0,97.0,29.0,94.0,95.0,160.0,97.0,117.0,108.0,105.0,89.0,111.0,120.0,100.0,109.0,77.0,97.0,0.0,142.0,118.0,119.0,75.0,99.0,79.0,81.0,130.0,120.0,145.0,114.0,121.0,107.0,222.0,80.0,118.0,128.0,98.0,106.0,112.0,114.0,132.0,112.0,96.0,93.0,96.0,105.0,110.0,166.0,143.0,0.0,130.0,93.0,118.0,0.0,104.0,101.0,94.0,109.0,81.0,77.0,112.0,121.0,88.0,131.0,118.0,99.0,103.0,119.0,99.0,78.0,121.0,69.0,92.0,102.0,0.0,0.0,125.0,91.0,89.0,103.0,106.0,107.0,63.0,121.0,99.0,0.0,96.0,114.0,114.0,27.0,101.0,155.0,79.0,100.0,98.0,110.0,101.0,129.0,112.0,120.0,141.0,4.0,84.0,0.0,107.0,70.0,139.0,120.0,88.0,157.0,110.0,153.0,0.0,102.0,106.0,112.0,0.0,100.0,108.0,149.0,72.0,106.0,102.0,135.0,53.0,144.0,120.0,102.0,111.0,109.0,130.0,88.0,0.0,0.0,0.0,0.0,0.0,69.0,119.0,104.0,102.0,78.0,116.0,125.0,75.0,111.0,98.0,140.0,93.0,109.0,93.0,98.0,0.0,106.0,0.0,77.0,0.0,120.0,0.0,106.0,106.0,147.0,144.0,93.0,114.0,108.0,13.0,2.0,134.0,74.0,97.0,92.0,144.0,91.0,99.0,119.0,96.0,96.0,115.0,131.0,117.0,122.0,139.0,145.0,112.0,92.0,121.0,0.0,118.0,120.0,154.0,127.0,116.0,93.0,0.0,249.0,167.0,118.0,111.0,96.0,124.0,0.0,111.0,136.0,132.0,130.0,112.0,114.0,133.0,129.0,114.0,114.0,114.0,97.0,127.0,105.0,155.0,152.0,77.0,0.0,86.0,104.0,118.0,51.0,134.0,109.0,127.0,176.0,111.0,118.0,97.0,70.0,122.0,14.0,0.0,200.0,154.0,126.0,122.0,76.0,104.0,105.0,120.0,109.0,140.0,110.0,94.0,84.0,98.0,121.0,73.0,53.0,0.0,98.0,166.0,99.0,91.0,129.0,108.0,107.0,92.0,119.0,149.0,92.0,122.0,98.0,0.0,94.0,85.0,116.0,110.0,127.0,88.0,81.0,98.0,100.0,66.0,51.0,116.0,125.0,115.0,88.0,109.0,108.0,90.0,0.0,98.0,84.0,72.0,115.0,126.0,0.0,135.0,49.0,82.0,0.0,127.0,85.0,93.0,108.0,103.0,107.0,100.0,101.0,129.0,42.0,134.0,118.0,67.0,108.0,91.0,124.0,91.0,117.0,83.0,69.0,349.0,19.0,123.0,145.0,125.0,124.0,120.0,112.0,110.0,151.0,101.0,139.0,127.0,131.0,111.0,0.0,73.0,126.0,102.0,104.0,103.0,69.0,111.0,217.0,110.0,91.0,0.0,83.0,106.0,103.0,114.0,97.0,55.0,100.0,158.0,132.0,126.0,117.0,145.0,98.0,71.0,117.0,138.0,101.0,124.0,107.0,0.0,172.0,66.0,253.0,108.0,115.0,71.0,100.0,148.0,88.0,94.0,80.0,93.0,0.0,88.0,61.0,95.0,95.0,142.0,104.0,76.0,153.0,108.0,98.0,132.0,109.0,191.0,99.0,117.0,166.0,68.0,90.0,113.0,95.0,0.0,111.0,92.0,88.0,127.0,108.0,99.0,124.0,0.0,0.0,91.0,131.0,138.0,114.0,117.0,87.0,138.0,77.0,125.0,107.0,117.0,117.0,0.0,146.0,101.0,105.0,99.0,122.0,142.0,69.0,118.0,91.0,87.0,116.0,95.0,106.0,104.0,0.0,0.0,99.0,178.0,90.0,110.0,121.0,108.0,104.0,109.0,75.0,98.0,141.0,149.0,131.0,83.0,134.0,96.0,84.0,109.0,0.0,135.0,89.0,102.0,67.0,0.0,90.0,113.0,111.0,134.0,97.0,114.0,0.0,150.0,115.0,83.0,112.0,99.0,108.0,153.0,150.0,124.0,122.0,101.0,101.0,93.0,106.0,265.0,77.0,280.0,0.0,158.0,99.0,146.0,106.0,14.0,134.0,99.0,83.0,115.0,93.0,91.0,69.0,140.0,94.0,104.0,89.0,84.0,141.0,129.0,131.0,113.0,146.0,90.0,81.0,125.0,123.0,97.0,74.0,85.0,138.0,110.0,119.0,138.0,141.0,88.0,93.0,125.0,131.0,96.0,135.0,129.0,103.0,131.0,126.0,124.0,89.0,0.0,73.0,130.0,102.0,102.0,154.0,64.0,118.0,91.0,133.0,17.0,95.0,0.0,93.0,94.0,72.0,87.0,87.0,100.0,0.0,95.0,108.0,113.0,115.0,110.0,151.0,222.0,136.0,153.0,107.0,112.0,149.0,91.0,135.0,111.0,105.0,126.0,109.0,97.0,111.0,137.0,100.0,145.0,86.0,111.0,171.0,109.0,125.0,281.0,100.0,86.0,205.0,93.0,99.0,89.0,152.0,0.0,0.0,134.0,120.0,117.0,92.0,114.0,123.0,128.0,86.0,34.0,200.0,95.0,135.0,114.0,93.0,80.0,108.0,112.0,83.0,140.0,82.0,118.0,124.0,78.0,0.0,0.0,0.0,138.0,76.0,105.0,148.0,95.0,107.0,64.0,100.0,132.0,104.0,95.0,110.0,106.0,116.0,113.0,129.0,114.0,75.0,137.0,115.0,105.0,99.0,128.0,89.0,147.0,125.0,108.0,96.0,0.0,140.0,127.0,154.0,129.0,141.0,104.0,222.0,81.0,0.0,107.0,160.0,125.0,143.0,190.0,82.0,131.0,153.0,153.0,63.0,77.0,112.0,123.0,100.0,90.0,96.0,99.0,124.0,107.0,106.0,57.0,101.0,107.0,105.0,108.0,0.0,116.0,93.0,141.0,105.0,92.0,0.0,0.0,92.0,122.0,85.0,0.0,90.0,105.0,110.0,88.0,106.0,92.0,155.0,115.0,114.0,111.0,121.0,82.0,119.0,79.0,109.0,73.0,98.0,99.0,104.0,59.0,122.0,128.0,79.0,134.0,237.0,124.0,106.0,109.0,131.0,95.0,100.0,117.0,0.0,128.0,131.0,53.0,65.0,114.0,119.0,0.0,107.0,124.0,132.0,133.0,133.0,112.0,86.0,107.0,43.0,104.0,149.0,114.0,93.0,131.0,96.0,54.0,124.0,105.0,85.0,135.0,128.0,121.0,120.0,0.0,110.0,107.0,362.0,0.0,151.0,119.0,107.0,125.0,70.0,105.0,154.0,88.0,96.0,129.0,95.0,121.0,96.0,119.0,173.0,68.0,125.0,90.0,95.0,112.0,13.0,115.0,101.0,152.0,130.0,158.0,138.0,126.0,100.0,92.0,104.0,189.0,106.0,78.0,92.0,86.0,100.0,177.0,106.0,74.0,89.0,133.0,92.0,108.0,97.0,102.0,134.0,139.0,76.0,65.0,128.0,108.0,120.0,102.0,104.0,93.0,108.0,116.0,92.0,106.0,114.0,196.0,33.0,144.0,115.0,0.0,86.0,98.0,138.0,136.0,98.0,83.0,101.0,128.0,94.0,90.0,156.0,92.0,110.0,73.0,77.0,97.0,102.0,64.0,0.0,94.0,94.0,100.0,80.0,97.0,108.0,75.0,88.0,101.0,93.0,102.0,190.0,97.0,125.0,122.0,148.0,0.0,83.0,103.0,89.0,149.0,91.0,220.0,0.0,0.0,102.0,115.0,0.0,107.0,136.0,115.0,0.0,118.0,118.0,108.0,112.0,85.0,107.0,95.0,115.0,88.0,76.0,94.0,147.0,94.0,145.0,122.0,142.0,143.0,100.0,131.0,115.0,117.0,109.0,124.0,121.0,102.0,123.0,108.0,188.0,194.0,144.0,143.0,131.0,97.0,93.0,109.0,97.0,112.0,125.0,98.0,84.0,106.0,113.0,90.0,116.0,188.0,127.0,103.0,101.0,0.0,113.0,121.0,58.0,120.0,100.0,114.0,100.0,85.0,107.0,239.0,99.0,99.0,109.0,93.0,0.0,0.0,26.0,124.0,136.0,120.0,0.0,138.0,121.0,112.0,109.0,104.0,152.0,155.0,169.0,74.0,0.0,0.0,112.0,80.0,116.0,148.0,108.0,119.0,203.0,131.0,144.0,110.0,115.0,107.0,96.0,0.0,89.0,134.0,132.0,119.0,70.0,120.0,254.0,102.0,99.0,101.0,135.0,112.0,113.0,135.0,155.0,64.0,73.0,100.0,81.0,126.0,107.0,146.0,79.0,165.0,110.0,140.0,56.0,62.0,0.0,112.0,121.0,123.0,132.0,102.0,39.0,115.0,0.0,100.0,156.0,151.0,112.0,108.0,67.0,113.0,102.0,0.0,70.0,98.0,96.0,0.0,87.0,93.0,121.0,90.0,105.0,150.0,97.0,136.0,0.0,105.0,121.0,143.0,4.0,102.0,98.0,75.0,103.0,93.0,100.0,108.0,95.0,86.0,138.0,130.0,120.0,138.0,81.0,141.0,156.0,115.0,356.0,103.0,237.0,139.0,115.0,137.0,128.0,0.0,105.0,116.0,68.0,23.0,98.0,98.0,153.0,2.4,129.0,114.0,117.0,143.0,121.0,96.0,91.0,149.0,115.0,115.0,96.0,94.0,0.0,62.0,128.0,122.0,87.0,0.0,111.0,107.0,103.0,110.0,95.0,132.0,101.0,122.0,134.0,106.0,114.0,94.0,0.0,134.0,119.0,124.0,118.0,165.0,134.0,107.0,106.0,80.0,0.0,114.0,116.0,151.0,107.0,112.0,0.0,74.0,8.299999,104.0,0.0,97.0,90.0,0.0,123.0,0.0,82.0,84.0,0.0,161.0,80.0,114.0,114.0,115.0,89.0,0.0,0.0,123.0,107.0,111.0,100.0,112.0,128.0,98.0,88.0,149.0,130.0,106.0,112.0,131.0,110.0,85.0,0.0,110.0,68.0,93.0,136.0,196.0,114.0,115.0,154.0,138.0,115.0,133.0,130.0,96.0,149.0,139.0,145.0,148.0,152.0,95.0,118.0,0.0,108.0,20.0,126.0,0.0,79.0,151.0,94.0,133.0,121.0,104.0,114.0,137.0,114.0,149.0,0.0,65.0,123.0,137.0,79.0,114.0,93.0,127.0,169.0,135.0,99.0,135.0,0.0,114.0,82.0,153.0,59.0,122.0,110.0,120.0,113.0,80.0,93.0,112.0,119.0,101.0,110.0,95.0,112.0,125.0,97.0,102.0,92.0,83.0,124.0,130.0,211.0,0.0,131.0,99.0,79.0,106.0,157.0,236.0,119.0,50.0,123.0,98.0,133.0,135.0,102.0,127.0,0.0,0.0,85.0,109.0,110.0,94.0,100.0,92.0,101.0,132.0,69.0,111.0,113.0,104.0,123.0,92.0,86.0,117.0,136.0,88.0,152.0,0.0,107.0,93.0,12.0,111.0,114.0,0.0,103.0,122.0,0.0,118.0,119.0,121.0,84.0,85.0,121.0,111.0,99.0,119.0,102.0,133.0,0.0,112.0,151.0,115.0,131.0,147.0,116.0,113.0,127.0,97.0,91.0,0.0,134.0,106.0,129.0,92.0,109.0,99.0,128.0,127.0,119.0,133.0,124.0,119.0,141.0,155.0,137.0,108.0,113.0,138.0,131.0,123.0,143.0,126.0,137.0,117.0,119.0,135.0,104.0,120.0,81.0,135.0,113.0,108.0,103.0,104.0,109.0,91.0,121.0,121.0,43.0,84.0,0.0,101.0,148.0,123.0,110.0,0.0,95.0,72.0,109.0,127.0,120.0,105.0,201.0,0.0,150.0,87.0,102.0,99.0,93.0,97.0,146.0,78.0,117.0,8.7,152.0,100.0,95.0,92.0,135.0,110.0,96.0,99.0,96.0,113.0,100.0,0.0,111.0,103.0,112.0,113.0,132.0,131.0,113.0,0.0,88.0,156.0,0.0,0.0,109.0,110.0,120.0,103.0,120.0,111.0,87.0,262.0,114.0,0.0,96.0,117.0,0.0,129.0,133.0,48.0,154.0,117.0,148.0,117.0,107.0,0.0,78.0,122.0,89.0,121.0,122.0,100.0,90.0,112.0,117.0,118.0,102.0,87.0,104.0,95.0,111.0,92.0,115.0,116.0,79.0,98.0,83.0,120.0,62.0,129.0,106.0,142.0,95.0,97.0,0.0,120.0,88.0,0.0,0.0,0.0,99.0,115.0,105.0,153.0,94.0,78.0,118.0,35.0,113.0,96.0,86.0,142.0,99.0,141.0,106.0,111.0,108.0,108.0,106.0,96.0,149.0,107.0,235.0,3.84,96.0,136.0,130.0,107.0,0.0,113.0,106.0,89.0,111.0,113.0,127.0,95.0,94.0,13.0,117.0,63.0,117.0,112.0,143.0,110.0,63.0,99.0,70.0,137.0,100.0,0.0,131.0,98.0,101.0,97.0,100.0,117.0,0.0,84.0,0.0,100.0,115.0,0.0,0.0,125.0,89.0,123.0,264.0,0.0,117.0,106.0,157.0,9.099999,95.0,110.0,117.0,103.0,113.0,136.0,0.0,0.0,112.0,89.0,122.0,109.0,0.0,0.0,87.0,128.0,112.0,118.0,102.0,104.0,174.0,156.0,0.0,114.0,141.0,120.0,114.0,104.0,41.0,137.0,0.0,143.0,91.0,112.0,0.0,125.0,110.0,108.0,184.0,88.0,120.0,103.0,87.0,101.0,120.0,0.0,95.0,130.0,109.0,89.0,113.0,96.0,81.0,206.0,136.0,133.0,127.0,131.0,96.0,127.0,73.0,112.0,104.0,114.0,122.0,134.0,112.0,106.0,126.0,94.0,89.0,137.0,95.0,91.0,79.0,81.0,85.0,96.0,80.0,99.0,102.0,106.0,114.0,82.0,0.0,117.0,116.0,143.0,124.0,149.0,80.0,114.0,123.0,90.0,124.0,110.0,116.0,125.0,88.0,113.0,153.0,88.0,110.0,145.0,114.0,186.0,155.0,143.0,141.0,111.0,19.0,89.0,124.0,154.0,0.0,86.0,72.0,0.0,106.0,0.0,0.0,115.0,108.0,0.0,117.0,107.0,102.0,145.0,29.0,77.0,99.0,75.0,0.0,178.0,105.0,141.0,137.0,143.0,133.0,152.0,115.0,125.0,110.0,142.0,90.0,100.0,104.0,135.0,102.0,0.0,0.0,103.0,138.0,101.0,89.0,3.1,104.0,136.0,134.0,113.0,148.0,86.0,130.0,97.0,92.0,105.0,137.0,87.0,116.0,136.0,105.0,93.0,83.0,163.0,84.0,156.0,87.0,84.0,34.0,115.0,110.0,97.0,378.0,110.0,151.0,87.0,122.0,122.0,74.0,141.0,145.0,140.0,107.0,3.0,107.0,117.0,0.0,119.0,119.0,74.0,73.0,114.0,130.0,134.0,128.0,78.0,110.0,136.0,115.0,160.0,154.0,128.0,115.0,119.0,0.0,115.0,143.0,126.0,129.0,109.0,155.0,127.0,151.0,130.0,110.0,90.0,112.0,131.0,67.0,71.0,135.0,146.0,0.0,0.0,183.0,138.0,122.0,96.0,150.0,131.0,114.0,108.0,77.0,116.0,100.0,135.0,118.0,108.0,125.0,120.0,129.0,0.0,121.0,110.0,152.0,106.0,116.0,113.0,92.0,128.0,118.0,124.0,134.0,0.0,118.0,100.0,100.0,126.0,170.0,110.0,94.0,179.0,118.0,172.0,104.0,140.0,115.0,118.0,118.0,123.0,123.0,110.0,127.0,122.0,135.0,134.0,115.0,115.0,0.0,137.0,148.0,94.0,111.0,129.0,153.0,119.0,127.0,113.0,120.0,149.0,0.0,86.0,86.0,124.0,143.0,155.0,114.0,121.0,118.0,115.0,145.0,94.0,72.0,146.0,0.0,149.0,107.0,105.0,172.0,118.0,154.0,52.0,101.0,123.0,121.0,0.0,131.0,106.0,156.0,152.0,194.0,130.0,133.0,186.0,136.0,131.0,142.0,122.0,151.0,125.0,87.0,103.0,120.0,74.0,0.0,127.0,97.0,133.0,97.0,148.0,88.0,95.0,188.0,120.0,91.0,0.0,102.0,105.0,69.0,120.0,99.0,129.0,95.0,117.0,106.0,120.0,116.0,83.0,74.0,98.0,107.0,111.0,96.0,103.0,110.0,115.0,78.0,75.0,143.0,144.0,112.0,71.0,139.0,162.0,95.0,105.0,61.0,97.0,92.0,130.0,120.0,63.0,138.0,107.0,102.0,115.0,108.0,118.0,158.0,167.0,155.0,106.0,122.0,106.0,83.0,117.0,128.0,88.0,140.0,113.0,76.0,121.0,198.0,144.0,145.0,123.0,142.0,72.0,106.0,101.0,121.0,144.0,88.0,143.0,129.0,107.0,0.0,86.0,0.0,188.0,125.0,125.0,96.0,92.0,126.0,86.0,143.0,141.0,107.0,84.0,133.0,130.0,132.0,115.0,85.0,0.0,100.0,126.0,99.0,110.0,173.0,0.0,116.0,39.0,78.0,127.0,99.0,103.0,118.0,134.0,268.0,108.0,187.0,99.0,75.0,77.0,125.0,108.0,97.0,152.0,130.0,99.0,98.0,92.0,119.0,66.0,57.0,102.0,103.0,92.0,142.0,115.0,101.0,209.0,110.0,105.0,100.0,79.0,86.0,76.0,99.0,91.0,133.0,85.0,107.0,102.0,115.0,118.0,147.0,165.0,115.0,78.0,125.0,34.0,86.0,145.0,76.0,126.0,102.0,131.0,126.0,152.0,12.0,129.0,107.0,138.0,0.0,126.0,104.0,123.0,0.0,111.0,98.0,0.0,117.0,47.0,93.0,167.0,98.0,96.0,136.0,66.0,190.0,127.0,99.0,86.0,150.0,55.0,89.0,94.0,128.0,88.0,91.0,118.0,113.0,125.0,0.0,85.0,101.0,207.0,109.0,81.0,70.0,80.0,0.0,101.0,109.0,53.0,120.0,121.0,135.0,80.0,118.0,88.0,111.0,131.0,111.0,162.0,112.0,162.0,94.0,120.0,120.0,144.0,97.0,105.0,168.0,112.0,174.0,126.0,107.0,114.0,139.0,0.0,118.0,103.0,108.0,0.0,116.0,110.0,129.0,121.0,122.0,108.0,111.0,119.0,132.0,0.0,115.0,86.0,100.0,122.0,170.0,123.0,25.0,115.0,122.0,103.0,116.0,106.0,0.0,185.0,0.0,177.0,105.0,97.0,119.0,129.0,148.0,185.0,94.0,105.0,117.0,80.0,136.0,112.0,0.0,113.0,0.0,126.0,111.0,116.0,142.0,0.0,129.0,156.0,109.0,128.0,100.0,108.0,142.0,128.0,142.0,119.0,115.0,114.0,251.0,98.0,135.0,154.0,125.0,115.0,153.0,127.0,83.0,114.0,104.0,114.0,97.0,99.0,126.0,132.0,112.0,108.0,138.0,193.0,128.0,125.0,96.0,112.0,143.0,122.0,117.0,121.0,332.0,211.0,155.0,0.0,158.0,14.0,132.0,114.0,139.0,148.0,170.0,92.0,87.0,0.0,166.0,122.0,107.0,81.0,110.0,125.0,117.0,110.0,88.0,117.0,101.0,94.0,122.0,98.0,127.0,130.0,103.0,112.0,141.0,241.0,120.0,135.0,89.0,129.0,68.0,64.0,26.0,108.0,142.0,130.0,143.0,107.0,92.0,69.0,94.0,84.0,108.0,95.0,103.0,0.0,0.0,85.0,140.0,111.0,121.0,112.0,114.0,143.0,0.0,56.0,120.0,127.0,119.0,105.0,166.0,0.0,145.0,9.0,115.0,155.0,642.0,127.0,137.0,102.0,123.0,132.0,81.0,48.0,99.0,146.0,134.0,115.0,183.0,83.0,148.0,109.0,130.0,127.0,129.0,127.0,141.0,123.0,145.0,0.0,79.0,116.0,149.0,0.0,136.0,81.0,138.0,2.5,121.0,150.0,107.0,109.0,122.0,0.0,0.0,0.0,138.0,131.0,163.0,129.0,89.0,92.0,103.0,148.0,174.0,112.0,108.0,0.0,133.0,112.0,156.0,106.0,140.0,137.0,117.0,147.0,113.0,97.0,137.0,13.0,96.0,0.0,164.0,118.0,115.0,85.0,118.0,110.0,36.0,92.0,132.0,139.0,113.0,98.0,101.0,112.0,92.0,0.0,97.0,95.0,106.0,98.0,92.0,113.0,135.0,100.0,92.0,105.0,94.0,98.0,106.0,119.0,126.0,158.0,104.0,82.0,0.0,110.0,94.0,140.0,66.0,93.0,5.0,87.0,76.0,84.0,144.0,90.0,82.0,123.0,133.0,93.0,114.0,81.0,94.0,125.0,85.0,97.0,74.0,126.0,143.0,108.0,135.0,100.0,112.0,84.0,89.0,178.0,80.0,90.0,0.0,127.0,0.0,133.0,93.0,104.0,92.0,103.0,98.0,122.0,136.0,118.0,0.0,95.0,69.0,171.0,82.0,0.0,119.0,105.0,76.0,96.0,108.0,133.0,78.0,88.0,135.0,5.0,133.0,135.0,96.0,96.0,84.0,106.0,104.0,96.0,79.0,119.0,76.0,93.0,66.0,110.0,91.0,87.0,99.0,106.0,95.0,130.0,121.0,125.0,91.0,114.0,117.0,127.0,125.0,325.0,102.0,104.0,125.0,150.0,0.0,106.0,135.0,129.0,0.0,97.0,94.0,94.0,142.0,71.0,119.0,133.0,115.0,79.0,135.0,143.0,76.0,92.0,112.0,113.0,84.0,148.0,138.0,70.0,77.0,101.0,76.0,145.0,89.0,94.0,114.0,116.0,128.0,152.0,112.0,82.0,98.0,107.0,101.0,0.0,123.0,74.0,85.0,103.0,96.0,75.0,126.0,93.0,85.0,0.0,141.0,104.0,132.0,135.0,100.0,61.0,120.0,147.0,42.0,132.0,145.0,98.0,140.0,86.0,97.0,141.0,119.0,94.0,140.0,143.0,110.0,120.0,132.0,132.0,141.0,255.0,104.0,106.0,0.0,114.0,130.0,122.0,116.0,95.0,132.0,156.0,76.0,138.0,155.0,79.0,109.0,124.0,95.0,92.0,125.0,96.0,112.0,131.0,104.0,115.0,95.0,141.0,109.0,149.0,139.0,128.0,0.0,123.0,99.0,104.0,110.0,0.0,0.0,146.0,70.0,103.0,80.0,101.0,83.0,77.0,109.0,0.0,97.0,80.0,137.0,99.0,95.0,92.0,96.0,113.0,95.0,85.0,69.0,51.0,0.0,76.0,130.0,109.0,94.0,103.0,118.0,81.0,113.0,122.0,81.0,121.0,114.0,143.0,82.0,124.0,112.0,106.0,95.0,125.0,63.0,138.0,117.0,68.0,143.0,115.0,158.0,111.0,113.0,4.5,172.0,100.0,89.0,102.0,95.0,93.0,133.0,127.0,138.0,69.0,117.0,134.0,111.0,110.0,100.0,519.0,96.0,101.0,0.0,136.0,93.0,104.0,109.0,128.0,124.0,120.0,111.0,113.0,94.0,125.0,111.0,117.0,59.0,115.0,85.0,104.0,90.0,118.0,78.0,29.0,115.0,101.0,197.0,122.0,0.0,0.0,98.0,77.0,142.0,117.0,76.0,128.0,121.0,156.0,92.0,96.0,155.0,119.0,88.0,157.0,158.0,160.0,34.0,139.0,76.0,129.0,86.0,146.0,106.0,203.0,112.0,86.0,130.0,96.0,84.0,121.0,17.0,74.0,108.0,92.0,75.0,135.0,112.0,131.0,93.0,42.0,81.0,126.0,156.0,104.0,112.0,71.0,123.0,169.0,127.0,99.0,71.0,0.0,111.0,70.0,134.0,114.0,129.0,151.0,241.0,145.0,100.0,155.0,81.0,117.0,105.0,92.0,95.0,123.0,111.0,103.0,113.0,79.0,124.0,83.0,103.0,122.0,136.0,126.0,77.0,121.0,103.0,107.0,122.0,75.0,108.0,109.0,99.0,125.0,103.0,127.0,102.0,73.0,4.85,102.0,115.0,120.0,120.0,102.0,106.0,136.0,120.0,49.0,117.0,98.0,105.0,111.0,103.0,97.0,102.0,108.0,111.0,128.0,134.0,0.0,85.0,109.0,84.0,111.0,101.0,84.0,78.0,91.0,115.0,144.0,102.0,97.0,108.0,107.0,149.0,88.0,126.0,266.0,111.0,104.0,0.0,119.0,0.0,0.0,124.0,93.0,86.0,103.0,86.0,101.0,97.0,112.0,119.0,71.0,117.0,119.0,105.0,116.0,0.0,99.0,151.0,120.0,85.0,103.0,101.0,96.0,145.0,121.0,138.0,89.0,77.0,109.0,114.0,128.0,116.0,163.0,136.0,123.0,0.0,117.0,97.0,109.0,136.0,113.0,121.0,0.0,156.0,143.0,139.0,122.0,49.0,100.0,128.0,86.0,253.0,136.0,121.0,123.0,28.0,107.0,112.0,106.0,118.0,105.0,143.0,84.0,87.0,90.0,94.0,85.0,132.0,162.0,126.0,182.0,132.0,105.0,0.0,141.0,86.0,106.0,124.0,88.0,104.0,0.0,131.0,116.0,108.0,131.0,95.0,167.0,96.0,133.0,153.0,142.0,105.0,109.0,152.0,116.0,106.0,69.0,118.0,157.0,128.0,104.0,94.0,93.0,107.0,78.0,82.0,92.0,155.0,127.0,113.0,127.0,86.0,156.0,112.0,110.0,106.0,93.0,97.0,97.0,114.0,130.0,92.0,102.0,119.0,105.0,111.0,82.0,69.0,150.0,138.0,132.0,88.0,108.0,98.0,187.0,137.0,75.0,251.0,101.0,107.0,117.0,79.0,97.0,121.0,122.0,98.0,131.0,109.0,105.0,56.0,109.0,203.0,98.0,138.0,113.0,114.0,114.0,108.0,118.0,121.0,128.0,87.0,150.0,100.0,123.0,101.0,114.0,228.0,118.0,31.0,108.0,109.0,73.0,115.0,0.0,106.0,91.0,128.0,126.0,321.0,117.0,121.0,117.0,115.0,146.0,94.0,0.0,118.0,131.0,113.0,105.0,114.0,135.0,109.0,118.0,97.0,118.0,90.0,108.0,108.0,123.0,104.0,113.0,0.0,87.0,123.0,88.0,112.0,78.0,139.0,66.0,119.0,118.0,0.0,153.0,100.0,125.0,139.0,112.0,148.0,94.0,119.0,84.0,110.0,91.0,107.0,112.0,107.0,16.0,128.0,124.0,126.0,130.0,75.0,15.0,0.0,147.0,0.0,103.0,109.0,114.0,115.0,84.0,137.0,95.0,106.0,127.0,99.0,67.0,85.0,112.0,105.0,89.0,128.0,88.0,108.0,100.0,0.0,0.0,95.0,181.0,139.0,145.0,119.0,68.0,143.0,93.0,124.0,61.0,110.0,116.0,97.0,101.0,104.0,62.0,116.0,112.0,56.0,45.0,0.0,171.0,105.0,152.0,127.0,259.0,96.0,137.0,104.0,143.0,118.0,91.0,69.0,143.0,91.0,96.0,0.0,0.0,104.0,72.0,96.0,122.0,106.0,110.0,0.0,143.0,103.0,108.0,107.0,121.0,104.0,108.0,110.0,290.0,94.0,123.0,109.0,79.0,81.0,115.0,147.0,133.0,128.0,94.0,129.0,0.0,0.0,89.0,123.0,119.0,119.0,99.0,109.0,115.0,149.0,106.0,121.0,136.0,89.0,155.0,147.0,356.0,126.0,105.0,0.0,110.0,132.0,103.0,81.0,119.0,109.0,86.0,0.0,90.0,80.0,167.0,20.0,132.0,137.0,133.0,91.0,97.0,108.0,106.0,154.0,103.0,61.0,100.0,118.0,121.0,144.0,100.0,127.0,105.0,0.0,107.0,124.0,102.0,93.0,132.0,68.0,125.0,91.0,98.0,88.0,130.0,164.0,121.0,131.0,243.0,0.0,133.0,95.0,99.0,143.0,136.0,104.0,69.0,108.0,82.0,118.0,146.0,105.0,103.0,111.0,158.0,144.0,151.0,85.0,85.0,93.0,124.0,136.0,97.0,110.0,139.0,107.0,104.0,68.0,96.0,136.0,107.0,117.0,134.0,85.0,164.0,100.0,117.0,86.0,0.0,107.0,116.0,135.0,123.0,99.0,107.0,74.0,117.0,111.0,86.0,96.0,148.0,109.0,143.0,131.0,80.0,85.0,101.0,87.0,112.0,94.0,139.0,88.0,124.0,110.0,95.0,116.0,87.0,52.0,134.0,133.0,114.0,104.0,107.0,146.0,90.0,103.0,111.0,137.0,138.0,91.0,142.0,103.0,85.0,93.0,124.0,120.0,131.0,113.0,93.0,133.0,156.0,102.0,68.0,115.0,117.0,126.0,154.0,149.0,138.0,119.0,102.0,120.0,87.0,149.0,152.0,0.0,251.0,90.0,5.5,0.0,123.0,0.0,102.0,129.0,122.0,192.0,110.0,127.0,58.0,120.0,94.0,74.0,134.0,135.0,145.0,117.0,109.0,80.0,112.0,110.0,104.0,110.0,133.0,117.0,110.0,0.0,141.0,112.0,109.0,89.0,154.0,123.0,121.0,100.0,104.0,145.0,116.0,151.0,123.0,130.0,137.0,75.0,109.0,155.0,118.0,155.0,0.0,152.0,98.0,157.0,122.0,51.0,127.0,151.0,132.0,114.0,115.0,126.0,83.0,94.0,152.0,105.0,145.0,127.0,95.0,153.0,150.0,103.0,115.0,102.0,110.0,116.0,95.0,139.0,86.0,148.0,0.0,105.0,134.0,123.0,79.0,149.0,114.0,94.0,120.0,97.0,81.0,91.0,97.0,117.0,143.0,71.0,151.0,80.0,136.0,91.0,125.0,149.0,114.0,96.0,133.0,81.0,116.0,92.0,70.0,88.0,98.0,107.0,124.0,153.0,0.0,95.0,111.0,66.0,112.0,115.0,103.0,94.0,152.0,123.0,101.0,99.0,135.0,146.0,99.0,106.0,104.0,152.0,133.0,177.0,151.0,89.0,110.0,132.0,133.0,122.0,120.0,129.0,0.0,288.0,109.0,0.0,109.0,107.0,140.0,89.0,92.0,114.0,120.0,129.0,96.0,54.0,61.0,143.0,99.0,119.0,92.0,70.0,121.0,93.0,107.0,124.0,150.0,176.0,69.0,148.0,121.0,135.0,103.0,98.0,0.0,103.0,117.0,150.0,64.0,84.0,62.0,0.0,57.0,74.0,123.0,73.0,114.0,91.0,128.0,78.0,146.0,0.0,200.0,113.0,73.0,86.0,87.0,130.0,102.0,71.0,100.0,223.0,163.0,97.0,122.0,145.0,131.0,0.0,77.0,138.0,106.0,54.0,114.0,72.0,115.0,86.0,150.0,148.0,99.0,105.0,164.0,128.0,138.0,133.0,121.0,88.0,127.0,87.0,119.0,110.0,130.0,173.0,91.0,5.5,124.0,117.0,147.0,101.0,0.0,127.0,109.0,73.0,120.0,125.0,127.0,144.0,79.0,91.0,62.0,80.0,111.0,177.0,107.0,106.0,154.0,104.0,126.0,125.0,74.0,88.0,109.0,68.0,130.0,129.0,95.0,130.0,61.0,88.0,98.0,135.0,73.0,128.0,107.0,115.0,104.0,71.0,144.0,130.0,49.0,109.0,132.0,53.0,70.0,118.0,111.0,99.0,141.0,128.0,104.0,106.0,93.0,156.0,120.0,127.0,111.0,100.0,126.0,60.0,143.0,123.0,90.0,84.0,75.0,39.0,4.0,116.0,111.0,131.0,98.0,0.0,77.0,90.0,71.0,107.0,94.0,79.0,0.0,123.0,128.0,90.0,122.0,117.0,77.0,91.0,109.0,101.0,114.0,78.0,97.0,151.0,130.0,125.0,112.0,329.0,89.0,0.0,125.0,106.0,101.0,140.0,101.0,0.0,111.0,144.0,133.0,107.0,90.0,101.0,86.0,73.0,91.0,129.0,109.0,92.0,104.0,124.0,128.0,0.0,68.0,104.0,137.0,124.0,100.0,111.0,86.0,113.0,146.0,134.0,111.0,157.0,102.0,96.0,0.0,125.0,136.0,103.0,132.0,157.0,95.0,73.0,110.0,134.0,107.0,111.0,127.0,0.0,100.0,108.0,105.0,108.0,136.0,141.0,101.0,138.0,115.0,131.0,127.0,126.0,160.0,129.0,130.0,126.0,122.0,155.0,116.0,128.0,51.0,93.0,102.0,106.0,65.0,135.0,122.0,114.0,122.0,91.0,122.0,88.0,97.0,0.0,109.0,94.0,80.0,5.5,134.0,101.0,90.0,122.0,90.0,117.0,86.0,83.0,130.0,86.0,71.0,102.0,106.0,140.0,145.0,78.0,132.0,117.0,107.0,0.0,98.0,146.0,104.0,126.0,138.0,119.0,136.0,97.0,0.0,139.0,111.0,111.0,160.0,109.0,143.0,114.0,114.0,90.0,124.0,93.0,151.0,124.0,108.0,0.0,94.0,99.0,97.0,103.0,97.0,148.0,73.0,118.0,0.0,109.0,123.0,105.0,59.0,92.0,75.0,148.0,82.0,112.0,103.0,127.0,62.0,145.0,96.0,139.0,74.0,103.0,81.0,99.0,153.0,103.0,100.0,114.0,0.0,118.0,108.0,80.0,146.0,145.0,82.0,137.0,160.0,106.0,140.0,69.0,143.0,109.0,108.0,57.0,104.0,109.0,0.0,0.0,112.0,105.0,115.0,0.0,174.0,110.0,86.0,87.0,90.0,93.0,82.0,111.0,126.0,110.0,94.0,113.0,97.0,0.0,92.0,39.0,100.0,182.0,81.0,130.0,85.0,126.0,107.0,96.0,95.0,81.0,112.0,103.0,151.0,0.0,53.0,104.0,113.0,121.0,142.0,128.0,133.0,119.0,93.0,93.0,100.0,85.0,115.0,119.0,77.0,99.0,88.0,65.0],\"type\":\"box\",\"xaxis\":\"x6\",\"yaxis\":\"y6\"},{\"name\":\"TBG\",\"y\":[0.0,0.0,11.0,26.0,26.0,21.0,0.0,0.0,0.0,0.0,0.0,0.0,0.0,0.0,0.0,0.0,0.0,0.0,0.0,0.0,0.0,0.0,0.0,0.0,0.0,0.0,0.0,0.0,0.0,0.0,0.0,0.0,0.0,0.0,0.0,0.0,0.0,0.0,0.0,0.0,0.0,0.0,0.0,0.0,0.0,0.0,0.0,0.0,0.0,0.0,0.0,0.0,0.0,0.0,0.0,0.0,0.0,0.0,0.0,0.0,0.0,0.0,0.0,0.0,0.0,0.0,0.0,0.0,0.0,0.0,0.0,0.0,0.0,0.0,0.0,0.0,0.0,0.0,0.0,0.0,0.0,0.0,0.0,0.0,0.0,0.0,0.0,0.0,0.0,0.0,0.0,0.0,0.0,0.0,0.0,0.0,0.0,0.0,0.0,0.0,0.0,0.0,0.0,0.0,0.0,0.0,0.0,0.0,0.0,0.0,0.0,0.0,0.0,0.0,0.0,0.0,0.0,0.0,0.0,0.0,0.0,0.0,0.0,0.0,0.0,0.0,0.0,0.0,0.0,0.0,0.0,0.0,0.0,0.0,0.0,0.0,0.0,0.0,0.0,0.0,0.0,0.0,28.0,0.0,0.0,0.0,0.0,0.0,0.0,0.0,0.0,0.0,0.0,0.0,0.0,0.0,0.0,0.0,0.0,0.0,0.0,0.0,0.0,0.0,0.0,0.0,0.0,0.0,0.0,0.0,0.0,0.0,0.0,0.0,0.0,0.0,0.0,0.0,23.0,0.0,0.0,0.0,0.0,0.0,0.0,0.0,0.0,26.0,0.0,0.0,0.0,0.0,0.0,0.0,0.0,0.0,0.0,0.0,0.0,0.0,0.0,0.0,0.0,0.0,0.0,0.0,0.0,0.0,0.0,0.0,0.0,0.0,0.0,0.0,0.0,0.0,0.0,0.0,0.0,0.0,0.0,0.0,0.0,0.0,0.0,0.0,0.0,0.0,0.0,0.0,0.0,0.0,0.0,0.0,0.0,0.0,0.0,0.0,0.0,0.0,0.0,0.0,0.0,0.0,0.0,0.0,0.0,0.0,0.0,0.0,0.0,0.0,0.0,0.0,0.0,0.0,0.0,0.0,0.0,0.0,0.0,0.0,0.0,0.0,0.0,18.0,0.0,0.0,0.0,0.0,0.0,0.0,0.0,0.0,0.0,0.0,0.0,0.0,0.0,0.0,0.0,0.0,0.0,0.0,0.0,0.0,0.0,0.0,0.0,0.0,0.0,0.0,0.0,0.0,0.0,0.0,0.0,0.0,0.0,0.0,0.0,0.0,0.0,0.0,0.0,0.0,0.0,0.0,0.0,0.0,0.0,0.0,0.0,0.0,0.0,0.0,0.0,0.0,0.0,0.0,0.0,0.0,0.0,0.0,0.0,0.0,0.0,0.0,0.0,0.0,0.0,0.0,0.0,0.0,0.0,0.0,0.0,0.0,0.0,0.0,0.0,0.0,0.0,0.0,0.0,0.0,0.0,0.0,0.0,0.0,0.0,0.0,21.0,0.0,0.0,0.0,0.0,0.0,0.0,0.0,0.0,0.0,0.0,0.0,0.0,0.0,0.0,0.0,0.0,0.0,0.0,0.0,0.0,0.0,0.0,0.0,0.0,0.0,0.0,0.0,0.0,0.0,0.0,0.0,0.0,0.0,0.0,0.0,0.0,0.0,0.0,0.0,0.0,0.0,0.0,0.0,0.0,0.0,0.0,0.0,20.0,19.0,0.0,0.0,0.0,0.0,20.0,0.0,0.0,0.0,0.0,0.0,0.0,0.0,0.0,0.0,0.0,0.0,0.0,0.0,0.0,0.0,0.0,0.0,0.0,0.0,0.0,0.0,0.0,0.0,0.0,0.0,0.0,0.0,0.0,0.0,0.0,0.0,0.0,0.0,0.0,0.0,0.0,0.0,0.0,0.0,0.0,0.0,0.0,0.0,0.0,0.0,30.0,0.0,0.0,0.0,0.0,0.0,0.0,0.0,0.0,0.0,0.0,0.0,0.0,0.0,0.0,0.0,19.0,0.0,0.0,0.0,0.0,0.0,0.0,0.0,0.0,0.0,20.0,0.0,0.0,0.0,0.0,0.0,0.0,0.0,0.0,0.0,0.0,0.0,0.0,0.0,0.0,0.0,0.0,0.0,0.0,0.0,0.0,0.0,30.0,0.0,0.0,0.0,0.0,0.0,0.0,0.0,0.0,0.0,0.0,0.0,0.0,0.0,0.0,0.0,0.0,0.0,0.0,0.0,0.0,0.0,0.0,0.0,0.0,0.0,0.0,0.0,0.0,0.0,0.0,0.0,0.0,0.0,29.0,24.0,0.0,0.0,0.0,0.0,0.0,0.0,0.0,0.0,0.0,0.0,0.0,0.0,0.0,0.0,0.0,0.0,0.0,0.0,0.0,0.0,0.0,0.0,0.0,0.0,0.0,0.0,0.0,0.0,0.0,0.0,0.0,0.0,0.0,0.0,0.0,0.0,0.0,0.0,0.0,23.0,23.0,0.0,0.0,0.0,0.0,0.0,0.0,0.0,0.0,0.0,0.0,0.0,0.0,0.0,0.0,0.0,0.0,0.0,0.0,0.0,0.0,0.0,0.0,0.0,0.0,0.0,0.0,0.0,0.0,0.0,0.0,0.0,0.0,0.0,0.0,0.0,0.0,0.0,0.0,0.0,0.0,0.0,0.0,0.0,0.0,0.0,0.0,0.0,0.0,0.0,0.0,0.0,0.0,0.0,0.0,0.0,0.0,0.0,0.0,0.0,0.0,0.0,0.0,0.0,0.0,0.0,0.0,0.0,0.0,0.0,0.0,0.0,0.0,0.0,0.0,0.0,21.0,0.0,0.0,0.0,0.0,0.0,0.0,0.0,0.0,0.0,0.0,0.0,0.0,0.0,25.0,0.0,0.0,0.0,0.0,0.0,0.0,0.0,0.0,0.0,0.0,0.0,0.0,0.0,0.0,28.0,0.0,0.0,0.0,0.0,0.0,0.0,0.0,0.0,0.0,0.0,0.0,0.0,0.0,0.0,0.0,0.0,0.0,0.0,0.0,0.0,0.0,0.0,0.0,0.0,0.0,0.0,0.0,0.0,0.0,0.0,0.0,0.0,0.0,0.0,0.0,0.0,0.0,0.0,0.0,0.0,0.0,0.0,0.0,0.0,0.0,0.0,0.0,0.0,0.0,0.0,0.0,0.0,0.0,0.0,0.0,0.0,0.0,0.0,0.0,0.0,0.0,0.0,0.0,0.0,0.0,0.0,0.0,0.0,0.0,0.0,0.0,0.0,0.0,0.0,0.0,0.0,0.0,0.0,0.0,0.0,0.0,0.0,0.0,23.0,0.0,0.0,0.0,0.0,0.0,27.0,0.0,0.0,0.0,0.0,0.0,25.0,0.0,0.0,0.0,0.0,0.0,0.0,0.0,0.0,0.0,0.0,0.0,0.0,0.0,0.0,0.0,0.0,30.0,0.0,0.0,0.0,0.0,0.0,0.0,0.0,0.0,0.0,0.0,0.0,0.0,0.0,0.0,0.0,0.0,0.0,0.0,0.0,0.0,0.0,0.0,0.0,0.0,0.0,0.0,0.0,0.0,0.0,0.0,0.0,0.0,0.0,0.0,0.0,0.0,0.0,0.0,0.0,0.0,0.0,0.0,0.0,0.0,0.0,0.0,0.0,0.0,0.0,0.0,0.0,0.0,0.0,0.0,0.0,0.0,0.0,0.0,0.0,0.0,0.0,0.0,0.0,0.0,0.0,0.0,0.0,18.0,0.0,0.0,0.0,0.0,0.0,0.0,0.0,0.0,0.0,0.0,0.0,0.0,0.0,0.0,0.0,0.0,0.0,0.0,0.0,0.0,0.0,0.0,0.0,20.0,30.0,27.0,0.0,0.0,0.0,0.0,0.0,0.0,0.0,0.0,0.0,0.0,0.0,0.0,0.0,0.0,0.0,0.0,0.0,0.0,0.0,0.0,30.0,0.0,0.0,0.0,0.0,0.0,0.0,0.0,0.0,0.0,0.0,0.0,0.0,0.0,0.0,0.0,0.0,0.0,0.0,0.0,0.0,0.0,0.0,0.0,0.0,0.0,0.0,0.0,0.0,0.0,0.0,0.0,0.0,0.0,0.0,0.0,0.0,0.0,0.0,0.0,0.0,0.0,0.0,0.0,0.0,0.0,28.0,0.0,0.0,0.0,0.0,0.0,0.0,0.0,0.0,0.0,0.0,0.0,0.0,0.0,0.0,0.0,0.0,0.0,0.0,0.0,0.0,0.0,0.0,0.0,0.0,0.0,0.0,0.0,0.0,0.0,0.0,0.0,21.0,0.0,0.0,0.0,0.0,21.0,0.0,0.0,0.0,0.0,0.0,0.0,0.0,0.0,0.0,0.0,0.0,0.0,0.0,0.0,0.0,0.0,0.0,0.0,0.0,0.0,0.0,0.0,0.0,0.0,0.0,0.0,0.0,0.0,0.0,0.0,0.0,23.0,0.0,0.0,0.0,0.0,0.0,0.0,0.0,0.0,0.0,0.0,0.0,0.0,0.0,0.0,0.0,0.0,28.0,0.0,0.0,0.0,0.0,0.0,0.0,0.0,0.0,0.0,0.0,0.0,0.0,0.0,0.0,0.0,0.0,0.0,0.0,0.0,0.0,0.0,0.0,0.0,0.0,0.0,0.0,25.0,29.0,0.0,0.0,0.0,0.0,0.0,0.0,0.0,0.0,12.0,0.0,0.0,0.0,0.0,0.0,0.0,0.0,0.0,0.0,0.0,0.0,0.0,0.0,0.0,0.0,0.0,0.0,0.0,0.0,0.0,0.0,0.0,0.0,0.0,0.0,0.0,0.0,0.0,0.0,0.0,0.0,0.0,0.0,0.0,0.0,0.0,0.0,0.0,0.0,0.0,0.0,0.0,0.0,0.0,0.0,0.0,0.0,0.0,0.0,0.0,0.0,0.0,0.0,0.0,0.0,0.0,0.0,0.0,0.0,0.0,0.0,0.0,0.0,0.0,0.0,0.0,0.0,0.0,0.0,0.0,0.0,0.0,0.0,0.0,0.0,0.0,0.0,0.0,0.0,0.0,0.0,0.0,0.0,0.0,0.0,0.0,0.0,0.0,0.0,0.0,0.0,0.0,0.0,0.0,0.0,0.0,0.0,0.0,0.0,0.0,0.0,0.0,0.0,0.0,0.0,0.0,0.0,0.0,0.0,0.0,0.0,0.0,0.0,0.0,0.0,0.0,0.0,0.0,0.0,0.0,0.0,0.0,0.0,0.0,0.0,0.0,0.0,20.0,0.0,0.0,0.0,0.0,0.0,25.0,29.0,0.0,0.0,0.0,0.0,0.0,0.0,0.0,0.0,0.0,0.0,0.0,0.0,0.0,0.0,0.0,0.0,0.0,0.0,0.0,0.0,0.0,0.0,0.0,0.0,0.0,0.0,0.0,0.0,0.0,0.0,0.0,0.0,0.0,28.0,0.0,0.0,0.0,0.0,0.0,0.0,0.0,0.0,0.0,0.0,0.0,0.0,0.0,0.0,0.0,0.0,0.0,0.0,0.0,0.0,0.0,0.0,0.0,0.0,30.0,0.0,0.0,0.0,0.0,0.0,0.0,0.0,0.0,0.0,0.0,0.0,0.0,0.0,0.0,0.0,0.0,0.0,0.0,0.0,0.0,0.0,0.1,8.4,0.0,0.0,0.0,0.0,0.0,0.0,0.0,0.0,0.0,0.0,0.0,0.0,27.0,0.0,0.0,0.0,0.0,0.0,0.0,25.0,23.0,0.0,0.0,0.0,0.0,0.0,0.0,0.0,0.0,0.0,0.0,0.0,0.0,0.0,0.0,0.0,0.0,0.0,0.0,0.0,0.0,0.0,0.0,0.0,0.0,0.0,0.0,0.0,0.0,0.0,0.0,0.0,0.0,0.0,0.0,0.0,16.0,28.0,0.0,0.0,0.0,0.0,0.0,0.0,0.0,0.0,0.0,0.0,0.0,0.0,0.0,0.0,0.0,0.0,0.0,0.0,0.0,0.0,0.0,0.0,0.0,0.0,0.0,0.0,0.0,0.0,0.0,0.0,0.0,0.0,0.0,0.0,0.0,0.0,0.0,0.0,0.0,0.0,0.0,0.0,0.0,0.0,0.0,0.0,0.0,0.0,16.0,0.0,0.0,0.0,0.0,0.0,0.0,0.0,0.0,0.0,0.0,0.0,0.0,0.0,0.0,0.0,0.0,0.0,0.0,0.0,0.0,0.0,0.0,0.0,0.0,0.0,0.0,0.0,0.0,0.0,0.0,0.0,0.0,0.0,0.0,0.0,0.0,0.0,0.0,0.0,0.0,0.0,0.0,0.0,0.0,0.0,26.0,0.0,0.0,0.0,0.0,0.0,0.0,20.0,0.0,0.0,0.0,0.0,0.0,0.0,0.0,17.0,0.0,0.0,0.0,0.0,0.0,0.0,0.0,0.0,0.0,0.0,0.0,0.0,0.0,0.0,0.0,0.0,0.0,0.0,0.0,0.0,0.0,0.0,0.0,0.0,0.0,0.0,0.0,0.0,0.0,0.0,0.0,0.0,0.0,0.0,0.0,0.0,0.0,0.0,0.0,0.0,0.0,0.0,0.0,0.0,23.0,0.0,0.0,0.0,0.0,0.0,0.0,0.0,0.0,0.0,0.0,0.0,0.0,0.0,0.0,0.0,0.0,0.0,0.0,0.0,0.0,0.0,0.0,0.0,0.0,0.0,0.0,0.0,0.0,0.0,0.0,0.0,0.0,0.0,0.0,0.0,0.0,0.0,0.0,0.0,0.0,0.0,0.0,0.0,0.0,0.0,0.0,0.0,0.0,0.0,3.1,0.0,0.0,0.0,0.0,0.0,0.0,0.0,0.0,0.0,0.0,0.0,0.0,22.0,29.0,0.0,0.0,0.0,0.0,0.0,0.0,0.0,0.0,0.0,0.0,0.0,30.0,0.0,0.0,0.0,0.0,0.0,0.0,0.0,0.0,0.0,0.0,0.0,0.0,0.0,0.0,0.0,0.0,0.0,0.0,0.0,0.0,0.0,0.0,0.0,0.0,0.0,0.0,0.0,0.0,0.0,0.0,0.0,0.0,0.0,0.0,0.0,20.0,0.0,0.0,0.0,0.0,0.0,0.0,0.0,0.0,0.0,0.0,0.0,0.0,0.0,0.0,0.0,0.0,0.0,0.0,0.0,0.0,0.0,0.0,0.0,0.0,0.0,0.0,0.0,0.0,0.0,0.0,0.0,0.0,0.0,0.0,0.0,23.0,17.0,17.0,23.0,0.0,0.0,0.0,0.0,0.0,0.0,0.0,0.0,0.0,0.0,0.0,0.0,0.0,0.0,0.0,0.0,0.0,0.0,0.0,0.0,0.0,0.0,0.0,0.0,0.0,0.0,0.0,0.0,19.0,0.0,0.0,0.0,0.0,0.0,0.0,0.0,0.0,0.0,0.0,0.0,0.0,0.0,0.0,0.0,0.0,0.0,25.0,24.0,30.0,0.0,0.0,0.0,0.0,0.0,0.0,0.0,0.0,22.0,0.0,0.0,0.0,0.0,0.0,0.0,0.0,0.0,0.0,0.0,0.0,0.0,0.0,0.0,0.0,0.0,0.0,0.0,0.0,0.0,0.0,0.0,0.0,0.0,0.0,0.0,0.0,0.0,0.0,0.0,0.0,0.0,0.0,0.0,0.0,0.0,23.0,0.0,0.0,0.0,0.0,0.0,0.0,0.0,24.0,0.0,0.0,0.0,0.0,0.0,0.0,0.0,0.0,0.0,0.0,0.0,27.0,0.0,0.0,0.0,0.0,0.0,0.0,0.0,0.0,0.0,0.0,0.0,0.0,0.0,0.0,27.0,0.0,0.0,0.0,0.0,0.0,0.0,0.0,0.0,0.0,0.0,0.0,27.0,0.0,0.0,0.0,0.0,23.0,26.0,0.0,0.0,20.0,20.0,23.0,18.0,0.0,0.0,0.0,0.0,0.0,0.0,0.0,0.0,0.0,0.0,0.0,0.0,0.0,0.0,0.0,0.0,0.0,0.0,0.0,0.0,0.0,0.0,0.0,0.0,22.0,28.0,24.0,0.0,0.0,23.0,0.0,0.0,0.0,0.0,0.0,0.0,0.0,0.0,0.0,0.0,0.0,0.0,0.0,0.0,0.0,0.0,0.0,0.0,0.0,0.0,0.0,0.0,0.0,0.0,0.0,0.0,0.0,0.0,0.0,0.0,0.0,0.0,0.0,0.0,0.0,0.0,0.0,0.0,0.0,0.0,0.0,0.0,0.0,0.0,0.0,0.0,0.0,0.0,0.0,30.0,24.0,22.0,0.0,0.0,0.0,0.0,0.0,0.0,26.0,0.0,0.0,0.0,0.0,0.0,0.0,0.0,0.0,0.0,8.799999,24.0,0.0,24.0,30.0,19.0,0.0,0.0,0.0,0.0,0.0,0.0,0.0,0.0,0.0,0.0,0.0,0.0,0.0,0.0,0.0,0.0,0.0,0.0,0.0,0.0,0.0,0.0,0.0,0.0,0.0,0.0,0.0,0.0,0.0,0.0,0.0,27.0,16.0,0.0,0.0,0.0,0.0,0.0,0.0,0.0,29.0,0.0,0.0,0.0,0.0,0.0,0.0,0.0,0.0,0.0,0.0,0.0,0.0,0.0,0.0,0.0,0.0,0.0,0.0,0.0,0.0,0.0,0.0,24.0,0.0,24.0,0.0,0.0,0.0,24.0,0.0,0.0,0.0,0.0,0.0,0.0,0.0,0.0,0.0,0.0,0.0,0.0,0.0,0.0,0.0,0.0,0.0,0.0,0.0,0.0,0.0,0.0,0.0,0.0,0.0,0.0,0.0,0.0,0.0,0.0,0.0,0.0,0.0,0.0,0.0,0.0,0.0,0.0,0.0,0.0,0.0,0.0,0.0,21.0,0.0,0.0,29.0,0.0,0.0,0.0,0.0,0.0,0.0,0.0,0.0,0.0,0.0,0.0,0.0,0.0,0.0,0.0,0.0,0.0,0.0,0.0,0.0,0.0,0.0,0.0,0.0,0.0,0.0,0.0,0.0,0.0,0.0,0.0,0.0,0.0,18.0,0.0,0.0,0.0,0.0,0.0,0.0,0.0,0.0,0.0,0.0,0.0,0.0,0.0,0.0,0.0,0.0,0.0,0.0,0.0,0.0,0.0,0.0,0.0,22.0,0.0,0.0,0.0,0.0,0.0,0.0,28.0,19.0,20.0,0.0,0.0,0.0,0.0,0.0,0.0,0.0,0.0,0.0,0.0,0.0,0.0,0.0,0.0,0.0,0.0,0.0,0.0,0.0,22.0,29.0,0.0,0.0,30.0,0.0,0.0,0.0,0.0,0.0,0.0,0.0,0.0,0.0,0.0,0.0,15.0,0.0,0.0,0.0,0.0,0.0,0.0,0.0,0.0,0.0,0.0,0.0,0.0,0.0,0.0,0.0,0.0,0.0,0.0,0.0,0.0,0.0,0.0,0.0,0.0,0.0,0.0,0.0,0.0,0.0,0.0,0.0,0.0,0.0,0.0,0.0,0.0,0.0,0.0,0.0,0.0,0.0,0.0,0.0,0.0,0.0,0.0,0.0,27.0,0.0,0.0,0.0,0.0,0.0,0.0,0.0,0.0,0.0,0.0,0.0,0.0,0.0,25.0,0.0,0.0,0.0,0.0,0.0,0.0,0.0,0.0,0.0,0.0,0.0,0.0,0.0,0.0,0.0,0.0,0.0,0.0,0.0,0.0,0.0,0.0,0.0,0.0,0.0,22.0,0.0,0.0,0.0,14.0,0.0,0.0,0.0,0.0,0.0,0.0,0.0,0.0,0.0,0.0,0.0,0.0,0.0,0.0,0.0,0.0,0.0,0.0,0.0,0.0,0.0,0.0,0.0,0.0,0.0,0.0,0.0,0.0,0.0,0.0,25.0,0.0,0.0,0.0,0.0,0.0,0.0,0.0,0.0,0.0,0.0,0.0,0.0,0.0,0.0,0.0,0.0,27.0,0.0,0.0,0.0,0.0,0.0,0.0,0.0,0.0,0.0,0.0,0.0,0.0,0.0,0.0,0.0,19.0,0.0,0.0,0.0,0.0,0.0,0.0,0.0,0.0,0.0,0.0,0.0,0.0,0.0,0.0,0.0,0.0,0.0,0.0,0.0,0.0,0.0,0.0,0.0,0.0,0.0,0.0,0.0,0.0,0.0,0.0,0.0,0.0,0.0,17.0,0.0,0.0,0.0,0.0,0.0,0.0,0.0,0.0,0.0,0.0,0.0,0.0,0.0,0.0,0.0,14.0,0.0,0.0,0.0,0.0,0.0,0.0,14.0,0.0,0.0,0.0,0.0,0.0,0.0,25.0,0.0,0.0,27.0,0.0,0.0,0.0,0.0,0.0,0.0,0.0,0.0,0.0,0.0,0.0,0.0,0.0,0.0,20.0,0.0,0.0,0.0,0.0,0.0,18.0,21.0,0.0,0.0,0.0,0.0,0.0,0.0,0.0,11.0,0.0,0.0,0.0,0.0,0.0,0.0,0.0,0.0,0.0,0.0,0.0,0.0,0.0,0.0,0.0,0.0,0.0,0.0,0.0,0.0,0.0,0.0,0.0,0.0,0.0,0.0,0.0,0.0,0.0,0.0,0.0,0.0,0.0,0.0,0.0,0.0,0.0,0.0,0.0,0.0,22.0,18.0,26.0,0.0,0.0,0.0,0.0,0.0,0.0,0.0,0.0,0.0,0.0,0.0,0.0,0.0,0.0,0.0,0.0,0.0,0.0,0.0,0.0,0.0,0.0,0.0,0.0,0.0,0.0,0.0,0.0,0.0,0.0,0.0,0.0,0.0,0.0,0.0,0.0,0.0,0.0,0.0,0.0,0.0,0.0,0.0,0.0,0.0,0.0,0.0,0.0,0.0,0.0,0.0,0.0,0.0,0.0,0.0,0.0,0.0,0.0,0.0,0.0,0.0,0.0,0.0,0.0,0.0,0.0,0.0,0.0,0.0,0.0,0.0,0.0,0.0,19.0,29.0,0.0,0.0,0.0,0.0,0.0,0.0,0.0,0.0,0.0,0.0,0.0,0.0,0.0,20.0,24.0,21.0,0.0,0.0,0.0,0.0,0.0,0.0,0.0,0.0,0.0,0.0,0.0,0.0,0.0,0.0,0.0,0.0,0.0,0.0,0.0,0.0,0.0,0.0,0.0,0.0,0.0,0.0,0.0,0.0,0.0,0.0,0.0,9.599999,0.0,0.0,0.0,0.0,0.0,0.0,0.0,0.0,0.0,0.0,0.0,0.0,0.0,0.0,0.0,0.0,0.0,0.0,0.0,0.0,0.0,0.0,0.0,0.0,0.0,0.0,0.0,0.0,0.0,0.0,0.0,0.0,0.0,0.0,0.0,0.0,0.0,0.0,0.0,0.0,0.0,0.0,0.0,0.0,0.0,0.0,0.0,0.0,17.0,28.0,0.0,0.0,0.0,0.0,0.0,0.0,0.0,0.0,0.0,0.0,0.0,24.0,0.0,0.0,0.0,0.0,0.0,0.0,0.0,0.0,0.0,0.0,0.0,0.0,0.0,0.0,0.0,0.0,0.0,0.0,0.0,0.0,0.0,0.0,0.0,0.0,0.0,0.0,0.0,0.0,0.0,0.0,0.0,0.0,0.0,0.0,0.0,0.0,0.0,0.0,0.0,0.0,0.0,0.0,0.0,0.0,0.0,18.0,20.0,0.0,0.0,0.0,0.0,0.15,0.0,0.0,0.0,0.0,0.0,0.0,0.0,0.0,0.0,0.0,0.0,0.0,0.0,0.0,0.0,0.0,0.0,0.0,0.0,28.0,0.0,0.0,0.0,0.0,0.0,0.0,0.0,0.0,0.0,0.0,0.0,0.0,0.0,0.0,0.0,0.0,0.0,0.0,0.0,0.0,0.0,0.0,0.0,0.0,0.0,0.0,0.0,0.0,0.0,0.0,0.0,0.0,0.0,0.0,0.0,28.0,0.0,0.0,0.0,0.0,0.0,0.0,0.0,0.0,0.0,0.0,0.0,0.0,0.0,0.0,0.0,0.0,0.0,0.0,0.0,0.0,0.0,0.0,0.0,0.0,0.0,0.0,0.0,0.0,0.0,0.0,0.0,0.0,0.0,0.0,0.0,0.0,0.0,0.0,0.0,0.0,0.0,0.0,0.0,0.0,0.0,0.0,0.0,0.0,0.0,0.0,0.0,0.0,0.0,0.0,0.0,0.0,0.0,0.0,18.0,15.0,21.0,0.0,0.0,0.0,0.0,0.0,0.0,0.0,0.0,0.0,0.0,0.0,0.0,0.0,0.0,0.0,0.0,0.0,0.0,0.0,0.0,0.0,0.0,0.0,0.0,0.0,0.0,0.0,0.0,0.0,0.0,0.0,0.0,0.0,0.0,0.0,0.0,0.0,0.0,0.0,0.0,0.0,0.0,0.0,0.0,0.0,0.0,0.0,0.0,0.0,0.0,0.0,0.0,0.0,0.0,0.0,0.0,24.0,22.0,24.0,29.0,0.0,0.0,0.0,0.0,0.0,0.0,0.0,0.0,0.0,0.0,0.0,0.0,0.0,0.0,0.0,0.0,24.0,0.0,0.0,0.0,0.0,0.0,0.0,0.0,0.0,0.0,11.0,0.0,0.0,0.0,0.0,0.0,0.0,0.0,0.0,0.0,0.0,19.0,0.0,0.0,0.0,0.0,0.0,0.0,0.0,0.0,0.0,0.0,0.0,0.0,0.0,0.0,0.0,0.0,0.0,0.0,0.0,0.0,0.0,0.0,0.0,0.0,0.0,19.0,28.0,27.0,27.0,0.0,0.0,0.0,0.0,0.0,0.0,0.0,0.0,0.0,0.0,0.0,0.0,0.0,0.0,0.0,0.0,0.0,0.0,0.0,0.0,0.0,0.0,0.0,0.0,0.0,0.0,0.0,0.0,0.0,0.0,0.0,0.0,0.0,0.0,0.0,0.0,0.0,0.0,0.0,0.0,0.0,16.0,0.0,0.0,0.0,0.0,0.0,0.0,0.0,0.0,0.0,0.0,0.0,0.0,0.0,0.0,0.0,0.0,0.0,0.0,0.0,0.0,0.0,0.0,0.0,0.0,0.0,0.0,0.0,0.0,0.0,0.0,0.0,0.0,0.0,0.0,0.0,0.0,0.0,0.0,0.0,0.0,0.0,0.0,0.0,0.0,0.0,0.0,0.0,0.0,0.0,0.0,0.0,0.0,0.0,0.0,0.0,0.0,0.0,0.0,0.0,0.0,0.0,0.0,0.0,0.0,0.0,0.0,0.0,0.0,0.0,0.0,0.0,0.0,0.0,0.0,0.0,0.0,0.0,0.0,0.0,0.0,0.0,0.0,0.0,0.0,0.0,0.0,0.0,0.0,0.0,0.0,0.0,0.0,0.0,0.0,0.0,0.0,0.0,0.0,0.0,0.0,0.0,0.0,0.0,0.0,0.0,0.0,0.0,0.0,0.0,0.0,0.0,0.0,0.0,0.0,0.0,0.0,14.0,0.0,0.0,0.0,0.0,0.0,0.0,0.0,0.0,0.0,0.0,0.0,0.0,0.0,0.0,0.0,0.0,0.0,0.0,0.0,0.0,0.0,0.0,0.0,0.0,0.0,0.0,13.0,0.0,0.0,0.0,0.0,0.0,0.0,0.0,0.0,0.0,0.0,0.0,0.0,0.0,0.0,0.0,0.0,0.0,27.0,0.0,0.0,0.0,0.0,0.0,0.0,0.0,0.0,0.0,0.0,0.0,0.0,0.0,0.0,0.0,0.0,0.0,0.0,0.0,0.0,0.0,0.0,0.0,0.0,23.0,0.0,0.0,0.0,0.0,0.0,0.0,0.0,0.0,0.0,0.0,0.0,0.0,0.0,0.0,0.0,0.0,0.0,0.0,0.0,0.0,0.0,0.0,0.0,0.0,0.0,0.0,0.0,0.0,0.0,0.0,0.0,0.0,0.0,0.0,0.0,0.0,0.0,0.0,0.0,0.0,0.0,0.0,0.0,0.0,0.0,0.0,0.0,27.0,0.0,0.0,0.0,0.0,0.0,0.0,0.0,0.0,0.0,0.0,0.0,0.0,0.0,0.0,0.0,0.0,0.0,0.0,0.0,0.0,0.0,0.0,0.0,0.0,0.0,0.0,0.0,0.0,0.0,0.0,0.0,0.0,0.0,0.0,0.0,0.0,0.0,0.0,0.0,0.0,0.0,0.0,0.0,0.0,0.0,0.0,0.0,0.0,0.0,0.0,0.0,0.0,0.0,0.0,0.0,0.0,0.0,0.0,0.0,0.0,0.0,0.0,0.0,0.0,0.0,0.0,29.0,0.0,12.0,27.0,0.0,0.0,0.0,0.0,0.0,0.0,0.0,0.0,22.0,0.0,0.0,0.0,0.0,0.0,0.0,0.0,0.0,0.0,0.0,0.0,0.0,0.0,0.0,0.0,0.0,0.0,0.0,0.0,0.0,0.0,0.0,0.0,0.0,0.0,0.0,0.0,0.0,0.0,0.0,0.0,0.0,0.0,0.0,0.0,0.0,0.0,0.0,0.0,0.0,0.0,0.0,0.0,0.0,0.0,0.0,0.0,0.0,0.0,0.0,0.0,0.0,0.0,0.0,0.0,0.0,0.0,0.0,0.0,0.0,0.0,0.0,0.0,0.0,0.0,0.0,0.0,0.0,0.0,0.0,0.0,0.0,0.0,0.0,0.0,0.0,0.0,0.0,0.0,18.0,0.0,0.0,0.0,0.0,0.0,0.0,0.0,0.0,0.0,0.0,0.0,0.0,0.0,0.0,0.0,0.0,0.0,0.0,0.0,0.0,0.0,0.0,0.0,0.0,0.0,0.0,0.0,0.0,0.0,0.0,0.0,0.0,0.0,0.0,0.0,0.0,0.0,0.0,0.0,0.0,0.0,0.0,0.0,0.0,0.0,0.0,0.0,0.0,0.0,0.0,0.0,0.0,0.0,0.0,0.0,0.0,0.0,0.0,0.0,0.0,0.0,0.0,0.0,0.0,0.0,0.0,0.0,0.0,0.0,0.0,0.0,0.0,0.0,0.0,0.0,0.0,0.0,0.0,0.0,0.0,0.0,20.0,20.0,0.0,0.0,0.0,0.0,0.0,0.0,0.0,0.0,0.0,0.0,0.0,0.0,0.0,0.0,0.0,0.0,0.0,0.0,0.0,0.0,0.0,0.0,0.0,0.0,0.0,0.0,0.0,0.0,0.0,0.0,0.0,0.0,0.0,0.0,0.0,0.0,0.0,0.0,0.0,0.0,0.0,0.0,0.0,0.0,0.0,0.0,0.0,0.0,0.0,0.0,0.0,0.0,0.0,0.0,0.0,0.0,0.0,0.0,0.0,0.0,0.0,0.0,0.0,0.0,0.0,0.0,0.0,0.0,0.0,0.0,0.0,0.0,0.0,0.0,0.0,0.0,0.0,0.0,0.0,0.0,0.0,0.0,0.0,0.0,0.0,0.0,0.0,0.0,0.0,0.0,0.0,0.0,0.0,0.0,0.0,0.0,0.0,0.0,0.0,0.0,0.0,0.0,0.0,0.0,0.0,0.0,0.0,0.0,0.0,0.0,0.0,0.0,0.0,0.0,0.0,0.0,20.0,0.0,0.0,0.0,0.0,0.0,0.0,0.0,0.0,0.0,0.0,0.0,0.0,0.0,0.0,0.0,0.0,0.0,0.0,0.0,0.0,0.0,0.0,0.0,0.0,0.0,0.0,0.0,0.0,0.0,0.0,0.0,0.0,0.0,0.0,0.0,0.0,0.0,0.0,0.0,0.0,0.0,0.0,0.0,0.0,0.0,0.0,0.0,0.0,0.0,0.0,0.0,0.0,0.0,0.0,0.0,0.0,0.0,0.0,0.0,0.0,0.0,0.0,0.0,0.0,17.0,0.0,0.0,0.0,0.0,0.0,0.0,0.0,0.0,0.0,0.0,0.0,0.0,0.0,0.0,0.0,0.0,0.0,0.0,0.0,0.0,0.0,0.0,0.0,0.0,0.0,0.0,0.0,0.0,0.0,0.0,0.0,0.0,0.0,0.0,0.0,0.0,0.0,0.0,0.0,0.0,0.0,24.0,0.0,0.0,0.0,0.0,0.0,0.0,0.0,0.0,0.0,0.0,0.0,0.0,0.0,0.0,0.0,0.0,0.0,0.0,0.0,0.0,0.0,0.0,0.0,0.0,0.0,0.0,0.0,0.0,0.0,0.0,0.0,0.0,0.0,0.0,0.0,0.0,0.0,0.0,0.0,0.0,0.0,0.0,0.0,0.0,0.0,0.0,0.0,0.0,0.0,0.0,0.0,0.0,0.0,0.0,0.0,0.0,0.0,0.0,0.0,0.0,0.0,0.0,0.0,0.0,0.0,0.0,0.0,0.0,0.0,0.0,0.0,20.0,0.0,0.0,0.0,0.0,0.0,0.0,0.0,0.0,0.0,0.0,0.0,0.0,0.0,0.0,0.0,0.0,0.0,0.0,0.0,0.0,0.0,0.0,0.0,0.0,0.0,0.0,0.0,0.0,0.0,0.0,0.0,0.0,0.0,0.0,0.0,13.0,0.0,0.0,0.0,0.0,0.0,0.0,0.0,0.0,0.0,0.0,0.0,0.0,0.0,0.0,0.0,0.0,0.0,28.0,0.0,0.0,0.0,0.0,0.0,0.0,0.0,0.0,0.0,0.0,0.0,0.0,0.0,0.0,0.0,0.0,0.0,0.0,0.0,0.0,0.0,0.0,0.0,0.0,0.0,0.0,0.0,0.0,0.0,0.0,0.0,0.0,0.0,0.0,0.0,0.0,0.0,0.0,0.0,0.0,0.0,0.0,0.0,0.0,0.0,0.0,0.0,0.0,0.0,0.0,0.0,0.0,0.0,0.0,0.0,0.0,0.0,0.0,0.0,0.0,0.0,0.0,0.0,0.0,0.0,0.0,0.0,0.0,0.0,0.0,0.0,0.0,0.0,0.0,0.0,0.0,0.0,0.0,0.0,0.0,0.0,0.0,0.0,28.0,0.0,0.0,0.0,0.0,0.0,0.0,0.0,0.0,0.0,0.0,0.0,0.0,0.0,0.0,0.0,0.0,0.0,0.0,0.0,0.0,0.0,0.0,0.0,0.0,0.0,0.0,0.0,0.0,0.0,0.0,0.0,0.0,0.0,0.0,0.0,0.0,0.0,0.0,0.0,0.0,0.0,0.0,0.0,0.0,0.0,0.0,0.0,0.0,0.0,0.0,0.0,0.0,0.0,0.0,0.0,0.0,0.0,0.0,0.0,0.0,0.0,0.0,0.0,0.0,21.0,0.0,0.0,0.0,0.0,0.0,0.0,0.0,0.0,0.0,0.0,0.0,0.0,0.0,25.0,0.0,0.0,0.0,0.0,0.0,0.0,0.0,0.0,0.0,0.0,0.0,0.0,0.0,0.0,0.0,0.0,0.0,0.0,0.0,0.0,0.0,0.0,0.0,0.0,0.0,0.0,0.0,0.0,0.0,0.0,0.0,0.0,0.0,0.0,0.0,0.0,0.0,0.0,0.0,0.0,0.0,0.0,0.0,0.0,0.0,0.0,0.0,0.0,0.0,0.0,0.0,0.0,0.0,0.0,0.0,0.0,0.0,0.0,0.0,0.0,0.0,0.0,0.0,0.0,24.0,0.0,0.0,0.0,0.0,0.0,0.0,0.0,0.0,0.0,0.0,0.0,0.0,0.0,0.0,0.0,0.0,0.0,0.0,0.0,0.0,0.0,0.0,0.0,0.0,0.0,0.0,0.0,0.0,0.0,0.0,0.0,0.0,0.0,0.0,0.0,0.0,0.0,0.0,0.0,0.0,0.0,0.0,0.0,0.0,0.0,0.0,0.0,0.0,0.0,0.0,0.0,0.0,0.0,0.0,0.0,0.0,0.0,0.0,0.0,0.0,0.0,0.0,0.0,0.0,0.0,0.0,0.0,0.0,0.0,0.0,0.0,0.0,0.0,0.0,0.0,0.0,0.0,0.0,0.0,0.0,0.0,0.0,0.0,0.0,0.0,0.0,0.0,0.0,0.0,0.0,0.0,0.0,0.0,0.0,0.0,0.0,0.0,0.0,0.0,0.0,0.0,0.0,0.0,0.0,0.0,0.0,0.0,0.0,0.0,0.0,0.0,0.0,0.0,0.0,0.0,0.0,0.0,0.0,0.0,0.0,0.0,0.0,0.0,0.0,0.0,0.0,0.0,0.0,0.0,0.0,0.0,0.0,0.0,0.0,0.0,0.0,0.0,0.0,0.0,0.0,0.0,0.0,0.0,0.0,0.0,0.0,0.0,0.0,0.0,0.0,0.0,27.0,0.0,0.0,0.0,0.0,0.0,0.0,0.0,0.0,0.0,0.0,0.0,0.0,0.0,0.0,0.0,0.0,0.0,0.0,0.0,0.0,0.0,0.0,0.0,0.0,0.0,0.0,0.0,0.0,0.0,0.0,0.0,0.0,0.0,0.0,0.0,0.0,0.0,0.0,0.0,0.0,0.0,0.0,0.0,0.0,0.0,0.0,0.0,0.0,0.0,0.0,0.0,0.0,0.0,0.0,0.0,0.0,0.0,0.0,0.0,0.0,0.0,0.0,0.0,0.0,0.0,0.0,0.0,0.0,0.0,0.0,0.0,0.0,0.0,0.0,0.0,0.0,0.0,0.0,0.0,0.0,0.0,0.0,0.0,0.0,0.0,0.0,0.0,0.0,0.0,0.0,0.0,0.0,0.0,0.0,0.0,0.0,0.0,0.0,0.0,0.0,0.0,0.0,0.0,0.0,0.0,0.0,0.0,0.0,0.0,0.0,0.0,0.0,0.0,0.0,0.0,0.0,0.0,0.0,0.0,0.0,0.0,0.0,0.0,0.0,0.0,0.0,0.0,0.0,0.0,0.0,0.0,0.0,0.0,0.0,0.0,0.0,0.0,0.0,0.0,0.0,0.0,0.0,0.0,0.0,0.0,0.0,0.0,0.0,0.0,0.0,0.0,0.0,0.0,0.0,0.0,0.0,0.0,0.0,0.0,0.0,0.0,0.0,0.0,0.0,0.0,0.0,0.0,0.0,0.0,0.0,0.0,0.0,0.0,0.0,0.0,0.0,0.0,37.0,0.0,0.0,0.0,0.0,0.0,0.0,0.0,0.0,0.0,0.0,0.0,0.0,0.0,0.0,0.0,0.0,0.0,0.0,0.0,0.0,0.0,0.0,0.0,0.0,0.0,0.0,0.0,0.0,0.0,0.0,0.0,0.0,0.0,0.0,0.0,0.0,0.0,0.0,0.0,0.0,0.0,0.0,0.0,0.0,0.0,0.0,0.0,0.0,0.0,0.0,0.0,0.0,0.0,0.0,0.0,0.0,0.0,0.0,0.0,24.0,0.0,0.0,0.0,0.0,0.0,0.0,0.0,0.0,0.0,0.0,0.0,0.0,0.0,0.0,0.0,0.0,0.0,0.0,0.0,0.0,0.0,0.0,0.0,0.0,0.0,0.0,0.0,0.0,0.0,0.0,18.0,0.0,0.0,0.0,0.0,0.0,0.0,0.0,0.0,0.0,0.0,0.0,0.0,0.0,0.0,0.0,0.0,0.0,0.0,0.0,0.0,0.0,0.0,0.0,0.0,0.0,0.0,0.0,0.0,0.0,0.0,0.0,0.0,0.0,0.0,0.0,0.0,0.0,0.0,0.0,0.0,0.0,0.0,0.0,0.0,0.0,0.0,0.0,0.0,0.0,0.0,0.0,0.0,0.0,0.0,0.0,0.0,0.0,0.0,0.0,0.0,0.0,0.0,0.0,0.0,0.0,0.0,0.0,0.0,0.0,0.0,0.0,0.0,0.0,0.0,0.0,0.0,0.0,0.0,0.0,0.0,0.0,0.0,0.0,0.0,0.0,0.0,0.0,0.0,23.0,0.0,0.0,0.0,0.0,0.0,0.0,0.0,0.0,0.0,0.0,0.0,0.0,0.0,0.0,0.0,0.0,0.0,0.0,0.0,0.0,0.0,0.0,0.0,0.0,0.0,0.0,0.0,0.0,0.0,0.0,0.0,0.0,0.0,0.0,0.0,0.0,0.0,0.0,0.0,0.0,0.0,0.0,0.0,0.0,0.0,0.0,0.0,0.0,0.0,0.0,0.0,0.0,0.0,0.0,0.0,0.0,0.0,0.0,0.0,0.0,0.0,0.0,0.0,0.0,0.0,0.0,0.0,0.0,0.0,0.0,0.0,0.0,0.0,0.0,0.0,0.0,0.0,0.0,0.0,0.0,0.0,0.0,0.0,0.0,0.0,0.0,0.0,0.0,0.0,0.0,0.0,0.0,0.0,0.0,0.0,0.0,0.0,0.0,0.0,0.0,0.0,0.0,0.0,0.0,0.0,0.0,0.0,0.0,0.0,0.0,0.0,0.0,0.0,0.0,0.0,0.0,0.0,0.0,0.0,0.0,0.0,0.0,0.0,0.0,0.0,0.0,0.0,0.0,0.0,0.0,0.0,0.0,0.0,0.0,0.0,0.0,0.0,0.0,0.0,0.0,0.0,0.0,0.0,0.0,0.0,0.0,0.0,0.0,0.0,0.0,0.0,0.0,0.0,0.0,0.0,0.0,0.0,0.0,0.0,0.0,0.0,0.0,0.0,0.0,0.0,0.0,0.0,0.0,0.0,0.0,0.0,0.0,0.0,0.0,0.0,0.0,0.0,0.0,0.0,0.0,0.0,0.0,0.0,0.0,0.0,0.0,0.0,0.0,0.0,0.0,0.0,0.0,0.0,0.0,0.0,0.0,0.0,0.0,0.0,0.0,0.0,0.0,0.0,0.0,0.0,0.0,0.0,0.0,0.0,0.0,0.0,0.0,0.0,0.0,0.0,0.0,0.0,0.0,0.0,0.0,0.0,0.0,0.0,0.0,0.0,0.0,0.0,0.0,0.0,0.0,0.0,0.0,0.0,0.0,0.0,22.0,0.0,0.0,0.0,0.0,0.0,0.0,0.0,0.0,0.0,0.0,0.0,0.0,0.0,0.0,0.0,0.0,0.0,0.0,0.0,0.0,0.0,0.0,0.0,0.0,0.0,0.0,0.0,0.0,0.0,0.0,0.0,0.0,0.0,0.0,0.0,0.0,0.0,0.0,0.0,0.0,18.0,0.0,0.0,0.0,0.0,0.0,0.0,0.0,0.0,0.0,0.0,0.0,0.0,0.0,0.0,0.0,0.0,0.0,0.0,0.0,0.0,0.0,0.0,0.0,0.0,0.0,0.0,0.0,0.0,30.0,0.0,0.0,0.0,0.0,0.0,0.0,0.0,0.0,0.0,0.0,0.0,0.0,0.0,0.0,0.0,0.0,0.0,0.0,0.0,0.0,0.0,0.0,0.0,0.0,0.0,0.0,0.0,0.0,0.0,0.0,0.0,0.0,0.0,0.0,0.0,0.0,0.0,0.0,0.0,0.0,0.0,0.0,0.0,0.0,0.0,0.0,0.0,23.0,0.0,0.0,0.0,0.0,0.0,0.0,0.0,0.0,0.0,0.0,0.0,0.0,0.0,0.0,0.0,0.0,0.0,0.0,0.0,0.0,0.0,0.0,0.0,0.0,24.0,0.0,0.0,0.0,0.0,0.0,0.0,0.0,0.0,0.0,0.0,0.0,0.0,0.0,0.0,0.0,0.0,0.0,0.0,0.0,0.0,0.0,0.0,0.0,0.0,0.0,0.0,0.0,0.0,0.0,0.0,0.0,0.0,0.0,0.0,0.0,0.0,0.0,0.0,0.0,0.0,0.0,4.9,0.0,0.0,0.0,0.0,0.0,0.0,0.0,0.0,0.0,0.0,0.0,0.0,0.0,0.0,0.0,0.0,0.0,0.0,0.0,0.0,0.0,0.0,0.0,0.0,0.0,0.0,0.0,0.0,0.0,0.0,0.0,0.0,0.0,0.0,0.0,0.0,45.0,24.0,0.0,0.0,0.0,0.0,0.0,0.0,0.0,0.0,0.0,0.0,0.0,0.0,0.0,0.0,0.0,0.0,0.0,0.0,0.0,0.0,0.0,0.0,0.0,0.0,0.0,0.0,0.0,0.0,0.0,0.0,0.0,0.0,0.0,0.0,0.0,0.0,0.0,0.0,0.0,0.0,0.0,0.0,0.0,0.0,0.0,0.0,0.0,0.0,0.0,0.0,0.0,0.0,0.0,0.0,0.0,0.0,0.0,0.0,0.0,0.0,0.0,0.0,0.0,29.0,0.0,0.0,0.0,0.0,0.0,0.0,0.0,0.0,0.0,0.0,0.0,0.0,0.0,0.0,0.0,0.0,0.0,0.0,0.0,0.0,0.0,0.0,0.0,0.0,0.0,0.0,0.0,0.0,0.0,0.0,0.0,0.0,0.0,0.0,0.0,0.0,0.0,0.0,0.0,0.0,0.0,0.0,0.0,0.0,0.0,0.0,0.0,0.0,0.0,0.0,0.0,0.0,0.0,0.0,0.0,0.0,0.0,0.0,0.0,0.0,0.0,0.0,19.0,0.0,0.0,0.0,27.0,23.0,0.0,0.0,0.0,0.0,0.0,0.0,0.0,0.0,0.0,0.0,0.0,0.0,0.0,0.0,0.0,0.0,0.0,0.0,0.0,0.0,0.0,0.0,0.0,0.0,0.0,0.0,0.0,0.0,0.0,0.0,0.0,0.0,0.0,0.0,0.0,0.0,0.0,0.0,0.0,0.0,0.0,0.0,0.0,0.0,0.0,0.0,0.0,0.0,0.0,0.0,0.0,0.0,0.0,0.0,0.0,0.0,0.0,0.0,29.0,0.0,0.0,21.0,0.0,0.0,0.0,0.0,0.0,0.0,0.0,0.0,0.0,0.0,0.0,0.0,0.0,0.0,0.0,0.0,0.0,9.299999,0.0,0.0,0.0,0.0,0.0,27.0,0.0,0.0,0.0,0.0,0.0,0.0,0.0,0.0,0.0,0.0,0.0,0.0,0.0,0.0,0.0,0.0,17.0,0.0,0.0,0.0,27.0,0.0,0.0,0.0,0.0,0.0,0.0,0.0,0.0,0.0,0.0,0.0,0.0,0.0,0.0,0.0,0.0,0.0,0.0,0.0,0.0,0.0,0.0,0.0,0.0,0.0,0.0,0.0,0.0,0.0,0.0,0.0,0.0,0.0,0.0,0.0,0.0,0.0,0.0,0.0,0.0,0.0,0.0,0.0,0.0,0.0,0.0,0.0,0.0,0.0,0.0,0.0,0.0,0.0,0.0,0.0,0.0,0.0,0.0,0.0,0.0,0.0,0.0,0.0,0.0,0.0,0.0,0.0,0.0,0.0,0.0,0.0,0.0,0.0,0.0,0.0,0.0,0.0,0.0,0.0,0.0,0.0,26.0,0.0,0.0,0.0,0.0,0.0,0.0,0.0,0.0,0.0,0.0,0.0,0.0,0.0,0.0,0.0,21.0,0.0,0.0,0.0,0.0,0.0,0.0,0.0,0.0,0.0,0.0,0.0,0.0,0.0,0.0,0.0,0.0,0.0,24.0,0.0,0.0,0.0,0.0,0.0,0.0,0.0,0.0,0.0,0.0,0.0,0.0,0.0,0.0,0.0,0.0,0.0,0.0,0.0,0.0,0.0,0.0,0.0,0.0,0.0,0.0,0.0,0.0,0.0,0.0,0.0,0.0,0.0,0.0,0.0,0.0,0.0,0.0,0.0,0.0,0.0,0.0,0.0,0.0,0.0,0.0,0.0,0.0,0.0,0.0,0.0,0.0,0.0,0.0,0.0,0.0,0.0,0.0,0.0,0.0,0.0,0.0,0.0,0.0,0.0,0.0,0.0,0.0,0.0,0.0,0.0,0.0,0.0,0.0,0.0,0.0,0.0,0.0,0.0,0.0,0.0,0.0,0.0,0.0,0.0,0.0,0.0,0.0,0.0,0.0,0.0,0.0,0.0,0.0,0.0,0.0,0.0,0.0,0.0,0.0,29.0,0.0,0.0,0.0,0.0,0.0,0.0,0.0,0.0,0.0,0.0,0.0,0.0,0.0,0.0,0.0,0.0,0.0,0.0,0.0,0.0,0.0,0.0,0.0,0.0,0.0,0.0,0.0,0.0,0.0,0.0,0.0,0.0,0.0,0.0,0.0,0.0,0.0,0.0,0.0,0.0,0.0,0.0,0.0,0.0,0.0,0.0,0.0,0.0,0.0,0.0,0.0,0.0,0.0,0.0,30.0,0.0,0.0,0.0,0.0,0.0,0.0,0.0,37.0,0.0,0.0,0.0,0.0,0.0,0.0,0.0,0.0,0.0,0.0,0.0,0.0,0.0,0.0,0.0,0.0,0.0,0.0,0.0,0.0,0.0,0.0,0.0,0.0,0.0,0.0,0.0,0.0,0.0,0.0,0.0,0.0,0.0,0.0,0.0,0.0,0.0,0.0,0.0,0.0,19.0,0.0,0.0,0.0,0.0,0.0,0.0,0.0,0.0,0.0,0.0,0.0,0.0,0.0,0.0,0.0,0.0,0.0,0.0,0.0,0.0,0.0,0.0,22.0,0.0,0.0,0.0,0.0,0.0,0.0,0.0,0.0,0.0,0.0,0.0,0.0,0.0,0.0,0.0,0.0,0.0,0.0,0.0,0.0,0.0,0.0,0.0,0.0,0.0,0.0,0.0,0.0,0.0,0.0,0.0,0.0,0.0,0.0,0.0,0.0,0.0,0.0,0.0,0.0,0.0,0.0,0.0,0.0,0.0,0.0,0.0,0.0,0.0,28.0,0.0,0.0,0.0,0.0,0.0,0.0,0.0,0.0,0.0,0.0,0.0,0.0,0.0,0.0,0.0,0.0,20.0,0.0,0.0,0.0,21.0,15.0,0.0,0.0,0.0,0.0,0.0,0.0,0.0,0.0,0.0,0.0,0.0,0.0,0.0,0.0,0.0,0.0,27.0,0.0,0.0,0.0,0.0,0.0,0.0,0.0,0.0,0.0,0.0,0.0,0.0,0.0,0.0,0.0,0.0,0.0,0.0,0.0,0.0,0.0,0.0,0.0,0.0,0.0,0.0,0.0,0.0,0.0,0.0,0.0,0.0,0.0,0.0,0.0,0.0,0.0,0.0,0.0,0.0,0.0,0.0,0.0,0.0,0.0,0.0,36.0,0.0,0.0,0.0,0.0,0.0,0.0,0.0,0.0,0.0,0.0,0.0,0.0,0.0,0.0,0.0,0.0,0.0,0.0,0.0,0.0,0.0,0.0,0.0,0.0,0.0,0.0,0.0,0.0,0.0,0.0,0.0,0.0,0.0,0.0,0.0,0.0,0.0,0.0,0.0,0.0,0.0,0.0,0.0,0.0,0.0,0.0,0.0,0.0,0.0,0.0,0.0,0.0,0.0,0.0,0.0,0.0,0.0,0.0,0.0,0.0,0.0,0.0,0.0,0.0,0.0,0.0,0.0,0.0,0.0,0.0,0.0,0.0,0.0,0.0,0.0,0.0,0.0,0.0,0.0,0.0,0.0,0.0,0.0,0.0,0.0,0.0,0.0,0.0,0.0,0.0,0.0,0.0,0.0,0.0,0.0,0.0,0.0,27.0,0.0,0.0,0.0,0.0,0.0,0.0,0.0,0.0,0.0,0.0,0.0,0.0,0.0,0.0,0.0,0.0,0.0,0.0,0.0,0.0,23.0,18.0,0.0,0.0,0.0,0.0,0.0,0.0,0.0,0.0,0.0,0.0,30.0,0.0,0.0,32.0,0.0,35.0,0.0,0.0,0.0,0.0,0.0,0.0,0.0,0.0,0.0,0.0,0.0,0.0,0.0,0.0,0.0,0.0,0.0,0.0,0.0,0.0,0.0,0.0,0.0,0.0,0.0,0.0,0.0,0.0,0.0,0.0,0.0,0.0,0.0,0.0,0.0,0.0,0.0,0.0,0.0,0.0,0.0,0.0,0.0,0.0,0.0,0.0,0.0,0.0,0.0,0.0,0.0,0.0,0.0,0.0,0.0,0.0,0.0,0.0,0.0,0.0,0.0,0.0,0.0,0.0,0.0,0.0,0.0,0.0,0.0,21.0,0.0,0.0,0.0,0.0,0.0,0.0,0.0,0.0,0.0,0.0,0.0,0.0,0.0,0.0,0.0,0.0,0.0,0.0,0.0,0.0,28.0,0.0,29.0,0.0,0.0,0.0,0.0,0.0,0.0,0.0,0.0,0.0,0.0,0.0,0.0,0.0,0.0,0.0,0.0,0.0,0.0,0.0,0.0,0.0,0.0,0.0,0.0,0.0,0.0,22.0,0.0,0.0,0.0,0.0,0.0,0.0,0.0,0.0,0.0,0.0,0.0,0.0,0.0,0.0,0.0,0.0,0.0,0.0,0.0,0.0,0.0,0.0,0.0,0.0,0.0,0.0,0.0,0.0,24.0,0.0,0.0,0.0,0.0,0.0,0.0,0.0,0.0,0.0,0.0,0.0,0.0,0.0,29.0,0.0,0.0,0.0,0.0,0.0,0.0,0.0,0.0,0.0,0.0,0.0,0.0,0.0,0.0,0.0,0.0,0.0,0.0,0.0,0.0,0.0,27.0,0.0,0.0,0.0,0.0,0.0,0.0,0.0,0.0,0.0,0.0,29.0,0.0,0.0,0.0,0.0,0.0,0.0,0.0,0.0,0.0,0.0,0.0,0.0,0.0,0.0,0.0,0.0,0.0,0.0,0.0,0.0,0.0,0.0,0.0,0.0,0.0,0.0,0.0,0.0,0.0,0.0,0.0,0.0,0.0,0.0,0.0,14.0,0.0,0.0,0.0,0.0,0.0,0.0,0.0,0.0,0.0,0.0,0.0,0.0,0.0,0.0,0.0,0.0,0.0,0.0,0.0,0.0,0.0,0.0,0.0,0.0,0.0,0.0,0.0,0.0,0.0,0.0,0.0,0.0,0.0,0.0,0.0,0.0,0.0,0.0,0.0,0.0,0.0,0.0,0.0,0.0,0.0,0.0,0.0,0.0,0.0,0.0,0.0,0.0,0.0,0.0,0.0,0.0,0.0,0.0,0.0,0.0,0.0,0.0,0.0,0.0,0.0,0.0,0.0,0.0,0.0,0.0,0.0,0.0,0.0,0.0,0.0,0.0,0.0,0.0,0.0,0.0,0.0,0.0,0.0,0.0,0.0,0.0,0.0,0.0,0.0,0.0,0.0,0.0,0.0,0.0,0.0,0.0,0.0,0.0,0.0,0.0,0.0,0.0,0.0,0.0,0.0,0.0,0.0,0.0,0.0,0.0,0.0,0.0,0.0,0.0,0.0,0.0,0.0,0.0,0.0,0.0,0.0,0.0,0.0,0.0,0.0,0.0,0.0,0.0,0.0,0.0,0.0,0.0,0.0,0.0,0.0,0.0,0.0,0.0,0.0,0.0,0.0,0.0,0.0,0.0,0.0,0.0,0.0,0.0,0.0,0.0,0.0,0.0,0.0,26.0,0.0,0.0,0.0,0.0,0.0,0.0,0.0,0.0,0.0,0.0,0.0,22.0,0.0,0.0,0.0,0.0,25.0,0.0,0.0,0.0,0.0,0.0,0.0,0.0,0.0,0.0,0.0,0.0,0.0,0.0,0.0,0.0,0.0,0.0,0.0,0.0,0.0,0.0,0.0,0.0,0.0,0.0,0.0,0.0,0.0,0.0,0.0,0.0,0.0,0.0,0.0,0.0,0.0,0.0,0.0,0.0,0.0,0.0,0.0,0.0,0.0,0.0,0.0,0.0,0.0,0.0,0.0,0.0,0.0,0.0,0.0,0.0,0.0,0.0,0.0,0.0,0.0,0.0,0.0,0.0,0.0,0.0,0.0,0.0,0.0,0.0,0.0,0.0,0.0,0.0,0.0,0.0,0.0,0.0,0.0,0.0,0.0,0.0,0.0,0.0,0.0,0.0,0.0,0.0,0.0,0.0,0.0,0.0,0.0,0.0,0.0,0.0,0.0,0.0,0.0,0.0,0.0,0.0,0.0,0.0,21.0,0.0,0.0,0.0,0.0,0.0,0.0,0.0,0.0,0.0,0.0,0.0,0.0,0.0,0.0,0.0,0.0,0.0,0.0,0.0,0.0,0.0,0.0,0.0,0.0,0.0,0.0,0.0,0.0,0.0,0.0,0.0,0.0,0.0,0.0,0.0,0.0,0.0,0.0,0.0,0.0,0.0,0.0,0.0,0.0,0.0,23.0,0.0,0.0,0.0,0.0,0.0,0.0,0.0,0.0,0.0,0.0,0.0,0.0,0.0,0.0,0.0,0.0,0.0,0.0,0.0,0.0,0.0,0.0,0.0,0.0,0.0,0.0,0.0,0.0,0.0,0.0,0.0,0.0,0.0,0.0,0.0,0.0,0.0,0.0,0.0,0.0,0.0,0.0,0.0,0.0,0.0,0.0,0.0,0.0,0.0,0.0,0.0,0.0,0.0,0.0,0.0,0.0,0.0,0.0,0.0,0.0,0.0,0.0,0.0,0.0,0.0,0.0,0.0,0.0,0.0,0.0,0.0,0.0,0.0,0.0,0.0,0.0,0.0,0.0,0.0,0.0,0.0,0.0,0.0,0.0,0.0,0.0,0.0,0.0,0.0,0.0,0.0,0.0,0.0,0.0,0.0,0.0,0.0,0.0,0.0,0.0,0.0,0.0,0.0,0.0,0.0,0.0,0.0,0.0,0.0,0.0,0.0,0.0,0.0,0.0,0.0,0.0,0.0,0.0,0.0,0.0,0.0,0.0,0.0,0.0,0.0,0.0,0.0,20.0,0.0,0.0,0.0,0.0,0.0,0.0,0.0,0.0,0.0,0.0,0.0,0.0,0.0,0.0,0.0,0.0,0.0,0.0,0.0,0.0,0.0,0.0,0.0,0.0,0.0,0.0,0.0,0.0,0.0,0.0,0.0,0.0,0.0,0.0,0.0,0.0,0.0,0.0,0.0,0.0,0.0,0.0,0.0,0.0,0.0,0.0,0.0,0.0,0.0,0.0,0.0,0.0,0.0,0.0,0.0,0.0,0.0,0.0,0.0,0.0,0.0,0.0,0.0,0.0,0.0,0.0,0.0,0.0,0.0,0.0,0.0,0.0,0.0,0.0,0.0,0.0,0.0,0.0,0.0,0.0,0.0,0.0,0.0,0.0,0.0,0.0,0.0,0.0,0.0,0.0,0.0,0.0,0.0,0.0,0.0,0.0,0.0,0.0,0.0,0.0,0.0,0.0,0.0,0.0,0.0,0.0,0.0,0.0,0.0,0.0,0.0,0.0,0.0,0.0,0.0,0.0,0.0,0.0,0.0,0.0,0.0,0.0,0.0,0.0,0.0,0.0,0.0,0.0,0.0,0.0,0.0,16.0,0.0,0.0,0.0,0.0,0.0,0.0,0.0,0.0,0.0,0.0,0.0,29.0,0.0,0.0,0.0,0.0,0.0,0.0,0.0,0.0,0.0,0.0,0.0,0.0,0.0,0.0,0.0,0.0,0.0,0.0,0.0,0.0,0.0,0.0,0.0,0.0,0.0,0.0,0.0,0.0,0.0,0.0,0.0,0.0,0.0,0.0,0.0,0.0,0.0,0.0,0.0,0.0,0.0,0.0,0.0,0.0,0.0,0.0,25.0,0.0,0.0,0.0,0.0,0.0,0.0,0.0,0.0,0.0,0.0,0.0,0.0,0.0,0.0,0.0,0.0,0.0,0.0,0.0,0.0,0.0,0.0,0.0,20.0,0.0,0.0,0.0,0.0,0.0,0.0,0.0,0.0,0.0,0.0,0.0,0.0,0.0,0.0,0.0,0.0,0.0,0.0,0.0,0.0,0.0,24.0,0.0,0.0,0.0,0.0,0.0,0.0,0.0,0.0,0.0,0.0,0.0,0.0,0.0,0.0,0.0,0.0,30.0,0.0,0.0,0.0,0.0,0.0,0.0,0.0,0.0,0.0,0.0,0.0,0.0,0.0,0.0,0.0,0.0,0.0,0.0,0.0,0.0,0.0,0.0,0.0,0.0,0.0,0.0,0.0,28.0,28.0,0.0,0.0,0.0,0.0,0.0,0.0,0.0,0.0,0.0,0.0,0.0,0.0,0.0,0.0,25.0,0.0,0.0,25.0,0.0,0.0,0.0,0.0,0.0,0.0,0.0,0.0,0.0,0.0,0.0,0.0,0.0,0.0,0.0,0.0,0.0,0.0,0.0,0.0,0.0,0.0,0.0,0.0,0.0,0.0,0.0,0.0,0.0,0.0,0.0,0.0,0.0,0.0,0.0,0.0,0.0,0.0,0.0,0.0,0.0,0.0,0.0,0.0,0.0,0.0,0.0,0.0,0.0,0.0,0.0,0.0,0.0,0.0,0.0,0.0,0.0,0.0,0.0,39.0,0.0,0.0,0.0,0.0,0.0,0.0,0.0,0.0,0.0,0.0,0.0,0.0,0.0,0.0,0.0,0.0,0.0,0.0,0.0,0.0,0.0,0.0,0.0,0.0,0.0,0.0,0.0,0.0,0.0,0.0,0.0,0.0,0.0,0.0,0.0,0.0,0.0,0.0,0.0,0.0,0.0,0.0,0.0,0.0,0.0,0.0,0.0,0.0,0.0,0.0,0.0,0.0,0.0,0.0,0.0,0.0,0.0,0.0,0.0,0.0,0.0,0.0,0.0,0.0,0.0,0.0,0.0,0.0,0.0,0.0,0.0,0.0,0.0,0.0,0.0,0.0,0.0,0.0,0.0,0.0,0.0,0.0,0.0,0.0,0.0,0.0,0.0,0.0,0.0,0.0,0.0,0.0,0.0,0.0,0.0,0.0,0.0,15.0,0.0,0.0,0.0,0.0,0.0,0.0,0.0,0.0,0.0,22.0,0.0,0.0,0.0,0.0,0.0,0.0,0.0,0.0,0.0,0.0,0.0,0.0,0.0,26.0,0.0,0.0,0.0,0.0,0.0,0.0,0.0,0.0,0.0,0.0,0.0,0.0,0.0,0.0,0.0,0.0,0.0,0.0,0.0,0.0,0.0,0.0,0.0,0.0,0.0,0.0,0.0,0.0,0.0,0.0,0.0,0.0,0.0,0.0,0.0,0.0,0.0,0.0,0.0,0.0,0.0,0.0,0.0,0.0,0.0,0.0,0.0,0.0,0.0,0.0,0.0,0.0,0.0,0.0,0.0,0.0,0.0,0.0,0.0,0.0,0.0,0.0,0.0,0.0,0.0,0.0,0.0,0.0,0.0,0.0,0.0,0.0,0.0,0.0,0.0,0.0,0.0,0.0,0.0,0.0,0.0,0.0,0.0,0.0,0.0,0.0,0.0,0.0,0.0,0.0,0.0,0.0,0.0,0.0,0.0,0.0,0.0,0.0,0.0,0.0,0.0,0.0,0.0,0.0,0.0,0.0,0.0,0.0,0.0,0.0,0.0,0.0,0.0,0.0,0.0,0.0,0.0,0.0,0.0,0.0,0.0,0.0,0.0,0.0,0.0,0.0,0.0,0.0,0.0,0.0,0.0,0.0,0.0,0.0,0.0,0.0,0.0,0.0,0.0,0.0,0.0,0.0,0.0,0.0,0.0,0.0,0.0,0.0,0.0,0.0,0.0,0.0,0.0,0.0,0.0,0.0,0.0,0.0,0.0,0.0,0.0,26.0,0.0,0.0,0.0,0.0,0.0,0.0,0.0,0.0,0.0,0.0,0.0,0.0,0.0,0.0,0.0,0.0,0.0,0.0,0.0,0.0,0.0,0.0,0.0,0.0,0.0,0.0,0.0,0.0,0.0,0.0,0.0,0.0,0.0,0.0,0.0,0.0,0.0,0.0,0.0,0.0,0.0,0.0,0.0,0.0,0.0,0.0,22.0,0.0,0.0,0.0,0.0,0.0,0.0,0.0,0.0,0.0,0.0,0.0,0.0,0.0,0.0,0.0,0.0,0.0,0.0,0.0,0.0,0.0,38.0,0.0,0.0,0.0,0.0,0.0,0.0,0.0,0.0,0.0,0.0,0.0,0.0,0.0,0.0,0.0,0.0,0.0,0.0,0.0,0.0,0.0,0.0,0.0,0.0,0.0,0.0,0.0,0.0,0.0,0.0,0.0,0.0,0.0,0.0,0.0,0.0,0.0,0.0,0.0,0.0,0.0,0.0,0.0,0.0,0.0,0.0,0.0,0.0,0.0,0.0,0.0,0.0,0.0,0.0,0.0,0.0,0.0,0.0,0.0,0.0,0.0,0.0,0.0,0.0,0.0,0.0,0.0,0.0,0.0,0.0,0.0,0.0,22.0,0.0,10.0,0.0,0.0,0.0,0.0,0.0,0.0,0.0,0.0,0.0,0.0,0.0,0.0,0.0,0.0,0.0,0.0,0.0,0.0,0.0,0.0,0.0,0.0,0.0,0.0,0.0,0.0,0.0,0.0,0.0,0.0,0.0,0.0,0.0,0.0,0.0,0.0,0.0,0.0,0.0,0.0,0.0,0.0,0.0,0.0,0.0,0.0,0.0,0.0,0.0,0.0,0.0,0.0,0.0,0.0,0.0,0.0,0.0,0.0,0.0,0.0,0.0,0.0,0.0,0.0,0.0,0.0,0.0,0.0,0.0,0.0,0.0,0.0,0.0,0.0,0.0,0.0,0.0,0.0,0.0,0.0,0.0,0.0,0.0,0.0,0.0,0.0,0.0,0.0,0.0,0.0,0.0,0.0,0.0,0.0,0.0,0.0,0.0,0.0,0.0,0.0,0.0,0.0,0.0,0.0,0.0,0.0,0.0,0.0,0.0,0.0,0.0,0.0,0.0,0.0,0.0,0.0,0.0,0.0,0.0,0.0,0.0,0.0,0.0,0.0,0.0,0.0,0.0,0.0,0.0,0.0,0.0,0.0,0.0,0.0,0.0,0.0,0.0,0.0,0.0,0.0,0.0,0.0,0.0,0.0,0.0,0.0,0.0,0.0,0.0,0.0,0.0,0.0,0.0,0.0,0.0,0.0,0.0,0.0,0.0,0.0,0.0,0.0,0.0,0.0,0.0,0.0,0.0,0.0,0.0,0.0,0.0,0.0,0.0,0.0,0.0,0.0,0.0,0.0,0.0,0.0,0.0,0.0,0.0,0.0,0.0,0.0,0.0,0.0,0.0,0.0,0.0,0.0,0.0,0.0,0.0,0.0,0.0,0.0,0.0,0.0,0.0,0.0,0.0,0.0,0.0,0.0,0.0,0.0,0.0,0.0,0.0,0.0,0.0,0.0,0.0,0.0,0.0,0.0,0.0,0.0,0.0,0.0,0.0,0.0,0.0,0.0,0.0,0.0,0.0,0.0,0.0,0.0,0.0,0.0,0.0,0.0],\"type\":\"box\",\"xaxis\":\"x7\",\"yaxis\":\"y7\"}],                        {\"template\":{\"data\":{\"histogram2dcontour\":[{\"type\":\"histogram2dcontour\",\"colorbar\":{\"outlinewidth\":0,\"ticks\":\"\"},\"colorscale\":[[0.0,\"#0d0887\"],[0.1111111111111111,\"#46039f\"],[0.2222222222222222,\"#7201a8\"],[0.3333333333333333,\"#9c179e\"],[0.4444444444444444,\"#bd3786\"],[0.5555555555555556,\"#d8576b\"],[0.6666666666666666,\"#ed7953\"],[0.7777777777777778,\"#fb9f3a\"],[0.8888888888888888,\"#fdca26\"],[1.0,\"#f0f921\"]]}],\"choropleth\":[{\"type\":\"choropleth\",\"colorbar\":{\"outlinewidth\":0,\"ticks\":\"\"}}],\"histogram2d\":[{\"type\":\"histogram2d\",\"colorbar\":{\"outlinewidth\":0,\"ticks\":\"\"},\"colorscale\":[[0.0,\"#0d0887\"],[0.1111111111111111,\"#46039f\"],[0.2222222222222222,\"#7201a8\"],[0.3333333333333333,\"#9c179e\"],[0.4444444444444444,\"#bd3786\"],[0.5555555555555556,\"#d8576b\"],[0.6666666666666666,\"#ed7953\"],[0.7777777777777778,\"#fb9f3a\"],[0.8888888888888888,\"#fdca26\"],[1.0,\"#f0f921\"]]}],\"heatmap\":[{\"type\":\"heatmap\",\"colorbar\":{\"outlinewidth\":0,\"ticks\":\"\"},\"colorscale\":[[0.0,\"#0d0887\"],[0.1111111111111111,\"#46039f\"],[0.2222222222222222,\"#7201a8\"],[0.3333333333333333,\"#9c179e\"],[0.4444444444444444,\"#bd3786\"],[0.5555555555555556,\"#d8576b\"],[0.6666666666666666,\"#ed7953\"],[0.7777777777777778,\"#fb9f3a\"],[0.8888888888888888,\"#fdca26\"],[1.0,\"#f0f921\"]]}],\"heatmapgl\":[{\"type\":\"heatmapgl\",\"colorbar\":{\"outlinewidth\":0,\"ticks\":\"\"},\"colorscale\":[[0.0,\"#0d0887\"],[0.1111111111111111,\"#46039f\"],[0.2222222222222222,\"#7201a8\"],[0.3333333333333333,\"#9c179e\"],[0.4444444444444444,\"#bd3786\"],[0.5555555555555556,\"#d8576b\"],[0.6666666666666666,\"#ed7953\"],[0.7777777777777778,\"#fb9f3a\"],[0.8888888888888888,\"#fdca26\"],[1.0,\"#f0f921\"]]}],\"contourcarpet\":[{\"type\":\"contourcarpet\",\"colorbar\":{\"outlinewidth\":0,\"ticks\":\"\"}}],\"contour\":[{\"type\":\"contour\",\"colorbar\":{\"outlinewidth\":0,\"ticks\":\"\"},\"colorscale\":[[0.0,\"#0d0887\"],[0.1111111111111111,\"#46039f\"],[0.2222222222222222,\"#7201a8\"],[0.3333333333333333,\"#9c179e\"],[0.4444444444444444,\"#bd3786\"],[0.5555555555555556,\"#d8576b\"],[0.6666666666666666,\"#ed7953\"],[0.7777777777777778,\"#fb9f3a\"],[0.8888888888888888,\"#fdca26\"],[1.0,\"#f0f921\"]]}],\"surface\":[{\"type\":\"surface\",\"colorbar\":{\"outlinewidth\":0,\"ticks\":\"\"},\"colorscale\":[[0.0,\"#0d0887\"],[0.1111111111111111,\"#46039f\"],[0.2222222222222222,\"#7201a8\"],[0.3333333333333333,\"#9c179e\"],[0.4444444444444444,\"#bd3786\"],[0.5555555555555556,\"#d8576b\"],[0.6666666666666666,\"#ed7953\"],[0.7777777777777778,\"#fb9f3a\"],[0.8888888888888888,\"#fdca26\"],[1.0,\"#f0f921\"]]}],\"mesh3d\":[{\"type\":\"mesh3d\",\"colorbar\":{\"outlinewidth\":0,\"ticks\":\"\"}}],\"scatter\":[{\"fillpattern\":{\"fillmode\":\"overlay\",\"size\":10,\"solidity\":0.2},\"type\":\"scatter\"}],\"parcoords\":[{\"type\":\"parcoords\",\"line\":{\"colorbar\":{\"outlinewidth\":0,\"ticks\":\"\"}}}],\"scatterpolargl\":[{\"type\":\"scatterpolargl\",\"marker\":{\"colorbar\":{\"outlinewidth\":0,\"ticks\":\"\"}}}],\"bar\":[{\"error_x\":{\"color\":\"#2a3f5f\"},\"error_y\":{\"color\":\"#2a3f5f\"},\"marker\":{\"line\":{\"color\":\"#E5ECF6\",\"width\":0.5},\"pattern\":{\"fillmode\":\"overlay\",\"size\":10,\"solidity\":0.2}},\"type\":\"bar\"}],\"scattergeo\":[{\"type\":\"scattergeo\",\"marker\":{\"colorbar\":{\"outlinewidth\":0,\"ticks\":\"\"}}}],\"scatterpolar\":[{\"type\":\"scatterpolar\",\"marker\":{\"colorbar\":{\"outlinewidth\":0,\"ticks\":\"\"}}}],\"histogram\":[{\"marker\":{\"pattern\":{\"fillmode\":\"overlay\",\"size\":10,\"solidity\":0.2}},\"type\":\"histogram\"}],\"scattergl\":[{\"type\":\"scattergl\",\"marker\":{\"colorbar\":{\"outlinewidth\":0,\"ticks\":\"\"}}}],\"scatter3d\":[{\"type\":\"scatter3d\",\"line\":{\"colorbar\":{\"outlinewidth\":0,\"ticks\":\"\"}},\"marker\":{\"colorbar\":{\"outlinewidth\":0,\"ticks\":\"\"}}}],\"scattermapbox\":[{\"type\":\"scattermapbox\",\"marker\":{\"colorbar\":{\"outlinewidth\":0,\"ticks\":\"\"}}}],\"scatterternary\":[{\"type\":\"scatterternary\",\"marker\":{\"colorbar\":{\"outlinewidth\":0,\"ticks\":\"\"}}}],\"scattercarpet\":[{\"type\":\"scattercarpet\",\"marker\":{\"colorbar\":{\"outlinewidth\":0,\"ticks\":\"\"}}}],\"carpet\":[{\"aaxis\":{\"endlinecolor\":\"#2a3f5f\",\"gridcolor\":\"white\",\"linecolor\":\"white\",\"minorgridcolor\":\"white\",\"startlinecolor\":\"#2a3f5f\"},\"baxis\":{\"endlinecolor\":\"#2a3f5f\",\"gridcolor\":\"white\",\"linecolor\":\"white\",\"minorgridcolor\":\"white\",\"startlinecolor\":\"#2a3f5f\"},\"type\":\"carpet\"}],\"table\":[{\"cells\":{\"fill\":{\"color\":\"#EBF0F8\"},\"line\":{\"color\":\"white\"}},\"header\":{\"fill\":{\"color\":\"#C8D4E3\"},\"line\":{\"color\":\"white\"}},\"type\":\"table\"}],\"barpolar\":[{\"marker\":{\"line\":{\"color\":\"#E5ECF6\",\"width\":0.5},\"pattern\":{\"fillmode\":\"overlay\",\"size\":10,\"solidity\":0.2}},\"type\":\"barpolar\"}],\"pie\":[{\"automargin\":true,\"type\":\"pie\"}]},\"layout\":{\"autotypenumbers\":\"strict\",\"colorway\":[\"#636efa\",\"#EF553B\",\"#00cc96\",\"#ab63fa\",\"#FFA15A\",\"#19d3f3\",\"#FF6692\",\"#B6E880\",\"#FF97FF\",\"#FECB52\"],\"font\":{\"color\":\"#2a3f5f\"},\"hovermode\":\"closest\",\"hoverlabel\":{\"align\":\"left\"},\"paper_bgcolor\":\"white\",\"plot_bgcolor\":\"#E5ECF6\",\"polar\":{\"bgcolor\":\"#E5ECF6\",\"angularaxis\":{\"gridcolor\":\"white\",\"linecolor\":\"white\",\"ticks\":\"\"},\"radialaxis\":{\"gridcolor\":\"white\",\"linecolor\":\"white\",\"ticks\":\"\"}},\"ternary\":{\"bgcolor\":\"#E5ECF6\",\"aaxis\":{\"gridcolor\":\"white\",\"linecolor\":\"white\",\"ticks\":\"\"},\"baxis\":{\"gridcolor\":\"white\",\"linecolor\":\"white\",\"ticks\":\"\"},\"caxis\":{\"gridcolor\":\"white\",\"linecolor\":\"white\",\"ticks\":\"\"}},\"coloraxis\":{\"colorbar\":{\"outlinewidth\":0,\"ticks\":\"\"}},\"colorscale\":{\"sequential\":[[0.0,\"#0d0887\"],[0.1111111111111111,\"#46039f\"],[0.2222222222222222,\"#7201a8\"],[0.3333333333333333,\"#9c179e\"],[0.4444444444444444,\"#bd3786\"],[0.5555555555555556,\"#d8576b\"],[0.6666666666666666,\"#ed7953\"],[0.7777777777777778,\"#fb9f3a\"],[0.8888888888888888,\"#fdca26\"],[1.0,\"#f0f921\"]],\"sequentialminus\":[[0.0,\"#0d0887\"],[0.1111111111111111,\"#46039f\"],[0.2222222222222222,\"#7201a8\"],[0.3333333333333333,\"#9c179e\"],[0.4444444444444444,\"#bd3786\"],[0.5555555555555556,\"#d8576b\"],[0.6666666666666666,\"#ed7953\"],[0.7777777777777778,\"#fb9f3a\"],[0.8888888888888888,\"#fdca26\"],[1.0,\"#f0f921\"]],\"diverging\":[[0,\"#8e0152\"],[0.1,\"#c51b7d\"],[0.2,\"#de77ae\"],[0.3,\"#f1b6da\"],[0.4,\"#fde0ef\"],[0.5,\"#f7f7f7\"],[0.6,\"#e6f5d0\"],[0.7,\"#b8e186\"],[0.8,\"#7fbc41\"],[0.9,\"#4d9221\"],[1,\"#276419\"]]},\"xaxis\":{\"gridcolor\":\"white\",\"linecolor\":\"white\",\"ticks\":\"\",\"title\":{\"standoff\":15},\"zerolinecolor\":\"white\",\"automargin\":true,\"zerolinewidth\":2},\"yaxis\":{\"gridcolor\":\"white\",\"linecolor\":\"white\",\"ticks\":\"\",\"title\":{\"standoff\":15},\"zerolinecolor\":\"white\",\"automargin\":true,\"zerolinewidth\":2},\"scene\":{\"xaxis\":{\"backgroundcolor\":\"#E5ECF6\",\"gridcolor\":\"white\",\"linecolor\":\"white\",\"showbackground\":true,\"ticks\":\"\",\"zerolinecolor\":\"white\",\"gridwidth\":2},\"yaxis\":{\"backgroundcolor\":\"#E5ECF6\",\"gridcolor\":\"white\",\"linecolor\":\"white\",\"showbackground\":true,\"ticks\":\"\",\"zerolinecolor\":\"white\",\"gridwidth\":2},\"zaxis\":{\"backgroundcolor\":\"#E5ECF6\",\"gridcolor\":\"white\",\"linecolor\":\"white\",\"showbackground\":true,\"ticks\":\"\",\"zerolinecolor\":\"white\",\"gridwidth\":2}},\"shapedefaults\":{\"line\":{\"color\":\"#2a3f5f\"}},\"annotationdefaults\":{\"arrowcolor\":\"#2a3f5f\",\"arrowhead\":0,\"arrowwidth\":1},\"geo\":{\"bgcolor\":\"white\",\"landcolor\":\"#E5ECF6\",\"subunitcolor\":\"white\",\"showland\":true,\"showlakes\":true,\"lakecolor\":\"white\"},\"title\":{\"x\":0.05},\"mapbox\":{\"style\":\"light\"}}},\"xaxis\":{\"anchor\":\"y\",\"domain\":[0.0,0.2125]},\"yaxis\":{\"anchor\":\"x\",\"domain\":[0.575,1.0]},\"xaxis2\":{\"anchor\":\"y2\",\"domain\":[0.2625,0.475]},\"yaxis2\":{\"anchor\":\"x2\",\"domain\":[0.575,1.0]},\"xaxis3\":{\"anchor\":\"y3\",\"domain\":[0.525,0.7375]},\"yaxis3\":{\"anchor\":\"x3\",\"domain\":[0.575,1.0]},\"xaxis4\":{\"anchor\":\"y4\",\"domain\":[0.7875,1.0]},\"yaxis4\":{\"anchor\":\"x4\",\"domain\":[0.575,1.0]},\"xaxis5\":{\"anchor\":\"y5\",\"domain\":[0.0,0.2125]},\"yaxis5\":{\"anchor\":\"x5\",\"domain\":[0.0,0.425]},\"xaxis6\":{\"anchor\":\"y6\",\"domain\":[0.2625,0.475]},\"yaxis6\":{\"anchor\":\"x6\",\"domain\":[0.0,0.425]},\"xaxis7\":{\"anchor\":\"y7\",\"domain\":[0.525,0.7375]},\"yaxis7\":{\"anchor\":\"x7\",\"domain\":[0.0,0.425]},\"xaxis8\":{\"anchor\":\"y8\",\"domain\":[0.7875,1.0]},\"yaxis8\":{\"anchor\":\"x8\",\"domain\":[0.0,0.425]},\"title\":{\"text\":\"Distribution of Numerical Variables\",\"x\":0.5},\"height\":800,\"width\":1000},                        {\"responsive\": true}                    ).then(function(){\n",
              "                            \n",
              "var gd = document.getElementById('628625e4-c0f2-4b4a-a5d3-96e6dc934248');\n",
              "var x = new MutationObserver(function (mutations, observer) {{\n",
              "        var display = window.getComputedStyle(gd).display;\n",
              "        if (!display || display === 'none') {{\n",
              "            console.log([gd, 'removed!']);\n",
              "            Plotly.purge(gd);\n",
              "            observer.disconnect();\n",
              "        }}\n",
              "}});\n",
              "\n",
              "// Listen for the removal of the full notebook cells\n",
              "var notebookContainer = gd.closest('#notebook-container');\n",
              "if (notebookContainer) {{\n",
              "    x.observe(notebookContainer, {childList: true});\n",
              "}}\n",
              "\n",
              "// Listen for the clearing of the current output cell\n",
              "var outputEl = gd.closest('.output');\n",
              "if (outputEl) {{\n",
              "    x.observe(outputEl, {childList: true});\n",
              "}}\n",
              "\n",
              "                        })                };                            </script>        </div>\n",
              "</body>\n",
              "</html>"
            ]
          },
          "metadata": {}
        }
      ],
      "source": [
        "# Using box plots to show the distribution of values for all numerical variables \n",
        "fig3 = make_subplots(rows = 2, cols = 4)\n",
        "fig3.add_trace(\n",
        "    go.Box(y = thyroid_data['Age'], name = 'Age'),\n",
        "    row = 1, \n",
        "    col = 1\n",
        ")\n",
        "fig3.add_trace(\n",
        "    go.Box(y = thyroid_data['TSH'], name = 'TSH'),\n",
        "    row = 1, \n",
        "    col = 2\n",
        ")\n",
        "fig3.add_trace(\n",
        "    go.Box(y = thyroid_data['T3'], name = 'T3'),\n",
        "    row = 1, \n",
        "    col = 3\n",
        ")\n",
        "fig3.add_trace(\n",
        "    go.Box(y = thyroid_data['TT4'], name = 'TT4'),\n",
        "    row = 1, \n",
        "    col = 4\n",
        ")\n",
        "fig3.add_trace(\n",
        "    go.Box(y = thyroid_data['T4U'], name = 'T4U'),\n",
        "    row = 2, \n",
        "    col = 1\n",
        ")\n",
        "fig3.add_trace(\n",
        "    go.Box(y = thyroid_data['FTI'], name = 'FTI'),\n",
        "    row = 2, \n",
        "    col = 2\n",
        ")\n",
        "fig3.add_trace(\n",
        "    go.Box(y = thyroid_data['TBG'], name = 'TBG'),\n",
        "    row = 2, \n",
        "    col = 3, \n",
        ")\n",
        "fig3.update_layout(height = 800, \n",
        "                  width = 1000, \n",
        "                  title_text = 'Distribution of Numerical Variables', \n",
        "                  title_x = 0.5)\n",
        "fig3.show()"
      ]
    },
    {
      "cell_type": "code",
      "execution_count": 39,
      "metadata": {
        "colab": {
          "base_uri": "https://localhost:8080/",
          "height": 0
        },
        "id": "yFYmXRXmqqhy",
        "outputId": "90937da8-df35-44b8-d97b-5c1c0b501c3d"
      },
      "outputs": [
        {
          "output_type": "execute_result",
          "data": {
            "text/plain": [
              "   Age Sex On_Thyroxine Query_On_Thyroxine On_Antithyroid_Medication Sick  \\\n",
              "0   29   F            f                  f                         f    f   \n",
              "1   29   F            f                  f                         f    f   \n",
              "2   41   F            f                  f                         f    f   \n",
              "3   36   F            f                  f                         f    f   \n",
              "5   60   F            f                  f                         f    f   \n",
              "\n",
              "  Pregnant Thyroid_Surgery I131_Treatment Query_Hypothyroid  ...   T3  \\\n",
              "0        f               f              f                 t  ...  0.0   \n",
              "1        f               f              f                 f  ...  1.9   \n",
              "2        f               f              f                 f  ...  0.0   \n",
              "3        f               f              f                 f  ...  0.0   \n",
              "5        f               f              f                 f  ...  0.0   \n",
              "\n",
              "  TT4_Measured    TT4 T4U_Measured  T4U FTI_Measured  FTI  TBG_Measured   TBG  \\\n",
              "0            f    0.0            f  0.0            f  0.0             f   0.0   \n",
              "1            t  128.0            f  0.0            f  0.0             f   0.0   \n",
              "2            f    0.0            f  0.0            f  0.0             t  11.0   \n",
              "3            f    0.0            f  0.0            f  0.0             t  26.0   \n",
              "5            f    0.0            f  0.0            f  0.0             t  26.0   \n",
              "\n",
              "   Class  \n",
              "0      2  \n",
              "1      2  \n",
              "2      2  \n",
              "3      2  \n",
              "5      2  \n",
              "\n",
              "[5 rows x 29 columns]"
            ],
            "text/html": [
              "\n",
              "  <div id=\"df-2b43a366-725c-47bd-982d-c6525fe0238b\">\n",
              "    <div class=\"colab-df-container\">\n",
              "      <div>\n",
              "<style scoped>\n",
              "    .dataframe tbody tr th:only-of-type {\n",
              "        vertical-align: middle;\n",
              "    }\n",
              "\n",
              "    .dataframe tbody tr th {\n",
              "        vertical-align: top;\n",
              "    }\n",
              "\n",
              "    .dataframe thead th {\n",
              "        text-align: right;\n",
              "    }\n",
              "</style>\n",
              "<table border=\"1\" class=\"dataframe\">\n",
              "  <thead>\n",
              "    <tr style=\"text-align: right;\">\n",
              "      <th></th>\n",
              "      <th>Age</th>\n",
              "      <th>Sex</th>\n",
              "      <th>On_Thyroxine</th>\n",
              "      <th>Query_On_Thyroxine</th>\n",
              "      <th>On_Antithyroid_Medication</th>\n",
              "      <th>Sick</th>\n",
              "      <th>Pregnant</th>\n",
              "      <th>Thyroid_Surgery</th>\n",
              "      <th>I131_Treatment</th>\n",
              "      <th>Query_Hypothyroid</th>\n",
              "      <th>...</th>\n",
              "      <th>T3</th>\n",
              "      <th>TT4_Measured</th>\n",
              "      <th>TT4</th>\n",
              "      <th>T4U_Measured</th>\n",
              "      <th>T4U</th>\n",
              "      <th>FTI_Measured</th>\n",
              "      <th>FTI</th>\n",
              "      <th>TBG_Measured</th>\n",
              "      <th>TBG</th>\n",
              "      <th>Class</th>\n",
              "    </tr>\n",
              "  </thead>\n",
              "  <tbody>\n",
              "    <tr>\n",
              "      <th>0</th>\n",
              "      <td>29</td>\n",
              "      <td>F</td>\n",
              "      <td>f</td>\n",
              "      <td>f</td>\n",
              "      <td>f</td>\n",
              "      <td>f</td>\n",
              "      <td>f</td>\n",
              "      <td>f</td>\n",
              "      <td>f</td>\n",
              "      <td>t</td>\n",
              "      <td>...</td>\n",
              "      <td>0.0</td>\n",
              "      <td>f</td>\n",
              "      <td>0.0</td>\n",
              "      <td>f</td>\n",
              "      <td>0.0</td>\n",
              "      <td>f</td>\n",
              "      <td>0.0</td>\n",
              "      <td>f</td>\n",
              "      <td>0.0</td>\n",
              "      <td>2</td>\n",
              "    </tr>\n",
              "    <tr>\n",
              "      <th>1</th>\n",
              "      <td>29</td>\n",
              "      <td>F</td>\n",
              "      <td>f</td>\n",
              "      <td>f</td>\n",
              "      <td>f</td>\n",
              "      <td>f</td>\n",
              "      <td>f</td>\n",
              "      <td>f</td>\n",
              "      <td>f</td>\n",
              "      <td>f</td>\n",
              "      <td>...</td>\n",
              "      <td>1.9</td>\n",
              "      <td>t</td>\n",
              "      <td>128.0</td>\n",
              "      <td>f</td>\n",
              "      <td>0.0</td>\n",
              "      <td>f</td>\n",
              "      <td>0.0</td>\n",
              "      <td>f</td>\n",
              "      <td>0.0</td>\n",
              "      <td>2</td>\n",
              "    </tr>\n",
              "    <tr>\n",
              "      <th>2</th>\n",
              "      <td>41</td>\n",
              "      <td>F</td>\n",
              "      <td>f</td>\n",
              "      <td>f</td>\n",
              "      <td>f</td>\n",
              "      <td>f</td>\n",
              "      <td>f</td>\n",
              "      <td>f</td>\n",
              "      <td>f</td>\n",
              "      <td>f</td>\n",
              "      <td>...</td>\n",
              "      <td>0.0</td>\n",
              "      <td>f</td>\n",
              "      <td>0.0</td>\n",
              "      <td>f</td>\n",
              "      <td>0.0</td>\n",
              "      <td>f</td>\n",
              "      <td>0.0</td>\n",
              "      <td>t</td>\n",
              "      <td>11.0</td>\n",
              "      <td>2</td>\n",
              "    </tr>\n",
              "    <tr>\n",
              "      <th>3</th>\n",
              "      <td>36</td>\n",
              "      <td>F</td>\n",
              "      <td>f</td>\n",
              "      <td>f</td>\n",
              "      <td>f</td>\n",
              "      <td>f</td>\n",
              "      <td>f</td>\n",
              "      <td>f</td>\n",
              "      <td>f</td>\n",
              "      <td>f</td>\n",
              "      <td>...</td>\n",
              "      <td>0.0</td>\n",
              "      <td>f</td>\n",
              "      <td>0.0</td>\n",
              "      <td>f</td>\n",
              "      <td>0.0</td>\n",
              "      <td>f</td>\n",
              "      <td>0.0</td>\n",
              "      <td>t</td>\n",
              "      <td>26.0</td>\n",
              "      <td>2</td>\n",
              "    </tr>\n",
              "    <tr>\n",
              "      <th>5</th>\n",
              "      <td>60</td>\n",
              "      <td>F</td>\n",
              "      <td>f</td>\n",
              "      <td>f</td>\n",
              "      <td>f</td>\n",
              "      <td>f</td>\n",
              "      <td>f</td>\n",
              "      <td>f</td>\n",
              "      <td>f</td>\n",
              "      <td>f</td>\n",
              "      <td>...</td>\n",
              "      <td>0.0</td>\n",
              "      <td>f</td>\n",
              "      <td>0.0</td>\n",
              "      <td>f</td>\n",
              "      <td>0.0</td>\n",
              "      <td>f</td>\n",
              "      <td>0.0</td>\n",
              "      <td>t</td>\n",
              "      <td>26.0</td>\n",
              "      <td>2</td>\n",
              "    </tr>\n",
              "  </tbody>\n",
              "</table>\n",
              "<p>5 rows × 29 columns</p>\n",
              "</div>\n",
              "      <button class=\"colab-df-convert\" onclick=\"convertToInteractive('df-2b43a366-725c-47bd-982d-c6525fe0238b')\"\n",
              "              title=\"Convert this dataframe to an interactive table.\"\n",
              "              style=\"display:none;\">\n",
              "        \n",
              "  <svg xmlns=\"http://www.w3.org/2000/svg\" height=\"24px\"viewBox=\"0 0 24 24\"\n",
              "       width=\"24px\">\n",
              "    <path d=\"M0 0h24v24H0V0z\" fill=\"none\"/>\n",
              "    <path d=\"M18.56 5.44l.94 2.06.94-2.06 2.06-.94-2.06-.94-.94-2.06-.94 2.06-2.06.94zm-11 1L8.5 8.5l.94-2.06 2.06-.94-2.06-.94L8.5 2.5l-.94 2.06-2.06.94zm10 10l.94 2.06.94-2.06 2.06-.94-2.06-.94-.94-2.06-.94 2.06-2.06.94z\"/><path d=\"M17.41 7.96l-1.37-1.37c-.4-.4-.92-.59-1.43-.59-.52 0-1.04.2-1.43.59L10.3 9.45l-7.72 7.72c-.78.78-.78 2.05 0 2.83L4 21.41c.39.39.9.59 1.41.59.51 0 1.02-.2 1.41-.59l7.78-7.78 2.81-2.81c.8-.78.8-2.07 0-2.86zM5.41 20L4 18.59l7.72-7.72 1.47 1.35L5.41 20z\"/>\n",
              "  </svg>\n",
              "      </button>\n",
              "      \n",
              "  <style>\n",
              "    .colab-df-container {\n",
              "      display:flex;\n",
              "      flex-wrap:wrap;\n",
              "      gap: 12px;\n",
              "    }\n",
              "\n",
              "    .colab-df-convert {\n",
              "      background-color: #E8F0FE;\n",
              "      border: none;\n",
              "      border-radius: 50%;\n",
              "      cursor: pointer;\n",
              "      display: none;\n",
              "      fill: #1967D2;\n",
              "      height: 32px;\n",
              "      padding: 0 0 0 0;\n",
              "      width: 32px;\n",
              "    }\n",
              "\n",
              "    .colab-df-convert:hover {\n",
              "      background-color: #E2EBFA;\n",
              "      box-shadow: 0px 1px 2px rgba(60, 64, 67, 0.3), 0px 1px 3px 1px rgba(60, 64, 67, 0.15);\n",
              "      fill: #174EA6;\n",
              "    }\n",
              "\n",
              "    [theme=dark] .colab-df-convert {\n",
              "      background-color: #3B4455;\n",
              "      fill: #D2E3FC;\n",
              "    }\n",
              "\n",
              "    [theme=dark] .colab-df-convert:hover {\n",
              "      background-color: #434B5C;\n",
              "      box-shadow: 0px 1px 3px 1px rgba(0, 0, 0, 0.15);\n",
              "      filter: drop-shadow(0px 1px 2px rgba(0, 0, 0, 0.3));\n",
              "      fill: #FFFFFF;\n",
              "    }\n",
              "  </style>\n",
              "\n",
              "      <script>\n",
              "        const buttonEl =\n",
              "          document.querySelector('#df-2b43a366-725c-47bd-982d-c6525fe0238b button.colab-df-convert');\n",
              "        buttonEl.style.display =\n",
              "          google.colab.kernel.accessAllowed ? 'block' : 'none';\n",
              "\n",
              "        async function convertToInteractive(key) {\n",
              "          const element = document.querySelector('#df-2b43a366-725c-47bd-982d-c6525fe0238b');\n",
              "          const dataTable =\n",
              "            await google.colab.kernel.invokeFunction('convertToInteractive',\n",
              "                                                     [key], {});\n",
              "          if (!dataTable) return;\n",
              "\n",
              "          const docLinkHtml = 'Like what you see? Visit the ' +\n",
              "            '<a target=\"_blank\" href=https://colab.research.google.com/notebooks/data_table.ipynb>data table notebook</a>'\n",
              "            + ' to learn more about interactive tables.';\n",
              "          element.innerHTML = '';\n",
              "          dataTable['output_type'] = 'display_data';\n",
              "          await google.colab.output.renderOutput(dataTable, element);\n",
              "          const docLink = document.createElement('div');\n",
              "          docLink.innerHTML = docLinkHtml;\n",
              "          element.appendChild(docLink);\n",
              "        }\n",
              "      </script>\n",
              "    </div>\n",
              "  </div>\n",
              "  "
            ]
          },
          "metadata": {},
          "execution_count": 39
        }
      ],
      "source": [
        "thyroid_data.head()"
      ]
    },
    {
      "cell_type": "code",
      "execution_count": 40,
      "metadata": {
        "colab": {
          "base_uri": "https://localhost:8080/",
          "height": 0
        },
        "id": "Vx1ohs2zpZK7",
        "outputId": "ae16e5bd-e0a5-48e7-bf73-e119a47b4489"
      },
      "outputs": [
        {
          "output_type": "display_data",
          "data": {
            "text/html": [
              "<html>\n",
              "<head><meta charset=\"utf-8\" /></head>\n",
              "<body>\n",
              "    <div>            <script src=\"https://cdnjs.cloudflare.com/ajax/libs/mathjax/2.7.5/MathJax.js?config=TeX-AMS-MML_SVG\"></script><script type=\"text/javascript\">if (window.MathJax && window.MathJax.Hub && window.MathJax.Hub.Config) {window.MathJax.Hub.Config({SVG: {font: \"STIX-Web\"}});}</script>                <script type=\"text/javascript\">window.PlotlyConfig = {MathJaxConfig: 'local'};</script>\n",
              "        <script src=\"https://cdn.plot.ly/plotly-2.18.2.min.js\"></script>                <div id=\"8d667cc5-909b-40a5-9b16-1f6c8f13b2c3\" class=\"plotly-graph-div\" style=\"height:525px; width:100%;\"></div>            <script type=\"text/javascript\">                                    window.PLOTLYENV=window.PLOTLYENV || {};                                    if (document.getElementById(\"8d667cc5-909b-40a5-9b16-1f6c8f13b2c3\")) {                    Plotly.newPlot(                        \"8d667cc5-909b-40a5-9b16-1f6c8f13b2c3\",                        [{\"domain\":{\"x\":[0.0,1.0],\"y\":[0.0,1.0]},\"hole\":0.3,\"hovertemplate\":\"Sex=%{label}<br>Count=%{value}<extra></extra>\",\"labels\":[\"F\",\"M\",\"F\",\"M\"],\"legendgroup\":\"\",\"name\":\"\",\"showlegend\":true,\"values\":[144,38,461,132],\"type\":\"pie\"}],                        {\"template\":{\"data\":{\"histogram2dcontour\":[{\"type\":\"histogram2dcontour\",\"colorbar\":{\"outlinewidth\":0,\"ticks\":\"\"},\"colorscale\":[[0.0,\"#0d0887\"],[0.1111111111111111,\"#46039f\"],[0.2222222222222222,\"#7201a8\"],[0.3333333333333333,\"#9c179e\"],[0.4444444444444444,\"#bd3786\"],[0.5555555555555556,\"#d8576b\"],[0.6666666666666666,\"#ed7953\"],[0.7777777777777778,\"#fb9f3a\"],[0.8888888888888888,\"#fdca26\"],[1.0,\"#f0f921\"]]}],\"choropleth\":[{\"type\":\"choropleth\",\"colorbar\":{\"outlinewidth\":0,\"ticks\":\"\"}}],\"histogram2d\":[{\"type\":\"histogram2d\",\"colorbar\":{\"outlinewidth\":0,\"ticks\":\"\"},\"colorscale\":[[0.0,\"#0d0887\"],[0.1111111111111111,\"#46039f\"],[0.2222222222222222,\"#7201a8\"],[0.3333333333333333,\"#9c179e\"],[0.4444444444444444,\"#bd3786\"],[0.5555555555555556,\"#d8576b\"],[0.6666666666666666,\"#ed7953\"],[0.7777777777777778,\"#fb9f3a\"],[0.8888888888888888,\"#fdca26\"],[1.0,\"#f0f921\"]]}],\"heatmap\":[{\"type\":\"heatmap\",\"colorbar\":{\"outlinewidth\":0,\"ticks\":\"\"},\"colorscale\":[[0.0,\"#0d0887\"],[0.1111111111111111,\"#46039f\"],[0.2222222222222222,\"#7201a8\"],[0.3333333333333333,\"#9c179e\"],[0.4444444444444444,\"#bd3786\"],[0.5555555555555556,\"#d8576b\"],[0.6666666666666666,\"#ed7953\"],[0.7777777777777778,\"#fb9f3a\"],[0.8888888888888888,\"#fdca26\"],[1.0,\"#f0f921\"]]}],\"heatmapgl\":[{\"type\":\"heatmapgl\",\"colorbar\":{\"outlinewidth\":0,\"ticks\":\"\"},\"colorscale\":[[0.0,\"#0d0887\"],[0.1111111111111111,\"#46039f\"],[0.2222222222222222,\"#7201a8\"],[0.3333333333333333,\"#9c179e\"],[0.4444444444444444,\"#bd3786\"],[0.5555555555555556,\"#d8576b\"],[0.6666666666666666,\"#ed7953\"],[0.7777777777777778,\"#fb9f3a\"],[0.8888888888888888,\"#fdca26\"],[1.0,\"#f0f921\"]]}],\"contourcarpet\":[{\"type\":\"contourcarpet\",\"colorbar\":{\"outlinewidth\":0,\"ticks\":\"\"}}],\"contour\":[{\"type\":\"contour\",\"colorbar\":{\"outlinewidth\":0,\"ticks\":\"\"},\"colorscale\":[[0.0,\"#0d0887\"],[0.1111111111111111,\"#46039f\"],[0.2222222222222222,\"#7201a8\"],[0.3333333333333333,\"#9c179e\"],[0.4444444444444444,\"#bd3786\"],[0.5555555555555556,\"#d8576b\"],[0.6666666666666666,\"#ed7953\"],[0.7777777777777778,\"#fb9f3a\"],[0.8888888888888888,\"#fdca26\"],[1.0,\"#f0f921\"]]}],\"surface\":[{\"type\":\"surface\",\"colorbar\":{\"outlinewidth\":0,\"ticks\":\"\"},\"colorscale\":[[0.0,\"#0d0887\"],[0.1111111111111111,\"#46039f\"],[0.2222222222222222,\"#7201a8\"],[0.3333333333333333,\"#9c179e\"],[0.4444444444444444,\"#bd3786\"],[0.5555555555555556,\"#d8576b\"],[0.6666666666666666,\"#ed7953\"],[0.7777777777777778,\"#fb9f3a\"],[0.8888888888888888,\"#fdca26\"],[1.0,\"#f0f921\"]]}],\"mesh3d\":[{\"type\":\"mesh3d\",\"colorbar\":{\"outlinewidth\":0,\"ticks\":\"\"}}],\"scatter\":[{\"fillpattern\":{\"fillmode\":\"overlay\",\"size\":10,\"solidity\":0.2},\"type\":\"scatter\"}],\"parcoords\":[{\"type\":\"parcoords\",\"line\":{\"colorbar\":{\"outlinewidth\":0,\"ticks\":\"\"}}}],\"scatterpolargl\":[{\"type\":\"scatterpolargl\",\"marker\":{\"colorbar\":{\"outlinewidth\":0,\"ticks\":\"\"}}}],\"bar\":[{\"error_x\":{\"color\":\"#2a3f5f\"},\"error_y\":{\"color\":\"#2a3f5f\"},\"marker\":{\"line\":{\"color\":\"#E5ECF6\",\"width\":0.5},\"pattern\":{\"fillmode\":\"overlay\",\"size\":10,\"solidity\":0.2}},\"type\":\"bar\"}],\"scattergeo\":[{\"type\":\"scattergeo\",\"marker\":{\"colorbar\":{\"outlinewidth\":0,\"ticks\":\"\"}}}],\"scatterpolar\":[{\"type\":\"scatterpolar\",\"marker\":{\"colorbar\":{\"outlinewidth\":0,\"ticks\":\"\"}}}],\"histogram\":[{\"marker\":{\"pattern\":{\"fillmode\":\"overlay\",\"size\":10,\"solidity\":0.2}},\"type\":\"histogram\"}],\"scattergl\":[{\"type\":\"scattergl\",\"marker\":{\"colorbar\":{\"outlinewidth\":0,\"ticks\":\"\"}}}],\"scatter3d\":[{\"type\":\"scatter3d\",\"line\":{\"colorbar\":{\"outlinewidth\":0,\"ticks\":\"\"}},\"marker\":{\"colorbar\":{\"outlinewidth\":0,\"ticks\":\"\"}}}],\"scattermapbox\":[{\"type\":\"scattermapbox\",\"marker\":{\"colorbar\":{\"outlinewidth\":0,\"ticks\":\"\"}}}],\"scatterternary\":[{\"type\":\"scatterternary\",\"marker\":{\"colorbar\":{\"outlinewidth\":0,\"ticks\":\"\"}}}],\"scattercarpet\":[{\"type\":\"scattercarpet\",\"marker\":{\"colorbar\":{\"outlinewidth\":0,\"ticks\":\"\"}}}],\"carpet\":[{\"aaxis\":{\"endlinecolor\":\"#2a3f5f\",\"gridcolor\":\"white\",\"linecolor\":\"white\",\"minorgridcolor\":\"white\",\"startlinecolor\":\"#2a3f5f\"},\"baxis\":{\"endlinecolor\":\"#2a3f5f\",\"gridcolor\":\"white\",\"linecolor\":\"white\",\"minorgridcolor\":\"white\",\"startlinecolor\":\"#2a3f5f\"},\"type\":\"carpet\"}],\"table\":[{\"cells\":{\"fill\":{\"color\":\"#EBF0F8\"},\"line\":{\"color\":\"white\"}},\"header\":{\"fill\":{\"color\":\"#C8D4E3\"},\"line\":{\"color\":\"white\"}},\"type\":\"table\"}],\"barpolar\":[{\"marker\":{\"line\":{\"color\":\"#E5ECF6\",\"width\":0.5},\"pattern\":{\"fillmode\":\"overlay\",\"size\":10,\"solidity\":0.2}},\"type\":\"barpolar\"}],\"pie\":[{\"automargin\":true,\"type\":\"pie\"}]},\"layout\":{\"autotypenumbers\":\"strict\",\"colorway\":[\"#636efa\",\"#EF553B\",\"#00cc96\",\"#ab63fa\",\"#FFA15A\",\"#19d3f3\",\"#FF6692\",\"#B6E880\",\"#FF97FF\",\"#FECB52\"],\"font\":{\"color\":\"#2a3f5f\"},\"hovermode\":\"closest\",\"hoverlabel\":{\"align\":\"left\"},\"paper_bgcolor\":\"white\",\"plot_bgcolor\":\"#E5ECF6\",\"polar\":{\"bgcolor\":\"#E5ECF6\",\"angularaxis\":{\"gridcolor\":\"white\",\"linecolor\":\"white\",\"ticks\":\"\"},\"radialaxis\":{\"gridcolor\":\"white\",\"linecolor\":\"white\",\"ticks\":\"\"}},\"ternary\":{\"bgcolor\":\"#E5ECF6\",\"aaxis\":{\"gridcolor\":\"white\",\"linecolor\":\"white\",\"ticks\":\"\"},\"baxis\":{\"gridcolor\":\"white\",\"linecolor\":\"white\",\"ticks\":\"\"},\"caxis\":{\"gridcolor\":\"white\",\"linecolor\":\"white\",\"ticks\":\"\"}},\"coloraxis\":{\"colorbar\":{\"outlinewidth\":0,\"ticks\":\"\"}},\"colorscale\":{\"sequential\":[[0.0,\"#0d0887\"],[0.1111111111111111,\"#46039f\"],[0.2222222222222222,\"#7201a8\"],[0.3333333333333333,\"#9c179e\"],[0.4444444444444444,\"#bd3786\"],[0.5555555555555556,\"#d8576b\"],[0.6666666666666666,\"#ed7953\"],[0.7777777777777778,\"#fb9f3a\"],[0.8888888888888888,\"#fdca26\"],[1.0,\"#f0f921\"]],\"sequentialminus\":[[0.0,\"#0d0887\"],[0.1111111111111111,\"#46039f\"],[0.2222222222222222,\"#7201a8\"],[0.3333333333333333,\"#9c179e\"],[0.4444444444444444,\"#bd3786\"],[0.5555555555555556,\"#d8576b\"],[0.6666666666666666,\"#ed7953\"],[0.7777777777777778,\"#fb9f3a\"],[0.8888888888888888,\"#fdca26\"],[1.0,\"#f0f921\"]],\"diverging\":[[0,\"#8e0152\"],[0.1,\"#c51b7d\"],[0.2,\"#de77ae\"],[0.3,\"#f1b6da\"],[0.4,\"#fde0ef\"],[0.5,\"#f7f7f7\"],[0.6,\"#e6f5d0\"],[0.7,\"#b8e186\"],[0.8,\"#7fbc41\"],[0.9,\"#4d9221\"],[1,\"#276419\"]]},\"xaxis\":{\"gridcolor\":\"white\",\"linecolor\":\"white\",\"ticks\":\"\",\"title\":{\"standoff\":15},\"zerolinecolor\":\"white\",\"automargin\":true,\"zerolinewidth\":2},\"yaxis\":{\"gridcolor\":\"white\",\"linecolor\":\"white\",\"ticks\":\"\",\"title\":{\"standoff\":15},\"zerolinecolor\":\"white\",\"automargin\":true,\"zerolinewidth\":2},\"scene\":{\"xaxis\":{\"backgroundcolor\":\"#E5ECF6\",\"gridcolor\":\"white\",\"linecolor\":\"white\",\"showbackground\":true,\"ticks\":\"\",\"zerolinecolor\":\"white\",\"gridwidth\":2},\"yaxis\":{\"backgroundcolor\":\"#E5ECF6\",\"gridcolor\":\"white\",\"linecolor\":\"white\",\"showbackground\":true,\"ticks\":\"\",\"zerolinecolor\":\"white\",\"gridwidth\":2},\"zaxis\":{\"backgroundcolor\":\"#E5ECF6\",\"gridcolor\":\"white\",\"linecolor\":\"white\",\"showbackground\":true,\"ticks\":\"\",\"zerolinecolor\":\"white\",\"gridwidth\":2}},\"shapedefaults\":{\"line\":{\"color\":\"#2a3f5f\"}},\"annotationdefaults\":{\"arrowcolor\":\"#2a3f5f\",\"arrowhead\":0,\"arrowwidth\":1},\"geo\":{\"bgcolor\":\"white\",\"landcolor\":\"#E5ECF6\",\"subunitcolor\":\"white\",\"showland\":true,\"showlakes\":true,\"lakecolor\":\"white\"},\"title\":{\"x\":0.05},\"mapbox\":{\"style\":\"light\"}}},\"legend\":{\"tracegroupgap\":0},\"margin\":{\"t\":60},\"title\":{\"text\":\"% of Males Vs. Females Affected by Thyroid Disorders\"}},                        {\"responsive\": true}                    ).then(function(){\n",
              "                            \n",
              "var gd = document.getElementById('8d667cc5-909b-40a5-9b16-1f6c8f13b2c3');\n",
              "var x = new MutationObserver(function (mutations, observer) {{\n",
              "        var display = window.getComputedStyle(gd).display;\n",
              "        if (!display || display === 'none') {{\n",
              "            console.log([gd, 'removed!']);\n",
              "            Plotly.purge(gd);\n",
              "            observer.disconnect();\n",
              "        }}\n",
              "}});\n",
              "\n",
              "// Listen for the removal of the full notebook cells\n",
              "var notebookContainer = gd.closest('#notebook-container');\n",
              "if (notebookContainer) {{\n",
              "    x.observe(notebookContainer, {childList: true});\n",
              "}}\n",
              "\n",
              "// Listen for the clearing of the current output cell\n",
              "var outputEl = gd.closest('.output');\n",
              "if (outputEl) {{\n",
              "    x.observe(outputEl, {childList: true});\n",
              "}}\n",
              "\n",
              "                        })                };                            </script>        </div>\n",
              "</body>\n",
              "</html>"
            ]
          },
          "metadata": {}
        }
      ],
      "source": [
        "# What percentage of males/females are affected by thyroid disorders in this dataset? Do these values align with the number of males/females affected by thyroid problems worldwide?\n",
        "df1 = thyroid_data[thyroid_data['Class'].isin([0, 1])]\n",
        "df1 = df1.groupby(['Class', 'Sex'])['Sex'].count().reset_index(name = 'Count')\n",
        "\n",
        "# Mapping label encoded values to actual class values for pie chart labeling\n",
        "mapping = {0: 'Hyperthyroid', 1: 'Hypothyroid'}\n",
        "df1['Class'] = df1['Class'].replace(mapping)\n",
        "\n",
        "fig = px.pie(df1, values = 'Count', names = 'Sex', hole = 0.3)\n",
        "fig.update_layout(title = '% of Males Vs. Females Affected by Thyroid Disorders')\n",
        "fig.show()"
      ]
    },
    {
      "cell_type": "markdown",
      "metadata": {
        "id": "-daCunohG9Bv"
      },
      "source": [
        "### Model Exploration & Selection"
      ]
    },
    {
      "cell_type": "markdown",
      "metadata": {
        "id": "mecrrIgl-USj"
      },
      "source": [
        "#### Feature Selection & Data Splitting"
      ]
    },
    {
      "cell_type": "code",
      "execution_count": 41,
      "metadata": {
        "colab": {
          "base_uri": "https://localhost:8080/"
        },
        "id": "vn70WyWJ7hLf",
        "outputId": "3c7efc5d-9d2e-40e2-df55-34cfdfe35724"
      },
      "outputs": [
        {
          "output_type": "stream",
          "name": "stdout",
          "text": [
            "TSH: 0.5763323005012321\n",
            "FTI: 0.10985044524127083\n",
            "TT4: 0.10901560600161643\n",
            "T3: 0.06753269308898792\n",
            "T4U: 0.03485316169250359\n",
            "Age: 0.022296489263361353\n"
          ]
        }
      ],
      "source": [
        "# Performing feature selection to get the most optimal features for our model\n",
        "rf = RandomForestClassifier()\n",
        "hyper_rf = rf.fit(processed_df, thyroid_data['Class'])\n",
        "imp = hyper_rf.feature_importances_\n",
        "sorted_features = sorted(zip(imp, processed_df), reverse=True)\n",
        "\n",
        "features = []\n",
        "for importance, feature in sorted_features[:6]:\n",
        "  features.append(feature)\n",
        "  print(\"{}: {}\".format(feature, importance))"
      ]
    },
    {
      "cell_type": "markdown",
      "metadata": {
        "id": "A_MqEd2BA4wT"
      },
      "source": [
        "With the help of random forest classifier for getting the importance of features in our dataset, we were able to conclude that TSH, TT4, FTI, T3, T4U, Age, On_Thyroxine_f, Query_Hyperthyroid, T4U_Measured_t, TSH_Measured_t are the ten most important features. "
      ]
    },
    {
      "cell_type": "code",
      "execution_count": 42,
      "metadata": {
        "id": "RWbk4Qab9uh8"
      },
      "outputs": [],
      "source": [
        "# Based on feature selection results, keeping top 10 most important features\n",
        "X = processed_df.loc[:, processed_df.columns.isin(features)]\n",
        "y = thyroid_data['Class']"
      ]
    },
    {
      "cell_type": "code",
      "execution_count": 43,
      "metadata": {
        "id": "oc0HsHmpiX2s"
      },
      "outputs": [],
      "source": [
        "# Splitting data into training and testing sets \n",
        "X_train, X_test, y_train, y_test = train_test_split(X, y, test_size = 0.25, random_state = 1) "
      ]
    },
    {
      "cell_type": "markdown",
      "metadata": {
        "id": "7y-gvIY_XG8k"
      },
      "source": [
        "#### K-Nearest Neighbors"
      ]
    },
    {
      "cell_type": "code",
      "execution_count": 44,
      "metadata": {
        "colab": {
          "base_uri": "https://localhost:8080/"
        },
        "id": "EAzW70SZ2eYZ",
        "outputId": "fd6a8eb7-2f0e-4565-b522-41c3a78a5a93"
      },
      "outputs": [
        {
          "output_type": "stream",
          "name": "stdout",
          "text": [
            "Accuracy:  0.9448568398727466\n",
            "Precision:  0.9458184095343478\n",
            "Recall:  0.9448568398727466\n",
            "F1 Score:  0.9395889470499865\n"
          ]
        }
      ],
      "source": [
        "# Implementing KNN with grid search cv  \n",
        "param_grid = {'n_neighbors': range(1, 11)}\n",
        "\n",
        "knn = KNeighborsClassifier()\n",
        "knn_gridsearch = GridSearchCV(knn, param_grid, cv = 5)\n",
        "knn_gridsearch.fit(X_train, y_train)\n",
        "y_pred1 = knn_gridsearch.predict(X_test)\n",
        "\n",
        "# Evaluating model performance \n",
        "knn_acc = accuracy_score(y_test, y_pred1)\n",
        "knn_pre = precision_score(y_test, y_pred1, average = 'weighted')\n",
        "knn_rec = recall_score(y_test, y_pred1, average = 'weighted')\n",
        "knn_f1 = f1_score(y_test, y_pred1, average = 'weighted')\n",
        "\n",
        "print('Accuracy: ', knn_acc)\n",
        "print('Precision: ', knn_pre)\n",
        "print('Recall: ', knn_rec)\n",
        "print('F1 Score: ', knn_f1)"
      ]
    },
    {
      "cell_type": "markdown",
      "metadata": {
        "id": "GUZNoekvXQ_C"
      },
      "source": [
        "#### Support Vector Machine\n"
      ]
    },
    {
      "cell_type": "code",
      "execution_count": 45,
      "metadata": {
        "colab": {
          "base_uri": "https://localhost:8080/"
        },
        "id": "aLxPnvOU3Dwz",
        "outputId": "950fedd4-3f2b-4903-d640-63562ba19e41"
      },
      "outputs": [
        {
          "output_type": "stream",
          "name": "stdout",
          "text": [
            "Accuracy:  0.9734888653234358\n",
            "Precision:  0.9739263893700045\n",
            "Recall:  0.9734888653234358\n",
            "F1 Score:  0.9734978902347312\n"
          ]
        }
      ],
      "source": [
        "# Define the hyperparameter grid for tuning\n",
        "param_grid = {'C': [0.1, 1, 10],  # Values for the regularization parameter C\n",
        "              'kernel': ['linear', 'rbf'],  # Kernels to try: linear and radial basis function (RBF)\n",
        "              'gamma': ['scale', 'auto'] + [0.1, 1, 10]}  # Values for the gamma parameter\n",
        "\n",
        "# Create an instance of SVM classifier\n",
        "svm = SVC()\n",
        "\n",
        "# Create GridSearchCV with SVM classifier and the hyperparameter grid\n",
        "grid_search = GridSearchCV(svm, param_grid, cv=5)  # Use 5-fold cross-validation\n",
        "\n",
        "# Fit GridSearchCV to the training data\n",
        "grid_search.fit(X_train, y_train)\n",
        "\n",
        "# Get the best hyperparameters from GridSearchCV\n",
        "best_params = grid_search.best_params_\n",
        "best_C = best_params['C']\n",
        "best_kernel = best_params['kernel']\n",
        "best_gamma = best_params['gamma']\n",
        "\n",
        "# Create a new instance of SVM classifier with the best hyperparameters\n",
        "best_svm = SVC(C=best_C, kernel=best_kernel, gamma=best_gamma)\n",
        "\n",
        "# Fit the best SVM classifier to the training data\n",
        "best_svm.fit(X_train, y_train)\n",
        "\n",
        "# Make predictions on the test data\n",
        "y_pred2 = best_svm.predict(X_test)\n",
        "\n",
        "# Computing the accuracy of the classifier\n",
        "svm_acc = accuracy_score(y_test, y_pred2)\n",
        "svm_pre = precision_score(y_test, y_pred2, average = 'weighted')\n",
        "svm_rec = recall_score(y_test, y_pred2, average = 'weighted')\n",
        "svm_f1 = f1_score(y_test, y_pred2, average = 'weighted')\n",
        "\n",
        "print('Accuracy: ', svm_acc)\n",
        "print('Precision: ', svm_pre)\n",
        "print('Recall: ', svm_rec)\n",
        "print('F1 Score: ', svm_f1)"
      ]
    },
    {
      "cell_type": "markdown",
      "metadata": {
        "id": "R4-hkDdpDJ81"
      },
      "source": [
        "#### Decision Trees"
      ]
    },
    {
      "cell_type": "code",
      "execution_count": 46,
      "metadata": {
        "colab": {
          "base_uri": "https://localhost:8080/"
        },
        "id": "7nY7DKBieMCu",
        "outputId": "85e42cba-ee30-421b-bc12-1f851e5fc23c"
      },
      "outputs": [
        {
          "output_type": "stream",
          "name": "stdout",
          "text": [
            "Best Parameters: {'criterion': 'entropy', 'max_depth': None, 'min_samples_leaf': 1, 'min_samples_split': 2}\n",
            "Accuracy: 0.9814422057264051\n",
            "Precision: 0.982893934283357\n",
            "Recall: 0.9814422057264051\n",
            "F1 Score: 0.9820378064517467\n"
          ]
        }
      ],
      "source": [
        "# Instantiating Decision Trees object\n",
        "dt = DecisionTreeClassifier()\n",
        "\n",
        "# Defining hyperparameter grid for grid search\n",
        "param_grid = {\n",
        "    'criterion': ['gini', 'entropy'],\n",
        "    'max_depth': [None, 10, 20, 30],\n",
        "    'min_samples_split': [2, 5, 10],\n",
        "    'min_samples_leaf': [1, 2, 4]\n",
        "}\n",
        "\n",
        "# Performing grid search with cross-validation\n",
        "grid_search = GridSearchCV(dt, param_grid, cv=5)\n",
        "grid_search.fit(X_train, y_train)\n",
        "\n",
        "# Extracting best parameters and best model from grid search\n",
        "best_params = grid_search.best_params_\n",
        "best_dt = grid_search.best_estimator_\n",
        "\n",
        "# Predicting new values for target class using best model\n",
        "y_pred3 = best_dt.predict(X_test)\n",
        "\n",
        "# Computing the accuracy of the classifier\n",
        "dt_acc = accuracy_score(y_test, y_pred3)\n",
        "dt_pre = precision_score(y_test, y_pred3, average='weighted')\n",
        "dt_rec = recall_score(y_test, y_pred3, average='weighted')\n",
        "dt_f1 = f1_score(y_test, y_pred3, average='weighted')\n",
        "\n",
        "print('Best Parameters:', best_params)\n",
        "print('Accuracy:', dt_acc)\n",
        "print('Precision:', dt_pre)\n",
        "print('Recall:', dt_rec)\n",
        "print('F1 Score:', dt_f1)"
      ]
    },
    {
      "cell_type": "markdown",
      "metadata": {
        "id": "NbCjn5QoDNVl"
      },
      "source": [
        "#### Logistic Regression"
      ]
    },
    {
      "cell_type": "code",
      "execution_count": 47,
      "metadata": {
        "colab": {
          "base_uri": "https://localhost:8080/"
        },
        "id": "-dd7-cMorJqe",
        "outputId": "2531923c-8160-4689-c5be-8b00c2aaa161"
      },
      "outputs": [
        {
          "output_type": "stream",
          "name": "stdout",
          "text": [
            "Best Hyperparameters:  {'C': 100, 'penalty': 'l2'}\n",
            "Accuracy:  0.9655355249204666\n",
            "Precision:  0.9639575466946768\n",
            "Recall:  0.9655355249204666\n",
            "F1 Score:  0.9638462360020006\n"
          ]
        }
      ],
      "source": [
        "# Instantiate logistic regression object\n",
        "lr = LogisticRegression()\n",
        "\n",
        "# Define hyperparameter grid for grid search\n",
        "param_grid = {'penalty': ['l1', 'l2'], \n",
        "              'C': [0.01, 0.1, 1, 10, 100]}\n",
        "\n",
        "# Perform grid search cross-validation\n",
        "grid_search = GridSearchCV(lr, param_grid, cv=5)\n",
        "grid_search.fit(X_train, y_train)\n",
        "\n",
        "# Get best hyperparameters and fit model with best hyperparameters\n",
        "best_params = grid_search.best_params_\n",
        "best_lr = LogisticRegression(penalty=best_params['penalty'], C=best_params['C'])\n",
        "best_lr.fit(X_train, y_train)\n",
        "\n",
        "# Predict on test set\n",
        "y_pred4 = best_lr.predict(X_test)\n",
        "\n",
        "# Compute accuracy, precision, recall, and F1 score\n",
        "lr_acc = accuracy_score(y_test, y_pred4)\n",
        "lr_pre = precision_score(y_test, y_pred4, average='weighted')\n",
        "lr_rec = recall_score(y_test, y_pred4, average='weighted')\n",
        "lr_f1 = f1_score(y_test, y_pred4, average='weighted')\n",
        "\n",
        "print('Best Hyperparameters: ', best_params)\n",
        "print('Accuracy: ', lr_acc)\n",
        "print('Precision: ', lr_pre)\n",
        "print('Recall: ', lr_rec)\n",
        "print('F1 Score: ', lr_f1)"
      ]
    },
    {
      "cell_type": "markdown",
      "metadata": {
        "id": "HCFITK7rT0Z_"
      },
      "source": [
        "#### Naive Bayes"
      ]
    },
    {
      "cell_type": "code",
      "execution_count": 48,
      "metadata": {
        "colab": {
          "base_uri": "https://localhost:8080/"
        },
        "id": "Ips9uD2RT3IY",
        "outputId": "17893821-cea4-4997-de86-7449ed676c9d"
      },
      "outputs": [
        {
          "output_type": "stream",
          "name": "stdout",
          "text": [
            "Accuracy:  0.957051961823966\n",
            "Precision:  0.956060607919178\n",
            "Recall:  0.957051961823966\n",
            "F1 Score:  0.9551409817034863\n"
          ]
        }
      ],
      "source": [
        "# Instantiating naive bayes object\n",
        "nb = GaussianNB()\n",
        "\n",
        "# Training model with data for hyperthyroid\n",
        "nb.fit(X_train, y_train)\n",
        "\n",
        "# Predicting new values for hyperthyroid \n",
        "y_pred5 = nb.predict(X_test)\n",
        "\n",
        "# Evaluating the classifier\n",
        "nb_acc = accuracy_score(y_test, y_pred5)\n",
        "nb_pre = precision_score(y_test, y_pred5, average = 'weighted')\n",
        "nb_rec = recall_score(y_test, y_pred5, average = 'weighted')\n",
        "nb_f1 = f1_score(y_test, y_pred5, average = 'weighted')\n",
        "\n",
        "print('Accuracy: ', nb_acc)\n",
        "print('Precision: ', nb_pre)\n",
        "print('Recall: ', nb_rec)\n",
        "print('F1 Score: ', nb_f1)"
      ]
    },
    {
      "cell_type": "markdown",
      "metadata": {
        "id": "--H7yjlHlDLM"
      },
      "source": [
        "#### Multi-layer Perceptron"
      ]
    },
    {
      "cell_type": "code",
      "execution_count": 49,
      "metadata": {
        "colab": {
          "base_uri": "https://localhost:8080/"
        },
        "id": "40TCbll0lhMK",
        "outputId": "9bdc4c0f-92b7-4d91-f478-19a5c63beed8"
      },
      "outputs": [
        {
          "output_type": "stream",
          "name": "stdout",
          "text": [
            "Best Hyperparameters:  {'activation': 'relu', 'alpha': 0.0001, 'batch_size': 32, 'hidden_layer_sizes': (32, 16), 'max_iter': 200, 'random_state': 42}\n",
            "Accuracy:  0.9798515376458112\n",
            "Precision:  0.9820133318465822\n",
            "Recall:  0.9798515376458112\n",
            "F1-score:  0.980645684591132\n"
          ]
        }
      ],
      "source": [
        "# Define MLP Classifier\n",
        "mlp = MLPClassifier()\n",
        "\n",
        "# Define hyperparameters and their possible values for tuning\n",
        "param_grid = {\n",
        "    'hidden_layer_sizes': [(64,), (32, 16,), (16, 8,)],\n",
        "    'activation': ['relu', 'tanh'],\n",
        "    'alpha': [0.0001, 0.001, 0.01],\n",
        "    'batch_size': [32, 64],\n",
        "    'max_iter': [100, 200],\n",
        "    'random_state': [42]\n",
        "}\n",
        "\n",
        "# Perform GridSearchCV for hyperparameter tuning\n",
        "grid_search = GridSearchCV(mlp, param_grid, cv=5)\n",
        "grid_search.fit(X_train, y_train)\n",
        "\n",
        "# Get the best hyperparameters\n",
        "best_params = grid_search.best_params_\n",
        "\n",
        "# Train the MLP Model with the best hyperparameters\n",
        "best_mlp = MLPClassifier(**best_params)\n",
        "best_mlp.fit(X_train, y_train)\n",
        "\n",
        "# Evaluate the MLP Model\n",
        "y_pred6 = best_mlp.predict(X_test)\n",
        "accuracy = accuracy_score(y_test, y_pred6)\n",
        "precision = precision_score(y_test, y_pred6, average='weighted')\n",
        "recall = recall_score(y_test, y_pred6, average='weighted')\n",
        "f1 = f1_score(y_test, y_pred6, average='weighted')\n",
        "\n",
        "print('Best Hyperparameters: ', best_params)\n",
        "print('Accuracy: ', accuracy)\n",
        "print('Precision: ', precision)\n",
        "print('Recall: ', recall)\n",
        "print('F1-score: ', f1)"
      ]
    },
    {
      "cell_type": "markdown",
      "metadata": {
        "id": "9cYZug8Ijkyb"
      },
      "source": [
        "#### Model Performance"
      ]
    },
    {
      "cell_type": "code",
      "execution_count": 50,
      "metadata": {
        "colab": {
          "base_uri": "https://localhost:8080/",
          "height": 237
        },
        "id": "LDqKdo1LjbcM",
        "outputId": "7a320bfc-8fd2-4ff9-e4df-c755d696ba0c"
      },
      "outputs": [
        {
          "output_type": "execute_result",
          "data": {
            "text/plain": [
              "                Algorithm  Accuracy  Precision    Recall  F1 Score\n",
              "0     K-Nearest Neighbors  0.944857   0.945818  0.944857  0.939589\n",
              "1  Support Vector Machine  0.973489   0.973926  0.973489  0.973498\n",
              "2          Decision Trees  0.981442   0.982894  0.981442  0.982038\n",
              "3     Logistic Regression  0.965536   0.963958  0.965536  0.963846\n",
              "4             Naive Bayes  0.957052   0.956061  0.957052  0.955141\n",
              "5  Multi-layer Perceptron  0.979852   0.982013  0.979852  0.980646"
            ],
            "text/html": [
              "\n",
              "  <div id=\"df-84d92f1b-9248-4fe5-8340-d6ed730de16b\">\n",
              "    <div class=\"colab-df-container\">\n",
              "      <div>\n",
              "<style scoped>\n",
              "    .dataframe tbody tr th:only-of-type {\n",
              "        vertical-align: middle;\n",
              "    }\n",
              "\n",
              "    .dataframe tbody tr th {\n",
              "        vertical-align: top;\n",
              "    }\n",
              "\n",
              "    .dataframe thead th {\n",
              "        text-align: right;\n",
              "    }\n",
              "</style>\n",
              "<table border=\"1\" class=\"dataframe\">\n",
              "  <thead>\n",
              "    <tr style=\"text-align: right;\">\n",
              "      <th></th>\n",
              "      <th>Algorithm</th>\n",
              "      <th>Accuracy</th>\n",
              "      <th>Precision</th>\n",
              "      <th>Recall</th>\n",
              "      <th>F1 Score</th>\n",
              "    </tr>\n",
              "  </thead>\n",
              "  <tbody>\n",
              "    <tr>\n",
              "      <th>0</th>\n",
              "      <td>K-Nearest Neighbors</td>\n",
              "      <td>0.944857</td>\n",
              "      <td>0.945818</td>\n",
              "      <td>0.944857</td>\n",
              "      <td>0.939589</td>\n",
              "    </tr>\n",
              "    <tr>\n",
              "      <th>1</th>\n",
              "      <td>Support Vector Machine</td>\n",
              "      <td>0.973489</td>\n",
              "      <td>0.973926</td>\n",
              "      <td>0.973489</td>\n",
              "      <td>0.973498</td>\n",
              "    </tr>\n",
              "    <tr>\n",
              "      <th>2</th>\n",
              "      <td>Decision Trees</td>\n",
              "      <td>0.981442</td>\n",
              "      <td>0.982894</td>\n",
              "      <td>0.981442</td>\n",
              "      <td>0.982038</td>\n",
              "    </tr>\n",
              "    <tr>\n",
              "      <th>3</th>\n",
              "      <td>Logistic Regression</td>\n",
              "      <td>0.965536</td>\n",
              "      <td>0.963958</td>\n",
              "      <td>0.965536</td>\n",
              "      <td>0.963846</td>\n",
              "    </tr>\n",
              "    <tr>\n",
              "      <th>4</th>\n",
              "      <td>Naive Bayes</td>\n",
              "      <td>0.957052</td>\n",
              "      <td>0.956061</td>\n",
              "      <td>0.957052</td>\n",
              "      <td>0.955141</td>\n",
              "    </tr>\n",
              "    <tr>\n",
              "      <th>5</th>\n",
              "      <td>Multi-layer Perceptron</td>\n",
              "      <td>0.979852</td>\n",
              "      <td>0.982013</td>\n",
              "      <td>0.979852</td>\n",
              "      <td>0.980646</td>\n",
              "    </tr>\n",
              "  </tbody>\n",
              "</table>\n",
              "</div>\n",
              "      <button class=\"colab-df-convert\" onclick=\"convertToInteractive('df-84d92f1b-9248-4fe5-8340-d6ed730de16b')\"\n",
              "              title=\"Convert this dataframe to an interactive table.\"\n",
              "              style=\"display:none;\">\n",
              "        \n",
              "  <svg xmlns=\"http://www.w3.org/2000/svg\" height=\"24px\"viewBox=\"0 0 24 24\"\n",
              "       width=\"24px\">\n",
              "    <path d=\"M0 0h24v24H0V0z\" fill=\"none\"/>\n",
              "    <path d=\"M18.56 5.44l.94 2.06.94-2.06 2.06-.94-2.06-.94-.94-2.06-.94 2.06-2.06.94zm-11 1L8.5 8.5l.94-2.06 2.06-.94-2.06-.94L8.5 2.5l-.94 2.06-2.06.94zm10 10l.94 2.06.94-2.06 2.06-.94-2.06-.94-.94-2.06-.94 2.06-2.06.94z\"/><path d=\"M17.41 7.96l-1.37-1.37c-.4-.4-.92-.59-1.43-.59-.52 0-1.04.2-1.43.59L10.3 9.45l-7.72 7.72c-.78.78-.78 2.05 0 2.83L4 21.41c.39.39.9.59 1.41.59.51 0 1.02-.2 1.41-.59l7.78-7.78 2.81-2.81c.8-.78.8-2.07 0-2.86zM5.41 20L4 18.59l7.72-7.72 1.47 1.35L5.41 20z\"/>\n",
              "  </svg>\n",
              "      </button>\n",
              "      \n",
              "  <style>\n",
              "    .colab-df-container {\n",
              "      display:flex;\n",
              "      flex-wrap:wrap;\n",
              "      gap: 12px;\n",
              "    }\n",
              "\n",
              "    .colab-df-convert {\n",
              "      background-color: #E8F0FE;\n",
              "      border: none;\n",
              "      border-radius: 50%;\n",
              "      cursor: pointer;\n",
              "      display: none;\n",
              "      fill: #1967D2;\n",
              "      height: 32px;\n",
              "      padding: 0 0 0 0;\n",
              "      width: 32px;\n",
              "    }\n",
              "\n",
              "    .colab-df-convert:hover {\n",
              "      background-color: #E2EBFA;\n",
              "      box-shadow: 0px 1px 2px rgba(60, 64, 67, 0.3), 0px 1px 3px 1px rgba(60, 64, 67, 0.15);\n",
              "      fill: #174EA6;\n",
              "    }\n",
              "\n",
              "    [theme=dark] .colab-df-convert {\n",
              "      background-color: #3B4455;\n",
              "      fill: #D2E3FC;\n",
              "    }\n",
              "\n",
              "    [theme=dark] .colab-df-convert:hover {\n",
              "      background-color: #434B5C;\n",
              "      box-shadow: 0px 1px 3px 1px rgba(0, 0, 0, 0.15);\n",
              "      filter: drop-shadow(0px 1px 2px rgba(0, 0, 0, 0.3));\n",
              "      fill: #FFFFFF;\n",
              "    }\n",
              "  </style>\n",
              "\n",
              "      <script>\n",
              "        const buttonEl =\n",
              "          document.querySelector('#df-84d92f1b-9248-4fe5-8340-d6ed730de16b button.colab-df-convert');\n",
              "        buttonEl.style.display =\n",
              "          google.colab.kernel.accessAllowed ? 'block' : 'none';\n",
              "\n",
              "        async function convertToInteractive(key) {\n",
              "          const element = document.querySelector('#df-84d92f1b-9248-4fe5-8340-d6ed730de16b');\n",
              "          const dataTable =\n",
              "            await google.colab.kernel.invokeFunction('convertToInteractive',\n",
              "                                                     [key], {});\n",
              "          if (!dataTable) return;\n",
              "\n",
              "          const docLinkHtml = 'Like what you see? Visit the ' +\n",
              "            '<a target=\"_blank\" href=https://colab.research.google.com/notebooks/data_table.ipynb>data table notebook</a>'\n",
              "            + ' to learn more about interactive tables.';\n",
              "          element.innerHTML = '';\n",
              "          dataTable['output_type'] = 'display_data';\n",
              "          await google.colab.output.renderOutput(dataTable, element);\n",
              "          const docLink = document.createElement('div');\n",
              "          docLink.innerHTML = docLinkHtml;\n",
              "          element.appendChild(docLink);\n",
              "        }\n",
              "      </script>\n",
              "    </div>\n",
              "  </div>\n",
              "  "
            ]
          },
          "metadata": {},
          "execution_count": 50
        }
      ],
      "source": [
        " # Summarizing model performance\n",
        "algo = ['K-Nearest Neighbors', 'Support Vector Machine', 'Decision Trees', 'Logistic Regression', 'Naive Bayes', 'Multi-layer Perceptron']\n",
        "acc = [knn_acc, svm_acc, dt_acc, lr_acc, nb_acc, accuracy]\n",
        "pre = [knn_pre, svm_pre, dt_pre, lr_pre, nb_pre, precision]\n",
        "rec = [knn_rec, svm_rec, dt_rec, lr_rec, nb_rec, recall]\n",
        "f1_score = [knn_f1, svm_f1, dt_f1, lr_f1, nb_f1, f1]\n",
        "\n",
        "val_dict = {'Algorithm': algo, 'Accuracy': acc, 'Precision': pre, 'Recall': rec, 'F1 Score': f1_score}\n",
        "val_df = pd.DataFrame(val_dict)\n",
        "val_df"
      ]
    }
  ],
  "metadata": {
    "colab": {
      "collapsed_sections": [
        "d5lnCjSm7MXp",
        "_yh6PlM_79vv",
        "wIeQUgZcaiI4",
        "mecrrIgl-USj",
        "7y-gvIY_XG8k",
        "GUZNoekvXQ_C",
        "R4-hkDdpDJ81",
        "NbCjn5QoDNVl",
        "HCFITK7rT0Z_",
        "--H7yjlHlDLM",
        "9cYZug8Ijkyb"
      ],
      "provenance": []
    },
    "kernelspec": {
      "display_name": "Python 3",
      "name": "python3"
    },
    "language_info": {
      "name": "python"
    }
  },
  "nbformat": 4,
  "nbformat_minor": 0
}